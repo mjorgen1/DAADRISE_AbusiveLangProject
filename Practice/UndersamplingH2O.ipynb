{
 "cells": [
  {
   "cell_type": "code",
   "execution_count": 12,
   "outputs": [],
   "source": [
    "import pandas as pd\n",
    "import numpy as np\n",
    "from sklearn import metrics\n",
    "from sklearn.metrics import classification_report\n",
    "import matplotlib.pyplot as plt\n",
    "import seaborn\n",
    "%matplotlib inline"
   ],
   "metadata": {
    "collapsed": false,
    "pycharm": {
     "name": "#%%\n",
     "is_executing": false
    }
   }
  },
  {
   "cell_type": "code",
   "execution_count": 1,
   "outputs": [
    {
     "name": "stdout",
     "text": [
      "Checking whether there is an H2O instance running at http://localhost:54321 ",
      ".",
      ".",
      ".",
      ".",
      ".",
      " not found.",
      "\n",
      "Attempting to start a local H2O server...",
      "\n",
      "  Java Version: java version \"1.8.0_211\"\r; Java(TM) SE Runtime Environment (build 1.8.0_211-b12)\r; Java HotSpot(TM) 64-Bit Server VM (build 25.211-b12, mixed mode)",
      "\n",
      "  Starting server from c:\\users\\mikec\\appdata\\local\\programs\\python\\python37\\lib\\site-packages\\h2o\\backend\\bin\\h2o.jar",
      "\n",
      "  Ice root: C:\\Users\\mikec\\AppData\\Local\\Temp\\tmpgizt2jth",
      "\n",
      "  JVM stdout: C:\\Users\\mikec\\AppData\\Local\\Temp\\tmpgizt2jth\\h2o_mikec_started_from_python.out",
      "\n",
      "  JVM stderr: C:\\Users\\mikec\\AppData\\Local\\Temp\\tmpgizt2jth\\h2o_mikec_started_from_python.err",
      "\n",
      "  Server is running at http://127.0.0.1:54321",
      "\n",
      "Connecting to H2O server at http://127.0.0.1:54321 ..",
      ".",
      " successful.",
      "\n"
     ],
     "output_type": "stream"
    },
    {
     "data": {
      "text/plain": "--------------------------  ------------------------------------------\nH2O cluster uptime:         03 secs\nH2O cluster timezone:       Europe/Berlin\nH2O data parsing timezone:  UTC\nH2O cluster version:        3.24.0.5\nH2O cluster version age:    1 month and 20 days\nH2O cluster name:           H2O_from_python_mikec_66dqth\nH2O cluster total nodes:    1\nH2O cluster free memory:    1.752 Gb\nH2O cluster total cores:    8\nH2O cluster allowed cores:  8\nH2O cluster status:         accepting new members, healthy\nH2O connection url:         http://127.0.0.1:54321\nH2O connection proxy:\nH2O internal security:      False\nH2O API Extensions:         Amazon S3, Algos, AutoML, Core V3, Core V4\nPython version:             3.7.3 final\n--------------------------  ------------------------------------------",
      "text/html": "<div style=\"overflow:auto\"><table style=\"width:50%\"><tr><td>H2O cluster uptime:</td>\n<td>03 secs</td></tr>\n<tr><td>H2O cluster timezone:</td>\n<td>Europe/Berlin</td></tr>\n<tr><td>H2O data parsing timezone:</td>\n<td>UTC</td></tr>\n<tr><td>H2O cluster version:</td>\n<td>3.24.0.5</td></tr>\n<tr><td>H2O cluster version age:</td>\n<td>1 month and 20 days </td></tr>\n<tr><td>H2O cluster name:</td>\n<td>H2O_from_python_mikec_66dqth</td></tr>\n<tr><td>H2O cluster total nodes:</td>\n<td>1</td></tr>\n<tr><td>H2O cluster free memory:</td>\n<td>1.752 Gb</td></tr>\n<tr><td>H2O cluster total cores:</td>\n<td>8</td></tr>\n<tr><td>H2O cluster allowed cores:</td>\n<td>8</td></tr>\n<tr><td>H2O cluster status:</td>\n<td>accepting new members, healthy</td></tr>\n<tr><td>H2O connection url:</td>\n<td>http://127.0.0.1:54321</td></tr>\n<tr><td>H2O connection proxy:</td>\n<td>None</td></tr>\n<tr><td>H2O internal security:</td>\n<td>False</td></tr>\n<tr><td>H2O API Extensions:</td>\n<td>Amazon S3, Algos, AutoML, Core V3, Core V4</td></tr>\n<tr><td>Python version:</td>\n<td>3.7.3 final</td></tr></table></div>"
     },
     "metadata": {},
     "output_type": "display_data"
    }
   ],
   "source": [
    "import h2o\n",
    "h2o.init()\n",
    "from h2o.automl import H2OAutoML"
   ],
   "metadata": {
    "collapsed": false,
    "pycharm": {
     "name": "#%%\n",
     "is_executing": false
    }
   }
  },
  {
   "cell_type": "code",
   "execution_count": 2,
   "outputs": [
    {
     "name": "stdout",
     "text": [
      "Parse progress: |",
      "█████████████████████████████████████████████████████████| 100%",
      "\n",
      "Parse progress: |",
      "█████████████████████████████████████████████████████████| 100%",
      "\n",
      "Parse progress: |",
      "█████████████████████████████████████████████████████████| 100%",
      "\n",
      "Parse progress: |█████████████████████████████████████████████████████████| 100%",
      "\n"
     ],
     "output_type": "stream"
    }
   ],
   "source": [
    "X_train = h2o.import_file('C:/Users/mikec/Codes/X_cnn1000.csv')\n",
    "y_train = h2o.import_file('C:/Users/mikec/Codes/y_cnn1000.csv')\n",
    "X_test = h2o.import_file('C:/Users/mikec/Codes/X_test1000.csv')\n",
    "y_test = h2o.import_file('C:/Users/mikec/Codes/y_test1000.csv')"
   ],
   "metadata": {
    "collapsed": false,
    "pycharm": {
     "name": "#%%\n",
     "is_executing": false
    }
   }
  },
  {
   "cell_type": "code",
   "execution_count": 3,
   "outputs": [],
   "source": [
    "# preparing the train and test data sets\n",
    "# now convert tweet vecs and labels to a pandas dataframe and back to h2o dataframe\n",
    "train = X_train.cbind(y_train)\n",
    "test = X_test.cbind(y_test)"
   ],
   "metadata": {
    "collapsed": false,
    "pycharm": {
     "name": "#%%\n",
     "is_executing": false
    }
   }
  },
  {
   "cell_type": "code",
   "execution_count": 4,
   "outputs": [],
   "source": [
    "# more on data prep\n",
    "x = train.columns         # x: A list/vector of predictor column names or indexes. \n",
    "                          # This argument only needs to be specified if the user wants to exclude columns from the \n",
    "                          # set of predictors. If all columns (other than the response) should be used in prediction, \n",
    "                          # then this does not need to be set.\n",
    "\n",
    "y = \"labels\"              # This argument is the name (or index) of the response column\n",
    "x.remove(y)\n",
    "\n",
    "# need to set train and test\n",
    "train[y] = train[y].asfactor()\n",
    "test[y] = test[y].asfactor()"
   ],
   "metadata": {
    "collapsed": false,
    "pycharm": {
     "name": "#%%\n",
     "is_executing": false
    }
   }
  },
  {
   "cell_type": "code",
   "execution_count": 5,
   "outputs": [
    {
     "name": "stdout",
     "text": [
      "AutoML progress: |",
      "█",
      "█",
      "█",
      "█",
      "█",
      "█",
      "█",
      "█",
      "█",
      "█",
      "█",
      "█",
      "█",
      "█",
      "█",
      "█",
      "█",
      "█",
      "█",
      "█",
      "█",
      "█",
      "█",
      "█",
      "█",
      "█",
      "█",
      "█",
      "█",
      "█",
      "█",
      "█",
      "█",
      "█",
      "█",
      "█",
      "█",
      "█",
      "█",
      "█",
      "█",
      "█",
      "█",
      "█",
      "█",
      "█",
      "█",
      "█",
      "█",
      "█",
      "█",
      "█",
      "█",
      "█",
      "█",
      "█| 100%",
      "\n"
     ],
     "output_type": "stream"
    }
   ],
   "source": [
    "# now the AUTO-ML piece comes in\n",
    "aml = H2OAutoML(max_runtime_secs=1800) #max_models=10 or 20?, max_runtime_secs=3600\n",
    "aml.train(x=x, y=y, training_frame=train)"
   ],
   "metadata": {
    "collapsed": false,
    "pycharm": {
     "name": "#%%\n",
     "is_executing": false
    }
   }
  },
  {
   "cell_type": "code",
   "execution_count": 6,
   "outputs": [
    {
     "data": {
      "text/html": "<table>\n<thead>\n<tr><th>model_id                                           </th><th style=\"text-align: right;\">  mean_per_class_error</th><th style=\"text-align: right;\">  logloss</th><th style=\"text-align: right;\">    rmse</th><th style=\"text-align: right;\">     mse</th></tr>\n</thead>\n<tbody>\n<tr><td>StackedEnsemble_AllModels_AutoML_20190808_125404   </td><td style=\"text-align: right;\">              0.233441</td><td style=\"text-align: right;\"> 0.549546</td><td style=\"text-align: right;\">0.41852 </td><td style=\"text-align: right;\">0.175159</td></tr>\n<tr><td>StackedEnsemble_BestOfFamily_AutoML_20190808_125404</td><td style=\"text-align: right;\">              0.243933</td><td style=\"text-align: right;\"> 0.564599</td><td style=\"text-align: right;\">0.426185</td><td style=\"text-align: right;\">0.181634</td></tr>\n<tr><td>GBM_1_AutoML_20190808_125404                       </td><td style=\"text-align: right;\">              0.249463</td><td style=\"text-align: right;\"> 0.588824</td><td style=\"text-align: right;\">0.441015</td><td style=\"text-align: right;\">0.194494</td></tr>\n<tr><td>GBM_3_AutoML_20190808_125404                       </td><td style=\"text-align: right;\">              0.250097</td><td style=\"text-align: right;\"> 0.589596</td><td style=\"text-align: right;\">0.440967</td><td style=\"text-align: right;\">0.194452</td></tr>\n<tr><td>GBM_2_AutoML_20190808_125404                       </td><td style=\"text-align: right;\">              0.250389</td><td style=\"text-align: right;\"> 0.58861 </td><td style=\"text-align: right;\">0.440873</td><td style=\"text-align: right;\">0.194369</td></tr>\n<tr><td>GBM_4_AutoML_20190808_125404                       </td><td style=\"text-align: right;\">              0.25307 </td><td style=\"text-align: right;\"> 0.591973</td><td style=\"text-align: right;\">0.441158</td><td style=\"text-align: right;\">0.19462 </td></tr>\n<tr><td>GBM_grid_1_AutoML_20190808_125404_model_6          </td><td style=\"text-align: right;\">              0.26018 </td><td style=\"text-align: right;\"> 0.966675</td><td style=\"text-align: right;\">0.618539</td><td style=\"text-align: right;\">0.38259 </td></tr>\n<tr><td>GBM_5_AutoML_20190808_125404                       </td><td style=\"text-align: right;\">              0.267432</td><td style=\"text-align: right;\"> 0.636225</td><td style=\"text-align: right;\">0.461523</td><td style=\"text-align: right;\">0.213003</td></tr>\n<tr><td>GBM_grid_1_AutoML_20190808_125404_model_4          </td><td style=\"text-align: right;\">              0.268103</td><td style=\"text-align: right;\"> 0.634123</td><td style=\"text-align: right;\">0.461458</td><td style=\"text-align: right;\">0.212944</td></tr>\n<tr><td>GBM_grid_1_AutoML_20190808_125404_model_1          </td><td style=\"text-align: right;\">              0.269222</td><td style=\"text-align: right;\"> 0.846742</td><td style=\"text-align: right;\">0.567502</td><td style=\"text-align: right;\">0.322059</td></tr>\n<tr><td>GBM_grid_1_AutoML_20190808_125404_model_9          </td><td style=\"text-align: right;\">              0.287278</td><td style=\"text-align: right;\"> 0.91956 </td><td style=\"text-align: right;\">0.59914 </td><td style=\"text-align: right;\">0.358969</td></tr>\n<tr><td>GBM_grid_1_AutoML_20190808_125404_model_10         </td><td style=\"text-align: right;\">              0.291925</td><td style=\"text-align: right;\"> 0.70319 </td><td style=\"text-align: right;\">0.498579</td><td style=\"text-align: right;\">0.248581</td></tr>\n<tr><td>GBM_grid_1_AutoML_20190808_125404_model_5          </td><td style=\"text-align: right;\">              0.300547</td><td style=\"text-align: right;\"> 0.955961</td><td style=\"text-align: right;\">0.61407 </td><td style=\"text-align: right;\">0.377082</td></tr>\n<tr><td>XRT_1_AutoML_20190808_125404                       </td><td style=\"text-align: right;\">              0.300912</td><td style=\"text-align: right;\"> 0.690778</td><td style=\"text-align: right;\">0.491102</td><td style=\"text-align: right;\">0.241182</td></tr>\n<tr><td>DRF_1_AutoML_20190808_125404                       </td><td style=\"text-align: right;\">              0.302416</td><td style=\"text-align: right;\"> 0.682024</td><td style=\"text-align: right;\">0.487633</td><td style=\"text-align: right;\">0.237786</td></tr>\n<tr><td>GBM_grid_1_AutoML_20190808_125404_model_7          </td><td style=\"text-align: right;\">              0.314669</td><td style=\"text-align: right;\"> 0.996718</td><td style=\"text-align: right;\">0.62991 </td><td style=\"text-align: right;\">0.396786</td></tr>\n<tr><td>GBM_grid_1_AutoML_20190808_125404_model_11         </td><td style=\"text-align: right;\">              0.324884</td><td style=\"text-align: right;\"> 1.0977  </td><td style=\"text-align: right;\">0.666362</td><td style=\"text-align: right;\">0.444038</td></tr>\n<tr><td>GBM_grid_1_AutoML_20190808_125404_model_2          </td><td style=\"text-align: right;\">              0.340919</td><td style=\"text-align: right;\"> 1.07914 </td><td style=\"text-align: right;\">0.660082</td><td style=\"text-align: right;\">0.435709</td></tr>\n<tr><td>GBM_grid_1_AutoML_20190808_125404_model_8          </td><td style=\"text-align: right;\">              0.358883</td><td style=\"text-align: right;\"> 1.0066  </td><td style=\"text-align: right;\">0.63364 </td><td style=\"text-align: right;\">0.4015  </td></tr>\n<tr><td>DeepLearning_grid_1_AutoML_20190808_125404_model_1 </td><td style=\"text-align: right;\">              0.362997</td><td style=\"text-align: right;\"> 3.54244 </td><td style=\"text-align: right;\">0.595087</td><td style=\"text-align: right;\">0.354129</td></tr>\n<tr><td>GBM_grid_1_AutoML_20190808_125404_model_3          </td><td style=\"text-align: right;\">              0.371687</td><td style=\"text-align: right;\"> 0.992961</td><td style=\"text-align: right;\">0.62835 </td><td style=\"text-align: right;\">0.394824</td></tr>\n<tr><td>DeepLearning_1_AutoML_20190808_125404              </td><td style=\"text-align: right;\">              0.40515 </td><td style=\"text-align: right;\"> 0.991597</td><td style=\"text-align: right;\">0.539894</td><td style=\"text-align: right;\">0.291486</td></tr>\n<tr><td>DeepLearning_grid_1_AutoML_20190808_125404_model_4 </td><td style=\"text-align: right;\">              0.469919</td><td style=\"text-align: right;\"> 3.224   </td><td style=\"text-align: right;\">0.651646</td><td style=\"text-align: right;\">0.424643</td></tr>\n<tr><td>DeepLearning_grid_1_AutoML_20190808_125404_model_3 </td><td style=\"text-align: right;\">              0.504033</td><td style=\"text-align: right;\"> 3.48855 </td><td style=\"text-align: right;\">0.70999 </td><td style=\"text-align: right;\">0.504086</td></tr>\n<tr><td>DeepLearning_grid_1_AutoML_20190808_125404_model_2 </td><td style=\"text-align: right;\">              0.554556</td><td style=\"text-align: right;\"> 9.28892 </td><td style=\"text-align: right;\">0.775866</td><td style=\"text-align: right;\">0.601967</td></tr>\n<tr><td>GLM_grid_1_AutoML_20190808_125404_model_1          </td><td style=\"text-align: right;\">              0.666667</td><td style=\"text-align: right;\"> 1.0327  </td><td style=\"text-align: right;\">0.63794 </td><td style=\"text-align: right;\">0.406968</td></tr>\n</tbody>\n</table>"
     },
     "metadata": {},
     "output_type": "display_data"
    },
    {
     "data": {
      "text/plain": ""
     },
     "metadata": {},
     "output_type": "execute_result",
     "execution_count": 6
    }
   ],
   "source": [
    "# View the AutoML Leaderboard\n",
    "lb = aml.leaderboard\n",
    "lb.head(rows=lb.nrows)  # Print all rows instead of default (10 rows)"
   ],
   "metadata": {
    "collapsed": false,
    "pycharm": {
     "name": "#%%\n",
     "is_executing": false
    }
   }
  },
  {
   "cell_type": "code",
   "execution_count": 7,
   "outputs": [],
   "source": [
    "lb_pd = lb.as_data_frame()"
   ],
   "metadata": {
    "collapsed": false,
    "pycharm": {
     "name": "#%%\n",
     "is_executing": false
    }
   }
  },
  {
   "cell_type": "code",
   "execution_count": 8,
   "outputs": [
    {
     "name": "stdout",
     "text": [
      "Model Details",
      "\n",
      "=============",
      "\n",
      "H2OStackedEnsembleEstimator",
      " ",
      ": ",
      " ",
      "Stacked Ensemble",
      "\n",
      "Model Key: ",
      " ",
      "StackedEnsemble_AllModels_AutoML_20190808_125404",
      "\n",
      "No model summary for this model",
      "\n",
      "\n",
      "\n",
      "ModelMetricsMultinomialGLM: stackedensemble",
      "\n",
      "** Reported on train data. **",
      "\n",
      "\n",
      "MSE: 0.15330284626646914",
      "\n",
      "RMSE: 0.39153907374164987",
      "\n",
      "\n",
      "ModelMetricsMultinomialGLM: stackedensemble",
      "\n",
      "** Reported on cross-validation data. **",
      "\n",
      "\n",
      "MSE: 0.17515900726294859",
      "\n",
      "RMSE: 0.4185200201459287",
      "\n"
     ],
     "output_type": "stream"
    },
    {
     "data": {
      "text/plain": ""
     },
     "metadata": {},
     "output_type": "execute_result",
     "execution_count": 8
    }
   ],
   "source": [
    "# The leader model is stored here\n",
    "aml.leader"
   ],
   "metadata": {
    "collapsed": false,
    "pycharm": {
     "name": "#%%\n",
     "is_executing": false
    }
   }
  },
  {
   "cell_type": "code",
   "execution_count": 9,
   "outputs": [
    {
     "name": "stdout",
     "text": [
      "stackedensemble prediction progress: |",
      "████████████████████████████████████| 100%",
      "\n",
      "\n"
     ],
     "output_type": "stream"
    },
    {
     "data": {
      "text/html": "<table>\n<thead>\n<tr><th style=\"text-align: right;\">  predict</th><th style=\"text-align: right;\">       p0</th><th style=\"text-align: right;\">      p1</th><th style=\"text-align: right;\">        p2</th></tr>\n</thead>\n<tbody>\n<tr><td style=\"text-align: right;\">        1</td><td style=\"text-align: right;\">0.0739142</td><td style=\"text-align: right;\">0.915766</td><td style=\"text-align: right;\">0.0103202 </td></tr>\n<tr><td style=\"text-align: right;\">        1</td><td style=\"text-align: right;\">0.0766083</td><td style=\"text-align: right;\">0.918572</td><td style=\"text-align: right;\">0.00481983</td></tr>\n<tr><td style=\"text-align: right;\">        2</td><td style=\"text-align: right;\">0.0402339</td><td style=\"text-align: right;\">0.191123</td><td style=\"text-align: right;\">0.768644  </td></tr>\n<tr><td style=\"text-align: right;\">        1</td><td style=\"text-align: right;\">0.397201 </td><td style=\"text-align: right;\">0.588431</td><td style=\"text-align: right;\">0.0143679 </td></tr>\n<tr><td style=\"text-align: right;\">        1</td><td style=\"text-align: right;\">0.217413 </td><td style=\"text-align: right;\">0.774863</td><td style=\"text-align: right;\">0.00772339</td></tr>\n<tr><td style=\"text-align: right;\">        1</td><td style=\"text-align: right;\">0.0355134</td><td style=\"text-align: right;\">0.958696</td><td style=\"text-align: right;\">0.0057904 </td></tr>\n<tr><td style=\"text-align: right;\">        1</td><td style=\"text-align: right;\">0.0677874</td><td style=\"text-align: right;\">0.927226</td><td style=\"text-align: right;\">0.00498664</td></tr>\n<tr><td style=\"text-align: right;\">        1</td><td style=\"text-align: right;\">0.123526 </td><td style=\"text-align: right;\">0.868491</td><td style=\"text-align: right;\">0.00798326</td></tr>\n<tr><td style=\"text-align: right;\">        1</td><td style=\"text-align: right;\">0.0420012</td><td style=\"text-align: right;\">0.952241</td><td style=\"text-align: right;\">0.0057577 </td></tr>\n<tr><td style=\"text-align: right;\">        1</td><td style=\"text-align: right;\">0.0695893</td><td style=\"text-align: right;\">0.923229</td><td style=\"text-align: right;\">0.00718149</td></tr>\n</tbody>\n</table>"
     },
     "metadata": {},
     "output_type": "display_data"
    }
   ],
   "source": [
    "preds = aml.predict(test)\n",
    "print(preds)"
   ],
   "metadata": {
    "collapsed": false,
    "pycharm": {
     "name": "#%%\n",
     "is_executing": false
    }
   }
  },
  {
   "cell_type": "code",
   "execution_count": 10,
   "outputs": [
    {
     "data": {
      "text/html": "<table>\n<thead>\n<tr><th style=\"text-align: right;\">  predict</th><th style=\"text-align: right;\">  labels</th></tr>\n</thead>\n<tbody>\n<tr><td style=\"text-align: right;\">        1</td><td style=\"text-align: right;\">       1</td></tr>\n<tr><td style=\"text-align: right;\">        1</td><td style=\"text-align: right;\">       1</td></tr>\n<tr><td style=\"text-align: right;\">        2</td><td style=\"text-align: right;\">       2</td></tr>\n<tr><td style=\"text-align: right;\">        1</td><td style=\"text-align: right;\">       1</td></tr>\n<tr><td style=\"text-align: right;\">        1</td><td style=\"text-align: right;\">       1</td></tr>\n<tr><td style=\"text-align: right;\">        1</td><td style=\"text-align: right;\">       1</td></tr>\n<tr><td style=\"text-align: right;\">        1</td><td style=\"text-align: right;\">       1</td></tr>\n<tr><td style=\"text-align: right;\">        1</td><td style=\"text-align: right;\">       1</td></tr>\n<tr><td style=\"text-align: right;\">        1</td><td style=\"text-align: right;\">       1</td></tr>\n<tr><td style=\"text-align: right;\">        1</td><td style=\"text-align: right;\">       1</td></tr>\n</tbody>\n</table>"
     },
     "metadata": {},
     "output_type": "display_data"
    },
    {
     "name": "stdout",
     "text": [
      "\n"
     ],
     "output_type": "stream"
    }
   ],
   "source": [
    "var = preds[\"predict\"].cbind(test[y])\n",
    "print(var)"
   ],
   "metadata": {
    "collapsed": false,
    "pycharm": {
     "name": "#%%\n",
     "is_executing": false
    }
   }
  },
  {
   "cell_type": "code",
   "execution_count": 13,
   "outputs": [
    {
     "name": "stdout",
     "text": [
      "              precision    recall  f1-score   support\n\n           0       0.42      0.65      0.51       164\n           1       0.96      0.90      0.93      1905\n           2       0.82      0.91      0.86       410\n\n    accuracy                           0.88      2479\n   macro avg       0.73      0.82      0.77      2479\nweighted avg       0.90      0.88      0.89      2479\n",
      "\n",
      "[[ 106   46   12]\n [ 130 1707   68]\n [  18   20  372]]",
      "\n",
      "0.881403791851553",
      "\n",
      "0.8895983808835178",
      "\n"
     ],
     "output_type": "stream"
    },
    {
     "data": {
      "text/plain": "<Figure size 360x360 with 1 Axes>",
      "image/png": "[encoded data removed]"
     },
     "metadata": {
      "needs_background": "light"
     },
     "output_type": "display_data"
    }
   ],
   "source": [
    "# convert to pandas dataframe\n",
    "y_test = h2o.as_list(test[y], use_pandas=True)\n",
    "y_pred = h2o.as_list(preds[\"predict\"])\n",
    "report = classification_report(y_test, y_pred)\n",
    "print(report)\n",
    "print(metrics.confusion_matrix(y_test, y_pred))\n",
    "print(metrics.accuracy_score(y_test, y_pred))\n",
    "print(metrics.f1_score(y_test, y_pred, average='weighted'))\n",
    "\n",
    "confusion_matrix = metrics.confusion_matrix(y_test,y_pred)\n",
    "matrix_proportions = np.zeros((3,3))\n",
    "for i in range(0,3):\n",
    "    matrix_proportions[i,:] = confusion_matrix[i,:]/float(confusion_matrix[i,:].sum())\n",
    "names=['Hate','Offensive','Neither']\n",
    "confusion_df = pd.DataFrame(matrix_proportions, index=names,columns=names)\n",
    "plt.figure(figsize=(5,5))\n",
    "seaborn.heatmap(confusion_df,annot=True,annot_kws={\"size\": 12},cmap='gist_gray_r',cbar=False, square=True,fmt='.2f')\n",
    "plt.ylabel(r'True categories',fontsize=14)\n",
    "plt.xlabel(r'Predicted categories',fontsize=14)\n",
    "plt.tick_params(labelsize=12)\n",
    "plt.savefig('C:/Users/mikec/Documents/Results/Univariate1000CondensedMax05.png')\n",
    "\n",
    "f = open(\"C:/Users/mikec/Documents/Results/Univariate1000CondensedMax05.txt\", \"a\")\n",
    "print(\"Univariate feature selection with 1000 features with condensed nearest neighborhood, max run time 30 mins\", file=f)\n",
    "print(report, file=f)\n",
    "print(metrics.confusion_matrix(y_test, y_pred), file=f)\n",
    "print(metrics.accuracy_score(y_test, y_pred), file=f)\n",
    "print(metrics.f1_score(y_test, y_pred, average='weighted'), file=f)\n",
    "f.close()"
   ],
   "metadata": {
    "collapsed": false,
    "pycharm": {
     "name": "#%%\n",
     "is_executing": false
    }
   }
  },
  {
   "cell_type": "code",
   "execution_count": 14,
   "outputs": [],
   "source": [
    "file = lb_pd.to_csv('C:/Users/mikec/Documents/Results/Univariate1000CondensedMax05.csv')\n",
    "#featuresSelected = uni_selected_feat.to_csv('C:/Users/mikec/Documents/Results/feature_selection.csv')"
   ],
   "metadata": {
    "collapsed": false,
    "pycharm": {
     "name": "#%%\n",
     "is_executing": false
    }
   }
  },
  {
   "cell_type": "code",
   "execution_count": null,
   "outputs": [],
   "source": [],
   "metadata": {
    "collapsed": false,
    "pycharm": {
     "name": "#%%"
    }
   }
  }
 ],
 "metadata": {
  "language_info": {
   "codemirror_mode": {
    "name": "ipython",
    "version": 2
   },
   "file_extension": ".py",
   "mimetype": "text/x-python",
   "name": "python",
   "nbconvert_exporter": "python",
   "pygments_lexer": "ipython2",
   "version": "2.7.6"
  },
  "kernelspec": {
   "name": "python3",
   "language": "python",
   "display_name": "Python 3"
  },
  "pycharm": {
   "stem_cell": {
    "cell_type": "raw",
    "source": [],
    "metadata": {
     "collapsed": false
    }
   }
  }
 },
 "nbformat": 4,
 "nbformat_minor": 0
}