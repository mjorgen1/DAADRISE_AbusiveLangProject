{
 "cells": [
  {
   "cell_type": "code",
   "execution_count": 10,
   "metadata": {},
   "outputs": [],
   "source": [
    "import h2o\n",
    "from h2o.automl import H2OAutoML"
   ]
  },
  {
   "cell_type": "code",
   "execution_count": 11,
   "metadata": {},
   "outputs": [
    {
     "name": "stdout",
     "output_type": "stream",
     "text": [
      "Checking whether there is an H2O instance running at http://localhost:54321 . connected.\n"
     ]
    },
    {
     "data": {
      "text/html": [
       "<div style=\"overflow:auto\"><table style=\"width:50%\"><tr><td>H2O cluster uptime:</td>\n",
       "<td>18 hours 7 mins</td></tr>\n",
       "<tr><td>H2O cluster timezone:</td>\n",
       "<td>Europe/Vienna</td></tr>\n",
       "<tr><td>H2O data parsing timezone:</td>\n",
       "<td>UTC</td></tr>\n",
       "<tr><td>H2O cluster version:</td>\n",
       "<td>3.24.0.5</td></tr>\n",
       "<tr><td>H2O cluster version age:</td>\n",
       "<td>8 days </td></tr>\n",
       "<tr><td>H2O cluster name:</td>\n",
       "<td>H2O_from_python_mackenzie_dm3nzl</td></tr>\n",
       "<tr><td>H2O cluster total nodes:</td>\n",
       "<td>1</td></tr>\n",
       "<tr><td>H2O cluster free memory:</td>\n",
       "<td>1.776 Gb</td></tr>\n",
       "<tr><td>H2O cluster total cores:</td>\n",
       "<td>4</td></tr>\n",
       "<tr><td>H2O cluster allowed cores:</td>\n",
       "<td>4</td></tr>\n",
       "<tr><td>H2O cluster status:</td>\n",
       "<td>locked, healthy</td></tr>\n",
       "<tr><td>H2O connection url:</td>\n",
       "<td>http://localhost:54321</td></tr>\n",
       "<tr><td>H2O connection proxy:</td>\n",
       "<td>None</td></tr>\n",
       "<tr><td>H2O internal security:</td>\n",
       "<td>False</td></tr>\n",
       "<tr><td>H2O API Extensions:</td>\n",
       "<td>Amazon S3, XGBoost, Algos, AutoML, Core V3, Core V4</td></tr>\n",
       "<tr><td>Python version:</td>\n",
       "<td>3.7.1 final</td></tr></table></div>"
      ],
      "text/plain": [
       "--------------------------  ---------------------------------------------------\n",
       "H2O cluster uptime:         18 hours 7 mins\n",
       "H2O cluster timezone:       Europe/Vienna\n",
       "H2O data parsing timezone:  UTC\n",
       "H2O cluster version:        3.24.0.5\n",
       "H2O cluster version age:    8 days\n",
       "H2O cluster name:           H2O_from_python_mackenzie_dm3nzl\n",
       "H2O cluster total nodes:    1\n",
       "H2O cluster free memory:    1.776 Gb\n",
       "H2O cluster total cores:    4\n",
       "H2O cluster allowed cores:  4\n",
       "H2O cluster status:         locked, healthy\n",
       "H2O connection url:         http://localhost:54321\n",
       "H2O connection proxy:\n",
       "H2O internal security:      False\n",
       "H2O API Extensions:         Amazon S3, XGBoost, Algos, AutoML, Core V3, Core V4\n",
       "Python version:             3.7.1 final\n",
       "--------------------------  ---------------------------------------------------"
      ]
     },
     "metadata": {},
     "output_type": "display_data"
    }
   ],
   "source": [
    "h2o.init()"
   ]
  },
  {
   "cell_type": "code",
   "execution_count": 12,
   "metadata": {},
   "outputs": [
    {
     "name": "stdout",
     "output_type": "stream",
     "text": [
      "Parse progress: |█████████████████████████████████████████████████████████| 100%\n",
      "Parse progress: |█████████████████████████████████████████████████████████| 100%\n"
     ]
    }
   ],
   "source": [
    "# Import a sample binary outcome train/test set into H2O\n",
    "train = h2o.import_file(\"https://s3.amazonaws.com/erin-data/higgs/higgs_train_10k.csv\")\n",
    "test = h2o.import_file(\"https://s3.amazonaws.com/erin-data/higgs/higgs_test_5k.csv\")"
   ]
  },
  {
   "cell_type": "code",
   "execution_count": 13,
   "metadata": {},
   "outputs": [],
   "source": [
    "# Identify predictors and response\n",
    "x = train.columns\n",
    "y = \"response\"\n",
    "x.remove(y)"
   ]
  },
  {
   "cell_type": "code",
   "execution_count": 14,
   "metadata": {},
   "outputs": [],
   "source": [
    "# For binary classification, response should be a factor\n",
    "train[y] = train[y].asfactor()\n",
    "test[y] = test[y].asfactor()"
   ]
  },
  {
   "cell_type": "code",
   "execution_count": 15,
   "metadata": {},
   "outputs": [
    {
     "name": "stdout",
     "output_type": "stream",
     "text": [
      "AutoML progress: |██████████████████████████ (cancelled)\n"
     ]
    },
    {
     "ename": "H2OJobCancelled",
     "evalue": "Job<$03017f00000132d4ffffffff$_b8af285ab6dc1396f42d30553cc7455d> was cancelled by the user.",
     "output_type": "error",
     "traceback": [
      "\u001b[0;31m---------------------------------------------------------------------------\u001b[0m",
      "\u001b[0;31mH2OJobCancelled\u001b[0m                           Traceback (most recent call last)",
      "\u001b[0;32m<ipython-input-15-34020f015642>\u001b[0m in \u001b[0;36m<module>\u001b[0;34m\u001b[0m\n\u001b[1;32m      1\u001b[0m \u001b[0;31m# Run AutoML for 20 base models (limited to 1 hour max runtime by default)\u001b[0m\u001b[0;34m\u001b[0m\u001b[0;34m\u001b[0m\u001b[0;34m\u001b[0m\u001b[0m\n\u001b[1;32m      2\u001b[0m \u001b[0maml\u001b[0m \u001b[0;34m=\u001b[0m \u001b[0mH2OAutoML\u001b[0m\u001b[0;34m(\u001b[0m\u001b[0mmax_models\u001b[0m\u001b[0;34m=\u001b[0m\u001b[0;36m20\u001b[0m\u001b[0;34m,\u001b[0m \u001b[0mseed\u001b[0m\u001b[0;34m=\u001b[0m\u001b[0;36m1\u001b[0m\u001b[0;34m)\u001b[0m\u001b[0;34m\u001b[0m\u001b[0;34m\u001b[0m\u001b[0m\n\u001b[0;32m----> 3\u001b[0;31m \u001b[0maml\u001b[0m\u001b[0;34m.\u001b[0m\u001b[0mtrain\u001b[0m\u001b[0;34m(\u001b[0m\u001b[0mx\u001b[0m\u001b[0;34m=\u001b[0m\u001b[0mx\u001b[0m\u001b[0;34m,\u001b[0m \u001b[0my\u001b[0m\u001b[0;34m=\u001b[0m\u001b[0my\u001b[0m\u001b[0;34m,\u001b[0m \u001b[0mtraining_frame\u001b[0m\u001b[0;34m=\u001b[0m\u001b[0mtrain\u001b[0m\u001b[0;34m)\u001b[0m\u001b[0;34m\u001b[0m\u001b[0;34m\u001b[0m\u001b[0m\n\u001b[0m",
      "\u001b[0;32m~/anaconda3/lib/python3.7/site-packages/h2o/automl/autoh2o.py\u001b[0m in \u001b[0;36mtrain\u001b[0;34m(self, x, y, training_frame, fold_column, weights_column, validation_frame, leaderboard_frame, blending_frame)\u001b[0m\n\u001b[1;32m    409\u001b[0m \u001b[0;34m\u001b[0m\u001b[0m\n\u001b[1;32m    410\u001b[0m         \u001b[0mself\u001b[0m\u001b[0;34m.\u001b[0m\u001b[0m_job\u001b[0m \u001b[0;34m=\u001b[0m \u001b[0mH2OJob\u001b[0m\u001b[0;34m(\u001b[0m\u001b[0mresp\u001b[0m\u001b[0;34m[\u001b[0m\u001b[0;34m'job'\u001b[0m\u001b[0;34m]\u001b[0m\u001b[0;34m,\u001b[0m \u001b[0;34m\"AutoML\"\u001b[0m\u001b[0;34m)\u001b[0m\u001b[0;34m\u001b[0m\u001b[0;34m\u001b[0m\u001b[0m\n\u001b[0;32m--> 411\u001b[0;31m         \u001b[0mself\u001b[0m\u001b[0;34m.\u001b[0m\u001b[0m_job\u001b[0m\u001b[0;34m.\u001b[0m\u001b[0mpoll\u001b[0m\u001b[0;34m(\u001b[0m\u001b[0;34m)\u001b[0m\u001b[0;34m\u001b[0m\u001b[0;34m\u001b[0m\u001b[0m\n\u001b[0m\u001b[1;32m    412\u001b[0m         \u001b[0mself\u001b[0m\u001b[0;34m.\u001b[0m\u001b[0m_fetch\u001b[0m\u001b[0;34m(\u001b[0m\u001b[0;34m)\u001b[0m\u001b[0;34m\u001b[0m\u001b[0;34m\u001b[0m\u001b[0m\n\u001b[1;32m    413\u001b[0m \u001b[0;34m\u001b[0m\u001b[0m\n",
      "\u001b[0;32m~/anaconda3/lib/python3.7/site-packages/h2o/job.py\u001b[0m in \u001b[0;36mpoll\u001b[0;34m(self, verbose_model_scoring_history)\u001b[0m\n\u001b[1;32m     71\u001b[0m         \u001b[0;31m# check if failed... and politely print relevant message\u001b[0m\u001b[0;34m\u001b[0m\u001b[0;34m\u001b[0m\u001b[0;34m\u001b[0m\u001b[0m\n\u001b[1;32m     72\u001b[0m         \u001b[0;32mif\u001b[0m \u001b[0mself\u001b[0m\u001b[0;34m.\u001b[0m\u001b[0mstatus\u001b[0m \u001b[0;34m==\u001b[0m \u001b[0;34m\"CANCELLED\"\u001b[0m\u001b[0;34m:\u001b[0m\u001b[0;34m\u001b[0m\u001b[0;34m\u001b[0m\u001b[0m\n\u001b[0;32m---> 73\u001b[0;31m             \u001b[0;32mraise\u001b[0m \u001b[0mH2OJobCancelled\u001b[0m\u001b[0;34m(\u001b[0m\u001b[0;34m\"Job<%s> was cancelled by the user.\"\u001b[0m \u001b[0;34m%\u001b[0m \u001b[0mself\u001b[0m\u001b[0;34m.\u001b[0m\u001b[0mjob_key\u001b[0m\u001b[0;34m)\u001b[0m\u001b[0;34m\u001b[0m\u001b[0;34m\u001b[0m\u001b[0m\n\u001b[0m\u001b[1;32m     74\u001b[0m         \u001b[0;32mif\u001b[0m \u001b[0mself\u001b[0m\u001b[0;34m.\u001b[0m\u001b[0mstatus\u001b[0m \u001b[0;34m==\u001b[0m \u001b[0;34m\"FAILED\"\u001b[0m\u001b[0;34m:\u001b[0m\u001b[0;34m\u001b[0m\u001b[0;34m\u001b[0m\u001b[0m\n\u001b[1;32m     75\u001b[0m             \u001b[0;32mif\u001b[0m \u001b[0;34m(\u001b[0m\u001b[0misinstance\u001b[0m\u001b[0;34m(\u001b[0m\u001b[0mself\u001b[0m\u001b[0;34m.\u001b[0m\u001b[0mjob\u001b[0m\u001b[0;34m,\u001b[0m \u001b[0mdict\u001b[0m\u001b[0;34m)\u001b[0m\u001b[0;34m)\u001b[0m \u001b[0;32mand\u001b[0m \u001b[0;34m(\u001b[0m\u001b[0;34m\"stacktrace\"\u001b[0m \u001b[0;32min\u001b[0m \u001b[0mlist\u001b[0m\u001b[0;34m(\u001b[0m\u001b[0mself\u001b[0m\u001b[0;34m.\u001b[0m\u001b[0mjob\u001b[0m\u001b[0;34m)\u001b[0m\u001b[0;34m)\u001b[0m\u001b[0;34m:\u001b[0m\u001b[0;34m\u001b[0m\u001b[0;34m\u001b[0m\u001b[0m\n",
      "\u001b[0;31mH2OJobCancelled\u001b[0m: Job<$03017f00000132d4ffffffff$_b8af285ab6dc1396f42d30553cc7455d> was cancelled by the user."
     ]
    }
   ],
   "source": [
    "# Run AutoML for 20 base models (limited to 1 hour max runtime by default)\n",
    "aml = H2OAutoML(max_models=20, seed=1)\n",
    "aml.train(x=x, y=y, training_frame=train)"
   ]
  },
  {
   "cell_type": "code",
   "execution_count": 7,
   "metadata": {},
   "outputs": [
    {
     "data": {
      "text/html": [
       "<table>\n",
       "<thead>\n",
       "<tr><th>model_id                                           </th><th style=\"text-align: right;\">     auc</th><th style=\"text-align: right;\">  logloss</th><th style=\"text-align: right;\">  mean_per_class_error</th><th style=\"text-align: right;\">    rmse</th><th style=\"text-align: right;\">     mse</th></tr>\n",
       "</thead>\n",
       "<tbody>\n",
       "<tr><td>StackedEnsemble_AllModels_AutoML_20190626_151901   </td><td style=\"text-align: right;\">0.789972</td><td style=\"text-align: right;\"> 0.551138</td><td style=\"text-align: right;\">              0.314771</td><td style=\"text-align: right;\">0.432035</td><td style=\"text-align: right;\">0.186654</td></tr>\n",
       "<tr><td>StackedEnsemble_BestOfFamily_AutoML_20190626_151901</td><td style=\"text-align: right;\">0.788199</td><td style=\"text-align: right;\"> 0.553039</td><td style=\"text-align: right;\">              0.306089</td><td style=\"text-align: right;\">0.432836</td><td style=\"text-align: right;\">0.187347</td></tr>\n",
       "<tr><td>XGBoost_grid_1_AutoML_20190626_151901_model_3      </td><td style=\"text-align: right;\">0.784588</td><td style=\"text-align: right;\"> 0.558405</td><td style=\"text-align: right;\">              0.319401</td><td style=\"text-align: right;\">0.435012</td><td style=\"text-align: right;\">0.189235</td></tr>\n",
       "<tr><td>XGBoost_1_AutoML_20190626_151901                   </td><td style=\"text-align: right;\">0.782782</td><td style=\"text-align: right;\"> 0.557031</td><td style=\"text-align: right;\">              0.331908</td><td style=\"text-align: right;\">0.43506 </td><td style=\"text-align: right;\">0.189277</td></tr>\n",
       "<tr><td>XGBoost_grid_1_AutoML_20190626_151901_model_4      </td><td style=\"text-align: right;\">0.782774</td><td style=\"text-align: right;\"> 0.558375</td><td style=\"text-align: right;\">              0.316151</td><td style=\"text-align: right;\">0.435543</td><td style=\"text-align: right;\">0.189697</td></tr>\n",
       "<tr><td>XGBoost_3_AutoML_20190626_151901                   </td><td style=\"text-align: right;\">0.782434</td><td style=\"text-align: right;\"> 0.563499</td><td style=\"text-align: right;\">              0.340872</td><td style=\"text-align: right;\">0.437216</td><td style=\"text-align: right;\">0.191158</td></tr>\n",
       "<tr><td>XGBoost_2_AutoML_20190626_151901                   </td><td style=\"text-align: right;\">0.781621</td><td style=\"text-align: right;\"> 0.559814</td><td style=\"text-align: right;\">              0.326049</td><td style=\"text-align: right;\">0.436018</td><td style=\"text-align: right;\">0.190112</td></tr>\n",
       "<tr><td>XGBoost_grid_1_AutoML_20190626_151901_model_1      </td><td style=\"text-align: right;\">0.781542</td><td style=\"text-align: right;\"> 0.562387</td><td style=\"text-align: right;\">              0.32593 </td><td style=\"text-align: right;\">0.436869</td><td style=\"text-align: right;\">0.190855</td></tr>\n",
       "<tr><td>GBM_5_AutoML_20190626_151901                       </td><td style=\"text-align: right;\">0.780837</td><td style=\"text-align: right;\"> 0.559903</td><td style=\"text-align: right;\">              0.340848</td><td style=\"text-align: right;\">0.436191</td><td style=\"text-align: right;\">0.190263</td></tr>\n",
       "<tr><td>GBM_2_AutoML_20190626_151901                       </td><td style=\"text-align: right;\">0.780036</td><td style=\"text-align: right;\"> 0.559806</td><td style=\"text-align: right;\">              0.339926</td><td style=\"text-align: right;\">0.436415</td><td style=\"text-align: right;\">0.190458</td></tr>\n",
       "<tr><td>GBM_1_AutoML_20190626_151901                       </td><td style=\"text-align: right;\">0.779827</td><td style=\"text-align: right;\"> 0.560857</td><td style=\"text-align: right;\">              0.335096</td><td style=\"text-align: right;\">0.436616</td><td style=\"text-align: right;\">0.190633</td></tr>\n",
       "<tr><td>GBM_3_AutoML_20190626_151901                       </td><td style=\"text-align: right;\">0.778669</td><td style=\"text-align: right;\"> 0.56179 </td><td style=\"text-align: right;\">              0.325538</td><td style=\"text-align: right;\">0.437189</td><td style=\"text-align: right;\">0.191134</td></tr>\n",
       "<tr><td>GBM_4_AutoML_20190626_151901                       </td><td style=\"text-align: right;\">0.771426</td><td style=\"text-align: right;\"> 0.569712</td><td style=\"text-align: right;\">              0.33742 </td><td style=\"text-align: right;\">0.44107 </td><td style=\"text-align: right;\">0.194543</td></tr>\n",
       "<tr><td>GBM_grid_1_AutoML_20190626_151901_model_1          </td><td style=\"text-align: right;\">0.769752</td><td style=\"text-align: right;\"> 0.572583</td><td style=\"text-align: right;\">              0.344331</td><td style=\"text-align: right;\">0.442452</td><td style=\"text-align: right;\">0.195764</td></tr>\n",
       "<tr><td>XGBoost_grid_1_AutoML_20190626_151901_model_2      </td><td style=\"text-align: right;\">0.767817</td><td style=\"text-align: right;\"> 0.582107</td><td style=\"text-align: right;\">              0.343244</td><td style=\"text-align: right;\">0.446227</td><td style=\"text-align: right;\">0.199118</td></tr>\n",
       "<tr><td>GBM_grid_1_AutoML_20190626_151901_model_2          </td><td style=\"text-align: right;\">0.754366</td><td style=\"text-align: right;\"> 0.918567</td><td style=\"text-align: right;\">              0.355855</td><td style=\"text-align: right;\">0.496638</td><td style=\"text-align: right;\">0.246649</td></tr>\n",
       "<tr><td>DeepLearning_grid_1_AutoML_20190626_151901_model_2 </td><td style=\"text-align: right;\">0.744768</td><td style=\"text-align: right;\"> 0.596041</td><td style=\"text-align: right;\">              0.357497</td><td style=\"text-align: right;\">0.45288 </td><td style=\"text-align: right;\">0.2051  </td></tr>\n",
       "<tr><td>DRF_1_AutoML_20190626_151901                       </td><td style=\"text-align: right;\">0.742892</td><td style=\"text-align: right;\"> 0.595883</td><td style=\"text-align: right;\">              0.355403</td><td style=\"text-align: right;\">0.452774</td><td style=\"text-align: right;\">0.205004</td></tr>\n",
       "<tr><td>XRT_1_AutoML_20190626_151901                       </td><td style=\"text-align: right;\">0.742091</td><td style=\"text-align: right;\"> 0.599346</td><td style=\"text-align: right;\">              0.356583</td><td style=\"text-align: right;\">0.453117</td><td style=\"text-align: right;\">0.205315</td></tr>\n",
       "<tr><td>DeepLearning_grid_1_AutoML_20190626_151901_model_1 </td><td style=\"text-align: right;\">0.695202</td><td style=\"text-align: right;\"> 0.66047 </td><td style=\"text-align: right;\">              0.394611</td><td style=\"text-align: right;\">0.475512</td><td style=\"text-align: right;\">0.226112</td></tr>\n",
       "<tr><td>DeepLearning_1_AutoML_20190626_151901              </td><td style=\"text-align: right;\">0.692634</td><td style=\"text-align: right;\"> 0.637166</td><td style=\"text-align: right;\">              0.406034</td><td style=\"text-align: right;\">0.471526</td><td style=\"text-align: right;\">0.222337</td></tr>\n",
       "<tr><td>GLM_grid_1_AutoML_20190626_151901_model_1          </td><td style=\"text-align: right;\">0.682648</td><td style=\"text-align: right;\"> 0.63852 </td><td style=\"text-align: right;\">              0.397234</td><td style=\"text-align: right;\">0.472683</td><td style=\"text-align: right;\">0.223429</td></tr>\n",
       "</tbody>\n",
       "</table>"
      ]
     },
     "metadata": {},
     "output_type": "display_data"
    },
    {
     "data": {
      "text/plain": []
     },
     "execution_count": 7,
     "metadata": {},
     "output_type": "execute_result"
    }
   ],
   "source": [
    "# View the AutoML Leaderboard\n",
    "lb = aml.leaderboard\n",
    "lb.head(rows=lb.nrows)  # Print all rows instead of default (10 rows)"
   ]
  },
  {
   "cell_type": "code",
   "execution_count": null,
   "metadata": {},
   "outputs": [],
   "source": [
    "# The leader model is stored here\n",
    "aml.leader"
   ]
  },
  {
   "cell_type": "code",
   "execution_count": 9,
   "metadata": {},
   "outputs": [
    {
     "name": "stdout",
     "output_type": "stream",
     "text": [
      "stackedensemble prediction progress: |████████████████████████████████████| 100%\n"
     ]
    }
   ],
   "source": [
    "# If you need to generate predictions on a test set, you can make\n",
    "# predictions directly on the `\"H2OAutoML\"` object, or on the leader\n",
    "# model object directly\n",
    "\n",
    "preds = aml.predict(test)"
   ]
  },
  {
   "cell_type": "code",
   "execution_count": null,
   "metadata": {},
   "outputs": [],
   "source": []
  }
 ],
 "metadata": {
  "kernelspec": {
   "display_name": "Python 3",
   "language": "python",
   "name": "python3"
  },
  "language_info": {
   "codemirror_mode": {
    "name": "ipython",
    "version": 3
   },
   "file_extension": ".py",
   "mimetype": "text/x-python",
   "name": "python",
   "nbconvert_exporter": "python",
   "pygments_lexer": "ipython3",
   "version": "3.7.1"
  }
 },
 "nbformat": 4,
 "nbformat_minor": 2
}
