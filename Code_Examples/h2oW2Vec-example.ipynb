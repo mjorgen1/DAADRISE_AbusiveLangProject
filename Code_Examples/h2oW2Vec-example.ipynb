{
 "cells": [
  {
   "cell_type": "code",
   "execution_count": 1,
   "metadata": {},
   "outputs": [
    {
     "name": "stdout",
     "output_type": "stream",
     "text": [
      "Checking whether there is an H2O instance running at http://localhost:54321 . connected.\n"
     ]
    },
    {
     "data": {
      "text/html": [
       "<div style=\"overflow:auto\"><table style=\"width:50%\"><tr><td>H2O cluster uptime:</td>\n",
       "<td>2 days 17 hours 13 mins</td></tr>\n",
       "<tr><td>H2O cluster timezone:</td>\n",
       "<td>Europe/Vienna</td></tr>\n",
       "<tr><td>H2O data parsing timezone:</td>\n",
       "<td>UTC</td></tr>\n",
       "<tr><td>H2O cluster version:</td>\n",
       "<td>3.24.0.5</td></tr>\n",
       "<tr><td>H2O cluster version age:</td>\n",
       "<td>26 days </td></tr>\n",
       "<tr><td>H2O cluster name:</td>\n",
       "<td>H2O_from_python_mackenzie_79hb59</td></tr>\n",
       "<tr><td>H2O cluster total nodes:</td>\n",
       "<td>1</td></tr>\n",
       "<tr><td>H2O cluster free memory:</td>\n",
       "<td>1.751 Gb</td></tr>\n",
       "<tr><td>H2O cluster total cores:</td>\n",
       "<td>4</td></tr>\n",
       "<tr><td>H2O cluster allowed cores:</td>\n",
       "<td>4</td></tr>\n",
       "<tr><td>H2O cluster status:</td>\n",
       "<td>locked, healthy</td></tr>\n",
       "<tr><td>H2O connection url:</td>\n",
       "<td>http://localhost:54321</td></tr>\n",
       "<tr><td>H2O connection proxy:</td>\n",
       "<td>None</td></tr>\n",
       "<tr><td>H2O internal security:</td>\n",
       "<td>False</td></tr>\n",
       "<tr><td>H2O API Extensions:</td>\n",
       "<td>Amazon S3, XGBoost, Algos, AutoML, Core V3, Core V4</td></tr>\n",
       "<tr><td>Python version:</td>\n",
       "<td>3.7.1 final</td></tr></table></div>"
      ],
      "text/plain": [
       "--------------------------  ---------------------------------------------------\n",
       "H2O cluster uptime:         2 days 17 hours 13 mins\n",
       "H2O cluster timezone:       Europe/Vienna\n",
       "H2O data parsing timezone:  UTC\n",
       "H2O cluster version:        3.24.0.5\n",
       "H2O cluster version age:    26 days\n",
       "H2O cluster name:           H2O_from_python_mackenzie_79hb59\n",
       "H2O cluster total nodes:    1\n",
       "H2O cluster free memory:    1.751 Gb\n",
       "H2O cluster total cores:    4\n",
       "H2O cluster allowed cores:  4\n",
       "H2O cluster status:         locked, healthy\n",
       "H2O connection url:         http://localhost:54321\n",
       "H2O connection proxy:\n",
       "H2O internal security:      False\n",
       "H2O API Extensions:         Amazon S3, XGBoost, Algos, AutoML, Core V3, Core V4\n",
       "Python version:             3.7.1 final\n",
       "--------------------------  ---------------------------------------------------"
      ]
     },
     "metadata": {},
     "output_type": "display_data"
    }
   ],
   "source": [
    "import h2o\n",
    "import pandas as pd\n",
    "h2o.init()\n",
    "from h2o.estimators.word2vec import H2OWord2vecEstimator\n",
    "from nltk.corpus import stopwords"
   ]
  },
  {
   "cell_type": "code",
   "execution_count": 2,
   "metadata": {},
   "outputs": [
    {
     "name": "stdout",
     "output_type": "stream",
     "text": [
      "Parse progress: |█████████████████████████████████████████████████████████| 100%\n"
     ]
    }
   ],
   "source": [
    "data_path = \"/home/mackenzie/workspace/PycharmProjects/DAADRISE_AbusiveLangProject/featureExtraction/EnglishCleanedTrainingData (1).csv\"\n",
    "data = h2o.import_file(data_path)\n",
    "#print(data)\n",
    "STOP_WORDS = set(stopwords.words('english'))\n",
    "new_stopwords = ['rt'] \n",
    "STOP_WORDS = STOP_WORDS.union(new_stopwords)"
   ]
  },
  {
   "cell_type": "code",
   "execution_count": 3,
   "metadata": {},
   "outputs": [],
   "source": [
    "def tokenize(sentences, stop_word = STOP_WORDS):\n",
    "    tokenized = sentences.tokenize(\"\\\\W+\")\n",
    "    tokenized_lower = tokenized.tolower()\n",
    "    tokenized_filtered = tokenized_lower[(tokenized_lower.nchar() >= 2) | (tokenized_lower.isna()),:]\n",
    "    tokenized_words = tokenized_filtered[tokenized_filtered.grep(\"[0-9]\",invert=True,output_logical=True),:]\n",
    "    tokenized_words = tokenized_words[(tokenized_words.isna()) | (~ tokenized_words.isin(STOP_WORDS)),:]\n",
    "    return tokenized_words"
   ]
  },
  {
   "cell_type": "code",
   "execution_count": 4,
   "metadata": {},
   "outputs": [],
   "source": [
    "def predict(job_title,w2v, gbm):\n",
    "    words = tokenize(h2o.H2OFrame(job_title).ascharacter())\n",
    "    job_title_vec = w2v.transform(words, aggregate_method=\"AVERAGE\")\n",
    "    print(gbm.predict(test_data=job_title_vec))"
   ]
  },
  {
   "cell_type": "code",
   "execution_count": 5,
   "metadata": {},
   "outputs": [
    {
     "name": "stdout",
     "output_type": "stream",
     "text": [
      "Break tweets into sequence of words\n"
     ]
    }
   ],
   "source": [
    "print(\"Break tweets into sequence of words\")\n",
    "words = tokenize(data[\"cleaned_tweet\"])"
   ]
  },
  {
   "cell_type": "code",
   "execution_count": 6,
   "metadata": {},
   "outputs": [
    {
     "name": "stdout",
     "output_type": "stream",
     "text": [
      "Build word2vec model\n",
      "word2vec Model Build progress: |██████████████████████████████████████████| 100%\n"
     ]
    }
   ],
   "source": [
    "print(\"Build word2vec model\")\n",
    "w2v_model = H2OWord2vecEstimator(sent_sample_rate = 0.0, epochs = 10)\n",
    "w2v_model.train(training_frame=words)"
   ]
  },
  {
   "cell_type": "code",
   "execution_count": 7,
   "metadata": {},
   "outputs": [
    {
     "name": "stdout",
     "output_type": "stream",
     "text": [
      "Calculate a vector for each tweet\n"
     ]
    },
    {
     "data": {
      "text/html": [
       "<table>\n",
       "<thead>\n",
       "<tr><th style=\"text-align: right;\">       C1</th><th style=\"text-align: right;\">         C2</th><th style=\"text-align: right;\">         C3</th><th style=\"text-align: right;\">       C4</th><th style=\"text-align: right;\">        C5</th><th style=\"text-align: right;\">         C6</th><th style=\"text-align: right;\">        C7</th><th style=\"text-align: right;\">        C8</th><th style=\"text-align: right;\">         C9</th><th style=\"text-align: right;\">     C10</th><th style=\"text-align: right;\">       C11</th><th style=\"text-align: right;\">         C12</th><th style=\"text-align: right;\">       C13</th><th style=\"text-align: right;\">       C14</th><th style=\"text-align: right;\">        C15</th><th style=\"text-align: right;\">        C16</th><th style=\"text-align: right;\">        C17</th><th style=\"text-align: right;\">         C18</th><th style=\"text-align: right;\">        C19</th><th style=\"text-align: right;\">        C20</th><th style=\"text-align: right;\">        C21</th><th style=\"text-align: right;\">       C22</th><th style=\"text-align: right;\">        C23</th><th style=\"text-align: right;\">       C24</th><th style=\"text-align: right;\">      C25</th><th style=\"text-align: right;\">        C26</th><th style=\"text-align: right;\">        C27</th><th style=\"text-align: right;\">        C28</th><th style=\"text-align: right;\">        C29</th><th style=\"text-align: right;\">        C30</th><th style=\"text-align: right;\">        C31</th><th style=\"text-align: right;\">       C32</th><th style=\"text-align: right;\">       C33</th><th style=\"text-align: right;\">        C34</th><th style=\"text-align: right;\">        C35</th><th style=\"text-align: right;\">       C36</th><th style=\"text-align: right;\">      C37</th><th style=\"text-align: right;\">       C38</th><th style=\"text-align: right;\">        C39</th><th style=\"text-align: right;\">        C40</th><th style=\"text-align: right;\">        C41</th><th style=\"text-align: right;\">       C42</th><th style=\"text-align: right;\">       C43</th><th style=\"text-align: right;\">        C44</th><th style=\"text-align: right;\">       C45</th><th style=\"text-align: right;\">         C46</th><th style=\"text-align: right;\">         C47</th><th style=\"text-align: right;\">        C48</th><th style=\"text-align: right;\">       C49</th><th style=\"text-align: right;\">        C50</th><th style=\"text-align: right;\">        C51</th><th style=\"text-align: right;\">        C52</th><th style=\"text-align: right;\">       C53</th><th style=\"text-align: right;\">        C54</th><th style=\"text-align: right;\">       C55</th><th style=\"text-align: right;\">        C56</th><th style=\"text-align: right;\">       C57</th><th style=\"text-align: right;\">       C58</th><th style=\"text-align: right;\">       C59</th><th style=\"text-align: right;\">        C60</th><th style=\"text-align: right;\">        C61</th><th style=\"text-align: right;\">         C62</th><th style=\"text-align: right;\">        C63</th><th style=\"text-align: right;\">        C64</th><th style=\"text-align: right;\">        C65</th><th style=\"text-align: right;\">       C66</th><th style=\"text-align: right;\">        C67</th><th style=\"text-align: right;\">       C68</th><th style=\"text-align: right;\">      C69</th><th style=\"text-align: right;\">        C70</th><th style=\"text-align: right;\">        C71</th><th style=\"text-align: right;\">        C72</th><th style=\"text-align: right;\">        C73</th><th style=\"text-align: right;\">        C74</th><th style=\"text-align: right;\">        C75</th><th style=\"text-align: right;\">      C76</th><th style=\"text-align: right;\">        C77</th><th style=\"text-align: right;\">        C78</th><th style=\"text-align: right;\">       C79</th><th style=\"text-align: right;\">        C80</th><th style=\"text-align: right;\">        C81</th><th style=\"text-align: right;\">       C82</th><th style=\"text-align: right;\">       C83</th><th style=\"text-align: right;\">       C84</th><th style=\"text-align: right;\">        C85</th><th style=\"text-align: right;\">        C86</th><th style=\"text-align: right;\">         C87</th><th style=\"text-align: right;\">        C88</th><th style=\"text-align: right;\">        C89</th><th style=\"text-align: right;\">        C90</th><th style=\"text-align: right;\">        C91</th><th style=\"text-align: right;\">        C92</th><th style=\"text-align: right;\">        C93</th><th style=\"text-align: right;\">       C94</th><th style=\"text-align: right;\">       C95</th><th style=\"text-align: right;\">       C96</th><th style=\"text-align: right;\">        C97</th><th style=\"text-align: right;\">        C98</th><th style=\"text-align: right;\">        C99</th><th style=\"text-align: right;\">       C100</th></tr>\n",
       "</thead>\n",
       "<tbody>\n",
       "<tr><td style=\"text-align: right;\">0.212917 </td><td style=\"text-align: right;\"> 0.230906  </td><td style=\"text-align: right;\">-0.0886541 </td><td style=\"text-align: right;\">0.294202 </td><td style=\"text-align: right;\"> 0.123474 </td><td style=\"text-align: right;\"> 0.283383  </td><td style=\"text-align: right;\"> 0.0074332</td><td style=\"text-align: right;\">-0.170523 </td><td style=\"text-align: right;\">-0.111196  </td><td style=\"text-align: right;\">0.455966</td><td style=\"text-align: right;\">-0.0219766</td><td style=\"text-align: right;\">-0.196902   </td><td style=\"text-align: right;\">-0.152014 </td><td style=\"text-align: right;\">-0.0511684</td><td style=\"text-align: right;\">-0.181307  </td><td style=\"text-align: right;\"> 0.0530709 </td><td style=\"text-align: right;\">-0.102852  </td><td style=\"text-align: right;\">-0.0634184  </td><td style=\"text-align: right;\"> 0.105651  </td><td style=\"text-align: right;\">-0.0472447 </td><td style=\"text-align: right;\">-0.0850808 </td><td style=\"text-align: right;\"> 0.328263 </td><td style=\"text-align: right;\">-0.0339493 </td><td style=\"text-align: right;\">-0.14443  </td><td style=\"text-align: right;\">0.0367176</td><td style=\"text-align: right;\">-0.16038   </td><td style=\"text-align: right;\"> 0.146651  </td><td style=\"text-align: right;\">-0.14258   </td><td style=\"text-align: right;\">-0.0286465 </td><td style=\"text-align: right;\">-0.310238  </td><td style=\"text-align: right;\"> 0.139351  </td><td style=\"text-align: right;\">-0.448082 </td><td style=\"text-align: right;\"> 0.157095 </td><td style=\"text-align: right;\"> 0.0649458 </td><td style=\"text-align: right;\">-0.00299131</td><td style=\"text-align: right;\">-0.452157 </td><td style=\"text-align: right;\">0.163194 </td><td style=\"text-align: right;\">-0.259241 </td><td style=\"text-align: right;\">-0.0895197 </td><td style=\"text-align: right;\"> 0.167221  </td><td style=\"text-align: right;\"> 0.102373  </td><td style=\"text-align: right;\"> 0.103336 </td><td style=\"text-align: right;\">-0.0146127</td><td style=\"text-align: right;\"> 0.136443  </td><td style=\"text-align: right;\">-0.226902 </td><td style=\"text-align: right;\"> 0.0412764  </td><td style=\"text-align: right;\"> 0.243821   </td><td style=\"text-align: right;\">-0.0168933 </td><td style=\"text-align: right;\">-0.34183  </td><td style=\"text-align: right;\"> 0.100697  </td><td style=\"text-align: right;\">-0.0851984 </td><td style=\"text-align: right;\"> 0.305818  </td><td style=\"text-align: right;\">-0.126877 </td><td style=\"text-align: right;\">-0.0414445 </td><td style=\"text-align: right;\">0.155664  </td><td style=\"text-align: right;\"> 0.0923565 </td><td style=\"text-align: right;\">-0.323685 </td><td style=\"text-align: right;\"> 0.0547481</td><td style=\"text-align: right;\">-0.222182 </td><td style=\"text-align: right;\">-0.00866119</td><td style=\"text-align: right;\">-0.0252524 </td><td style=\"text-align: right;\"> 0.106256   </td><td style=\"text-align: right;\"> 0.21133   </td><td style=\"text-align: right;\"> 0.291336  </td><td style=\"text-align: right;\">-0.279539  </td><td style=\"text-align: right;\"> 0.167368 </td><td style=\"text-align: right;\">-0.00947552</td><td style=\"text-align: right;\"> 0.195283 </td><td style=\"text-align: right;\">0.0395001</td><td style=\"text-align: right;\"> 0.391614  </td><td style=\"text-align: right;\"> 0.164911  </td><td style=\"text-align: right;\">-0.0164005 </td><td style=\"text-align: right;\"> 0.00528101</td><td style=\"text-align: right;\"> 0.0982212 </td><td style=\"text-align: right;\"> 0.127626  </td><td style=\"text-align: right;\">0.23609  </td><td style=\"text-align: right;\">-0.307877  </td><td style=\"text-align: right;\"> 0.134955  </td><td style=\"text-align: right;\">-0.321039 </td><td style=\"text-align: right;\">-0.226808  </td><td style=\"text-align: right;\">-0.145472  </td><td style=\"text-align: right;\"> 0.237303 </td><td style=\"text-align: right;\"> 0.209097 </td><td style=\"text-align: right;\"> 0.202548 </td><td style=\"text-align: right;\">-0.173082  </td><td style=\"text-align: right;\">-0.0214403 </td><td style=\"text-align: right;\"> 0.160446   </td><td style=\"text-align: right;\">-0.0860858 </td><td style=\"text-align: right;\"> 0.0604127 </td><td style=\"text-align: right;\">-0.0473036 </td><td style=\"text-align: right;\">-0.231582  </td><td style=\"text-align: right;\"> 0.151163  </td><td style=\"text-align: right;\">-0.0824016 </td><td style=\"text-align: right;\"> 0.165118 </td><td style=\"text-align: right;\">0.025137  </td><td style=\"text-align: right;\"> 0.0274065</td><td style=\"text-align: right;\">-0.0830896 </td><td style=\"text-align: right;\">-0.036089  </td><td style=\"text-align: right;\"> 0.197341  </td><td style=\"text-align: right;\">-0.0444415 </td></tr>\n",
       "<tr><td style=\"text-align: right;\">0.272519 </td><td style=\"text-align: right;\"> 0.0706675 </td><td style=\"text-align: right;\"> 0.0403761 </td><td style=\"text-align: right;\">0.204777 </td><td style=\"text-align: right;\"> 0.109998 </td><td style=\"text-align: right;\"> 0.00271851</td><td style=\"text-align: right;\">-0.113222 </td><td style=\"text-align: right;\">-0.147757 </td><td style=\"text-align: right;\">-0.0178177 </td><td style=\"text-align: right;\">0.368064</td><td style=\"text-align: right;\">-0.0122278</td><td style=\"text-align: right;\"> 0.0837669  </td><td style=\"text-align: right;\"> 0.0113708</td><td style=\"text-align: right;\"> 0.0318   </td><td style=\"text-align: right;\">-0.0378209 </td><td style=\"text-align: right;\">-0.0376233 </td><td style=\"text-align: right;\">-0.104951  </td><td style=\"text-align: right;\"> 0.119099   </td><td style=\"text-align: right;\"> 0.0861896 </td><td style=\"text-align: right;\">-0.0473067 </td><td style=\"text-align: right;\">-0.040789  </td><td style=\"text-align: right;\"> 0.0861963</td><td style=\"text-align: right;\"> 0.00367173</td><td style=\"text-align: right;\"> 0.0775075</td><td style=\"text-align: right;\">0.183846 </td><td style=\"text-align: right;\"> 0.162582  </td><td style=\"text-align: right;\">-0.0530834 </td><td style=\"text-align: right;\">-0.0906191 </td><td style=\"text-align: right;\">-0.0130155 </td><td style=\"text-align: right;\"> 0.0635604 </td><td style=\"text-align: right;\"> 0.161258  </td><td style=\"text-align: right;\">-0.174427 </td><td style=\"text-align: right;\">-0.0627454</td><td style=\"text-align: right;\"> 0.0399699 </td><td style=\"text-align: right;\">-0.0162873 </td><td style=\"text-align: right;\">-0.174503 </td><td style=\"text-align: right;\">0.148872 </td><td style=\"text-align: right;\">-0.0998424</td><td style=\"text-align: right;\">-0.00349117</td><td style=\"text-align: right;\">-0.0126977 </td><td style=\"text-align: right;\"> 0.037833  </td><td style=\"text-align: right;\"> 0.175795 </td><td style=\"text-align: right;\">-0.0488127</td><td style=\"text-align: right;\"> 0.16807   </td><td style=\"text-align: right;\"> 0.015645 </td><td style=\"text-align: right;\">-0.0859147  </td><td style=\"text-align: right;\"> 0.0361021  </td><td style=\"text-align: right;\"> 0.138341  </td><td style=\"text-align: right;\"> 0.0265329</td><td style=\"text-align: right;\"> 0.0182833 </td><td style=\"text-align: right;\">-0.229636  </td><td style=\"text-align: right;\"> 0.150919  </td><td style=\"text-align: right;\">-0.109991 </td><td style=\"text-align: right;\">-0.0662375 </td><td style=\"text-align: right;\">0.15793   </td><td style=\"text-align: right;\"> 0.00062945</td><td style=\"text-align: right;\">-0.0664053</td><td style=\"text-align: right;\"> 0.0331392</td><td style=\"text-align: right;\">-0.156291 </td><td style=\"text-align: right;\"> 0.0275471 </td><td style=\"text-align: right;\">-0.0776486 </td><td style=\"text-align: right;\">-0.00859467 </td><td style=\"text-align: right;\">-0.0621013 </td><td style=\"text-align: right;\"> 0.105882  </td><td style=\"text-align: right;\">-0.205898  </td><td style=\"text-align: right;\">-0.0959654</td><td style=\"text-align: right;\">-0.166477  </td><td style=\"text-align: right;\"> 0.145708 </td><td style=\"text-align: right;\">0.042405 </td><td style=\"text-align: right;\"> 0.267982  </td><td style=\"text-align: right;\"> 0.0812777 </td><td style=\"text-align: right;\"> 0.00345463</td><td style=\"text-align: right;\">-0.107096  </td><td style=\"text-align: right;\"> 0.0368292 </td><td style=\"text-align: right;\"> 0.00576519</td><td style=\"text-align: right;\">0.165786 </td><td style=\"text-align: right;\">-0.0503758 </td><td style=\"text-align: right;\"> 0.0957577 </td><td style=\"text-align: right;\">-0.168819 </td><td style=\"text-align: right;\">-0.00484079</td><td style=\"text-align: right;\"> 0.00577457</td><td style=\"text-align: right;\">-0.106171 </td><td style=\"text-align: right;\">-0.0158881</td><td style=\"text-align: right;\"> 0.0800753</td><td style=\"text-align: right;\">-0.0935556 </td><td style=\"text-align: right;\">-0.00795182</td><td style=\"text-align: right;\"> 0.1375     </td><td style=\"text-align: right;\">-0.00862966</td><td style=\"text-align: right;\">-0.0341317 </td><td style=\"text-align: right;\">-0.0676855 </td><td style=\"text-align: right;\">-0.0402984 </td><td style=\"text-align: right;\"> 0.0260642 </td><td style=\"text-align: right;\">-0.102053  </td><td style=\"text-align: right;\"> 0.122878 </td><td style=\"text-align: right;\">0.0553434 </td><td style=\"text-align: right;\"> 0.181715 </td><td style=\"text-align: right;\"> 0.0628671 </td><td style=\"text-align: right;\">-0.109709  </td><td style=\"text-align: right;\"> 0.156089  </td><td style=\"text-align: right;\">-0.0107078 </td></tr>\n",
       "<tr><td style=\"text-align: right;\">0.137377 </td><td style=\"text-align: right;\"> 0.135227  </td><td style=\"text-align: right;\">-0.155909  </td><td style=\"text-align: right;\">0.306672 </td><td style=\"text-align: right;\"> 0.201073 </td><td style=\"text-align: right;\"> 0.135417  </td><td style=\"text-align: right;\"> 0.0260809</td><td style=\"text-align: right;\">-0.279848 </td><td style=\"text-align: right;\">-0.160381  </td><td style=\"text-align: right;\">0.248433</td><td style=\"text-align: right;\"> 0.174452 </td><td style=\"text-align: right;\">-0.0602271  </td><td style=\"text-align: right;\">-0.119057 </td><td style=\"text-align: right;\">-0.0868848</td><td style=\"text-align: right;\">-0.0357339 </td><td style=\"text-align: right;\"> 0.0747303 </td><td style=\"text-align: right;\">-0.0952025 </td><td style=\"text-align: right;\"> 0.000290709</td><td style=\"text-align: right;\"> 0.182728  </td><td style=\"text-align: right;\"> 0.00143895</td><td style=\"text-align: right;\">-0.0388331 </td><td style=\"text-align: right;\"> 0.0279358</td><td style=\"text-align: right;\"> 0.0195431 </td><td style=\"text-align: right;\"> 0.103572 </td><td style=\"text-align: right;\">0.182855 </td><td style=\"text-align: right;\">-0.0514792 </td><td style=\"text-align: right;\"> 0.00926028</td><td style=\"text-align: right;\">-0.196638  </td><td style=\"text-align: right;\"> 0.00384504</td><td style=\"text-align: right;\">-0.0482662 </td><td style=\"text-align: right;\"> 0.00851427</td><td style=\"text-align: right;\">-0.129896 </td><td style=\"text-align: right;\"> 0.136706 </td><td style=\"text-align: right;\"> 0.0644539 </td><td style=\"text-align: right;\"> 0.0181932 </td><td style=\"text-align: right;\">-0.220775 </td><td style=\"text-align: right;\">0.13669  </td><td style=\"text-align: right;\">-0.0661809</td><td style=\"text-align: right;\"> 0.0144632 </td><td style=\"text-align: right;\">-0.0544888 </td><td style=\"text-align: right;\"> 0.160445  </td><td style=\"text-align: right;\"> 0.0938703</td><td style=\"text-align: right;\">-0.162605 </td><td style=\"text-align: right;\"> 0.0265653 </td><td style=\"text-align: right;\">-0.10652  </td><td style=\"text-align: right;\">-0.0485849  </td><td style=\"text-align: right;\">-0.000426453</td><td style=\"text-align: right;\">-0.0874922 </td><td style=\"text-align: right;\"> 0.0667362</td><td style=\"text-align: right;\"> 0.00919219</td><td style=\"text-align: right;\"> 0.100416  </td><td style=\"text-align: right;\"> 0.091116  </td><td style=\"text-align: right;\">-0.267946 </td><td style=\"text-align: right;\">-0.0351616 </td><td style=\"text-align: right;\">0.00355651</td><td style=\"text-align: right;\">-0.158502  </td><td style=\"text-align: right;\">-0.208762 </td><td style=\"text-align: right;\">-0.0267317</td><td style=\"text-align: right;\">-0.0786899</td><td style=\"text-align: right;\"> 0.156366  </td><td style=\"text-align: right;\">-0.0780966 </td><td style=\"text-align: right;\"> 0.287318   </td><td style=\"text-align: right;\"> 0.023403  </td><td style=\"text-align: right;\"> 0.0830671 </td><td style=\"text-align: right;\">-0.115133  </td><td style=\"text-align: right;\"> 0.0146158</td><td style=\"text-align: right;\">-0.182134  </td><td style=\"text-align: right;\"> 0.0171192</td><td style=\"text-align: right;\">0.12864  </td><td style=\"text-align: right;\"> 0.116676  </td><td style=\"text-align: right;\"> 0.245326  </td><td style=\"text-align: right;\"> 0.0267274 </td><td style=\"text-align: right;\">-0.0762772 </td><td style=\"text-align: right;\">-0.114487  </td><td style=\"text-align: right;\"> 0.0530546 </td><td style=\"text-align: right;\">0.342635 </td><td style=\"text-align: right;\">-0.136834  </td><td style=\"text-align: right;\">-0.0138162 </td><td style=\"text-align: right;\">-0.188383 </td><td style=\"text-align: right;\">-0.0217207 </td><td style=\"text-align: right;\">-0.0010352 </td><td style=\"text-align: right;\"> 0.0535919</td><td style=\"text-align: right;\"> 0.0586338</td><td style=\"text-align: right;\">-0.0118348</td><td style=\"text-align: right;\">-0.210758  </td><td style=\"text-align: right;\"> 0.0219197 </td><td style=\"text-align: right;\"> 0.143401   </td><td style=\"text-align: right;\">-0.085031  </td><td style=\"text-align: right;\">-0.152885  </td><td style=\"text-align: right;\">-0.103069  </td><td style=\"text-align: right;\">-0.00723587</td><td style=\"text-align: right;\"> 0.0081848 </td><td style=\"text-align: right;\">-0.189029  </td><td style=\"text-align: right;\">-0.0573201</td><td style=\"text-align: right;\">0.0430598 </td><td style=\"text-align: right;\"> 0.0255829</td><td style=\"text-align: right;\"> 0.00951744</td><td style=\"text-align: right;\">-0.0593675 </td><td style=\"text-align: right;\"> 0.294677  </td><td style=\"text-align: right;\">-0.0985883 </td></tr>\n",
       "<tr><td style=\"text-align: right;\">0.269022 </td><td style=\"text-align: right;\"> 0.0442898 </td><td style=\"text-align: right;\"> 0.0551614 </td><td style=\"text-align: right;\">0.106022 </td><td style=\"text-align: right;\"> 0.0502941</td><td style=\"text-align: right;\"> 0.0273017 </td><td style=\"text-align: right;\">-0.0762859</td><td style=\"text-align: right;\">-0.298209 </td><td style=\"text-align: right;\">-0.0645253 </td><td style=\"text-align: right;\">0.181468</td><td style=\"text-align: right;\">-0.0734535</td><td style=\"text-align: right;\">-0.0240435  </td><td style=\"text-align: right;\"> 0.0479189</td><td style=\"text-align: right;\">-0.0358202</td><td style=\"text-align: right;\"> 0.0710023 </td><td style=\"text-align: right;\">-0.103601  </td><td style=\"text-align: right;\">-0.124787  </td><td style=\"text-align: right;\"> 0.127674   </td><td style=\"text-align: right;\">-0.0725298 </td><td style=\"text-align: right;\">-0.0269772 </td><td style=\"text-align: right;\">-0.0443976 </td><td style=\"text-align: right;\">-0.0369043</td><td style=\"text-align: right;\"> 0.0150055 </td><td style=\"text-align: right;\"> 0.140467 </td><td style=\"text-align: right;\">0.190375 </td><td style=\"text-align: right;\"> 0.0519342 </td><td style=\"text-align: right;\">-0.0260513 </td><td style=\"text-align: right;\">-0.0722796 </td><td style=\"text-align: right;\">-0.0736632 </td><td style=\"text-align: right;\"> 0.0165435 </td><td style=\"text-align: right;\"> 0.10041   </td><td style=\"text-align: right;\">-0.127752 </td><td style=\"text-align: right;\">-0.143536 </td><td style=\"text-align: right;\"> 0.0180546 </td><td style=\"text-align: right;\"> 0.0421104 </td><td style=\"text-align: right;\">-0.201786 </td><td style=\"text-align: right;\">0.180373 </td><td style=\"text-align: right;\"> 0.083104 </td><td style=\"text-align: right;\">-0.0122148 </td><td style=\"text-align: right;\">-0.0407694 </td><td style=\"text-align: right;\"> 0.00833777</td><td style=\"text-align: right;\"> 0.186273 </td><td style=\"text-align: right;\">-0.0228889</td><td style=\"text-align: right;\"> 0.00464309</td><td style=\"text-align: right;\">-0.0807132</td><td style=\"text-align: right;\"> 0.0404103  </td><td style=\"text-align: right;\">-0.0116234  </td><td style=\"text-align: right;\">-0.0547478 </td><td style=\"text-align: right;\"> 0.0317588</td><td style=\"text-align: right;\"> 0.13344   </td><td style=\"text-align: right;\">-0.00957205</td><td style=\"text-align: right;\"> 0.0443209 </td><td style=\"text-align: right;\">-0.0523939</td><td style=\"text-align: right;\">-0.00942753</td><td style=\"text-align: right;\">0.102306  </td><td style=\"text-align: right;\">-0.140174  </td><td style=\"text-align: right;\"> 0.0665564</td><td style=\"text-align: right;\"> 0.0719263</td><td style=\"text-align: right;\">-0.0830416</td><td style=\"text-align: right;\">-0.0199207 </td><td style=\"text-align: right;\"> 0.0551383 </td><td style=\"text-align: right;\">-0.0379945  </td><td style=\"text-align: right;\">-0.0252002 </td><td style=\"text-align: right;\"> 0.102271  </td><td style=\"text-align: right;\">-0.0481267 </td><td style=\"text-align: right;\">-0.0382669</td><td style=\"text-align: right;\">-0.129028  </td><td style=\"text-align: right;\"> 0.0288219</td><td style=\"text-align: right;\">0.15365  </td><td style=\"text-align: right;\"> 0.00829563</td><td style=\"text-align: right;\">-0.00646993</td><td style=\"text-align: right;\"> 0.00428047</td><td style=\"text-align: right;\">-0.085216  </td><td style=\"text-align: right;\"> 0.159615  </td><td style=\"text-align: right;\"> 0.191501  </td><td style=\"text-align: right;\">0.127119 </td><td style=\"text-align: right;\">-0.0795072 </td><td style=\"text-align: right;\"> 0.00615788</td><td style=\"text-align: right;\"> 0.0257801</td><td style=\"text-align: right;\"> 0.149297  </td><td style=\"text-align: right;\"> 0.0588416 </td><td style=\"text-align: right;\"> 0.045207 </td><td style=\"text-align: right;\">-0.032683 </td><td style=\"text-align: right;\"> 0.0209459</td><td style=\"text-align: right;\"> 0.0428902 </td><td style=\"text-align: right;\">-0.131638  </td><td style=\"text-align: right;\">-0.00327431 </td><td style=\"text-align: right;\">-0.0676874 </td><td style=\"text-align: right;\">-0.102629  </td><td style=\"text-align: right;\"> 0.00892989</td><td style=\"text-align: right;\">-0.103556  </td><td style=\"text-align: right;\"> 0.0682068 </td><td style=\"text-align: right;\">-0.106798  </td><td style=\"text-align: right;\"> 0.107997 </td><td style=\"text-align: right;\">0.0119163 </td><td style=\"text-align: right;\"> 0.148271 </td><td style=\"text-align: right;\">-0.0330437 </td><td style=\"text-align: right;\"> 0.0380053 </td><td style=\"text-align: right;\"> 0.16663   </td><td style=\"text-align: right;\"> 0.170054  </td></tr>\n",
       "<tr><td style=\"text-align: right;\">0.19287  </td><td style=\"text-align: right;\"> 0.081203  </td><td style=\"text-align: right;\">-0.00239139</td><td style=\"text-align: right;\">0.0571424</td><td style=\"text-align: right;\"> 0.11259  </td><td style=\"text-align: right;\">-0.0337527 </td><td style=\"text-align: right;\">-0.0767726</td><td style=\"text-align: right;\">-0.232627 </td><td style=\"text-align: right;\"> 0.00524886</td><td style=\"text-align: right;\">0.230915</td><td style=\"text-align: right;\"> 0.0170342</td><td style=\"text-align: right;\">-0.15589    </td><td style=\"text-align: right;\">-0.0175768</td><td style=\"text-align: right;\">-0.0416214</td><td style=\"text-align: right;\">-0.00637281</td><td style=\"text-align: right;\">-0.0317492 </td><td style=\"text-align: right;\"> 0.0933429 </td><td style=\"text-align: right;\">-0.0777258  </td><td style=\"text-align: right;\"> 0.180016  </td><td style=\"text-align: right;\"> 0.18335   </td><td style=\"text-align: right;\">-0.0376842 </td><td style=\"text-align: right;\">-0.196025 </td><td style=\"text-align: right;\">-0.0199229 </td><td style=\"text-align: right;\"> 0.153989 </td><td style=\"text-align: right;\">0.239752 </td><td style=\"text-align: right;\"> 0.0666883 </td><td style=\"text-align: right;\">-0.0954672 </td><td style=\"text-align: right;\">-0.0749617 </td><td style=\"text-align: right;\"> 0.0532108 </td><td style=\"text-align: right;\"> 0.0924076 </td><td style=\"text-align: right;\">-0.0124126 </td><td style=\"text-align: right;\">-0.0761928</td><td style=\"text-align: right;\">-0.184249 </td><td style=\"text-align: right;\">-0.015949  </td><td style=\"text-align: right;\">-0.0899476 </td><td style=\"text-align: right;\">-0.16066  </td><td style=\"text-align: right;\">0.121177 </td><td style=\"text-align: right;\">-0.0838313</td><td style=\"text-align: right;\">-0.117743  </td><td style=\"text-align: right;\"> 0.0173981 </td><td style=\"text-align: right;\">-0.0295243 </td><td style=\"text-align: right;\">-0.0211095</td><td style=\"text-align: right;\"> 0.0791389</td><td style=\"text-align: right;\"> 0.0973323 </td><td style=\"text-align: right;\">-0.0180696</td><td style=\"text-align: right;\">-0.00704716 </td><td style=\"text-align: right;\">-0.169299   </td><td style=\"text-align: right;\">-0.00928152</td><td style=\"text-align: right;\"> 0.0255155</td><td style=\"text-align: right;\">-0.0479184 </td><td style=\"text-align: right;\">-0.0152091 </td><td style=\"text-align: right;\">-0.0127264 </td><td style=\"text-align: right;\">-0.26256  </td><td style=\"text-align: right;\"> 0.0607814 </td><td style=\"text-align: right;\">0.101306  </td><td style=\"text-align: right;\">-0.237252  </td><td style=\"text-align: right;\">-0.196944 </td><td style=\"text-align: right;\"> 0.0514869</td><td style=\"text-align: right;\">-0.0619106</td><td style=\"text-align: right;\">-0.00122318</td><td style=\"text-align: right;\"> 0.113437  </td><td style=\"text-align: right;\">-0.0354129  </td><td style=\"text-align: right;\"> 0.0517188 </td><td style=\"text-align: right;\">-0.0276187 </td><td style=\"text-align: right;\">-0.105416  </td><td style=\"text-align: right;\">-0.0362873</td><td style=\"text-align: right;\">-0.115708  </td><td style=\"text-align: right;\">-0.0797002</td><td style=\"text-align: right;\">0.313584 </td><td style=\"text-align: right;\">-0.0287578 </td><td style=\"text-align: right;\"> 0.0409128 </td><td style=\"text-align: right;\">-0.00901211</td><td style=\"text-align: right;\"> 0.0408454 </td><td style=\"text-align: right;\">-0.0451888 </td><td style=\"text-align: right;\"> 0.142803  </td><td style=\"text-align: right;\">0.0715912</td><td style=\"text-align: right;\"> 0.0209132 </td><td style=\"text-align: right;\">-0.010267  </td><td style=\"text-align: right;\">-0.0323713</td><td style=\"text-align: right;\"> 0.0995998 </td><td style=\"text-align: right;\"> 0.0199908 </td><td style=\"text-align: right;\"> 0.117692 </td><td style=\"text-align: right;\"> 0.0346911</td><td style=\"text-align: right;\">-0.0554861</td><td style=\"text-align: right;\"> 0.103402  </td><td style=\"text-align: right;\">-0.208461  </td><td style=\"text-align: right;\">-0.0266425  </td><td style=\"text-align: right;\"> 0.0244242 </td><td style=\"text-align: right;\">-0.0600746 </td><td style=\"text-align: right;\"> 0.142882  </td><td style=\"text-align: right;\">-0.208473  </td><td style=\"text-align: right;\"> 0.0962739 </td><td style=\"text-align: right;\">-0.261481  </td><td style=\"text-align: right;\"> 0.13466  </td><td style=\"text-align: right;\">0.234059  </td><td style=\"text-align: right;\"> 0.209774 </td><td style=\"text-align: right;\">-0.150788  </td><td style=\"text-align: right;\"> 0.0115012 </td><td style=\"text-align: right;\"> 0.128659  </td><td style=\"text-align: right;\"> 0.0740918 </td></tr>\n",
       "<tr><td style=\"text-align: right;\">0.0152418</td><td style=\"text-align: right;\">-0.0477421 </td><td style=\"text-align: right;\">-0.161118  </td><td style=\"text-align: right;\">0.0650735</td><td style=\"text-align: right;\">-0.0497184</td><td style=\"text-align: right;\"> 0.023348  </td><td style=\"text-align: right;\">-0.101414 </td><td style=\"text-align: right;\">-0.0958159</td><td style=\"text-align: right;\">-0.0616551 </td><td style=\"text-align: right;\">0.223717</td><td style=\"text-align: right;\"> 0.114022 </td><td style=\"text-align: right;\"> 0.0476815  </td><td style=\"text-align: right;\"> 0.214915 </td><td style=\"text-align: right;\">-0.0205043</td><td style=\"text-align: right;\">-0.0594195 </td><td style=\"text-align: right;\">-0.0262724 </td><td style=\"text-align: right;\">-0.00600385</td><td style=\"text-align: right;\"> 0.0221081  </td><td style=\"text-align: right;\"> 0.194036  </td><td style=\"text-align: right;\"> 0.104962  </td><td style=\"text-align: right;\">-0.137779  </td><td style=\"text-align: right;\"> 0.0241415</td><td style=\"text-align: right;\">-0.0132682 </td><td style=\"text-align: right;\"> 0.12502  </td><td style=\"text-align: right;\">0.0958837</td><td style=\"text-align: right;\"> 0.155345  </td><td style=\"text-align: right;\"> 0.00861288</td><td style=\"text-align: right;\">-0.00385618</td><td style=\"text-align: right;\"> 0.0342108 </td><td style=\"text-align: right;\"> 0.10471   </td><td style=\"text-align: right;\">-0.0438267 </td><td style=\"text-align: right;\">-0.185847 </td><td style=\"text-align: right;\">-0.167753 </td><td style=\"text-align: right;\"> 0.00270303</td><td style=\"text-align: right;\">-0.122401  </td><td style=\"text-align: right;\">-0.0701614</td><td style=\"text-align: right;\">0.121533 </td><td style=\"text-align: right;\">-0.119471 </td><td style=\"text-align: right;\"> 0.052317  </td><td style=\"text-align: right;\">-0.101646  </td><td style=\"text-align: right;\"> 0.0987822 </td><td style=\"text-align: right;\"> 0.318455 </td><td style=\"text-align: right;\">-0.0269907</td><td style=\"text-align: right;\"> 0.124054  </td><td style=\"text-align: right;\">-0.172217 </td><td style=\"text-align: right;\">-0.096311   </td><td style=\"text-align: right;\"> 0.010542   </td><td style=\"text-align: right;\"> 0.0685987 </td><td style=\"text-align: right;\"> 0.0299967</td><td style=\"text-align: right;\"> 0.0595215 </td><td style=\"text-align: right;\">-0.0902992 </td><td style=\"text-align: right;\">-0.0150171 </td><td style=\"text-align: right;\">-0.214468 </td><td style=\"text-align: right;\"> 0.202918  </td><td style=\"text-align: right;\">0.230075  </td><td style=\"text-align: right;\">-0.0560139 </td><td style=\"text-align: right;\">-0.134334 </td><td style=\"text-align: right;\"> 0.215259 </td><td style=\"text-align: right;\">-0.121703 </td><td style=\"text-align: right;\"> 0.0290328 </td><td style=\"text-align: right;\"> 0.0508876 </td><td style=\"text-align: right;\"> 0.0454785  </td><td style=\"text-align: right;\">-0.00651979</td><td style=\"text-align: right;\">-0.0441355 </td><td style=\"text-align: right;\">-0.185974  </td><td style=\"text-align: right;\"> 0.0506499</td><td style=\"text-align: right;\">-0.0510049 </td><td style=\"text-align: right;\">-0.0272558</td><td style=\"text-align: right;\">0.248512 </td><td style=\"text-align: right;\">-0.0403981 </td><td style=\"text-align: right;\"> 0.282164  </td><td style=\"text-align: right;\"> 0.027401  </td><td style=\"text-align: right;\">-0.0914265 </td><td style=\"text-align: right;\"> 9.0193e-05</td><td style=\"text-align: right;\"> 0.117559  </td><td style=\"text-align: right;\">0.16598  </td><td style=\"text-align: right;\"> 0.0554875 </td><td style=\"text-align: right;\"> 0.0550328 </td><td style=\"text-align: right;\">-0.011189 </td><td style=\"text-align: right;\"> 0.150068  </td><td style=\"text-align: right;\"> 0.0714693 </td><td style=\"text-align: right;\">-0.0298109</td><td style=\"text-align: right;\">-0.0696113</td><td style=\"text-align: right;\"> 0.064817 </td><td style=\"text-align: right;\"> 0.0015566 </td><td style=\"text-align: right;\">-0.0220066 </td><td style=\"text-align: right;\">-0.127782   </td><td style=\"text-align: right;\">-0.0673719 </td><td style=\"text-align: right;\">-0.0525359 </td><td style=\"text-align: right;\">-0.0412928 </td><td style=\"text-align: right;\"> 0.0485022 </td><td style=\"text-align: right;\"> 0.00806911</td><td style=\"text-align: right;\"> 0.00584347</td><td style=\"text-align: right;\">-0.086328 </td><td style=\"text-align: right;\">0.0956301 </td><td style=\"text-align: right;\">-0.0577688</td><td style=\"text-align: right;\"> 0.100057  </td><td style=\"text-align: right;\">-0.262971  </td><td style=\"text-align: right;\"> 0.0561145 </td><td style=\"text-align: right;\"> 0.316062  </td></tr>\n",
       "<tr><td style=\"text-align: right;\">0.0100395</td><td style=\"text-align: right;\">-0.0356235 </td><td style=\"text-align: right;\">-0.0430991 </td><td style=\"text-align: right;\">0.0547933</td><td style=\"text-align: right;\"> 0.0619016</td><td style=\"text-align: right;\"> 0.015293  </td><td style=\"text-align: right;\"> 0.04401  </td><td style=\"text-align: right;\">-0.106289 </td><td style=\"text-align: right;\">-0.0679132 </td><td style=\"text-align: right;\">0.128373</td><td style=\"text-align: right;\">-0.0665884</td><td style=\"text-align: right;\"> 0.120186   </td><td style=\"text-align: right;\"> 0.0379772</td><td style=\"text-align: right;\">-0.0940938</td><td style=\"text-align: right;\">-0.0985036 </td><td style=\"text-align: right;\">-0.120493  </td><td style=\"text-align: right;\">-0.0212786 </td><td style=\"text-align: right;\"> 0.173424   </td><td style=\"text-align: right;\"> 0.00381422</td><td style=\"text-align: right;\"> 0.118061  </td><td style=\"text-align: right;\">-0.00500362</td><td style=\"text-align: right;\"> 0.0983358</td><td style=\"text-align: right;\">-0.0635463 </td><td style=\"text-align: right;\"> 0.201626 </td><td style=\"text-align: right;\">0.0737808</td><td style=\"text-align: right;\"> 0.104446  </td><td style=\"text-align: right;\"> 0.0247688 </td><td style=\"text-align: right;\">-0.102294  </td><td style=\"text-align: right;\">-0.00888607</td><td style=\"text-align: right;\"> 0.0148621 </td><td style=\"text-align: right;\">-0.0216922 </td><td style=\"text-align: right;\">-0.124914 </td><td style=\"text-align: right;\">-0.100998 </td><td style=\"text-align: right;\"> 0.0234902 </td><td style=\"text-align: right;\">-0.0554026 </td><td style=\"text-align: right;\">-0.100969 </td><td style=\"text-align: right;\">0.0998846</td><td style=\"text-align: right;\">-0.190427 </td><td style=\"text-align: right;\"> 0.0113328 </td><td style=\"text-align: right;\">-0.0153427 </td><td style=\"text-align: right;\">-0.0174202 </td><td style=\"text-align: right;\"> 0.176371 </td><td style=\"text-align: right;\"> 0.0285064</td><td style=\"text-align: right;\"> 0.0763835 </td><td style=\"text-align: right;\">-0.0970911</td><td style=\"text-align: right;\"> 0.160859   </td><td style=\"text-align: right;\">-0.0578102  </td><td style=\"text-align: right;\"> 0.0490236 </td><td style=\"text-align: right;\"> 0.192617 </td><td style=\"text-align: right;\"> 0.0511632 </td><td style=\"text-align: right;\">-0.025006  </td><td style=\"text-align: right;\"> 0.00481041</td><td style=\"text-align: right;\">-0.18296  </td><td style=\"text-align: right;\">-0.0269244 </td><td style=\"text-align: right;\">0.1025    </td><td style=\"text-align: right;\">-0.0993055 </td><td style=\"text-align: right;\">-0.0234806</td><td style=\"text-align: right;\"> 0.0978557</td><td style=\"text-align: right;\">-0.168283 </td><td style=\"text-align: right;\"> 0.124997  </td><td style=\"text-align: right;\">-0.00456348</td><td style=\"text-align: right;\"> 0.130828   </td><td style=\"text-align: right;\">-0.0255706 </td><td style=\"text-align: right;\"> 0.0697136 </td><td style=\"text-align: right;\"> 0.0222774 </td><td style=\"text-align: right;\">-0.0344037</td><td style=\"text-align: right;\">-0.147016  </td><td style=\"text-align: right;\"> 0.0149902</td><td style=\"text-align: right;\">0.274459 </td><td style=\"text-align: right;\">-0.147602  </td><td style=\"text-align: right;\"> 0.177475  </td><td style=\"text-align: right;\">-0.00356639</td><td style=\"text-align: right;\">-0.110909  </td><td style=\"text-align: right;\"> 0.0790247 </td><td style=\"text-align: right;\">-0.0628235 </td><td style=\"text-align: right;\">0.232712 </td><td style=\"text-align: right;\"> 0.0127107 </td><td style=\"text-align: right;\">-0.0322669 </td><td style=\"text-align: right;\">-0.0915878</td><td style=\"text-align: right;\">-0.0380175 </td><td style=\"text-align: right;\">-0.0834665 </td><td style=\"text-align: right;\">-0.11485  </td><td style=\"text-align: right;\"> 0.0466104</td><td style=\"text-align: right;\">-0.0498674</td><td style=\"text-align: right;\">-0.0546018 </td><td style=\"text-align: right;\">-0.0610058 </td><td style=\"text-align: right;\"> 0.000117989</td><td style=\"text-align: right;\"> 0.11914   </td><td style=\"text-align: right;\">-0.149171  </td><td style=\"text-align: right;\">-0.0643414 </td><td style=\"text-align: right;\"> 0.0281721 </td><td style=\"text-align: right;\">-0.0422824 </td><td style=\"text-align: right;\">-0.126059  </td><td style=\"text-align: right;\"> 0.0844462</td><td style=\"text-align: right;\">0.033011  </td><td style=\"text-align: right;\"> 0.229003 </td><td style=\"text-align: right;\"> 0.0259808 </td><td style=\"text-align: right;\">-0.0711228 </td><td style=\"text-align: right;\">-0.0325737 </td><td style=\"text-align: right;\"> 0.0908119 </td></tr>\n",
       "<tr><td style=\"text-align: right;\">0.189421 </td><td style=\"text-align: right;\"> 0.0568893 </td><td style=\"text-align: right;\"> 0.0519692 </td><td style=\"text-align: right;\">0.0751124</td><td style=\"text-align: right;\"> 0.0805316</td><td style=\"text-align: right;\">-0.0395437 </td><td style=\"text-align: right;\">-0.0736691</td><td style=\"text-align: right;\">-0.354535 </td><td style=\"text-align: right;\">-0.137229  </td><td style=\"text-align: right;\">0.297907</td><td style=\"text-align: right;\">-0.0431407</td><td style=\"text-align: right;\"> 8.40802e-05</td><td style=\"text-align: right;\"> 0.0209829</td><td style=\"text-align: right;\">-0.0543896</td><td style=\"text-align: right;\"> 0.0572013 </td><td style=\"text-align: right;\">-0.00952968</td><td style=\"text-align: right;\">-0.129114  </td><td style=\"text-align: right;\"> 0.0444085  </td><td style=\"text-align: right;\"> 0.0919815 </td><td style=\"text-align: right;\"> 0.0460224 </td><td style=\"text-align: right;\"> 0.0451173 </td><td style=\"text-align: right;\"> 0.0185994</td><td style=\"text-align: right;\">-0.00638908</td><td style=\"text-align: right;\"> 0.113768 </td><td style=\"text-align: right;\">0.140591 </td><td style=\"text-align: right;\"> 0.0194654 </td><td style=\"text-align: right;\"> 0.0198891 </td><td style=\"text-align: right;\">-0.0795412 </td><td style=\"text-align: right;\"> 0.0216861 </td><td style=\"text-align: right;\"> 0.00138979</td><td style=\"text-align: right;\"> 0.0214087 </td><td style=\"text-align: right;\">-0.128538 </td><td style=\"text-align: right;\">-0.0858515</td><td style=\"text-align: right;\"> 0.044051  </td><td style=\"text-align: right;\">-0.0228511 </td><td style=\"text-align: right;\">-0.114754 </td><td style=\"text-align: right;\">0.080886 </td><td style=\"text-align: right;\">-0.0207413</td><td style=\"text-align: right;\">-0.131578  </td><td style=\"text-align: right;\">-0.0213986 </td><td style=\"text-align: right;\"> 0.15648   </td><td style=\"text-align: right;\"> 0.0905048</td><td style=\"text-align: right;\">-0.0244774</td><td style=\"text-align: right;\"> 0.0791424 </td><td style=\"text-align: right;\">-0.0515833</td><td style=\"text-align: right;\"> 0.000681755</td><td style=\"text-align: right;\"> 0.0178261  </td><td style=\"text-align: right;\"> 0.0350436 </td><td style=\"text-align: right;\">-0.0478816</td><td style=\"text-align: right;\"> 0.0250665 </td><td style=\"text-align: right;\">-0.0473463 </td><td style=\"text-align: right;\"> 0.0135715 </td><td style=\"text-align: right;\">-0.106288 </td><td style=\"text-align: right;\"> 0.0569987 </td><td style=\"text-align: right;\">0.14414   </td><td style=\"text-align: right;\">-0.122526  </td><td style=\"text-align: right;\">-0.137313 </td><td style=\"text-align: right;\"> 0.0497362</td><td style=\"text-align: right;\">-0.116468 </td><td style=\"text-align: right;\">-0.0493905 </td><td style=\"text-align: right;\">-0.0782143 </td><td style=\"text-align: right;\"> 0.00905648 </td><td style=\"text-align: right;\"> 0.0220887 </td><td style=\"text-align: right;\"> 0.0614008 </td><td style=\"text-align: right;\">-0.120107  </td><td style=\"text-align: right;\">-0.0982074</td><td style=\"text-align: right;\">-0.155182  </td><td style=\"text-align: right;\"> 0.093325 </td><td style=\"text-align: right;\">0.234909 </td><td style=\"text-align: right;\"> 0.053682  </td><td style=\"text-align: right;\"> 0.0866035 </td><td style=\"text-align: right;\">-0.0460786 </td><td style=\"text-align: right;\">-0.0515092 </td><td style=\"text-align: right;\"> 0.0590776 </td><td style=\"text-align: right;\"> 0.142614  </td><td style=\"text-align: right;\">0.024368 </td><td style=\"text-align: right;\"> 0.113406  </td><td style=\"text-align: right;\"> 0.0946121 </td><td style=\"text-align: right;\">-0.1176   </td><td style=\"text-align: right;\"> 0.123613  </td><td style=\"text-align: right;\"> 0.00277106</td><td style=\"text-align: right;\"> 0.0649393</td><td style=\"text-align: right;\"> 0.0460492</td><td style=\"text-align: right;\"> 0.0256472</td><td style=\"text-align: right;\"> 0.00777138</td><td style=\"text-align: right;\">-0.132201  </td><td style=\"text-align: right;\">-0.0413865  </td><td style=\"text-align: right;\"> 0.027599  </td><td style=\"text-align: right;\"> 0.00462455</td><td style=\"text-align: right;\"> 0.0431711 </td><td style=\"text-align: right;\">-0.0769607 </td><td style=\"text-align: right;\">-0.0622784 </td><td style=\"text-align: right;\">-0.167429  </td><td style=\"text-align: right;\">-0.0312705</td><td style=\"text-align: right;\">0.00301834</td><td style=\"text-align: right;\">-0.0204856</td><td style=\"text-align: right;\">-0.0140283 </td><td style=\"text-align: right;\">-0.18017   </td><td style=\"text-align: right;\"> 0.120995  </td><td style=\"text-align: right;\"> 0.0318713 </td></tr>\n",
       "<tr><td style=\"text-align: right;\">0.26925  </td><td style=\"text-align: right;\">-0.0291096 </td><td style=\"text-align: right;\"> 0.00898905</td><td style=\"text-align: right;\">0.0683561</td><td style=\"text-align: right;\">-0.0895068</td><td style=\"text-align: right;\"> 0.0617349 </td><td style=\"text-align: right;\">-0.148597 </td><td style=\"text-align: right;\">-0.0651323</td><td style=\"text-align: right;\"> 0.0997848 </td><td style=\"text-align: right;\">0.255019</td><td style=\"text-align: right;\">-0.0191015</td><td style=\"text-align: right;\">-0.0196748  </td><td style=\"text-align: right;\"> 0.135683 </td><td style=\"text-align: right;\">-0.193861 </td><td style=\"text-align: right;\">-0.0588884 </td><td style=\"text-align: right;\">-0.278324  </td><td style=\"text-align: right;\">-0.234087  </td><td style=\"text-align: right;\"> 0.113442   </td><td style=\"text-align: right;\">-0.0884613 </td><td style=\"text-align: right;\"> 0.0484    </td><td style=\"text-align: right;\">-0.108446  </td><td style=\"text-align: right;\">-0.0315822</td><td style=\"text-align: right;\"> 0.12059   </td><td style=\"text-align: right;\"> 0.225306 </td><td style=\"text-align: right;\">0.0223651</td><td style=\"text-align: right;\"> 0.0704806 </td><td style=\"text-align: right;\"> 0.0520365 </td><td style=\"text-align: right;\">-0.196172  </td><td style=\"text-align: right;\"> 0.0685157 </td><td style=\"text-align: right;\"> 0.102955  </td><td style=\"text-align: right;\"> 0.15686   </td><td style=\"text-align: right;\">-0.0536605</td><td style=\"text-align: right;\">-0.106192 </td><td style=\"text-align: right;\"> 0.179441  </td><td style=\"text-align: right;\">-0.0756378 </td><td style=\"text-align: right;\">-0.203418 </td><td style=\"text-align: right;\">0.0257304</td><td style=\"text-align: right;\">-0.0513068</td><td style=\"text-align: right;\"> 0.0246361 </td><td style=\"text-align: right;\">-0.00695461</td><td style=\"text-align: right;\"> 0.0853922 </td><td style=\"text-align: right;\">-0.035219 </td><td style=\"text-align: right;\">-0.123365 </td><td style=\"text-align: right;\">-0.00679032</td><td style=\"text-align: right;\">-0.182603 </td><td style=\"text-align: right;\">-0.0432593  </td><td style=\"text-align: right;\">-0.0374678  </td><td style=\"text-align: right;\"> 0.0302368 </td><td style=\"text-align: right;\"> 0.189849 </td><td style=\"text-align: right;\"> 0.0478613 </td><td style=\"text-align: right;\">-0.119234  </td><td style=\"text-align: right;\"> 0.00729842</td><td style=\"text-align: right;\">-0.164787 </td><td style=\"text-align: right;\"> 0.0367054 </td><td style=\"text-align: right;\">0.111116  </td><td style=\"text-align: right;\">-0.216941  </td><td style=\"text-align: right;\"> 0.0066918</td><td style=\"text-align: right;\"> 0.1445   </td><td style=\"text-align: right;\">-0.131691 </td><td style=\"text-align: right;\"> 0.138554  </td><td style=\"text-align: right;\"> 0.020688  </td><td style=\"text-align: right;\"> 0.0336813  </td><td style=\"text-align: right;\"> 0.100609  </td><td style=\"text-align: right;\">-0.00780542</td><td style=\"text-align: right;\"> 0.00207974</td><td style=\"text-align: right;\">-0.0226388</td><td style=\"text-align: right;\">-0.087835  </td><td style=\"text-align: right;\"> 0.1703   </td><td style=\"text-align: right;\">0.0442154</td><td style=\"text-align: right;\">-0.0640421 </td><td style=\"text-align: right;\"> 0.0433632 </td><td style=\"text-align: right;\"> 0.210024  </td><td style=\"text-align: right;\">-0.168047  </td><td style=\"text-align: right;\"> 0.214406  </td><td style=\"text-align: right;\"> 0.0510343 </td><td style=\"text-align: right;\">0.226141 </td><td style=\"text-align: right;\">-0.027779  </td><td style=\"text-align: right;\"> 0.0485377 </td><td style=\"text-align: right;\">-0.0591956</td><td style=\"text-align: right;\"> 0.040573  </td><td style=\"text-align: right;\">-0.0407739 </td><td style=\"text-align: right;\">-0.0206967</td><td style=\"text-align: right;\"> 0.0289209</td><td style=\"text-align: right;\"> 0.0364019</td><td style=\"text-align: right;\"> 0.0392358 </td><td style=\"text-align: right;\">-0.372779  </td><td style=\"text-align: right;\">-0.0923925  </td><td style=\"text-align: right;\"> 0.130096  </td><td style=\"text-align: right;\">-0.14254   </td><td style=\"text-align: right;\"> 0.0840286 </td><td style=\"text-align: right;\">-0.067696  </td><td style=\"text-align: right;\"> 0.130584  </td><td style=\"text-align: right;\">-0.210438  </td><td style=\"text-align: right;\">-0.021256 </td><td style=\"text-align: right;\">0.111087  </td><td style=\"text-align: right;\">-0.07588  </td><td style=\"text-align: right;\">-0.119261  </td><td style=\"text-align: right;\"> 0.00539912</td><td style=\"text-align: right;\"> 0.00945107</td><td style=\"text-align: right;\">-0.00116618</td></tr>\n",
       "<tr><td style=\"text-align: right;\">0.212166 </td><td style=\"text-align: right;\"> 0.00717973</td><td style=\"text-align: right;\">-0.00182394</td><td style=\"text-align: right;\">0.0841875</td><td style=\"text-align: right;\"> 0.0798494</td><td style=\"text-align: right;\">-0.0170712 </td><td style=\"text-align: right;\">-0.104249 </td><td style=\"text-align: right;\">-0.280208 </td><td style=\"text-align: right;\">-0.0219148 </td><td style=\"text-align: right;\">0.123044</td><td style=\"text-align: right;\"> 0.117723 </td><td style=\"text-align: right;\"> 0.00414157 </td><td style=\"text-align: right;\"> 0.0427634</td><td style=\"text-align: right;\"> 0.0216722</td><td style=\"text-align: right;\">-0.0610231 </td><td style=\"text-align: right;\">-0.16094   </td><td style=\"text-align: right;\"> 0.0118828 </td><td style=\"text-align: right;\"> 0.0178688  </td><td style=\"text-align: right;\"> 0.115023  </td><td style=\"text-align: right;\"> 0.0212949 </td><td style=\"text-align: right;\">-0.00804736</td><td style=\"text-align: right;\"> 0.0873447</td><td style=\"text-align: right;\"> 0.0552611 </td><td style=\"text-align: right;\"> 0.216696 </td><td style=\"text-align: right;\">0.18387  </td><td style=\"text-align: right;\">-0.00799856</td><td style=\"text-align: right;\"> 0.12192   </td><td style=\"text-align: right;\">-0.153467  </td><td style=\"text-align: right;\"> 0.0730417 </td><td style=\"text-align: right;\"> 0.0366518 </td><td style=\"text-align: right;\"> 0.220931  </td><td style=\"text-align: right;\">-0.13706  </td><td style=\"text-align: right;\"> 0.0545376</td><td style=\"text-align: right;\"> 0.230457  </td><td style=\"text-align: right;\">-0.081551  </td><td style=\"text-align: right;\">-0.231607 </td><td style=\"text-align: right;\">0.127799 </td><td style=\"text-align: right;\"> 0.0420162</td><td style=\"text-align: right;\"> 0.0333398 </td><td style=\"text-align: right;\">-0.0788645 </td><td style=\"text-align: right;\"> 0.0104712 </td><td style=\"text-align: right;\"> 0.0405218</td><td style=\"text-align: right;\">-0.014653 </td><td style=\"text-align: right;\"> 0.0637801 </td><td style=\"text-align: right;\">-0.168565 </td><td style=\"text-align: right;\"> 0.0286279  </td><td style=\"text-align: right;\"> 0.0903899  </td><td style=\"text-align: right;\">-0.0323758 </td><td style=\"text-align: right;\"> 0.0232185</td><td style=\"text-align: right;\"> 0.00295618</td><td style=\"text-align: right;\">-0.113917  </td><td style=\"text-align: right;\"> 0.163188  </td><td style=\"text-align: right;\">-0.212742 </td><td style=\"text-align: right;\"> 0.05258   </td><td style=\"text-align: right;\">0.0882137 </td><td style=\"text-align: right;\">-0.0525269 </td><td style=\"text-align: right;\">-0.0468573</td><td style=\"text-align: right;\"> 0.115118 </td><td style=\"text-align: right;\">-0.195093 </td><td style=\"text-align: right;\">-0.00767626</td><td style=\"text-align: right;\">-0.1141    </td><td style=\"text-align: right;\">-0.000112027</td><td style=\"text-align: right;\"> 0.0699733 </td><td style=\"text-align: right;\">-0.0268481 </td><td style=\"text-align: right;\">-0.0381039 </td><td style=\"text-align: right;\"> 0.006129 </td><td style=\"text-align: right;\">-0.130511  </td><td style=\"text-align: right;\"> 0.179799 </td><td style=\"text-align: right;\">0.283333 </td><td style=\"text-align: right;\"> 0.0973866 </td><td style=\"text-align: right;\"> 0.178318  </td><td style=\"text-align: right;\"> 0.00870548</td><td style=\"text-align: right;\"> 0.0847674 </td><td style=\"text-align: right;\"> 0.109628  </td><td style=\"text-align: right;\">-0.0347464 </td><td style=\"text-align: right;\">0.143604 </td><td style=\"text-align: right;\"> 0.00383393</td><td style=\"text-align: right;\"> 0.0715129 </td><td style=\"text-align: right;\">-0.114208 </td><td style=\"text-align: right;\"> 0.0806783 </td><td style=\"text-align: right;\">-0.154123  </td><td style=\"text-align: right;\">-0.0600437</td><td style=\"text-align: right;\">-0.0566112</td><td style=\"text-align: right;\"> 0.0123837</td><td style=\"text-align: right;\">-0.088411  </td><td style=\"text-align: right;\">-0.152296  </td><td style=\"text-align: right;\">-0.096897   </td><td style=\"text-align: right;\"> 0.104882  </td><td style=\"text-align: right;\">-0.00345329</td><td style=\"text-align: right;\"> 0.0661075 </td><td style=\"text-align: right;\">-0.214879  </td><td style=\"text-align: right;\"> 0.0432739 </td><td style=\"text-align: right;\">-0.151935  </td><td style=\"text-align: right;\"> 0.0468367</td><td style=\"text-align: right;\">0.0439867 </td><td style=\"text-align: right;\"> 0.120876 </td><td style=\"text-align: right;\">-0.09565   </td><td style=\"text-align: right;\">-0.0639525 </td><td style=\"text-align: right;\"> 0.13343   </td><td style=\"text-align: right;\"> 0.113721  </td></tr>\n",
       "</tbody>\n",
       "</table>"
      ]
     },
     "metadata": {},
     "output_type": "display_data"
    },
    {
     "name": "stdout",
     "output_type": "stream",
     "text": [
      "\n"
     ]
    }
   ],
   "source": [
    "print(\"Calculate a vector for each tweet\")\n",
    "tweet_vecs = w2v_model.transform(words, aggregate_method = \"AVERAGE\")\n",
    "print(tweet_vecs)"
   ]
  },
  {
   "cell_type": "code",
   "execution_count": 8,
   "metadata": {},
   "outputs": [
    {
     "name": "stdout",
     "output_type": "stream",
     "text": [
      "          C1     C2     C3     C4     C5     C6     C7     C8     C9    C10  \\\n",
      "0      False  False  False  False  False  False  False  False  False  False   \n",
      "1      False  False  False  False  False  False  False  False  False  False   \n",
      "2      False  False  False  False  False  False  False  False  False  False   \n",
      "3      False  False  False  False  False  False  False  False  False  False   \n",
      "4      False  False  False  False  False  False  False  False  False  False   \n",
      "5      False  False  False  False  False  False  False  False  False  False   \n",
      "6      False  False  False  False  False  False  False  False  False  False   \n",
      "7      False  False  False  False  False  False  False  False  False  False   \n",
      "8      False  False  False  False  False  False  False  False  False  False   \n",
      "9      False  False  False  False  False  False  False  False  False  False   \n",
      "10     False  False  False  False  False  False  False  False  False  False   \n",
      "11     False  False  False  False  False  False  False  False  False  False   \n",
      "12     False  False  False  False  False  False  False  False  False  False   \n",
      "13     False  False  False  False  False  False  False  False  False  False   \n",
      "14     False  False  False  False  False  False  False  False  False  False   \n",
      "15     False  False  False  False  False  False  False  False  False  False   \n",
      "16     False  False  False  False  False  False  False  False  False  False   \n",
      "17     False  False  False  False  False  False  False  False  False  False   \n",
      "18     False  False  False  False  False  False  False  False  False  False   \n",
      "19     False  False  False  False  False  False  False  False  False  False   \n",
      "20     False  False  False  False  False  False  False  False  False  False   \n",
      "21     False  False  False  False  False  False  False  False  False  False   \n",
      "22     False  False  False  False  False  False  False  False  False  False   \n",
      "23     False  False  False  False  False  False  False  False  False  False   \n",
      "24     False  False  False  False  False  False  False  False  False  False   \n",
      "25     False  False  False  False  False  False  False  False  False  False   \n",
      "26     False  False  False  False  False  False  False  False  False  False   \n",
      "27     False  False  False  False  False  False  False  False  False  False   \n",
      "28     False  False  False  False  False  False  False  False  False  False   \n",
      "29     False  False  False  False  False  False  False  False  False  False   \n",
      "...      ...    ...    ...    ...    ...    ...    ...    ...    ...    ...   \n",
      "19778  False  False  False  False  False  False  False  False  False  False   \n",
      "19779  False  False  False  False  False  False  False  False  False  False   \n",
      "19780  False  False  False  False  False  False  False  False  False  False   \n",
      "19781  False  False  False  False  False  False  False  False  False  False   \n",
      "19782  False  False  False  False  False  False  False  False  False  False   \n",
      "19783  False  False  False  False  False  False  False  False  False  False   \n",
      "19784  False  False  False  False  False  False  False  False  False  False   \n",
      "19785  False  False  False  False  False  False  False  False  False  False   \n",
      "19786  False  False  False  False  False  False  False  False  False  False   \n",
      "19787  False  False  False  False  False  False  False  False  False  False   \n",
      "19788  False  False  False  False  False  False  False  False  False  False   \n",
      "19789  False  False  False  False  False  False  False  False  False  False   \n",
      "19790  False  False  False  False  False  False  False  False  False  False   \n",
      "19791  False  False  False  False  False  False  False  False  False  False   \n",
      "19792  False  False  False  False  False  False  False  False  False  False   \n",
      "19793  False  False  False  False  False  False  False  False  False  False   \n",
      "19794  False  False  False  False  False  False  False  False  False  False   \n",
      "19795  False  False  False  False  False  False  False  False  False  False   \n",
      "19796  False  False  False  False  False  False  False  False  False  False   \n",
      "19797  False  False  False  False  False  False  False  False  False  False   \n",
      "19798  False  False  False  False  False  False  False  False  False  False   \n",
      "19799  False  False  False  False  False  False  False  False  False  False   \n",
      "19800  False  False  False  False  False  False  False  False  False  False   \n",
      "19801  False  False  False  False  False  False  False  False  False  False   \n",
      "19802  False  False  False  False  False  False  False  False  False  False   \n",
      "19803  False  False  False  False  False  False  False  False  False  False   \n",
      "19804  False  False  False  False  False  False  False  False  False  False   \n",
      "19805  False  False  False  False  False  False  False  False  False  False   \n",
      "19806  False  False  False  False  False  False  False  False  False  False   \n",
      "19807  False  False  False  False  False  False  False  False  False  False   \n",
      "\n",
      "       ...    C91    C92    C93    C94    C95    C96    C97    C98    C99  \\\n",
      "0      ...  False  False  False  False  False  False  False  False  False   \n",
      "1      ...  False  False  False  False  False  False  False  False  False   \n",
      "2      ...  False  False  False  False  False  False  False  False  False   \n",
      "3      ...  False  False  False  False  False  False  False  False  False   \n",
      "4      ...  False  False  False  False  False  False  False  False  False   \n",
      "5      ...  False  False  False  False  False  False  False  False  False   \n",
      "6      ...  False  False  False  False  False  False  False  False  False   \n",
      "7      ...  False  False  False  False  False  False  False  False  False   \n",
      "8      ...  False  False  False  False  False  False  False  False  False   \n",
      "9      ...  False  False  False  False  False  False  False  False  False   \n",
      "10     ...  False  False  False  False  False  False  False  False  False   \n",
      "11     ...  False  False  False  False  False  False  False  False  False   \n",
      "12     ...  False  False  False  False  False  False  False  False  False   \n",
      "13     ...  False  False  False  False  False  False  False  False  False   \n",
      "14     ...  False  False  False  False  False  False  False  False  False   \n",
      "15     ...  False  False  False  False  False  False  False  False  False   \n",
      "16     ...  False  False  False  False  False  False  False  False  False   \n",
      "17     ...  False  False  False  False  False  False  False  False  False   \n",
      "18     ...  False  False  False  False  False  False  False  False  False   \n",
      "19     ...  False  False  False  False  False  False  False  False  False   \n",
      "20     ...  False  False  False  False  False  False  False  False  False   \n",
      "21     ...  False  False  False  False  False  False  False  False  False   \n",
      "22     ...  False  False  False  False  False  False  False  False  False   \n",
      "23     ...  False  False  False  False  False  False  False  False  False   \n",
      "24     ...  False  False  False  False  False  False  False  False  False   \n",
      "25     ...  False  False  False  False  False  False  False  False  False   \n",
      "26     ...  False  False  False  False  False  False  False  False  False   \n",
      "27     ...  False  False  False  False  False  False  False  False  False   \n",
      "28     ...  False  False  False  False  False  False  False  False  False   \n",
      "29     ...  False  False  False  False  False  False  False  False  False   \n",
      "...    ...    ...    ...    ...    ...    ...    ...    ...    ...    ...   \n",
      "19778  ...  False  False  False  False  False  False  False  False  False   \n",
      "19779  ...  False  False  False  False  False  False  False  False  False   \n",
      "19780  ...  False  False  False  False  False  False  False  False  False   \n",
      "19781  ...  False  False  False  False  False  False  False  False  False   \n",
      "19782  ...  False  False  False  False  False  False  False  False  False   \n",
      "19783  ...  False  False  False  False  False  False  False  False  False   \n",
      "19784  ...  False  False  False  False  False  False  False  False  False   \n",
      "19785  ...  False  False  False  False  False  False  False  False  False   \n",
      "19786  ...  False  False  False  False  False  False  False  False  False   \n",
      "19787  ...  False  False  False  False  False  False  False  False  False   \n",
      "19788  ...  False  False  False  False  False  False  False  False  False   \n",
      "19789  ...  False  False  False  False  False  False  False  False  False   \n",
      "19790  ...  False  False  False  False  False  False  False  False  False   \n",
      "19791  ...  False  False  False  False  False  False  False  False  False   \n",
      "19792  ...  False  False  False  False  False  False  False  False  False   \n",
      "19793  ...  False  False  False  False  False  False  False  False  False   \n",
      "19794  ...  False  False  False  False  False  False  False  False  False   \n",
      "19795  ...  False  False  False  False  False  False  False  False  False   \n",
      "19796  ...  False  False  False  False  False  False  False  False  False   \n",
      "19797  ...  False  False  False  False  False  False  False  False  False   \n",
      "19798  ...  False  False  False  False  False  False  False  False  False   \n",
      "19799  ...  False  False  False  False  False  False  False  False  False   \n",
      "19800  ...  False  False  False  False  False  False  False  False  False   \n",
      "19801  ...  False  False  False  False  False  False  False  False  False   \n",
      "19802  ...  False  False  False  False  False  False  False  False  False   \n",
      "19803  ...  False  False  False  False  False  False  False  False  False   \n",
      "19804  ...  False  False  False  False  False  False  False  False  False   \n",
      "19805  ...  False  False  False  False  False  False  False  False  False   \n",
      "19806  ...  False  False  False  False  False  False  False  False  False   \n",
      "19807  ...  False  False  False  False  False  False  False  False  False   \n",
      "\n",
      "        C100  \n",
      "0      False  \n",
      "1      False  \n",
      "2      False  \n",
      "3      False  \n",
      "4      False  \n",
      "5      False  \n",
      "6      False  \n",
      "7      False  \n",
      "8      False  \n",
      "9      False  \n",
      "10     False  \n",
      "11     False  \n",
      "12     False  \n",
      "13     False  \n",
      "14     False  \n",
      "15     False  \n",
      "16     False  \n",
      "17     False  \n",
      "18     False  \n",
      "19     False  \n",
      "20     False  \n",
      "21     False  \n",
      "22     False  \n",
      "23     False  \n",
      "24     False  \n",
      "25     False  \n",
      "26     False  \n",
      "27     False  \n",
      "28     False  \n",
      "29     False  \n",
      "...      ...  \n",
      "19778  False  \n",
      "19779  False  \n",
      "19780  False  \n",
      "19781  False  \n",
      "19782  False  \n",
      "19783  False  \n",
      "19784  False  \n",
      "19785  False  \n",
      "19786  False  \n",
      "19787  False  \n",
      "19788  False  \n",
      "19789  False  \n",
      "19790  False  \n",
      "19791  False  \n",
      "19792  False  \n",
      "19793  False  \n",
      "19794  False  \n",
      "19795  False  \n",
      "19796  False  \n",
      "19797  False  \n",
      "19798  False  \n",
      "19799  False  \n",
      "19800  False  \n",
      "19801  False  \n",
      "19802  False  \n",
      "19803  False  \n",
      "19804  False  \n",
      "19805  False  \n",
      "19806  False  \n",
      "19807  False  \n",
      "\n"
     ]
    },
    {
     "name": "stdout",
     "output_type": "stream",
     "text": [
      "[19808 rows x 100 columns]\n"
     ]
    }
   ],
   "source": [
    "tweets_pd = tweet_vecs.as_data_frame()\n",
    "print(tweets_pd.isna())"
   ]
  },
  {
   "cell_type": "code",
   "execution_count": 9,
   "metadata": {},
   "outputs": [
    {
     "name": "stdout",
     "output_type": "stream",
     "text": [
      "      C1  C2  C3  C4  C5  C6  C7  C8  C9  C10  ...  C91  C92  C93  C94  C95  \\\n",
      "1922 NaN NaN NaN NaN NaN NaN NaN NaN NaN  NaN  ...  NaN  NaN  NaN  NaN  NaN   \n",
      "3701 NaN NaN NaN NaN NaN NaN NaN NaN NaN  NaN  ...  NaN  NaN  NaN  NaN  NaN   \n",
      "4166 NaN NaN NaN NaN NaN NaN NaN NaN NaN  NaN  ...  NaN  NaN  NaN  NaN  NaN   \n",
      "4550 NaN NaN NaN NaN NaN NaN NaN NaN NaN  NaN  ...  NaN  NaN  NaN  NaN  NaN   \n",
      "5570 NaN NaN NaN NaN NaN NaN NaN NaN NaN  NaN  ...  NaN  NaN  NaN  NaN  NaN   \n",
      "\n",
      "      C96  C97  C98  C99  C100  \n",
      "1922  NaN  NaN  NaN  NaN   NaN  \n",
      "3701  NaN  NaN  NaN  NaN   NaN  \n",
      "4166  NaN  NaN  NaN  NaN   NaN  \n",
      "4550  NaN  NaN  NaN  NaN   NaN  \n",
      "5570  NaN  NaN  NaN  NaN   NaN  \n",
      "\n",
      "[5 rows x 100 columns]\n"
     ]
    }
   ],
   "source": [
    "print(tweets_pd[tweets_pd.isna().any(axis=1)][tweets_pd.columns].head())"
   ]
  },
  {
   "cell_type": "code",
   "execution_count": 10,
   "metadata": {},
   "outputs": [
    {
     "name": "stdout",
     "output_type": "stream",
     "text": [
      "Writing H2O logs to ./h2ologs_20190715_100011.zip\n"
     ]
    },
    {
     "data": {
      "text/plain": [
       "'./h2ologs_20190715_100011.zip'"
      ]
     },
     "execution_count": 10,
     "metadata": {},
     "output_type": "execute_result"
    }
   ],
   "source": [
    "h2o.download_all_logs()"
   ]
  }
 ],
 "metadata": {
  "kernelspec": {
   "display_name": "Python 3",
   "language": "python",
   "name": "python3"
  },
  "language_info": {
   "codemirror_mode": {
    "name": "ipython",
    "version": 3
   },
   "file_extension": ".py",
   "mimetype": "text/x-python",
   "name": "python",
   "nbconvert_exporter": "python",
   "pygments_lexer": "ipython3",
   "version": "3.7.1"
  }
 },
 "nbformat": 4,
 "nbformat_minor": 2
}
