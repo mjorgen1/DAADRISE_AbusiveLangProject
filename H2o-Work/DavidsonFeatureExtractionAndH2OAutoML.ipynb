{
 "cells": [
  {
   "cell_type": "code",
   "execution_count": 1,
   "outputs": [],
   "source": [
    "import pandas as pd\n",
    "import numpy as np\n",
    "import nltk\n",
    "from nltk.stem.porter import *\n",
    "from vaderSentiment.vaderSentiment import SentimentIntensityAnalyzer as VS\n",
    "from textstat.textstat import *\n",
    "from sklearn import metrics\n",
    "from sklearn.metrics import classification_report\n",
    "from sklearn.feature_extraction.text import TfidfVectorizer\n",
    "from sklearn.model_selection import train_test_split\n",
    "import matplotlib.pyplot as plt\n",
    "import seaborn\n",
    "%matplotlib inline"
   ],
   "metadata": {
    "collapsed": false,
    "pycharm": {
     "name": "#%%\n",
     "is_executing": false
    }
   }
  },
  {
   "cell_type": "code",
   "execution_count": 2,
   "metadata": {
    "pycharm": {
     "is_executing": false
    }
   },
   "outputs": [],
   "source": [
    "df = pd.read_csv(\"C:/Users/mikec/Documents/davidson/data/labeled_data.csv\")"
   ]
  },
  {
   "cell_type": "code",
   "execution_count": 3,
   "metadata": {
    "pycharm": {
     "is_executing": false
    }
   },
   "outputs": [],
   "source": [
    "tweets=df.tweet"
   ]
  },
  {
   "cell_type": "code",
   "execution_count": 4,
   "metadata": {
    "pycharm": {
     "is_executing": false
    }
   },
   "outputs": [],
   "source": [
    "stopwords=stopwords = nltk.corpus.stopwords.words(\"english\")\n",
    "\n",
    "other_exclusions = [\"#ff\", \"ff\", \"rt\"]\n",
    "stopwords.extend(other_exclusions)\n",
    "\n",
    "stemmer = PorterStemmer()\n",
    "\n",
    "def preprocess(text_string):\n",
    "    \"\"\"\n",
    "    Accepts a text string and replaces:\n",
    "    1) urls with URLHERE\n",
    "    2) lots of whitespace with one instance\n",
    "    3) mentions with MENTIONHERE\n",
    "\n",
    "    This allows us to get standardized counts of urls and mentions\n",
    "    Without caring about specific people mentioned\n",
    "    \"\"\"\n",
    "    space_pattern = '\\s+'\n",
    "    giant_url_regex = ('http[s]?://(?:[a-zA-Z]|[0-9]|[$-_@.&+]|'\n",
    "        '[!*\\(\\),]|(?:%[0-9a-fA-F][0-9a-fA-F]))+')\n",
    "    mention_regex = '@[\\w\\-]+'\n",
    "    parsed_text = re.sub(space_pattern, ' ', text_string)\n",
    "    parsed_text = re.sub(giant_url_regex, '', parsed_text)\n",
    "    parsed_text = re.sub(mention_regex, '', parsed_text)\n",
    "    return parsed_text\n",
    "\n",
    "def tokenize(tweet):\n",
    "    \"\"\"Removes punctuation & excess whitespace, sets to lowercase,\n",
    "    and stems tweets. Returns a list of stemmed tokens.\"\"\"\n",
    "    tweet = \" \".join(re.split(\"[^a-zA-Z]+\", tweet.lower())).strip()\n",
    "    tokens = [stemmer.stem(t) for t in tweet.split()]\n",
    "    return tokens\n",
    "\n",
    "def basic_tokenize(tweet):\n",
    "    \"\"\"Same as tokenize but without the stemming\"\"\"\n",
    "    tweet = \" \".join(re.split(\"[^a-zA-Z.,!?]+\", tweet.lower())).strip()\n",
    "    return tweet.split()\n",
    "\n",
    "vectorizer = TfidfVectorizer(\n",
    "    tokenizer=tokenize,\n",
    "    preprocessor=preprocess,\n",
    "    ngram_range=(1, 3),\n",
    "    stop_words=stopwords,\n",
    "    use_idf=True,\n",
    "    smooth_idf=False,\n",
    "    norm=None,\n",
    "    decode_error='replace',\n",
    "    max_features=10000,\n",
    "    min_df=5,\n",
    "    max_df=0.75\n",
    "    )"
   ]
  },
  {
   "cell_type": "code",
   "execution_count": 5,
   "metadata": {
    "pycharm": {
     "is_executing": false
    }
   },
   "outputs": [],
   "source": [
    "import warnings\n",
    "warnings.simplefilter(action='ignore', category=FutureWarning)"
   ]
  },
  {
   "cell_type": "code",
   "execution_count": 6,
   "metadata": {
    "pycharm": {
     "is_executing": false
    }
   },
   "outputs": [
    {
     "name": "stderr",
     "text": [
      "c:\\users\\mikec\\appdata\\local\\programs\\python\\python37\\lib\\site-packages\\sklearn\\feature_extraction\\text.py:300: UserWarning: Your stop_words may be inconsistent with your preprocessing. Tokenizing the stop words generated tokens ['abov', 'ani', 'becaus', 'befor', 'doe', 'dure', 'ha', 'hi', 'onc', 'onli', 'ourselv', 'themselv', 'thi', 'veri', 'wa', 'whi', 'yourselv'] not in stop_words.\n  'stop_words.' % sorted(inconsistent))\n"
     ],
     "output_type": "stream"
    }
   ],
   "source": [
    "#Construct tfidf matrix and get relevant scores\n",
    "tfidf = vectorizer.fit_transform(tweets).toarray()\n",
    "vocab = {v:i for i, v in enumerate(vectorizer.get_feature_names())}\n",
    "idf_vals = vectorizer.idf_\n",
    "idf_dict = {i:idf_vals[i] for i in vocab.values()} #keys are indices; values are IDF scores"
   ]
  },
  {
   "cell_type": "code",
   "execution_count": 7,
   "metadata": {
    "pycharm": {
     "is_executing": false
    }
   },
   "outputs": [],
   "source": [
    "#Get POS tags for tweets and save as a string\n",
    "tweet_tags = []\n",
    "for t in tweets:\n",
    "    tokens = basic_tokenize(preprocess(t))\n",
    "    tags = nltk.pos_tag(tokens)\n",
    "    tag_list = [x[1] for x in tags]\n",
    "    tag_str = \" \".join(tag_list)\n",
    "    tweet_tags.append(tag_str)"
   ]
  },
  {
   "cell_type": "code",
   "execution_count": 8,
   "metadata": {
    "pycharm": {
     "is_executing": false
    }
   },
   "outputs": [],
   "source": [
    "#We can use the TFIDF vectorizer to get a token matrix for the POS tags\n",
    "pos_vectorizer = TfidfVectorizer(\n",
    "    tokenizer=None,\n",
    "    lowercase=False,\n",
    "    preprocessor=None,\n",
    "    ngram_range=(1, 3),\n",
    "    stop_words=None,\n",
    "    use_idf=False,\n",
    "    smooth_idf=False,\n",
    "    norm=None,\n",
    "    decode_error='replace',\n",
    "    max_features=5000,\n",
    "    min_df=5,\n",
    "    max_df=0.75,\n",
    "    )"
   ]
  },
  {
   "cell_type": "code",
   "execution_count": 9,
   "metadata": {
    "pycharm": {
     "is_executing": false
    }
   },
   "outputs": [],
   "source": [
    "#Construct POS TF matrix and get vocab dict\n",
    "pos = pos_vectorizer.fit_transform(pd.Series(tweet_tags)).toarray()\n",
    "pos_vocab = {v:i for i, v in enumerate(pos_vectorizer.get_feature_names())}"
   ]
  },
  {
   "cell_type": "code",
   "execution_count": 10,
   "metadata": {
    "pycharm": {
     "is_executing": false
    }
   },
   "outputs": [],
   "source": [
    "#Now get other features\n",
    "sentiment_analyzer = VS()\n",
    "\n",
    "def count_twitter_objs(text_string):\n",
    "    \"\"\"\n",
    "    Accepts a text string and replaces:\n",
    "    1) urls with URLHERE\n",
    "    2) lots of whitespace with one instance\n",
    "    3) mentions with MENTIONHERE\n",
    "    4) hashtags with HASHTAGHERE\n",
    "\n",
    "    This allows us to get standardized counts of urls and mentions\n",
    "    Without caring about specific people mentioned.\n",
    "    \n",
    "    Returns counts of urls, mentions, and hashtags.\n",
    "    \"\"\"\n",
    "    space_pattern = '\\s+'\n",
    "    giant_url_regex = ('http[s]?://(?:[a-zA-Z]|[0-9]|[$-_@.&+]|'\n",
    "        '[!*\\(\\),]|(?:%[0-9a-fA-F][0-9a-fA-F]))+')\n",
    "    mention_regex = '@[\\w\\-]+'\n",
    "    hashtag_regex = '#[\\w\\-]+'\n",
    "    parsed_text = re.sub(space_pattern, ' ', text_string)\n",
    "    parsed_text = re.sub(giant_url_regex, 'URLHERE', parsed_text)\n",
    "    parsed_text = re.sub(mention_regex, 'MENTIONHERE', parsed_text)\n",
    "    parsed_text = re.sub(hashtag_regex, 'HASHTAGHERE', parsed_text)\n",
    "    return(parsed_text.count('URLHERE'),parsed_text.count('MENTIONHERE'),parsed_text.count('HASHTAGHERE'))\n",
    "\n",
    "def other_features(tweet):\n",
    "    \"\"\"This function takes a string and returns a list of features.\n",
    "    These include Sentiment scores, Text and Readability scores,\n",
    "    as well as Twitter specific features\"\"\"\n",
    "    sentiment = sentiment_analyzer.polarity_scores(tweet)\n",
    "    \n",
    "    words = preprocess(tweet) #Get text only\n",
    "    \n",
    "    syllables = textstat.syllable_count(words)\n",
    "    num_chars = sum(len(w) for w in words)\n",
    "    num_chars_total = len(tweet)\n",
    "    num_terms = len(tweet.split())\n",
    "    num_words = len(words.split())\n",
    "    avg_syl = round(float((syllables+0.001))/float(num_words+0.001),4)\n",
    "    num_unique_terms = len(set(words.split()))\n",
    "    \n",
    "    ###Modified FK grade, where avg words per sentence is just num words/1\n",
    "    FKRA = round(float(0.39 * float(num_words)/1.0) + float(11.8 * avg_syl) - 15.59,1)\n",
    "    ##Modified FRE score, where sentence fixed to 1\n",
    "    FRE = round(206.835 - 1.015*(float(num_words)/1.0) - (84.6*float(avg_syl)),2)\n",
    "    \n",
    "    twitter_objs = count_twitter_objs(tweet)\n",
    "    retweet = 0\n",
    "    if \"rt\" in words:\n",
    "        retweet = 1\n",
    "    features = [FKRA, FRE,syllables, avg_syl, num_chars, num_chars_total, num_terms, num_words,\n",
    "                num_unique_terms, sentiment['neg'], sentiment['pos'], sentiment['neu'], sentiment['compound'],\n",
    "                twitter_objs[2], twitter_objs[1],\n",
    "                twitter_objs[0], retweet]\n",
    "    #features = pandas.DataFrame(features)\n",
    "    return features\n",
    "\n",
    "def get_feature_array(tweets):\n",
    "    feats=[]\n",
    "    for t in tweets:\n",
    "        feats.append(other_features(t))\n",
    "    return np.array(feats)"
   ]
  },
  {
   "cell_type": "code",
   "execution_count": 11,
   "metadata": {
    "pycharm": {
     "is_executing": false
    }
   },
   "outputs": [],
   "source": [
    "other_features_names = [\"FKRA\", \"FRE\",\"num_syllables\", \"avg_syl_per_word\", \"num_chars\", \"num_chars_total\", \\\n",
    "                        \"num_terms\", \"num_words\", \"num_unique_words\", \"vader neg\",\"vader pos\",\"vader neu\", \\\n",
    "                        \"vader compound\", \"num_hashtags\", \"num_mentions\", \"num_urls\", \"is_retweet\"]"
   ]
  },
  {
   "cell_type": "code",
   "execution_count": 12,
   "metadata": {
    "pycharm": {
     "is_executing": false
    }
   },
   "outputs": [],
   "source": [
    "feats = get_feature_array(tweets)"
   ]
  },
  {
   "cell_type": "code",
   "execution_count": 13,
   "metadata": {
    "pycharm": {
     "is_executing": false
    }
   },
   "outputs": [],
   "source": [
    "#Now join them all up\n",
    "M = np.concatenate([tfidf,pos,feats],axis=1)"
   ]
  },
  {
   "cell_type": "code",
   "execution_count": 14,
   "metadata": {
    "pycharm": {
     "is_executing": false
    }
   },
   "outputs": [
    {
     "data": {
      "text/plain": "(24783, 11172)"
     },
     "metadata": {},
     "output_type": "execute_result",
     "execution_count": 14
    }
   ],
   "source": [
    "M.shape"
   ]
  },
  {
   "cell_type": "code",
   "execution_count": 15,
   "metadata": {
    "pycharm": {
     "is_executing": false
    }
   },
   "outputs": [],
   "source": [
    "#Finally get a list of variable names\n",
    "variables = ['']*len(vocab)\n",
    "for k,v in vocab.items():\n",
    "    variables[v] = k\n",
    "\n",
    "pos_variables = ['']*len(pos_vocab)\n",
    "for k,v in pos_vocab.items():\n",
    "    pos_variables[v] = k\n",
    "\n",
    "feature_names = variables+pos_variables+other_features_names"
   ]
  },
  {
   "cell_type": "code",
   "execution_count": 16,
   "outputs": [],
   "source": [
    "X = pd.DataFrame(M)\n",
    "y = df['class'].astype(int)\n",
    "X.columns = feature_names"
   ],
   "metadata": {
    "collapsed": false,
    "pycharm": {
     "name": "#%%\n",
     "is_executing": false
    }
   }
  },
  {
   "cell_type": "code",
   "execution_count": 17,
   "outputs": [],
   "source": [
    "X_train, X_test, y_train, y_test = train_test_split(X, y, random_state=42, test_size=0.1)\n",
    "y_train = y_train.to_frame(name='labels')\n",
    "y_test = y_test.to_frame(name='labels')"
   ],
   "metadata": {
    "collapsed": false,
    "pycharm": {
     "name": "#%%\n",
     "is_executing": false
    }
   }
  },
  {
   "cell_type": "code",
   "execution_count": 18,
   "metadata": {
    "pycharm": {
     "name": "#%%\n",
     "is_executing": false
    }
   },
   "outputs": [],
   "source": [
    "def running(X_train, y_train, X_test, y_test, name, detail):\n",
    "    X_train.to_csv('C:/Users/mikec/Documents/X_train.csv', index=None, header=True, encoding='utf-8')\n",
    "    X_test.to_csv('C:/Users/mikec/Documents/X_test.csv', index=None, header=True, encoding='utf-8')\n",
    "    y_train.to_csv('C:/Users/mikec/Documents/y_train.csv', index=None, header=True, encoding='utf-8')\n",
    "    y_test.to_csv('C:/Users/mikec/Documents/y_test.csv', index=None, header=True, encoding='utf-8')\n",
    "    import h2o\n",
    "    h2o.init()\n",
    "    from h2o.automl import H2OAutoML\n",
    "    X_train = h2o.import_file('C:/Users/mikec/Documents/X_train.csv')\n",
    "    y_train = h2o.import_file('C:/Users/mikec/Documents/y_train.csv')\n",
    "    X_test = h2o.import_file('C:/Users/mikec/Documents/X_test.csv')\n",
    "    y_test = h2o.import_file('C:/Users/mikec/Documents/y_test.csv')\n",
    "    train = X_train.cbind(y_train)\n",
    "    test = X_test.cbind(y_test)\n",
    "    x = train.columns\n",
    "    y = \"labels\"\n",
    "    x.remove(y)\n",
    "    train[y] = train[y].asfactor()\n",
    "    test[y] = test[y].asfactor()\n",
    "    aml = H2OAutoML(max_runtime_secs=3600) #max_models=10 or 20?, max_runtime_secs=3600\n",
    "    aml.train(x=x, y=y, training_frame=train)\n",
    "    lb = aml.leaderboard\n",
    "    lb.head(rows=lb.nrows)\n",
    "    aml.leader\n",
    "    preds = aml.predict(test)\n",
    "    print(preds)\n",
    "    var = preds[\"predict\"].cbind(test[y])\n",
    "    print(var)\n",
    "    y_test = h2o.as_list(test[y], use_pandas=True)\n",
    "    y_pred = h2o.as_list(preds[\"predict\"])\n",
    "    report = classification_report(y_test, y_pred)\n",
    "    print(report)\n",
    "    print(metrics.confusion_matrix(y_test, y_pred))\n",
    "    print(metrics.accuracy_score(y_test, y_pred))\n",
    "    print(metrics.f1_score(y_test, y_pred, average='weighted'))\n",
    "    confusion_matrix = metrics.confusion_matrix(y_test,y_pred)\n",
    "    matrix_proportions = np.zeros((3,3))\n",
    "    for i in range(0,3):\n",
    "        matrix_proportions[i,:] = confusion_matrix[i,:]/float(confusion_matrix[i,:].sum())\n",
    "    names=['Hate','Offensive','Neither']\n",
    "    confusion_df = pd.DataFrame(matrix_proportions, index=names,columns=names)\n",
    "    plt.figure(figsize=(5,5))\n",
    "    seaborn.heatmap(confusion_df,annot=True,annot_kws={\"size\": 12},cmap='gist_gray_r',cbar=False, square=True,fmt='.2f')\n",
    "    plt.ylabel(r'True categories',fontsize=14)\n",
    "    plt.xlabel(r'Predicted categories',fontsize=14)\n",
    "    plt.tick_params(labelsize=12)\n",
    "    plt.savefig('C:/Users/mikec/Documents/Results/{}.png'.format(name))\n",
    "    f = open(\"C:/Users/mikec/Documents/Results/{}.txt\".format(name), \"a\")\n",
    "    print(\"{}\".format(detail), file=f)\n",
    "    print(report, file=f)\n",
    "    print(metrics.confusion_matrix(y_test, y_pred), file=f)\n",
    "    print(metrics.accuracy_score(y_test, y_pred), file=f)\n",
    "    print(metrics.f1_score(y_test, y_pred, average='weighted'), file=f)\n",
    "    f.close()\n"
   ]
  },
  {
   "cell_type": "code",
   "execution_count": 19,
   "outputs": [
    {
     "name": "stderr",
     "text": [
      "Using TensorFlow backend.\n",
      "c:\\users\\mikec\\appdata\\local\\programs\\python\\python37\\lib\\site-packages\\sklearn\\utils\\validation.py:724: DataConversionWarning: A column-vector y was passed when a 1d array was expected. Please change the shape of y to (n_samples, ), for example using ravel().\n  y = column_or_1d(y, warn=True)\n"
     ],
     "output_type": "stream"
    }
   ],
   "source": [
    "# Random Over-sampling\n",
    "from imblearn.over_sampling import RandomOverSampler\n",
    "ros = RandomOverSampler(random_state=2)\n",
    "X_ros, y_ros = ros.fit_sample(X_train, y_train)\n",
    "X_ros = pd.DataFrame(X_ros)\n",
    "X_ros.columns = feature_names\n",
    "y_ros = pd.DataFrame(y_ros)\n",
    "y_ros.columns = ['labels']"
   ],
   "metadata": {
    "collapsed": false,
    "pycharm": {
     "name": "#%%\n",
     "is_executing": false
    }
   }
  },
  {
   "cell_type": "code",
   "execution_count": 20,
   "outputs": [
    {
     "name": "stdout",
     "text": [
      "Checking whether there is an H2O instance running at http://localhost:54321 ",
      ".",
      ".",
      ".",
      ".",
      ".",
      " not found.",
      "\n",
      "Attempting to start a local H2O server...",
      "\n",
      "  Java Version: java version \"1.8.0_211\"\r; Java(TM) SE Runtime Environment (build 1.8.0_211-b12)\r; Java HotSpot(TM) 64-Bit Server VM (build 25.211-b12, mixed mode)",
      "\n",
      "  Starting server from c:\\users\\mikec\\appdata\\local\\programs\\python\\python37\\lib\\site-packages\\h2o\\backend\\bin\\h2o.jar",
      "\n",
      "  Ice root: C:\\Users\\mikec\\AppData\\Local\\Temp\\tmpx0rf86k2",
      "\n",
      "  JVM stdout: C:\\Users\\mikec\\AppData\\Local\\Temp\\tmpx0rf86k2\\h2o_mikec_started_from_python.out",
      "\n",
      "  JVM stderr: C:\\Users\\mikec\\AppData\\Local\\Temp\\tmpx0rf86k2\\h2o_mikec_started_from_python.err",
      "\n",
      "  Server is running at http://127.0.0.1:54321",
      "\n",
      "Connecting to H2O server at http://127.0.0.1:54321 ..",
      ".",
      " successful.",
      "\n",
      "Parse progress: |",
      "█",
      "█",
      "█",
      "█",
      "█",
      "█",
      "█",
      "█",
      "█",
      "█",
      "█",
      "█",
      "█",
      "█",
      "█",
      "█",
      "█",
      "█",
      "█",
      "█",
      "█",
      "█",
      "█",
      "█",
      "█",
      "█",
      "█",
      "█",
      "█",
      "█",
      "█",
      "█",
      "█",
      "█",
      "█",
      "█",
      "█",
      "█",
      "█",
      "█",
      "█",
      "█",
      "█",
      "█",
      "█",
      "█",
      "█",
      "█",
      "█",
      "█",
      "█",
      "█",
      "█",
      "█",
      "█",
      "█",
      "█",
      "| 100%",
      "\n",
      "Parse progress: |",
      "█████████████████████████████████████████████████████████| 100%",
      "\n",
      "Parse progress: |",
      "█",
      "█",
      "█",
      "█",
      "█",
      "█",
      "█",
      "█",
      "█",
      "█",
      "█",
      "█",
      "█",
      "█",
      "█",
      "█",
      "█",
      "█",
      "█",
      "█",
      "█",
      "█",
      "█",
      "█",
      "█",
      "█",
      "█",
      "█",
      "█",
      "█",
      "█",
      "█",
      "█",
      "█",
      "█",
      "█",
      "█",
      "█",
      "█",
      "█",
      "█",
      "█",
      "█",
      "█",
      "█",
      "█",
      "█",
      "█",
      "█",
      "█",
      "█",
      "█",
      "█",
      "█",
      "█",
      "█",
      "█| 100%",
      "\n",
      "Parse progress: |█████████████████████████████████████████████████████████| 100%",
      "\n",
      "AutoML progress: |",
      "█",
      "█",
      "█",
      "█",
      "█",
      "█",
      "█",
      "█",
      "█",
      "█",
      "█",
      "█",
      "█",
      "█",
      "█",
      "█",
      "█",
      "█",
      "█",
      "█",
      "█",
      "█",
      "█",
      "█",
      "█",
      "█",
      "█",
      "█",
      "█",
      "█",
      "█",
      "█",
      "█",
      "█",
      "█",
      "█",
      "█",
      "█",
      "█",
      "█",
      "█",
      "█",
      "█",
      "█",
      "█",
      "█",
      "█",
      "█",
      "█",
      "█",
      "█",
      "█",
      "█",
      "█",
      "█",
      "█| 100%",
      "\n",
      "stackedensemble prediction progress: |",
      "████████████████████████████████████| 100%",
      "\n",
      "\n",
      "\n",
      "              precision    recall  f1-score   support\n\n           0       0.49      0.40      0.44       164\n           1       0.91      0.94      0.92      1905\n           2       0.79      0.77      0.78       410\n\n    accuracy                           0.87      2479\n   macro avg       0.73      0.70      0.71      2479\nweighted avg       0.87      0.87      0.87      2479\n",
      "\n",
      "[[  65   87   12]\n [  53 1782   70]\n [  15   79  316]]",
      "\n",
      "0.872529245663574",
      "\n",
      "0.8691368376737109",
      "\n"
     ],
     "output_type": "stream"
    },
    {
     "data": {
      "text/plain": "--------------------------  ------------------------------------------\nH2O cluster uptime:         07 secs\nH2O cluster timezone:       Europe/Berlin\nH2O data parsing timezone:  UTC\nH2O cluster version:        3.24.0.5\nH2O cluster version age:    1 month and 10 days\nH2O cluster name:           H2O_from_python_mikec_tzt9ph\nH2O cluster total nodes:    1\nH2O cluster free memory:    1.752 Gb\nH2O cluster total cores:    8\nH2O cluster allowed cores:  8\nH2O cluster status:         accepting new members, healthy\nH2O connection url:         http://127.0.0.1:54321\nH2O connection proxy:\nH2O internal security:      False\nH2O API Extensions:         Amazon S3, Algos, AutoML, Core V3, Core V4\nPython version:             3.7.3 final\n--------------------------  ------------------------------------------",
      "text/html": "<div style=\"overflow:auto\"><table style=\"width:50%\"><tr><td>H2O cluster uptime:</td>\n<td>07 secs</td></tr>\n<tr><td>H2O cluster timezone:</td>\n<td>Europe/Berlin</td></tr>\n<tr><td>H2O data parsing timezone:</td>\n<td>UTC</td></tr>\n<tr><td>H2O cluster version:</td>\n<td>3.24.0.5</td></tr>\n<tr><td>H2O cluster version age:</td>\n<td>1 month and 10 days </td></tr>\n<tr><td>H2O cluster name:</td>\n<td>H2O_from_python_mikec_tzt9ph</td></tr>\n<tr><td>H2O cluster total nodes:</td>\n<td>1</td></tr>\n<tr><td>H2O cluster free memory:</td>\n<td>1.752 Gb</td></tr>\n<tr><td>H2O cluster total cores:</td>\n<td>8</td></tr>\n<tr><td>H2O cluster allowed cores:</td>\n<td>8</td></tr>\n<tr><td>H2O cluster status:</td>\n<td>accepting new members, healthy</td></tr>\n<tr><td>H2O connection url:</td>\n<td>http://127.0.0.1:54321</td></tr>\n<tr><td>H2O connection proxy:</td>\n<td>None</td></tr>\n<tr><td>H2O internal security:</td>\n<td>False</td></tr>\n<tr><td>H2O API Extensions:</td>\n<td>Amazon S3, Algos, AutoML, Core V3, Core V4</td></tr>\n<tr><td>Python version:</td>\n<td>3.7.3 final</td></tr></table></div>"
     },
     "metadata": {},
     "output_type": "display_data"
    },
    {
     "data": {
      "text/html": "<table>\n<thead>\n<tr><th style=\"text-align: right;\">  predict</th><th style=\"text-align: right;\">         p0</th><th style=\"text-align: right;\">      p1</th><th style=\"text-align: right;\">         p2</th></tr>\n</thead>\n<tbody>\n<tr><td style=\"text-align: right;\">        1</td><td style=\"text-align: right;\">0.000181305</td><td style=\"text-align: right;\">0.99966 </td><td style=\"text-align: right;\">0.000158832</td></tr>\n<tr><td style=\"text-align: right;\">        1</td><td style=\"text-align: right;\">0.000215631</td><td style=\"text-align: right;\">0.999636</td><td style=\"text-align: right;\">0.00014827 </td></tr>\n<tr><td style=\"text-align: right;\">        1</td><td style=\"text-align: right;\">0.00126706 </td><td style=\"text-align: right;\">0.9926  </td><td style=\"text-align: right;\">0.0061331  </td></tr>\n<tr><td style=\"text-align: right;\">        1</td><td style=\"text-align: right;\">0.0057147  </td><td style=\"text-align: right;\">0.992471</td><td style=\"text-align: right;\">0.00181479 </td></tr>\n<tr><td style=\"text-align: right;\">        1</td><td style=\"text-align: right;\">0.000417807</td><td style=\"text-align: right;\">0.999314</td><td style=\"text-align: right;\">0.000268396</td></tr>\n<tr><td style=\"text-align: right;\">        1</td><td style=\"text-align: right;\">0.000564287</td><td style=\"text-align: right;\">0.996088</td><td style=\"text-align: right;\">0.003348   </td></tr>\n<tr><td style=\"text-align: right;\">        1</td><td style=\"text-align: right;\">0.000212591</td><td style=\"text-align: right;\">0.999575</td><td style=\"text-align: right;\">0.000212859</td></tr>\n<tr><td style=\"text-align: right;\">        1</td><td style=\"text-align: right;\">0.000359411</td><td style=\"text-align: right;\">0.999352</td><td style=\"text-align: right;\">0.000288479</td></tr>\n<tr><td style=\"text-align: right;\">        1</td><td style=\"text-align: right;\">0.000195245</td><td style=\"text-align: right;\">0.999632</td><td style=\"text-align: right;\">0.000172482</td></tr>\n<tr><td style=\"text-align: right;\">        1</td><td style=\"text-align: right;\">0.000147112</td><td style=\"text-align: right;\">0.999647</td><td style=\"text-align: right;\">0.000206003</td></tr>\n</tbody>\n</table>"
     },
     "metadata": {},
     "output_type": "display_data"
    },
    {
     "data": {
      "text/html": "<table>\n<thead>\n<tr><th style=\"text-align: right;\">  predict</th><th style=\"text-align: right;\">  labels</th></tr>\n</thead>\n<tbody>\n<tr><td style=\"text-align: right;\">        1</td><td style=\"text-align: right;\">       1</td></tr>\n<tr><td style=\"text-align: right;\">        1</td><td style=\"text-align: right;\">       1</td></tr>\n<tr><td style=\"text-align: right;\">        1</td><td style=\"text-align: right;\">       2</td></tr>\n<tr><td style=\"text-align: right;\">        1</td><td style=\"text-align: right;\">       1</td></tr>\n<tr><td style=\"text-align: right;\">        1</td><td style=\"text-align: right;\">       1</td></tr>\n<tr><td style=\"text-align: right;\">        1</td><td style=\"text-align: right;\">       1</td></tr>\n<tr><td style=\"text-align: right;\">        1</td><td style=\"text-align: right;\">       1</td></tr>\n<tr><td style=\"text-align: right;\">        1</td><td style=\"text-align: right;\">       1</td></tr>\n<tr><td style=\"text-align: right;\">        1</td><td style=\"text-align: right;\">       1</td></tr>\n<tr><td style=\"text-align: right;\">        1</td><td style=\"text-align: right;\">       1</td></tr>\n</tbody>\n</table>"
     },
     "metadata": {},
     "output_type": "display_data"
    },
    {
     "data": {
      "text/plain": "<Figure size 360x360 with 1 Axes>",
      "image/png": "[encoded data removed]"
     },
     "metadata": {
      "needs_background": "light"
     },
     "output_type": "display_data"
    }
   ],
   "source": [
    "running(X_ros, y_ros, X_test, y_test, 'RandomOverSamplingMaxTime1', 'Sampling: Random Over-sampling and max runtime in 3600')\n",
    "del X_ros\n",
    "del y_ros\n"
   ],
   "metadata": {
    "collapsed": false,
    "pycharm": {
     "name": "#%%\n",
     "is_executing": false
    }
   }
  },
  {
   "cell_type": "code",
   "execution_count": 21,
   "outputs": [
    {
     "name": "stderr",
     "text": [
      "c:\\users\\mikec\\appdata\\local\\programs\\python\\python37\\lib\\site-packages\\sklearn\\utils\\validation.py:724: DataConversionWarning: A column-vector y was passed when a 1d array was expected. Please change the shape of y to (n_samples, ), for example using ravel().\n  y = column_or_1d(y, warn=True)\n"
     ],
     "output_type": "stream"
    }
   ],
   "source": [
    "# SMOTE\n",
    "from imblearn.over_sampling import SMOTE\n",
    "smt = SMOTE()\n",
    "X_smt, y_smt = smt.fit_sample(X_train, y_train)\n",
    "X_smt = pd.DataFrame(X_smt)\n",
    "X_smt.columns = feature_names\n",
    "y_smt = pd.DataFrame(y_smt)\n",
    "y_smt.columns = ['labels']"
   ],
   "metadata": {
    "collapsed": false,
    "pycharm": {
     "name": "#%%\n",
     "is_executing": false
    }
   }
  },
  {
   "cell_type": "code",
   "execution_count": 22,
   "outputs": [
    {
     "name": "stdout",
     "text": [
      "Checking whether there is an H2O instance running at http://localhost:54321 ",
      ".",
      " connected.",
      "\n",
      "Parse progress: |██████████████████████████",
      "█",
      "█",
      "█",
      "█",
      "█",
      "█",
      "█",
      "█",
      "█",
      "█",
      "█",
      "█",
      "█",
      "█",
      "█",
      "█",
      "█",
      "█",
      "█",
      "█",
      "█",
      "█",
      "█",
      "██",
      "█",
      "██",
      "█",
      "█",
      "█| 100%",
      "\n",
      "Parse progress: |█████████████████████████████████████████████████████████| 100%",
      "\n",
      "Parse progress: |",
      "█",
      "█",
      "█████████████████████████████",
      "█",
      "█",
      "█",
      "█",
      "█",
      "█",
      "█",
      "█",
      "█",
      "█",
      "█",
      "█",
      "█",
      "█",
      "█",
      "█",
      "██████████| 100%",
      "\n",
      "Parse progress: |█████████████████████████████████████████████████████████| 100%",
      "\n",
      "AutoML progress: |",
      "█",
      "█",
      "█",
      "█",
      "█",
      "█",
      "█",
      "█",
      "█",
      "█",
      "█",
      "█",
      "█",
      "█",
      "█",
      "█",
      "█",
      "█",
      "█",
      "█",
      "█",
      "█",
      "█",
      "█",
      "█",
      "█",
      "█",
      "█",
      "█",
      "█",
      "█",
      "█",
      "█",
      "█",
      "█",
      "█",
      "█",
      "█",
      "█",
      "█",
      "█",
      "█",
      "█",
      "█",
      "█",
      "█",
      "█",
      "█",
      "█",
      "█",
      "█",
      "█",
      "█",
      "█",
      "█",
      "█| 100%",
      "\n",
      "glm prediction progress: |████████████████████████████████████████████████| 100%",
      "\n",
      "\n",
      "\n",
      "              precision    recall  f1-score   support\n\n           0       0.37      0.43      0.40       164\n           1       0.93      0.90      0.91      1905\n           2       0.76      0.81      0.78       410\n\n    accuracy                           0.86      2479\n   macro avg       0.69      0.71      0.70      2479\nweighted avg       0.86      0.86      0.86      2479\n",
      "\n",
      "[[  70   76   18]\n [  98 1719   88]\n [  19   59  332]]",
      "\n",
      "0.8555869302137958",
      "\n",
      "0.858722576619337",
      "\n"
     ],
     "output_type": "stream"
    },
    {
     "data": {
      "text/plain": "--------------------------  ------------------------------------------\nH2O cluster uptime:         1 hour 14 mins\nH2O cluster timezone:       Europe/Berlin\nH2O data parsing timezone:  UTC\nH2O cluster version:        3.24.0.5\nH2O cluster version age:    1 month and 11 days\nH2O cluster name:           H2O_from_python_mikec_tzt9ph\nH2O cluster total nodes:    1\nH2O cluster free memory:    1.185 Gb\nH2O cluster total cores:    8\nH2O cluster allowed cores:  8\nH2O cluster status:         locked, healthy\nH2O connection url:         http://localhost:54321\nH2O connection proxy:\nH2O internal security:      False\nH2O API Extensions:         Amazon S3, Algos, AutoML, Core V3, Core V4\nPython version:             3.7.3 final\n--------------------------  ------------------------------------------",
      "text/html": "<div style=\"overflow:auto\"><table style=\"width:50%\"><tr><td>H2O cluster uptime:</td>\n<td>1 hour 14 mins</td></tr>\n<tr><td>H2O cluster timezone:</td>\n<td>Europe/Berlin</td></tr>\n<tr><td>H2O data parsing timezone:</td>\n<td>UTC</td></tr>\n<tr><td>H2O cluster version:</td>\n<td>3.24.0.5</td></tr>\n<tr><td>H2O cluster version age:</td>\n<td>1 month and 11 days </td></tr>\n<tr><td>H2O cluster name:</td>\n<td>H2O_from_python_mikec_tzt9ph</td></tr>\n<tr><td>H2O cluster total nodes:</td>\n<td>1</td></tr>\n<tr><td>H2O cluster free memory:</td>\n<td>1.185 Gb</td></tr>\n<tr><td>H2O cluster total cores:</td>\n<td>8</td></tr>\n<tr><td>H2O cluster allowed cores:</td>\n<td>8</td></tr>\n<tr><td>H2O cluster status:</td>\n<td>locked, healthy</td></tr>\n<tr><td>H2O connection url:</td>\n<td>http://localhost:54321</td></tr>\n<tr><td>H2O connection proxy:</td>\n<td>None</td></tr>\n<tr><td>H2O internal security:</td>\n<td>False</td></tr>\n<tr><td>H2O API Extensions:</td>\n<td>Amazon S3, Algos, AutoML, Core V3, Core V4</td></tr>\n<tr><td>Python version:</td>\n<td>3.7.3 final</td></tr></table></div>"
     },
     "metadata": {},
     "output_type": "display_data"
    },
    {
     "data": {
      "text/html": "<table>\n<thead>\n<tr><th style=\"text-align: right;\">  predict</th><th style=\"text-align: right;\">         p0</th><th style=\"text-align: right;\">      p1</th><th style=\"text-align: right;\">         p2</th></tr>\n</thead>\n<tbody>\n<tr><td style=\"text-align: right;\">        1</td><td style=\"text-align: right;\">0.0157119  </td><td style=\"text-align: right;\">0.961487</td><td style=\"text-align: right;\">0.0228015  </td></tr>\n<tr><td style=\"text-align: right;\">        1</td><td style=\"text-align: right;\">0.0002002  </td><td style=\"text-align: right;\">0.99963 </td><td style=\"text-align: right;\">0.000169378</td></tr>\n<tr><td style=\"text-align: right;\">        1</td><td style=\"text-align: right;\">0.000453844</td><td style=\"text-align: right;\">0.999157</td><td style=\"text-align: right;\">0.000388784</td></tr>\n<tr><td style=\"text-align: right;\">        1</td><td style=\"text-align: right;\">0.145208   </td><td style=\"text-align: right;\">0.796635</td><td style=\"text-align: right;\">0.0581573  </td></tr>\n<tr><td style=\"text-align: right;\">        1</td><td style=\"text-align: right;\">0.000177103</td><td style=\"text-align: right;\">0.999572</td><td style=\"text-align: right;\">0.000250791</td></tr>\n<tr><td style=\"text-align: right;\">        1</td><td style=\"text-align: right;\">2.94017e-06</td><td style=\"text-align: right;\">0.866832</td><td style=\"text-align: right;\">0.133165   </td></tr>\n<tr><td style=\"text-align: right;\">        1</td><td style=\"text-align: right;\">0.000603047</td><td style=\"text-align: right;\">0.999311</td><td style=\"text-align: right;\">8.56646e-05</td></tr>\n<tr><td style=\"text-align: right;\">        1</td><td style=\"text-align: right;\">0.0473764  </td><td style=\"text-align: right;\">0.934306</td><td style=\"text-align: right;\">0.0183177  </td></tr>\n<tr><td style=\"text-align: right;\">        1</td><td style=\"text-align: right;\">0.000235833</td><td style=\"text-align: right;\">0.99904 </td><td style=\"text-align: right;\">0.000724065</td></tr>\n<tr><td style=\"text-align: right;\">        1</td><td style=\"text-align: right;\">0.000746754</td><td style=\"text-align: right;\">0.998214</td><td style=\"text-align: right;\">0.00103947 </td></tr>\n</tbody>\n</table>"
     },
     "metadata": {},
     "output_type": "display_data"
    },
    {
     "data": {
      "text/html": "<table>\n<thead>\n<tr><th style=\"text-align: right;\">  predict</th><th style=\"text-align: right;\">  labels</th></tr>\n</thead>\n<tbody>\n<tr><td style=\"text-align: right;\">        1</td><td style=\"text-align: right;\">       1</td></tr>\n<tr><td style=\"text-align: right;\">        1</td><td style=\"text-align: right;\">       1</td></tr>\n<tr><td style=\"text-align: right;\">        1</td><td style=\"text-align: right;\">       2</td></tr>\n<tr><td style=\"text-align: right;\">        1</td><td style=\"text-align: right;\">       1</td></tr>\n<tr><td style=\"text-align: right;\">        1</td><td style=\"text-align: right;\">       1</td></tr>\n<tr><td style=\"text-align: right;\">        1</td><td style=\"text-align: right;\">       1</td></tr>\n<tr><td style=\"text-align: right;\">        1</td><td style=\"text-align: right;\">       1</td></tr>\n<tr><td style=\"text-align: right;\">        1</td><td style=\"text-align: right;\">       1</td></tr>\n<tr><td style=\"text-align: right;\">        1</td><td style=\"text-align: right;\">       1</td></tr>\n<tr><td style=\"text-align: right;\">        1</td><td style=\"text-align: right;\">       1</td></tr>\n</tbody>\n</table>"
     },
     "metadata": {},
     "output_type": "display_data"
    },
    {
     "data": {
      "text/plain": "<Figure size 360x360 with 1 Axes>",
      "image/png": "[encoded data removed]"
     },
     "metadata": {
      "needs_background": "light"
     },
     "output_type": "display_data"
    }
   ],
   "source": [
    "running(X_smt, y_smt, X_test, y_test, 'SMOTEMaxTime1', 'Sampling: SMOTE and max runtime in 3600')\n",
    "del X_smt\n",
    "del y_smt\n"
   ],
   "metadata": {
    "collapsed": false,
    "pycharm": {
     "name": "#%%\n",
     "is_executing": false
    }
   }
  },
  {
   "cell_type": "code",
   "execution_count": 23,
   "outputs": [],
   "source": [
    "# Random Under-sampling\n",
    "from imblearn.under_sampling import RandomUnderSampler\n",
    "rus = RandomUnderSampler(random_state=2)\n",
    "X_rus, y_rus = rus.fit_resample(X_train, y_train)\n",
    "X_rus = pd.DataFrame(X_rus)\n",
    "X_rus.columns = feature_names\n",
    "y_rus = pd.DataFrame(y_rus)\n",
    "y_rus.columns = ['labels']"
   ],
   "metadata": {
    "collapsed": false,
    "pycharm": {
     "name": "#%%\n",
     "is_executing": false
    }
   }
  },
  {
   "cell_type": "code",
   "execution_count": 24,
   "outputs": [
    {
     "name": "stdout",
     "text": [
      "Checking whether there is an H2O instance running at http://localhost:54321 ",
      ".",
      " connected.",
      "\n",
      "Parse progress: |",
      "█",
      "████████████████████████████████████████████████████████| 100%",
      "\n",
      "Parse progress: |█████████████████████████████████████████████████████████| 100%",
      "\n",
      "Parse progress: |█",
      "█",
      "████████████",
      "█",
      "█",
      "█████████████████████████████████████████| 100%",
      "\n",
      "Parse progress: |█████████████████████████████████████████████████████████| 100%",
      "\n",
      "AutoML progress: |",
      "█",
      "█",
      "█",
      "█",
      "█",
      "█",
      "█",
      "█",
      "█",
      "█",
      "█",
      "█",
      "█",
      "█",
      "█",
      "█",
      "█",
      "█",
      "█",
      "█",
      "█",
      "█",
      "█",
      "█",
      "█",
      "█",
      "█",
      "█",
      "█",
      "█",
      "█",
      "█",
      "█",
      "█",
      "█",
      "█",
      "█",
      "█",
      "█",
      "█",
      "█",
      "█",
      "█",
      "█",
      "█",
      "█",
      "█",
      "█",
      "█",
      "█",
      "█",
      "█",
      "█",
      "█",
      "█",
      "█| 100%",
      "\n",
      "stackedensemble prediction progress: |",
      "████████████████████████████████████| 100%",
      "\n",
      "\n",
      "\n",
      "              precision    recall  f1-score   support\n\n           0       0.29      0.72      0.41       164\n           1       0.98      0.82      0.89      1905\n           2       0.79      0.91      0.85       410\n\n    accuracy                           0.83      2479\n   macro avg       0.68      0.82      0.72      2479\nweighted avg       0.90      0.83      0.85      2479\n",
      "\n",
      "[[ 118   28   18]\n [ 266 1558   81]\n [  27    9  374]]",
      "\n",
      "0.826946349334409",
      "\n",
      "0.8514003865881535",
      "\n"
     ],
     "output_type": "stream"
    },
    {
     "data": {
      "text/plain": "--------------------------  ------------------------------------------\nH2O cluster uptime:         2 hours 19 mins\nH2O cluster timezone:       Europe/Berlin\nH2O data parsing timezone:  UTC\nH2O cluster version:        3.24.0.5\nH2O cluster version age:    1 month and 11 days\nH2O cluster name:           H2O_from_python_mikec_tzt9ph\nH2O cluster total nodes:    1\nH2O cluster free memory:    1.114 Gb\nH2O cluster total cores:    8\nH2O cluster allowed cores:  8\nH2O cluster status:         locked, healthy\nH2O connection url:         http://localhost:54321\nH2O connection proxy:\nH2O internal security:      False\nH2O API Extensions:         Amazon S3, Algos, AutoML, Core V3, Core V4\nPython version:             3.7.3 final\n--------------------------  ------------------------------------------",
      "text/html": "<div style=\"overflow:auto\"><table style=\"width:50%\"><tr><td>H2O cluster uptime:</td>\n<td>2 hours 19 mins</td></tr>\n<tr><td>H2O cluster timezone:</td>\n<td>Europe/Berlin</td></tr>\n<tr><td>H2O data parsing timezone:</td>\n<td>UTC</td></tr>\n<tr><td>H2O cluster version:</td>\n<td>3.24.0.5</td></tr>\n<tr><td>H2O cluster version age:</td>\n<td>1 month and 11 days </td></tr>\n<tr><td>H2O cluster name:</td>\n<td>H2O_from_python_mikec_tzt9ph</td></tr>\n<tr><td>H2O cluster total nodes:</td>\n<td>1</td></tr>\n<tr><td>H2O cluster free memory:</td>\n<td>1.114 Gb</td></tr>\n<tr><td>H2O cluster total cores:</td>\n<td>8</td></tr>\n<tr><td>H2O cluster allowed cores:</td>\n<td>8</td></tr>\n<tr><td>H2O cluster status:</td>\n<td>locked, healthy</td></tr>\n<tr><td>H2O connection url:</td>\n<td>http://localhost:54321</td></tr>\n<tr><td>H2O connection proxy:</td>\n<td>None</td></tr>\n<tr><td>H2O internal security:</td>\n<td>False</td></tr>\n<tr><td>H2O API Extensions:</td>\n<td>Amazon S3, Algos, AutoML, Core V3, Core V4</td></tr>\n<tr><td>Python version:</td>\n<td>3.7.3 final</td></tr></table></div>"
     },
     "metadata": {},
     "output_type": "display_data"
    },
    {
     "data": {
      "text/html": "<table>\n<thead>\n<tr><th style=\"text-align: right;\">  predict</th><th style=\"text-align: right;\">       p0</th><th style=\"text-align: right;\">       p1</th><th style=\"text-align: right;\">        p2</th></tr>\n</thead>\n<tbody>\n<tr><td style=\"text-align: right;\">        1</td><td style=\"text-align: right;\">0.0766639</td><td style=\"text-align: right;\">0.905956 </td><td style=\"text-align: right;\">0.0173801 </td></tr>\n<tr><td style=\"text-align: right;\">        1</td><td style=\"text-align: right;\">0.109128 </td><td style=\"text-align: right;\">0.879538 </td><td style=\"text-align: right;\">0.0113347 </td></tr>\n<tr><td style=\"text-align: right;\">        2</td><td style=\"text-align: right;\">0.155469 </td><td style=\"text-align: right;\">0.0782213</td><td style=\"text-align: right;\">0.76631   </td></tr>\n<tr><td style=\"text-align: right;\">        0</td><td style=\"text-align: right;\">0.758999 </td><td style=\"text-align: right;\">0.20811  </td><td style=\"text-align: right;\">0.0328913 </td></tr>\n<tr><td style=\"text-align: right;\">        1</td><td style=\"text-align: right;\">0.296664 </td><td style=\"text-align: right;\">0.683808 </td><td style=\"text-align: right;\">0.0195274 </td></tr>\n<tr><td style=\"text-align: right;\">        1</td><td style=\"text-align: right;\">0.114891 </td><td style=\"text-align: right;\">0.873222 </td><td style=\"text-align: right;\">0.0118879 </td></tr>\n<tr><td style=\"text-align: right;\">        1</td><td style=\"text-align: right;\">0.1501   </td><td style=\"text-align: right;\">0.838058 </td><td style=\"text-align: right;\">0.0118413 </td></tr>\n<tr><td style=\"text-align: right;\">        1</td><td style=\"text-align: right;\">0.147908 </td><td style=\"text-align: right;\">0.842438 </td><td style=\"text-align: right;\">0.00965433</td></tr>\n<tr><td style=\"text-align: right;\">        1</td><td style=\"text-align: right;\">0.0818861</td><td style=\"text-align: right;\">0.909139 </td><td style=\"text-align: right;\">0.00897516</td></tr>\n<tr><td style=\"text-align: right;\">        1</td><td style=\"text-align: right;\">0.0780287</td><td style=\"text-align: right;\">0.912925 </td><td style=\"text-align: right;\">0.0090467 </td></tr>\n</tbody>\n</table>"
     },
     "metadata": {},
     "output_type": "display_data"
    },
    {
     "data": {
      "text/html": "<table>\n<thead>\n<tr><th style=\"text-align: right;\">  predict</th><th style=\"text-align: right;\">  labels</th></tr>\n</thead>\n<tbody>\n<tr><td style=\"text-align: right;\">        1</td><td style=\"text-align: right;\">       1</td></tr>\n<tr><td style=\"text-align: right;\">        1</td><td style=\"text-align: right;\">       1</td></tr>\n<tr><td style=\"text-align: right;\">        2</td><td style=\"text-align: right;\">       2</td></tr>\n<tr><td style=\"text-align: right;\">        0</td><td style=\"text-align: right;\">       1</td></tr>\n<tr><td style=\"text-align: right;\">        1</td><td style=\"text-align: right;\">       1</td></tr>\n<tr><td style=\"text-align: right;\">        1</td><td style=\"text-align: right;\">       1</td></tr>\n<tr><td style=\"text-align: right;\">        1</td><td style=\"text-align: right;\">       1</td></tr>\n<tr><td style=\"text-align: right;\">        1</td><td style=\"text-align: right;\">       1</td></tr>\n<tr><td style=\"text-align: right;\">        1</td><td style=\"text-align: right;\">       1</td></tr>\n<tr><td style=\"text-align: right;\">        1</td><td style=\"text-align: right;\">       1</td></tr>\n</tbody>\n</table>"
     },
     "metadata": {},
     "output_type": "display_data"
    },
    {
     "data": {
      "text/plain": "<Figure size 360x360 with 1 Axes>",
      "image/png": "[encoded data removed]"
     },
     "metadata": {
      "needs_background": "light"
     },
     "output_type": "display_data"
    }
   ],
   "source": [
    "running(X_rus, y_rus, X_test, y_test, 'RandomUnderSamplingMaxTime1', 'Sampling: Random Under-sampling and max runtime in 3600')\n",
    "del X_rus\n",
    "del y_rus\n"
   ],
   "metadata": {
    "collapsed": false,
    "pycharm": {
     "name": "#%%\n",
     "is_executing": false
    }
   }
  },
  {
   "cell_type": "code",
   "execution_count": 25,
   "outputs": [
    {
     "name": "stderr",
     "text": [
      "c:\\users\\mikec\\appdata\\local\\programs\\python\\python37\\lib\\site-packages\\sklearn\\utils\\validation.py:724: DataConversionWarning: A column-vector y was passed when a 1d array was expected. Please change the shape of y to (n_samples, ), for example using ravel().\n  y = column_or_1d(y, warn=True)\n"
     ],
     "output_type": "stream"
    }
   ],
   "source": [
    "# Near Miss\n",
    "from imblearn.under_sampling import NearMiss\n",
    "nmOne = NearMiss(version=1)\n",
    "X_nmOne, y_nmOne = nmOne.fit_resample(X_train, y_train)\n",
    "X_nmOne = pd.DataFrame(X_nmOne)\n",
    "X_nmOne.columns = feature_names\n",
    "y_nmOne = pd.DataFrame(y_nmOne)\n",
    "y_nmOne.columns = ['labels']"
   ],
   "metadata": {
    "collapsed": false,
    "pycharm": {
     "name": "#%%\n",
     "is_executing": false
    }
   }
  },
  {
   "cell_type": "code",
   "execution_count": 26,
   "outputs": [
    {
     "name": "stdout",
     "text": [
      "Checking whether there is an H2O instance running at http://localhost:54321 ",
      ".",
      " connected.",
      "\n",
      "Parse progress: |",
      "█",
      "████████████████████████████████████████████████████████| 100%",
      "\n",
      "Parse progress: |█████████████████████████████████████████████████████████| 100%",
      "\n",
      "Parse progress: |",
      "█",
      "█████████████",
      "█",
      "█",
      "█████████████████████████████████████████| 100%",
      "\n",
      "Parse progress: |█████████████████████████████████████████████████████████| 100%",
      "\n",
      "AutoML progress: |",
      "█",
      "█",
      "█",
      "█",
      "█",
      "█",
      "█",
      "█",
      "█",
      "█",
      "█",
      "█",
      "█",
      "█",
      "█",
      "█",
      "█",
      "█",
      "█",
      "█",
      "█",
      "█",
      "█",
      "█",
      "█",
      "█",
      "█",
      "█",
      "█",
      "█",
      "█",
      "█",
      "█",
      "█",
      "█",
      "█",
      "█",
      "█",
      "█",
      "█",
      "█",
      "█",
      "█",
      "█",
      "█",
      "█",
      "█",
      "█",
      "█",
      "█",
      "█",
      "█",
      "█",
      "█",
      "█",
      "█| 100%",
      "\n",
      "stackedensemble prediction progress: |",
      "████████████████████████████████████| 100%",
      "\n",
      "\n",
      "\n",
      "              precision    recall  f1-score   support\n\n           0       0.08      0.82      0.14       164\n           1       0.94      0.19      0.31      1905\n           2       0.56      0.45      0.50       410\n\n    accuracy                           0.27      2479\n   macro avg       0.53      0.49      0.32      2479\nweighted avg       0.82      0.27      0.33      2479\n",
      "\n",
      "[[ 135   19   10]\n [1411  359  135]\n [ 222    3  185]]",
      "\n",
      "0.27390076643807987",
      "\n",
      "0.33330076159407757",
      "\n"
     ],
     "output_type": "stream"
    },
    {
     "data": {
      "text/plain": "--------------------------  ------------------------------------------\nH2O cluster uptime:         3 hours 25 mins\nH2O cluster timezone:       Europe/Berlin\nH2O data parsing timezone:  UTC\nH2O cluster version:        3.24.0.5\nH2O cluster version age:    1 month and 11 days\nH2O cluster name:           H2O_from_python_mikec_tzt9ph\nH2O cluster total nodes:    1\nH2O cluster free memory:    742 Mb\nH2O cluster total cores:    8\nH2O cluster allowed cores:  8\nH2O cluster status:         locked, healthy\nH2O connection url:         http://localhost:54321\nH2O connection proxy:\nH2O internal security:      False\nH2O API Extensions:         Amazon S3, Algos, AutoML, Core V3, Core V4\nPython version:             3.7.3 final\n--------------------------  ------------------------------------------",
      "text/html": "<div style=\"overflow:auto\"><table style=\"width:50%\"><tr><td>H2O cluster uptime:</td>\n<td>3 hours 25 mins</td></tr>\n<tr><td>H2O cluster timezone:</td>\n<td>Europe/Berlin</td></tr>\n<tr><td>H2O data parsing timezone:</td>\n<td>UTC</td></tr>\n<tr><td>H2O cluster version:</td>\n<td>3.24.0.5</td></tr>\n<tr><td>H2O cluster version age:</td>\n<td>1 month and 11 days </td></tr>\n<tr><td>H2O cluster name:</td>\n<td>H2O_from_python_mikec_tzt9ph</td></tr>\n<tr><td>H2O cluster total nodes:</td>\n<td>1</td></tr>\n<tr><td>H2O cluster free memory:</td>\n<td>742 Mb</td></tr>\n<tr><td>H2O cluster total cores:</td>\n<td>8</td></tr>\n<tr><td>H2O cluster allowed cores:</td>\n<td>8</td></tr>\n<tr><td>H2O cluster status:</td>\n<td>locked, healthy</td></tr>\n<tr><td>H2O connection url:</td>\n<td>http://localhost:54321</td></tr>\n<tr><td>H2O connection proxy:</td>\n<td>None</td></tr>\n<tr><td>H2O internal security:</td>\n<td>False</td></tr>\n<tr><td>H2O API Extensions:</td>\n<td>Amazon S3, Algos, AutoML, Core V3, Core V4</td></tr>\n<tr><td>Python version:</td>\n<td>3.7.3 final</td></tr></table></div>"
     },
     "metadata": {},
     "output_type": "display_data"
    },
    {
     "data": {
      "text/html": "<table>\n<thead>\n<tr><th style=\"text-align: right;\">  predict</th><th style=\"text-align: right;\">      p0</th><th style=\"text-align: right;\">         p1</th><th style=\"text-align: right;\">        p2</th></tr>\n</thead>\n<tbody>\n<tr><td style=\"text-align: right;\">        0</td><td style=\"text-align: right;\">0.642423</td><td style=\"text-align: right;\">0.324816   </td><td style=\"text-align: right;\">0.0327612 </td></tr>\n<tr><td style=\"text-align: right;\">        0</td><td style=\"text-align: right;\">0.962277</td><td style=\"text-align: right;\">0.0218539  </td><td style=\"text-align: right;\">0.0158687 </td></tr>\n<tr><td style=\"text-align: right;\">        0</td><td style=\"text-align: right;\">0.991119</td><td style=\"text-align: right;\">0.00120027 </td><td style=\"text-align: right;\">0.00768119</td></tr>\n<tr><td style=\"text-align: right;\">        0</td><td style=\"text-align: right;\">0.981608</td><td style=\"text-align: right;\">0.00197256 </td><td style=\"text-align: right;\">0.0164194 </td></tr>\n<tr><td style=\"text-align: right;\">        0</td><td style=\"text-align: right;\">0.994977</td><td style=\"text-align: right;\">0.000647095</td><td style=\"text-align: right;\">0.0043756 </td></tr>\n<tr><td style=\"text-align: right;\">        0</td><td style=\"text-align: right;\">0.992188</td><td style=\"text-align: right;\">0.0010454  </td><td style=\"text-align: right;\">0.00676617</td></tr>\n<tr><td style=\"text-align: right;\">        0</td><td style=\"text-align: right;\">0.99143 </td><td style=\"text-align: right;\">0.00262886 </td><td style=\"text-align: right;\">0.00594081</td></tr>\n<tr><td style=\"text-align: right;\">        0</td><td style=\"text-align: right;\">0.924812</td><td style=\"text-align: right;\">0.038695   </td><td style=\"text-align: right;\">0.0364928 </td></tr>\n<tr><td style=\"text-align: right;\">        0</td><td style=\"text-align: right;\">0.824372</td><td style=\"text-align: right;\">0.0420158  </td><td style=\"text-align: right;\">0.133612  </td></tr>\n<tr><td style=\"text-align: right;\">        0</td><td style=\"text-align: right;\">0.9598  </td><td style=\"text-align: right;\">0.0278147  </td><td style=\"text-align: right;\">0.0123856 </td></tr>\n</tbody>\n</table>"
     },
     "metadata": {},
     "output_type": "display_data"
    },
    {
     "data": {
      "text/html": "<table>\n<thead>\n<tr><th style=\"text-align: right;\">  predict</th><th style=\"text-align: right;\">  labels</th></tr>\n</thead>\n<tbody>\n<tr><td style=\"text-align: right;\">        0</td><td style=\"text-align: right;\">       1</td></tr>\n<tr><td style=\"text-align: right;\">        0</td><td style=\"text-align: right;\">       1</td></tr>\n<tr><td style=\"text-align: right;\">        0</td><td style=\"text-align: right;\">       2</td></tr>\n<tr><td style=\"text-align: right;\">        0</td><td style=\"text-align: right;\">       1</td></tr>\n<tr><td style=\"text-align: right;\">        0</td><td style=\"text-align: right;\">       1</td></tr>\n<tr><td style=\"text-align: right;\">        0</td><td style=\"text-align: right;\">       1</td></tr>\n<tr><td style=\"text-align: right;\">        0</td><td style=\"text-align: right;\">       1</td></tr>\n<tr><td style=\"text-align: right;\">        0</td><td style=\"text-align: right;\">       1</td></tr>\n<tr><td style=\"text-align: right;\">        0</td><td style=\"text-align: right;\">       1</td></tr>\n<tr><td style=\"text-align: right;\">        0</td><td style=\"text-align: right;\">       1</td></tr>\n</tbody>\n</table>"
     },
     "metadata": {},
     "output_type": "display_data"
    },
    {
     "data": {
      "text/plain": "<Figure size 360x360 with 1 Axes>",
      "image/png": "[encoded data removed]"
     },
     "metadata": {
      "needs_background": "light"
     },
     "output_type": "display_data"
    }
   ],
   "source": [
    "running(X_nmOne, y_nmOne, X_test, y_test, 'NearMiss1MaxTime1', 'Sampling: Near Miss version 1 and max runtime in 3600')\n",
    "del X_nmOne\n",
    "del y_nmOne\n"
   ],
   "metadata": {
    "collapsed": false,
    "pycharm": {
     "name": "#%%\n",
     "is_executing": false
    }
   }
  },
  {
   "cell_type": "code",
   "execution_count": 27,
   "outputs": [
    {
     "name": "stderr",
     "text": [
      "c:\\users\\mikec\\appdata\\local\\programs\\python\\python37\\lib\\site-packages\\sklearn\\utils\\validation.py:724: DataConversionWarning: A column-vector y was passed when a 1d array was expected. Please change the shape of y to (n_samples, ), for example using ravel().\n  y = column_or_1d(y, warn=True)\n"
     ],
     "output_type": "stream"
    }
   ],
   "source": [
    "# Near Miss\n",
    "from imblearn.under_sampling import NearMiss\n",
    "nmTwo = NearMiss(version=2)\n",
    "X_nmTwo, y_nmTwo = nmTwo.fit_resample(X_train, y_train)\n",
    "X_nmTwo = pd.DataFrame(X_nmTwo)\n",
    "X_nmTwo.columns = feature_names\n",
    "y_nmTwo = pd.DataFrame(y_nmTwo)\n",
    "y_nmTwo.columns = ['labels']"
   ],
   "metadata": {
    "collapsed": false,
    "pycharm": {
     "name": "#%%\n",
     "is_executing": false
    }
   }
  },
  {
   "cell_type": "code",
   "execution_count": 28,
   "outputs": [
    {
     "name": "stdout",
     "text": [
      "Checking whether there is an H2O instance running at http://localhost:54321 ",
      ".",
      " connected.",
      "\n",
      "Parse progress: |█",
      "█",
      "███████████████████████████████████████████████████████| 100%",
      "\n",
      "Parse progress: |█████████████████████████████████████████████████████████| 100%",
      "\n",
      "Parse progress: |",
      "█",
      "█",
      "███████████████████████████████████████████████████████| 100%",
      "\n",
      "Parse progress: |█████████████████████████████████████████████████████████| 100%",
      "\n",
      "AutoML progress: |",
      "█",
      "█",
      "█",
      "█",
      "█",
      "█",
      "█",
      "█",
      "█",
      "█",
      "█",
      "█",
      "█",
      "█",
      "█",
      "█",
      "█",
      "█",
      "█",
      "█",
      "█",
      "█",
      "█",
      "█",
      "█",
      "█",
      "█",
      "█",
      "█",
      "█",
      "█",
      "█",
      "█",
      "█",
      "█",
      "█",
      "█",
      "█",
      "█",
      "█",
      "█",
      "█",
      "█",
      "█",
      "█",
      "█",
      "█",
      "█",
      "█",
      "█",
      "█",
      "█",
      "█",
      "█",
      "█",
      "█| 100%",
      "\n"
     ],
     "output_type": "stream"
    },
    {
     "data": {
      "text/plain": "--------------------------  ------------------------------------------\nH2O cluster uptime:         4 hours 37 mins\nH2O cluster timezone:       Europe/Berlin\nH2O data parsing timezone:  UTC\nH2O cluster version:        3.24.0.5\nH2O cluster version age:    1 month and 11 days\nH2O cluster name:           H2O_from_python_mikec_tzt9ph\nH2O cluster total nodes:    1\nH2O cluster free memory:    438.0 Mb\nH2O cluster total cores:    8\nH2O cluster allowed cores:  8\nH2O cluster status:         locked, healthy\nH2O connection url:         http://localhost:54321\nH2O connection proxy:\nH2O internal security:      False\nH2O API Extensions:         Amazon S3, Algos, AutoML, Core V3, Core V4\nPython version:             3.7.3 final\n--------------------------  ------------------------------------------",
      "text/html": "<div style=\"overflow:auto\"><table style=\"width:50%\"><tr><td>H2O cluster uptime:</td>\n<td>4 hours 37 mins</td></tr>\n<tr><td>H2O cluster timezone:</td>\n<td>Europe/Berlin</td></tr>\n<tr><td>H2O data parsing timezone:</td>\n<td>UTC</td></tr>\n<tr><td>H2O cluster version:</td>\n<td>3.24.0.5</td></tr>\n<tr><td>H2O cluster version age:</td>\n<td>1 month and 11 days </td></tr>\n<tr><td>H2O cluster name:</td>\n<td>H2O_from_python_mikec_tzt9ph</td></tr>\n<tr><td>H2O cluster total nodes:</td>\n<td>1</td></tr>\n<tr><td>H2O cluster free memory:</td>\n<td>438.0 Mb</td></tr>\n<tr><td>H2O cluster total cores:</td>\n<td>8</td></tr>\n<tr><td>H2O cluster allowed cores:</td>\n<td>8</td></tr>\n<tr><td>H2O cluster status:</td>\n<td>locked, healthy</td></tr>\n<tr><td>H2O connection url:</td>\n<td>http://localhost:54321</td></tr>\n<tr><td>H2O connection proxy:</td>\n<td>None</td></tr>\n<tr><td>H2O internal security:</td>\n<td>False</td></tr>\n<tr><td>H2O API Extensions:</td>\n<td>Amazon S3, Algos, AutoML, Core V3, Core V4</td></tr>\n<tr><td>Python version:</td>\n<td>3.7.3 final</td></tr></table></div>"
     },
     "metadata": {},
     "output_type": "display_data"
    },
    {
     "traceback": [
      "\u001b[1;31m---------------------------------------------------------------------------\u001b[0m",
      "\u001b[1;31mPermissionError\u001b[0m                           Traceback (most recent call last)",
      "\u001b[1;32m<ipython-input-28-2d5dd145dad0>\u001b[0m in \u001b[0;36m<module>\u001b[1;34m\u001b[0m\n\u001b[1;32m----> 1\u001b[1;33m \u001b[0mrunning\u001b[0m\u001b[1;33m(\u001b[0m\u001b[0mX_nmTwo\u001b[0m\u001b[1;33m,\u001b[0m \u001b[0my_nmTwo\u001b[0m\u001b[1;33m,\u001b[0m \u001b[0mX_test\u001b[0m\u001b[1;33m,\u001b[0m \u001b[0my_test\u001b[0m\u001b[1;33m,\u001b[0m \u001b[1;34m'NearMiss2MaxTime1'\u001b[0m\u001b[1;33m,\u001b[0m \u001b[1;34m'Sampling: Near Miss version 2 and max runtime in 3600'\u001b[0m\u001b[1;33m)\u001b[0m\u001b[1;33m\u001b[0m\u001b[1;33m\u001b[0m\u001b[0m\n\u001b[0m\u001b[0;32m      2\u001b[0m \u001b[1;32mdel\u001b[0m \u001b[0mX_nmTwo\u001b[0m\u001b[1;33m\u001b[0m\u001b[1;33m\u001b[0m\u001b[0m\n\u001b[0;32m      3\u001b[0m \u001b[1;32mdel\u001b[0m \u001b[0my_nmTwo\u001b[0m\u001b[1;33m\u001b[0m\u001b[1;33m\u001b[0m\u001b[0m\n\u001b[0;32m      4\u001b[0m \u001b[1;33m\u001b[0m\u001b[0m\n",
      "\u001b[1;32m<ipython-input-18-ebaec2b54b1f>\u001b[0m in \u001b[0;36mrunning\u001b[1;34m(X_train, y_train, X_test, y_test, name, detail)\u001b[0m\n\u001b[0;32m     19\u001b[0m     \u001b[0mtest\u001b[0m\u001b[1;33m[\u001b[0m\u001b[0my\u001b[0m\u001b[1;33m]\u001b[0m \u001b[1;33m=\u001b[0m \u001b[0mtest\u001b[0m\u001b[1;33m[\u001b[0m\u001b[0my\u001b[0m\u001b[1;33m]\u001b[0m\u001b[1;33m.\u001b[0m\u001b[0masfactor\u001b[0m\u001b[1;33m(\u001b[0m\u001b[1;33m)\u001b[0m\u001b[1;33m\u001b[0m\u001b[1;33m\u001b[0m\u001b[0m\n\u001b[0;32m     20\u001b[0m     \u001b[0maml\u001b[0m \u001b[1;33m=\u001b[0m \u001b[0mH2OAutoML\u001b[0m\u001b[1;33m(\u001b[0m\u001b[0mmax_runtime_secs\u001b[0m\u001b[1;33m=\u001b[0m\u001b[1;36m3600\u001b[0m\u001b[1;33m)\u001b[0m \u001b[1;31m#max_models=10 or 20?, max_runtime_secs=3600\u001b[0m\u001b[1;33m\u001b[0m\u001b[1;33m\u001b[0m\u001b[0m\n\u001b[1;32m---> 21\u001b[1;33m     \u001b[0maml\u001b[0m\u001b[1;33m.\u001b[0m\u001b[0mtrain\u001b[0m\u001b[1;33m(\u001b[0m\u001b[0mx\u001b[0m\u001b[1;33m=\u001b[0m\u001b[0mx\u001b[0m\u001b[1;33m,\u001b[0m \u001b[0my\u001b[0m\u001b[1;33m=\u001b[0m\u001b[0my\u001b[0m\u001b[1;33m,\u001b[0m \u001b[0mtraining_frame\u001b[0m\u001b[1;33m=\u001b[0m\u001b[0mtrain\u001b[0m\u001b[1;33m)\u001b[0m\u001b[1;33m\u001b[0m\u001b[1;33m\u001b[0m\u001b[0m\n\u001b[0m\u001b[0;32m     22\u001b[0m     \u001b[0mlb\u001b[0m \u001b[1;33m=\u001b[0m \u001b[0maml\u001b[0m\u001b[1;33m.\u001b[0m\u001b[0mleaderboard\u001b[0m\u001b[1;33m\u001b[0m\u001b[1;33m\u001b[0m\u001b[0m\n\u001b[0;32m     23\u001b[0m     \u001b[0mlb\u001b[0m\u001b[1;33m.\u001b[0m\u001b[0mhead\u001b[0m\u001b[1;33m(\u001b[0m\u001b[0mrows\u001b[0m\u001b[1;33m=\u001b[0m\u001b[0mlb\u001b[0m\u001b[1;33m.\u001b[0m\u001b[0mnrows\u001b[0m\u001b[1;33m)\u001b[0m\u001b[1;33m\u001b[0m\u001b[1;33m\u001b[0m\u001b[0m\n",
      "\u001b[1;32mc:\\users\\mikec\\appdata\\local\\programs\\python\\python37\\lib\\site-packages\\h2o\\automl\\autoh2o.py\u001b[0m in \u001b[0;36mtrain\u001b[1;34m(self, x, y, training_frame, fold_column, weights_column, validation_frame, leaderboard_frame, blending_frame)\u001b[0m\n\u001b[0;32m    410\u001b[0m         \u001b[0mself\u001b[0m\u001b[1;33m.\u001b[0m\u001b[0m_job\u001b[0m \u001b[1;33m=\u001b[0m \u001b[0mH2OJob\u001b[0m\u001b[1;33m(\u001b[0m\u001b[0mresp\u001b[0m\u001b[1;33m[\u001b[0m\u001b[1;34m'job'\u001b[0m\u001b[1;33m]\u001b[0m\u001b[1;33m,\u001b[0m \u001b[1;34m\"AutoML\"\u001b[0m\u001b[1;33m)\u001b[0m\u001b[1;33m\u001b[0m\u001b[1;33m\u001b[0m\u001b[0m\n\u001b[0;32m    411\u001b[0m         \u001b[0mself\u001b[0m\u001b[1;33m.\u001b[0m\u001b[0m_job\u001b[0m\u001b[1;33m.\u001b[0m\u001b[0mpoll\u001b[0m\u001b[1;33m(\u001b[0m\u001b[1;33m)\u001b[0m\u001b[1;33m\u001b[0m\u001b[1;33m\u001b[0m\u001b[0m\n\u001b[1;32m--> 412\u001b[1;33m         \u001b[0mself\u001b[0m\u001b[1;33m.\u001b[0m\u001b[0m_fetch\u001b[0m\u001b[1;33m(\u001b[0m\u001b[1;33m)\u001b[0m\u001b[1;33m\u001b[0m\u001b[1;33m\u001b[0m\u001b[0m\n\u001b[0m\u001b[0;32m    413\u001b[0m \u001b[1;33m\u001b[0m\u001b[0m\n\u001b[0;32m    414\u001b[0m     \u001b[1;31m#---------------------------------------------------------------------------\u001b[0m\u001b[1;33m\u001b[0m\u001b[1;33m\u001b[0m\u001b[1;33m\u001b[0m\u001b[0m\n",
      "\u001b[1;32mc:\\users\\mikec\\appdata\\local\\programs\\python\\python37\\lib\\site-packages\\h2o\\automl\\autoh2o.py\u001b[0m in \u001b[0;36m_fetch\u001b[1;34m(self)\u001b[0m\n\u001b[0;32m    489\u001b[0m                 column_names=res[\"leaderboard_table\"].col_header)\n\u001b[0;32m    490\u001b[0m         \u001b[1;32mexcept\u001b[0m \u001b[0mException\u001b[0m \u001b[1;32mas\u001b[0m \u001b[0mex\u001b[0m\u001b[1;33m:\u001b[0m\u001b[1;33m\u001b[0m\u001b[1;33m\u001b[0m\u001b[0m\n\u001b[1;32m--> 491\u001b[1;33m             \u001b[1;32mraise\u001b[0m \u001b[0mex\u001b[0m\u001b[1;33m\u001b[0m\u001b[1;33m\u001b[0m\u001b[0m\n\u001b[0m\u001b[0;32m    492\u001b[0m         \u001b[1;32mfinally\u001b[0m\u001b[1;33m:\u001b[0m\u001b[1;33m\u001b[0m\u001b[1;33m\u001b[0m\u001b[0m\n\u001b[0;32m    493\u001b[0m             \u001b[1;32mif\u001b[0m \u001b[0mis_progress\u001b[0m \u001b[1;32mis\u001b[0m \u001b[1;32mTrue\u001b[0m\u001b[1;33m:\u001b[0m\u001b[1;33m\u001b[0m\u001b[1;33m\u001b[0m\u001b[0m\n",
      "\u001b[1;32mc:\\users\\mikec\\appdata\\local\\programs\\python\\python37\\lib\\site-packages\\h2o\\automl\\autoh2o.py\u001b[0m in \u001b[0;36m_fetch\u001b[1;34m(self)\u001b[0m\n\u001b[0;32m    487\u001b[0m             leaderboard = h2o.H2OFrame(\n\u001b[0;32m    488\u001b[0m                 \u001b[0mres\u001b[0m\u001b[1;33m[\u001b[0m\u001b[1;34m\"leaderboard_table\"\u001b[0m\u001b[1;33m]\u001b[0m\u001b[1;33m.\u001b[0m\u001b[0mcell_values\u001b[0m\u001b[1;33m,\u001b[0m\u001b[1;33m\u001b[0m\u001b[1;33m\u001b[0m\u001b[0m\n\u001b[1;32m--> 489\u001b[1;33m                 column_names=res[\"leaderboard_table\"].col_header)\n\u001b[0m\u001b[0;32m    490\u001b[0m         \u001b[1;32mexcept\u001b[0m \u001b[0mException\u001b[0m \u001b[1;32mas\u001b[0m \u001b[0mex\u001b[0m\u001b[1;33m:\u001b[0m\u001b[1;33m\u001b[0m\u001b[1;33m\u001b[0m\u001b[0m\n\u001b[0;32m    491\u001b[0m             \u001b[1;32mraise\u001b[0m \u001b[0mex\u001b[0m\u001b[1;33m\u001b[0m\u001b[1;33m\u001b[0m\u001b[0m\n",
      "\u001b[1;32mc:\\users\\mikec\\appdata\\local\\programs\\python\\python37\\lib\\site-packages\\h2o\\frame.py\u001b[0m in \u001b[0;36m__init__\u001b[1;34m(self, python_obj, destination_frame, header, separator, column_names, column_types, na_strings, skipped_columns)\u001b[0m\n\u001b[0;32m    104\u001b[0m         \u001b[1;32mif\u001b[0m \u001b[0mpython_obj\u001b[0m \u001b[1;32mis\u001b[0m \u001b[1;32mnot\u001b[0m \u001b[1;32mNone\u001b[0m\u001b[1;33m:\u001b[0m\u001b[1;33m\u001b[0m\u001b[1;33m\u001b[0m\u001b[0m\n\u001b[0;32m    105\u001b[0m             self._upload_python_object(python_obj, destination_frame, header, separator,\n\u001b[1;32m--> 106\u001b[1;33m                                        column_names, column_types, na_strings, skipped_columns)\n\u001b[0m\u001b[0;32m    107\u001b[0m \u001b[1;33m\u001b[0m\u001b[0m\n\u001b[0;32m    108\u001b[0m     \u001b[1;33m@\u001b[0m\u001b[0mstaticmethod\u001b[0m\u001b[1;33m\u001b[0m\u001b[1;33m\u001b[0m\u001b[0m\n",
      "\u001b[1;32mc:\\users\\mikec\\appdata\\local\\programs\\python\\python37\\lib\\site-packages\\h2o\\frame.py\u001b[0m in \u001b[0;36m_upload_python_object\u001b[1;34m(self, python_obj, destination_frame, header, separator, column_names, column_types, na_strings, skipped_columns)\u001b[0m\n\u001b[0;32m    146\u001b[0m         \u001b[0mtmp_file\u001b[0m\u001b[1;33m.\u001b[0m\u001b[0mclose\u001b[0m\u001b[1;33m(\u001b[0m\u001b[1;33m)\u001b[0m  \u001b[1;31m# close the streams\u001b[0m\u001b[1;33m\u001b[0m\u001b[1;33m\u001b[0m\u001b[0m\n\u001b[0;32m    147\u001b[0m         \u001b[0mself\u001b[0m\u001b[1;33m.\u001b[0m\u001b[0m_upload_parse\u001b[0m\u001b[1;33m(\u001b[0m\u001b[0mtmp_path\u001b[0m\u001b[1;33m,\u001b[0m \u001b[0mdestination_frame\u001b[0m\u001b[1;33m,\u001b[0m \u001b[1;36m1\u001b[0m\u001b[1;33m,\u001b[0m \u001b[0mseparator\u001b[0m\u001b[1;33m,\u001b[0m \u001b[0mcolumn_names\u001b[0m\u001b[1;33m,\u001b[0m \u001b[0mcolumn_types\u001b[0m\u001b[1;33m,\u001b[0m \u001b[0mna_strings\u001b[0m\u001b[1;33m,\u001b[0m \u001b[0mskipped_columns\u001b[0m\u001b[1;33m)\u001b[0m\u001b[1;33m\u001b[0m\u001b[1;33m\u001b[0m\u001b[0m\n\u001b[1;32m--> 148\u001b[1;33m         \u001b[0mos\u001b[0m\u001b[1;33m.\u001b[0m\u001b[0mremove\u001b[0m\u001b[1;33m(\u001b[0m\u001b[0mtmp_path\u001b[0m\u001b[1;33m)\u001b[0m  \u001b[1;31m# delete the tmp file\u001b[0m\u001b[1;33m\u001b[0m\u001b[1;33m\u001b[0m\u001b[0m\n\u001b[0m\u001b[0;32m    149\u001b[0m \u001b[1;33m\u001b[0m\u001b[0m\n\u001b[0;32m    150\u001b[0m \u001b[1;33m\u001b[0m\u001b[0m\n",
      "\u001b[1;31mPermissionError\u001b[0m: [WinError 32] The process cannot access the file because it is being used by another process: 'C:\\\\Users\\\\mikec\\\\AppData\\\\Local\\\\Temp\\\\tmp0d3z4hqm.csv'"
     ],
     "ename": "PermissionError",
     "evalue": "[WinError 32] The process cannot access the file because it is being used by another process: 'C:\\\\Users\\\\mikec\\\\AppData\\\\Local\\\\Temp\\\\tmp0d3z4hqm.csv'",
     "output_type": "error"
    }
   ],
   "source": [
    "running(X_nmTwo, y_nmTwo, X_test, y_test, 'NearMiss2MaxTime1', 'Sampling: Near Miss version 2 and max runtime in 3600')\n",
    "del X_nmTwo\n",
    "del y_nmTwo\n"
   ],
   "metadata": {
    "collapsed": false,
    "pycharm": {
     "name": "#%%\n",
     "is_executing": false
    }
   }
  },
  {
   "cell_type": "code",
   "execution_count": null,
   "outputs": [],
   "source": [
    "# Near Miss\n",
    "from imblearn.under_sampling import NearMiss\n",
    "nmThree = NearMiss(version=3)\n",
    "X_nmThree, y_nmThree = nm.fit_resample(X_train, y_train)\n",
    "X_nmThree = pd.DataFrame(X_nmThree)\n",
    "X_nmThree.columns = feature_names\n",
    "y_nmThree = pd.DataFrame(y_nmThree)\n",
    "y_nmThree.columns = ['labels']"
   ],
   "metadata": {
    "collapsed": false,
    "pycharm": {
     "name": "#%%\n",
     "is_executing": true
    }
   }
  },
  {
   "cell_type": "code",
   "execution_count": null,
   "outputs": [],
   "source": [
    "running(X_nmThree, y_nmThree, X_test, y_test, 'NearMiss3MaxTime1', 'Sampling: Near Miss version 3 and max runtime in 3600')\n",
    "del X_nmThree\n",
    "del y_nmThree\n"
   ],
   "metadata": {
    "collapsed": false,
    "pycharm": {
     "name": "#%%\n",
     "is_executing": true
    }
   }
  },
  {
   "cell_type": "code",
   "execution_count": null,
   "outputs": [],
   "source": [
    "# Instance Hardness Threshold\n",
    "from imblearn.under_sampling import InstanceHardnessThreshold\n",
    "iht = InstanceHardnessThreshold(random_state=2)\n",
    "X_iht, y_iht = iht.fit_resample(X_train, y_train)\n",
    "X_iht = pd.DataFrame(X_iht)\n",
    "X_iht.columns = feature_names\n",
    "y_iht = pd.DataFrame(y_iht)\n",
    "y_iht.columns = ['labels']"
   ],
   "metadata": {
    "collapsed": false,
    "pycharm": {
     "name": "#%%\n",
     "is_executing": true
    }
   }
  },
  {
   "cell_type": "code",
   "execution_count": null,
   "outputs": [],
   "source": [
    "running(X_iht, y_iht, X_test, y_test, 'InstanceHardnessThresholdMaxTime1', 'Sampling: Instance Hardness Threshold and max runtime in 3600')\n",
    "del X_iht\n",
    "del y_iht\n"
   ],
   "metadata": {
    "collapsed": false,
    "pycharm": {
     "name": "#%%\n",
     "is_executing": true
    }
   }
  },
  {
   "cell_type": "code",
   "execution_count": null,
   "outputs": [],
   "source": [
    "'''Do not run after here'''\n",
    "\n",
    "\n",
    "\n",
    "\n",
    "\n",
    "\n",
    "\n",
    "\n",
    "\n",
    "\n",
    "\n",
    "'''Do not run after here'''"
   ],
   "metadata": {
    "collapsed": false,
    "pycharm": {
     "name": "#%%\n"
    }
   }
  },
  {
   "cell_type": "code",
   "execution_count": null,
   "outputs": [],
   "source": [
    "X = pd.DataFrame(M)\n",
    "y = df['class'].astype(int)\n",
    "X.columns = feature_names"
   ],
   "metadata": {
    "collapsed": false,
    "pycharm": {
     "name": "#%%\n"
    }
   }
  },
  {
   "cell_type": "code",
   "execution_count": null,
   "outputs": [],
   "source": [
    "X_train, X_test, y_train, y_test = train_test_split(X, y, random_state=42, test_size=0.1)\n",
    "y_train = y_train.to_frame(name='labels')\n",
    "y_test = y_test.to_frame(name='labels')"
   ],
   "metadata": {
    "collapsed": false,
    "pycharm": {
     "name": "#%%\n"
    }
   }
  },
  {
   "cell_type": "code",
   "execution_count": null,
   "outputs": [],
   "source": [
    "from sklearn.model_selection import train_test_split"
   ],
   "metadata": {
    "collapsed": false,
    "pycharm": {
     "name": "#%%\n"
    }
   }
  },
  {
   "cell_type": "code",
   "execution_count": null,
   "outputs": [],
   "source": [
    "X_train, X_test, y_train, y_test = train_test_split(X, y, random_state=42, test_size=0.1)"
   ],
   "metadata": {
    "collapsed": false,
    "pycharm": {
     "name": "#%%\n"
    }
   }
  },
  {
   "cell_type": "code",
   "execution_count": null,
   "outputs": [],
   "source": [
    "y_train = y_train.to_frame(name='labels')\n",
    "y_test = y_test.to_frame(name='labels')\n"
   ],
   "metadata": {
    "collapsed": false,
    "pycharm": {
     "name": "#%%\n"
    }
   }
  },
  {
   "cell_type": "code",
   "execution_count": null,
   "outputs": [],
   "source": [
    "X_train.to_csv('C:/Users/mikec/Documents/X_train.csv', index=None, header=True, encoding='utf-8')\n",
    "X_test.to_csv('C:/Users/mikec/Documents/X_test.csv', index=None, header=True, encoding='utf-8')\n",
    "y_train.to_csv('C:/Users/mikec/Documents/y_train.csv', index=None, header=True, encoding='utf-8')\n",
    "y_test.to_csv('C:/Users/mikec/Documents/y_test.csv', index=None, header=True, encoding='utf-8')"
   ],
   "metadata": {
    "collapsed": false,
    "pycharm": {
     "name": "#%%\n"
    }
   }
  },
  {
   "cell_type": "code",
   "execution_count": null,
   "outputs": [],
   "source": [
    "import h2o\n",
    "h2o.init()\n",
    "from h2o.automl import H2OAutoML\n"
   ],
   "metadata": {
    "collapsed": false,
    "pycharm": {
     "name": "#%%\n"
    }
   }
  },
  {
   "cell_type": "code",
   "execution_count": null,
   "outputs": [],
   "source": [
    "#X_train = h2o.H2OFrame(X_train)\n",
    "#y_train = h2o.H2OFrame(y_train)\n",
    "#X_test = h2o.H2OFrame(X_test)\n",
    "#y_test = h2o.H2OFrame(y_test) \n",
    "X_train = h2o.import_file('C:/Users/mikec/Documents/X_train.csv')\n",
    "y_train = h2o.import_file('C:/Users/mikec/Documents/y_train.csv')\n",
    "X_test = h2o.import_file('C:/Users/mikec/Documents/X_test.csv')\n",
    "y_test = h2o.import_file('C:/Users/mikec/Documents/y_test.csv')"
   ],
   "metadata": {
    "collapsed": false,
    "pycharm": {
     "name": "#%%\n"
    }
   }
  },
  {
   "cell_type": "code",
   "execution_count": null,
   "outputs": [],
   "source": [
    "# preparing the train and test data sets\n",
    "# now convert tweet vecs and labels to a pandas dataframe and back to h2o dataframe\n",
    "train = X_train.cbind(y_train)\n",
    "test = X_test.cbind(y_test)"
   ],
   "metadata": {
    "collapsed": false,
    "pycharm": {
     "name": "#%%\n"
    }
   }
  },
  {
   "cell_type": "code",
   "execution_count": null,
   "outputs": [],
   "source": [
    "# more on data prep\n",
    "x = train.columns         # x: A list/vector of predictor column names or indexes. \n",
    "                          # This argument only needs to be specified if the user wants to exclude columns from the \n",
    "                          # set of predictors. If all columns (other than the response) should be used in prediction, \n",
    "                          # then this does not need to be set.\n",
    "\n",
    "y = \"labels\"              # This argument is the name (or index) of the response column\n",
    "x.remove(y)\n",
    "\n",
    "# need to set train and test\n",
    "train[y] = train[y].asfactor()\n",
    "test[y] = test[y].asfactor()"
   ],
   "metadata": {
    "collapsed": false,
    "pycharm": {
     "name": "#%%\n"
    }
   }
  },
  {
   "cell_type": "code",
   "execution_count": null,
   "outputs": [],
   "source": [
    "# now the AUTO-ML piece comes in\n",
    "aml = H2OAutoML(max_models=20) #max_models=10 or 20?, max_runtime_secs=3600\n",
    "aml.train(x=x, y=y, training_frame=train)"
   ],
   "metadata": {
    "collapsed": false,
    "pycharm": {
     "name": "#%%\n"
    }
   }
  },
  {
   "cell_type": "code",
   "execution_count": null,
   "outputs": [],
   "source": [
    "# View the AutoML Leaderboard\n",
    "lb = aml.leaderboard\n",
    "lb.head(rows=lb.nrows)  # Print all rows instead of default (10 rows)"
   ],
   "metadata": {
    "collapsed": false,
    "pycharm": {
     "name": "#%%\n"
    }
   }
  },
  {
   "cell_type": "code",
   "execution_count": null,
   "outputs": [],
   "source": [
    "# The leader model is stored here\n",
    "aml.leader"
   ],
   "metadata": {
    "collapsed": false,
    "pycharm": {
     "name": "#%%\n"
    }
   }
  },
  {
   "cell_type": "code",
   "execution_count": null,
   "outputs": [],
   "source": [
    "preds = aml.predict(test)\n",
    "print(preds)"
   ],
   "metadata": {
    "collapsed": false,
    "pycharm": {
     "name": "#%%\n"
    }
   }
  },
  {
   "cell_type": "code",
   "execution_count": null,
   "outputs": [],
   "source": [
    "var = preds[\"predict\"].cbind(test[y])\n",
    "print(var)"
   ],
   "metadata": {
    "collapsed": false,
    "pycharm": {
     "name": "#%%\n"
    }
   }
  },
  {
   "cell_type": "code",
   "execution_count": null,
   "outputs": [],
   "source": [
    "# convert to pandas dataframe\n",
    "y_test = h2o.as_list(test[y], use_pandas=True)\n",
    "y_pred = h2o.as_list(preds[\"predict\"])\n",
    "report = classification_report(y_test, y_pred)\n",
    "print(report)\n",
    "print(metrics.confusion_matrix(y_test, y_pred))\n",
    "print(metrics.accuracy_score(y_test, y_pred))\n",
    "print(metrics.f1_score(y_test, y_pred, average='weighted'))\n",
    "\n",
    "confusion_matrix = metrics.confusion_matrix(y_test,y_pred)\n",
    "matrix_proportions = np.zeros((3,3))\n",
    "for i in range(0,3):\n",
    "    matrix_proportions[i,:] = confusion_matrix[i,:]/float(confusion_matrix[i,:].sum())\n",
    "names=['Hate','Offensive','Neither']\n",
    "confusion_df = pd.DataFrame(matrix_proportions, index=names,columns=names)\n",
    "plt.figure(figsize=(5,5))\n",
    "seaborn.heatmap(confusion_df,annot=True,annot_kws={\"size\": 12},cmap='gist_gray_r',cbar=False, square=True,fmt='.2f')\n",
    "plt.ylabel(r'True categories',fontsize=14)\n",
    "plt.xlabel(r'Predicted categories',fontsize=14)\n",
    "plt.tick_params(labelsize=12)\n",
    "plt.savefig('C:/Users/mikec/Documents/Results/H2OSamplingMax1.png')\n",
    "\n",
    "f = open(\"C:/Users/mikec/Documents/Results/H2OSamplingMax1.txt\", \"a\")\n",
    "print(\"Sampling: used H2O built in, with max data size to original data size\", file=f)\n",
    "print(report, file=f)\n",
    "print(metrics.confusion_matrix(y_test, y_pred), file=f)\n",
    "print(metrics.accuracy_score(y_test, y_pred), file=f)\n",
    "print(metrics.f1_score(y_test, y_pred, average='weighted'), file=f)\n",
    "f.close()\n",
    "\n"
   ],
   "metadata": {
    "collapsed": false,
    "pycharm": {
     "name": "#%%\n"
    }
   }
  }
 ],
 "metadata": {
  "kernelspec": {
   "display_name": "Python 3",
   "language": "python",
   "name": "python3"
  },
  "language_info": {
   "codemirror_mode": {
    "name": "ipython",
    "version": 3
   },
   "file_extension": ".py",
   "mimetype": "text/x-python",
   "name": "python",
   "nbconvert_exporter": "python",
   "pygments_lexer": "ipython3",
   "version": "3.7.3"
  },
  "pycharm": {
   "stem_cell": {
    "cell_type": "raw",
    "source": [],
    "metadata": {
     "collapsed": false
    }
   }
  }
 },
 "nbformat": 4,
 "nbformat_minor": 2
}