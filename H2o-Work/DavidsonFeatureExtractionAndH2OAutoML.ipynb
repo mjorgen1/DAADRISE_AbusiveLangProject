{
 "cells": [
  {
   "cell_type": "code",
   "execution_count": 1,
   "outputs": [],
   "source": [
    "import pandas as pd\n",
    "import numpy as np\n",
    "import nltk\n",
    "from nltk.stem.porter import *\n",
    "from vaderSentiment.vaderSentiment import SentimentIntensityAnalyzer as VS\n",
    "from textstat.textstat import *\n",
    "from sklearn import metrics\n",
    "from sklearn.metrics import classification_report\n",
    "from sklearn.feature_extraction.text import TfidfVectorizer\n",
    "from sklearn.model_selection import train_test_split\n",
    "import matplotlib.pyplot as plt\n",
    "import seaborn\n",
    "%matplotlib inline"
   ],
   "metadata": {
    "collapsed": false,
    "pycharm": {
     "name": "#%%\n",
     "is_executing": false
    }
   }
  },
  {
   "cell_type": "code",
   "execution_count": 2,
   "metadata": {
    "pycharm": {
     "is_executing": false
    }
   },
   "outputs": [],
   "source": [
    "df = pd.read_csv(\"C:/Users/mikec/Documents/davidson/data/labeled_data.csv\")"
   ]
  },
  {
   "cell_type": "code",
   "execution_count": 3,
   "metadata": {
    "pycharm": {
     "is_executing": false
    }
   },
   "outputs": [],
   "source": [
    "tweets=df.tweet"
   ]
  },
  {
   "cell_type": "code",
   "execution_count": 4,
   "metadata": {
    "pycharm": {
     "is_executing": false
    }
   },
   "outputs": [],
   "source": [
    "stopwords=stopwords = nltk.corpus.stopwords.words(\"english\")\n",
    "\n",
    "other_exclusions = [\"#ff\", \"ff\", \"rt\"]\n",
    "stopwords.extend(other_exclusions)\n",
    "\n",
    "stemmer = PorterStemmer()\n",
    "\n",
    "def preprocess(text_string):\n",
    "    \"\"\"\n",
    "    Accepts a text string and replaces:\n",
    "    1) urls with URLHERE\n",
    "    2) lots of whitespace with one instance\n",
    "    3) mentions with MENTIONHERE\n",
    "\n",
    "    This allows us to get standardized counts of urls and mentions\n",
    "    Without caring about specific people mentioned\n",
    "    \"\"\"\n",
    "    space_pattern = '\\s+'\n",
    "    giant_url_regex = ('http[s]?://(?:[a-zA-Z]|[0-9]|[$-_@.&+]|'\n",
    "        '[!*\\(\\),]|(?:%[0-9a-fA-F][0-9a-fA-F]))+')\n",
    "    mention_regex = '@[\\w\\-]+'\n",
    "    parsed_text = re.sub(space_pattern, ' ', text_string)\n",
    "    parsed_text = re.sub(giant_url_regex, '', parsed_text)\n",
    "    parsed_text = re.sub(mention_regex, '', parsed_text)\n",
    "    return parsed_text\n",
    "\n",
    "def tokenize(tweet):\n",
    "    \"\"\"Removes punctuation & excess whitespace, sets to lowercase,\n",
    "    and stems tweets. Returns a list of stemmed tokens.\"\"\"\n",
    "    tweet = \" \".join(re.split(\"[^a-zA-Z]+\", tweet.lower())).strip()\n",
    "    tokens = [stemmer.stem(t) for t in tweet.split()]\n",
    "    return tokens\n",
    "\n",
    "def basic_tokenize(tweet):\n",
    "    \"\"\"Same as tokenize but without the stemming\"\"\"\n",
    "    tweet = \" \".join(re.split(\"[^a-zA-Z.,!?]+\", tweet.lower())).strip()\n",
    "    return tweet.split()\n",
    "\n",
    "vectorizer = TfidfVectorizer(\n",
    "    tokenizer=tokenize,\n",
    "    preprocessor=preprocess,\n",
    "    ngram_range=(1, 3),\n",
    "    stop_words=stopwords,\n",
    "    use_idf=True,\n",
    "    smooth_idf=False,\n",
    "    norm=None,\n",
    "    decode_error='replace',\n",
    "    max_features=10000,\n",
    "    min_df=5,\n",
    "    max_df=0.75\n",
    "    )"
   ]
  },
  {
   "cell_type": "code",
   "execution_count": 5,
   "metadata": {
    "pycharm": {
     "is_executing": false
    }
   },
   "outputs": [],
   "source": [
    "import warnings\n",
    "warnings.simplefilter(action='ignore', category=FutureWarning)"
   ]
  },
  {
   "cell_type": "code",
   "execution_count": 6,
   "metadata": {
    "pycharm": {
     "is_executing": false
    }
   },
   "outputs": [
    {
     "name": "stderr",
     "text": [
      "C:\\Users\\mikec\\AppData\\Local\\Programs\\Python\\Python37\\lib\\site-packages\\sklearn\\feature_extraction\\text.py:300: UserWarning: Your stop_words may be inconsistent with your preprocessing. Tokenizing the stop words generated tokens ['abov', 'ani', 'becaus', 'befor', 'doe', 'dure', 'ha', 'hi', 'onc', 'onli', 'ourselv', 'themselv', 'thi', 'veri', 'wa', 'whi', 'yourselv'] not in stop_words.\n  'stop_words.' % sorted(inconsistent))\n"
     ],
     "output_type": "stream"
    }
   ],
   "source": [
    "#Construct tfidf matrix and get relevant scores\n",
    "tfidf = vectorizer.fit_transform(tweets).toarray()\n",
    "vocab = {v:i for i, v in enumerate(vectorizer.get_feature_names())}\n",
    "idf_vals = vectorizer.idf_\n",
    "idf_dict = {i:idf_vals[i] for i in vocab.values()} #keys are indices; values are IDF scores"
   ]
  },
  {
   "cell_type": "code",
   "execution_count": 7,
   "metadata": {
    "pycharm": {
     "is_executing": false
    }
   },
   "outputs": [],
   "source": [
    "#Get POS tags for tweets and save as a string\n",
    "tweet_tags = []\n",
    "for t in tweets:\n",
    "    tokens = basic_tokenize(preprocess(t))\n",
    "    tags = nltk.pos_tag(tokens)\n",
    "    tag_list = [x[1] for x in tags]\n",
    "    tag_str = \" \".join(tag_list)\n",
    "    tweet_tags.append(tag_str)"
   ]
  },
  {
   "cell_type": "code",
   "execution_count": 8,
   "metadata": {
    "pycharm": {
     "is_executing": false
    }
   },
   "outputs": [],
   "source": [
    "#We can use the TFIDF vectorizer to get a token matrix for the POS tags\n",
    "pos_vectorizer = TfidfVectorizer(\n",
    "    tokenizer=None,\n",
    "    lowercase=False,\n",
    "    preprocessor=None,\n",
    "    ngram_range=(1, 3),\n",
    "    stop_words=None,\n",
    "    use_idf=False,\n",
    "    smooth_idf=False,\n",
    "    norm=None,\n",
    "    decode_error='replace',\n",
    "    max_features=5000,\n",
    "    min_df=5,\n",
    "    max_df=0.75,\n",
    "    )"
   ]
  },
  {
   "cell_type": "code",
   "execution_count": 9,
   "metadata": {
    "pycharm": {
     "is_executing": false
    }
   },
   "outputs": [],
   "source": [
    "#Construct POS TF matrix and get vocab dict\n",
    "pos = pos_vectorizer.fit_transform(pd.Series(tweet_tags)).toarray()\n",
    "pos_vocab = {v:i for i, v in enumerate(pos_vectorizer.get_feature_names())}"
   ]
  },
  {
   "cell_type": "code",
   "execution_count": 10,
   "metadata": {
    "pycharm": {
     "is_executing": false
    }
   },
   "outputs": [],
   "source": [
    "#Now get other features\n",
    "sentiment_analyzer = VS()\n",
    "\n",
    "def count_twitter_objs(text_string):\n",
    "    \"\"\"\n",
    "    Accepts a text string and replaces:\n",
    "    1) urls with URLHERE\n",
    "    2) lots of whitespace with one instance\n",
    "    3) mentions with MENTIONHERE\n",
    "    4) hashtags with HASHTAGHERE\n",
    "\n",
    "    This allows us to get standardized counts of urls and mentions\n",
    "    Without caring about specific people mentioned.\n",
    "    \n",
    "    Returns counts of urls, mentions, and hashtags.\n",
    "    \"\"\"\n",
    "    space_pattern = '\\s+'\n",
    "    giant_url_regex = ('http[s]?://(?:[a-zA-Z]|[0-9]|[$-_@.&+]|'\n",
    "        '[!*\\(\\),]|(?:%[0-9a-fA-F][0-9a-fA-F]))+')\n",
    "    mention_regex = '@[\\w\\-]+'\n",
    "    hashtag_regex = '#[\\w\\-]+'\n",
    "    parsed_text = re.sub(space_pattern, ' ', text_string)\n",
    "    parsed_text = re.sub(giant_url_regex, 'URLHERE', parsed_text)\n",
    "    parsed_text = re.sub(mention_regex, 'MENTIONHERE', parsed_text)\n",
    "    parsed_text = re.sub(hashtag_regex, 'HASHTAGHERE', parsed_text)\n",
    "    return(parsed_text.count('URLHERE'),parsed_text.count('MENTIONHERE'),parsed_text.count('HASHTAGHERE'))\n",
    "\n",
    "def other_features(tweet):\n",
    "    \"\"\"This function takes a string and returns a list of features.\n",
    "    These include Sentiment scores, Text and Readability scores,\n",
    "    as well as Twitter specific features\"\"\"\n",
    "    sentiment = sentiment_analyzer.polarity_scores(tweet)\n",
    "    \n",
    "    words = preprocess(tweet) #Get text only\n",
    "    \n",
    "    syllables = textstat.syllable_count(words)\n",
    "    num_chars = sum(len(w) for w in words)\n",
    "    num_chars_total = len(tweet)\n",
    "    num_terms = len(tweet.split())\n",
    "    num_words = len(words.split())\n",
    "    avg_syl = round(float((syllables+0.001))/float(num_words+0.001),4)\n",
    "    num_unique_terms = len(set(words.split()))\n",
    "    \n",
    "    ###Modified FK grade, where avg words per sentence is just num words/1\n",
    "    FKRA = round(float(0.39 * float(num_words)/1.0) + float(11.8 * avg_syl) - 15.59,1)\n",
    "    ##Modified FRE score, where sentence fixed to 1\n",
    "    FRE = round(206.835 - 1.015*(float(num_words)/1.0) - (84.6*float(avg_syl)),2)\n",
    "    \n",
    "    twitter_objs = count_twitter_objs(tweet)\n",
    "    retweet = 0\n",
    "    if \"rt\" in words:\n",
    "        retweet = 1\n",
    "    features = [FKRA, FRE,syllables, avg_syl, num_chars, num_chars_total, num_terms, num_words,\n",
    "                num_unique_terms, sentiment['neg'], sentiment['pos'], sentiment['neu'], sentiment['compound'],\n",
    "                twitter_objs[2], twitter_objs[1],\n",
    "                twitter_objs[0], retweet]\n",
    "    #features = pandas.DataFrame(features)\n",
    "    return features\n",
    "\n",
    "def get_feature_array(tweets):\n",
    "    feats=[]\n",
    "    for t in tweets:\n",
    "        feats.append(other_features(t))\n",
    "    return np.array(feats)"
   ]
  },
  {
   "cell_type": "code",
   "execution_count": 11,
   "metadata": {
    "pycharm": {
     "is_executing": false
    }
   },
   "outputs": [],
   "source": [
    "other_features_names = [\"FKRA\", \"FRE\",\"num_syllables\", \"avg_syl_per_word\", \"num_chars\", \"num_chars_total\", \\\n",
    "                        \"num_terms\", \"num_words\", \"num_unique_words\", \"vader neg\",\"vader pos\",\"vader neu\", \\\n",
    "                        \"vader compound\", \"num_hashtags\", \"num_mentions\", \"num_urls\", \"is_retweet\"]"
   ]
  },
  {
   "cell_type": "code",
   "execution_count": 12,
   "metadata": {
    "pycharm": {
     "is_executing": false
    }
   },
   "outputs": [],
   "source": [
    "feats = get_feature_array(tweets)"
   ]
  },
  {
   "cell_type": "code",
   "execution_count": 13,
   "metadata": {
    "pycharm": {
     "is_executing": false
    }
   },
   "outputs": [],
   "source": [
    "#Now join them all up\n",
    "M = np.concatenate([tfidf,pos,feats],axis=1)"
   ]
  },
  {
   "cell_type": "code",
   "execution_count": 14,
   "metadata": {
    "pycharm": {
     "is_executing": false
    }
   },
   "outputs": [
    {
     "data": {
      "text/plain": "(24783, 11172)"
     },
     "metadata": {},
     "output_type": "execute_result",
     "execution_count": 14
    }
   ],
   "source": [
    "M.shape"
   ]
  },
  {
   "cell_type": "code",
   "execution_count": 15,
   "metadata": {
    "pycharm": {
     "is_executing": false
    }
   },
   "outputs": [],
   "source": [
    "#Finally get a list of variable names\n",
    "variables = ['']*len(vocab)\n",
    "for k,v in vocab.items():\n",
    "    variables[v] = k\n",
    "\n",
    "pos_variables = ['']*len(pos_vocab)\n",
    "for k,v in pos_vocab.items():\n",
    "    pos_variables[v] = k\n",
    "\n",
    "feature_names = variables+pos_variables+other_features_names"
   ]
  },
  {
   "cell_type": "code",
   "execution_count": 21,
   "outputs": [],
   "source": [
    "X = pd.DataFrame(M)\n",
    "y = df['class'].astype(int)\n",
    "X.columns = feature_names"
   ],
   "metadata": {
    "collapsed": false,
    "pycharm": {
     "name": "#%%\n",
     "is_executing": false
    }
   }
  },
  {
   "cell_type": "code",
   "execution_count": 17,
   "outputs": [
    {
     "name": "stdout",
     "text": [
      "Univariate Selection features found, use getUnivariateData() to get the features\n                  Specs        Score\n535               bitch  2384.592874\n11164         vader neg  1772.135115\n11166         vader neu  1384.101505\n11167    vader compound  1350.379776\n2002             faggot   903.795790\n6305              trash   852.094597\n512                bird   824.433547\n6998              yanke   648.175049\n4394             nigger   643.049468\n11156               FRE   600.180045\n1209             charli   589.646341\n11158  avg_syl_per_word   515.689760\n11155              FKRA   497.458888\n2916                hoe   483.474357\n7029             yellow   432.872647\n2000                fag   301.480469\n11170          num_urls   294.387789\n4901              pussi   266.527970\n6828        white trash   254.230504\n6818              white   253.601431\n2246               fuck   226.482701\n4573               oreo   213.074922\n1047             browni   206.540573\n3323             jihadi   201.869783\n4307              nigga   197.535373\n4095               mock   172.935700\n250                 ass   147.876857\n11157     num_syllables   146.967301\n4115             monkey   139.171421\n1332              color   138.253435\n...                 ...          ...\n3860                mad     7.568335\n2585               gone     7.539707\n8095             JJR NN     7.535938\n831         bitch think     7.526068\n6535            uniform     7.506901\n1152             cardin     7.505382\n1535           da white     7.505382\n2892            hillari     7.505382\n4139               mous     7.505382\n4674          perfectli     7.505382\n4806             powder     7.505382\n6143          thi whole     7.505382\n6321          trash tho     7.505382\n6744         wear beani     7.505382\n7091           CC DT CC     7.505382\n8304           NN MD CC     7.505382\n2413           get fuck     7.504202\n3616          like fuck     7.504202\n7593          IN DT NNS     7.500595\n1374            complet     7.489028\n3827           love hoe     7.450976\n8339          NN NN WDT     7.446565\n714          bitch look     7.420753\n8422          NN RBS JJ     7.418018\n2245         fucc nicca     7.418018\n4667          peopl thi     7.418018\n8491          NN VBG NN     7.414419\n9426          RBR IN NN     7.404603\n2117              first     7.401383\n4571              orang     7.381874\n\n[1000 rows x 2 columns]\n"
     ],
     "output_type": "stream"
    }
   ],
   "source": [
    "#Feature selection \n",
    "from sklearn.feature_selection import SelectKBest, f_classif\n",
    "# Univariate Selection -- apply SelectKBest class to extract top n best features\n",
    "bestfeatures = SelectKBest(score_func=f_classif, k=1000)\n",
    "fit = bestfeatures.fit(X,y)\n",
    "dfscores = pd.DataFrame(fit.scores_)\n",
    "dfcolumns = pd.DataFrame(X.columns)\n",
    "# concat two dataframes for better visualization \n",
    "featureScores = pd.concat([dfcolumns,dfscores],axis=1)\n",
    "featureScores.columns = ['Specs','Score']  #naming the dataframe columns\n",
    "print('Univariate Selection features found, use getUnivariateData() to get the features')\n",
    "# Extract the top n features\n",
    "uni_selected_feat = featureScores.nlargest(1000,'Score')\n",
    "print(uni_selected_feat) # print out the top n features selected\n",
    "# Saving the top n features to a data frame\n",
    "top_univariate_features = pd.DataFrame()\n",
    "for i in range(0, 1000):\n",
    "    curr_column_vals = X.iloc[:, uni_selected_feat.iloc[i].name]\n",
    "    curr_column_name = uni_selected_feat.iloc[i][0]\n",
    "    top_univariate_features[curr_column_name] = curr_column_vals\n",
    "X = top_univariate_features\n"
   ],
   "metadata": {
    "collapsed": false,
    "pycharm": {
     "name": "#%%\n",
     "is_executing": false
    }
   }
  },
  {
   "cell_type": "code",
   "execution_count": 17,
   "outputs": [
    {
     "name": "stdout",
     "text": [
      "Feature Importance results saved, use getFeatureImpt() to get the features\nvader compound      0.025969\ntrash               0.025018\nbird                0.024983\nbitch               0.019569\nvader neu           0.017681\nyanke               0.011888\ncharli              0.010427\nyellow              0.009343\nhoe                 0.009238\nvader neg           0.008805\nfaggot              0.007941\navg_syl_per_word    0.007539\nnum_chars_total     0.007478\nmonkey              0.006879\nFKRA                0.006771\nFRE                 0.006516\npussi               0.006423\nbrowni              0.006108\nnum_urls            0.005390\nnum_chars           0.005139\nnum_syllables       0.004838\nnum_unique_words    0.004456\nnigger              0.004427\nmock                0.004225\nnum_words           0.004203\nnum_terms           0.004091\nnum_mentions        0.003823\ncolor               0.003802\noreo                0.003710\nPRP                 0.003432\n                      ...   \nTO DT NN            0.000296\nVB RB               0.000296\nVBP NN IN           0.000294\nday                 0.000294\nwould               0.000293\nplanet ape          0.000292\nonli                0.000292\ncunt                0.000291\nRB DT NN            0.000291\ncome                0.000290\nlmao                0.000290\nbabi bird           0.000290\nrangel              0.000289\nblue                0.000289\nJJ VBD              0.000289\nshake               0.000287\ncall trash          0.000287\nPRP MD VB           0.000287\nwin                 0.000287\nNN PRP DT           0.000286\nVBD IN              0.000286\nlive                0.000284\nJJR                 0.000283\nfull white          0.000283\nshi glizzi          0.000283\nspa                 0.000283\nNN CC DT            0.000283\nfuckin faggot       0.000282\nNNS VBP IN          0.000282\neye                 0.000282\nLength: 500, dtype: float64\n"
     ],
     "output_type": "stream"
    }
   ],
   "source": [
    "# Feature Importance \n",
    "from sklearn.ensemble import ExtraTreesClassifier\n",
    "model = ExtraTreesClassifier()\n",
    "model.fit(X,y)\n",
    "print('Feature Importance results saved, use getFeatureImpt() to get the features')\n",
    "\n",
    "#plot graph of feature importances for better visualization\n",
    "feat_importances = pd.Series(model.feature_importances_, index=X.columns)\n",
    "top_feat_impt = feat_importances.nlargest(500) \n",
    "print(top_feat_impt) # prints out the n best features\n",
    "\n",
    "# Saving the top n features to a dataframe\n",
    "list_names = top_feat_impt.axes \n",
    "best_impt_features = pd.DataFrame()\n",
    "for i in range(0, 500):\n",
    "    curr_column_name = list_names[0][i]\n",
    "    curr_column_index = X.columns.get_loc(curr_column_name)\n",
    "    curr_column_vals = X.iloc[:, curr_column_index]\n",
    "    best_impt_features[curr_column_name] = curr_column_vals\n",
    "X = best_impt_features\n"
   ],
   "metadata": {
    "collapsed": false,
    "pycharm": {
     "name": "#%%\n",
     "is_executing": false
    }
   }
  },
  {
   "cell_type": "code",
   "execution_count": 22,
   "outputs": [],
   "source": [
    "from sklearn.model_selection import train_test_split"
   ],
   "metadata": {
    "collapsed": false,
    "pycharm": {
     "name": "#%%\n",
     "is_executing": false
    }
   }
  },
  {
   "cell_type": "code",
   "execution_count": 23,
   "outputs": [],
   "source": [
    "X_train, X_test, y_train, y_test = train_test_split(X, y, random_state=42, test_size=0.1)\n"
   ],
   "metadata": {
    "collapsed": false,
    "pycharm": {
     "name": "#%%\n",
     "is_executing": false
    }
   }
  },
  {
   "cell_type": "code",
   "execution_count": 24,
   "outputs": [
    {
     "name": "stdout",
     "text": [
      "Done!\n"
     ],
     "output_type": "stream"
    }
   ],
   "source": [
    "from imblearn.under_sampling import RandomUnderSampler\n",
    "rus = RandomUnderSampler(random_state=2)\n",
    "X_res, y_res = rus.fit_resample(X_train, y_train)\n",
    "X_train = pd.DataFrame(X_res)\n",
    "X_train.columns = feature_names\n",
    "y_train = pd.DataFrame()\n",
    "y_train['labels'] = y_res\n",
    "print(\"Done!\")\n"
   ],
   "metadata": {
    "collapsed": false,
    "pycharm": {
     "name": "#%%\n",
     "is_executing": false
    }
   }
  },
  {
   "cell_type": "code",
   "execution_count": 25,
   "outputs": [],
   "source": [
    "#y_train = y_train.to_frame(name='labels')\n",
    "y_test = y_test.to_frame(name='labels')"
   ],
   "metadata": {
    "collapsed": false,
    "pycharm": {
     "name": "#%%\n",
     "is_executing": false
    }
   }
  },
  {
   "cell_type": "code",
   "execution_count": 26,
   "outputs": [],
   "source": [
    "X_train.to_csv('C:/Users/mikec/Documents/X_train.csv', index=None, header=True, encoding='utf-8')\n",
    "X_test.to_csv('C:/Users/mikec/Documents/X_test.csv', index=None, header=True, encoding='utf-8')\n",
    "y_train.to_csv('C:/Users/mikec/Documents/y_train.csv', index=None, header=True, encoding='utf-8')\n",
    "y_test.to_csv('C:/Users/mikec/Documents/y_test.csv', index=None, header=True, encoding='utf-8')"
   ],
   "metadata": {
    "collapsed": false,
    "pycharm": {
     "name": "#%%\n",
     "is_executing": false
    }
   }
  },
  {
   "cell_type": "code",
   "execution_count": 27,
   "outputs": [
    {
     "name": "stdout",
     "text": [
      "Checking whether there is an H2O instance running at http://localhost:54321 ",
      ".",
      ".",
      ".",
      ".",
      ".",
      " not found.",
      "\n",
      "Attempting to start a local H2O server...",
      "\n",
      "  Java Version: java version \"1.8.0_211\"\r; Java(TM) SE Runtime Environment (build 1.8.0_211-b12)\r; Java HotSpot(TM) 64-Bit Server VM (build 25.211-b12, mixed mode)",
      "\n",
      "  Starting server from C:\\Users\\mikec\\AppData\\Local\\Programs\\Python\\Python37\\lib\\site-packages\\h2o\\backend\\bin\\h2o.jar",
      "\n",
      "  Ice root: C:\\Users\\mikec\\AppData\\Local\\Temp\\tmpz5vlgnho",
      "\n",
      "  JVM stdout: C:\\Users\\mikec\\AppData\\Local\\Temp\\tmpz5vlgnho\\h2o_mikec_started_from_python.out",
      "\n",
      "  JVM stderr: C:\\Users\\mikec\\AppData\\Local\\Temp\\tmpz5vlgnho\\h2o_mikec_started_from_python.err",
      "\n",
      "  Server is running at http://127.0.0.1:54321",
      "\n",
      "Connecting to H2O server at http://127.0.0.1:54321 ..",
      ".",
      " successful.",
      "\n"
     ],
     "output_type": "stream"
    },
    {
     "data": {
      "text/plain": "--------------------------  ------------------------------------------\nH2O cluster uptime:         03 secs\nH2O cluster timezone:       Europe/Berlin\nH2O data parsing timezone:  UTC\nH2O cluster version:        3.24.0.5\nH2O cluster version age:    1 month and 19 days\nH2O cluster name:           H2O_from_python_mikec_dkzj0m\nH2O cluster total nodes:    1\nH2O cluster free memory:    1.752 Gb\nH2O cluster total cores:    8\nH2O cluster allowed cores:  8\nH2O cluster status:         accepting new members, healthy\nH2O connection url:         http://127.0.0.1:54321\nH2O connection proxy:\nH2O internal security:      False\nH2O API Extensions:         Amazon S3, Algos, AutoML, Core V3, Core V4\nPython version:             3.7.3 final\n--------------------------  ------------------------------------------",
      "text/html": "<div style=\"overflow:auto\"><table style=\"width:50%\"><tr><td>H2O cluster uptime:</td>\n<td>03 secs</td></tr>\n<tr><td>H2O cluster timezone:</td>\n<td>Europe/Berlin</td></tr>\n<tr><td>H2O data parsing timezone:</td>\n<td>UTC</td></tr>\n<tr><td>H2O cluster version:</td>\n<td>3.24.0.5</td></tr>\n<tr><td>H2O cluster version age:</td>\n<td>1 month and 19 days </td></tr>\n<tr><td>H2O cluster name:</td>\n<td>H2O_from_python_mikec_dkzj0m</td></tr>\n<tr><td>H2O cluster total nodes:</td>\n<td>1</td></tr>\n<tr><td>H2O cluster free memory:</td>\n<td>1.752 Gb</td></tr>\n<tr><td>H2O cluster total cores:</td>\n<td>8</td></tr>\n<tr><td>H2O cluster allowed cores:</td>\n<td>8</td></tr>\n<tr><td>H2O cluster status:</td>\n<td>accepting new members, healthy</td></tr>\n<tr><td>H2O connection url:</td>\n<td>http://127.0.0.1:54321</td></tr>\n<tr><td>H2O connection proxy:</td>\n<td>None</td></tr>\n<tr><td>H2O internal security:</td>\n<td>False</td></tr>\n<tr><td>H2O API Extensions:</td>\n<td>Amazon S3, Algos, AutoML, Core V3, Core V4</td></tr>\n<tr><td>Python version:</td>\n<td>3.7.3 final</td></tr></table></div>"
     },
     "metadata": {},
     "output_type": "display_data"
    }
   ],
   "source": [
    "import h2o\n",
    "h2o.init()\n",
    "from h2o.automl import H2OAutoML"
   ],
   "metadata": {
    "collapsed": false,
    "pycharm": {
     "name": "#%%\n",
     "is_executing": false
    }
   }
  },
  {
   "cell_type": "code",
   "execution_count": 28,
   "outputs": [
    {
     "name": "stdout",
     "text": [
      "Parse progress: |",
      "█",
      "████████████████",
      "█",
      "█",
      "█",
      "█",
      "█",
      "█",
      "█",
      "█",
      "█",
      "█",
      "█",
      "█",
      "█",
      "██",
      "█",
      "█",
      "██",
      "█",
      "██",
      "█",
      "█",
      "█",
      "█",
      "█",
      "█",
      "█",
      "█",
      "█",
      "█",
      "█",
      "█",
      "████",
      "█",
      "█| 100%",
      "\n",
      "Parse progress: |",
      "█████████████████████████████████████████████████████████| 100%",
      "\n",
      "Parse progress: |",
      "██",
      "███",
      "█",
      "█",
      "█",
      "█",
      "████",
      "█",
      "█",
      "█",
      "█",
      "█",
      "█",
      "█",
      "█",
      "█",
      "█",
      "█",
      "█",
      "█",
      "█",
      "█",
      "█",
      "█",
      "█",
      "█",
      "█",
      "█",
      "█",
      "███",
      "█",
      "█████████",
      "█",
      "█",
      "█",
      "█",
      "█",
      "█",
      "██",
      "█| 100%",
      "\n",
      "Parse progress: |█████████████████████████████████████████████████████████| 100%",
      "\n"
     ],
     "output_type": "stream"
    }
   ],
   "source": [
    "X_train = h2o.import_file('C:/Users/mikec/Documents/X_train.csv')\n",
    "y_train = h2o.import_file('C:/Users/mikec/Documents/y_train.csv')\n",
    "X_test = h2o.import_file('C:/Users/mikec/Documents/X_test.csv')\n",
    "y_test = h2o.import_file('C:/Users/mikec/Documents/y_test.csv')"
   ],
   "metadata": {
    "collapsed": false,
    "pycharm": {
     "name": "#%%\n",
     "is_executing": false
    }
   }
  },
  {
   "cell_type": "code",
   "execution_count": null,
   "outputs": [],
   "source": [
    "# preparing the train and test data sets\n",
    "# now convert tweet vecs and labels to a pandas dataframe and back to h2o dataframe\n",
    "train = X_train.cbind(y_train)\n",
    "test = X_test.cbind(y_test)"
   ],
   "metadata": {
    "collapsed": false,
    "pycharm": {
     "name": "#%%\n",
     "is_executing": true
    }
   }
  },
  {
   "cell_type": "code",
   "execution_count": null,
   "outputs": [],
   "source": [
    "# more on data prep\n",
    "x = train.columns         # x: A list/vector of predictor column names or indexes. \n",
    "                          # This argument only needs to be specified if the user wants to exclude columns from the \n",
    "                          # set of predictors. If all columns (other than the response) should be used in prediction, \n",
    "                          # then this does not need to be set.\n",
    "\n",
    "y = \"labels\"              # This argument is the name (or index) of the response column\n",
    "x.remove(y)\n",
    "\n",
    "# need to set train and test\n",
    "train[y] = train[y].asfactor()\n",
    "test[y] = test[y].asfactor()"
   ],
   "metadata": {
    "collapsed": false,
    "pycharm": {
     "name": "#%%\n",
     "is_executing": true
    }
   }
  },
  {
   "cell_type": "code",
   "execution_count": 31,
   "outputs": [
    {
     "name": "stdout",
     "text": [
      "AutoML progress: |",
      "█",
      "█",
      "█",
      "█",
      "█",
      "█",
      "█",
      "█",
      "█",
      "█",
      "█",
      "█",
      "█",
      "█",
      "█",
      "█",
      "█",
      "█",
      "█",
      "█",
      "█",
      "█",
      "█",
      "█",
      "█",
      "█",
      "█",
      "█",
      "█",
      "█",
      "█",
      "█",
      "█",
      "█",
      "█",
      "█",
      "█",
      "█",
      "█",
      "█",
      "█",
      "█",
      "█",
      "█",
      "█",
      "█",
      "█",
      "█",
      "█",
      "█",
      "█",
      "█",
      "█",
      "█",
      "█",
      "█| 100%",
      "\n"
     ],
     "output_type": "stream"
    }
   ],
   "source": [
    "# now the AUTO-ML piece comes in\n",
    "aml = H2OAutoML(max_runtime_secs=1800) #max_models=10 or 20?, max_runtime_secs=3600\n",
    "aml.train(x=x, y=y, training_frame=train)"
   ],
   "metadata": {
    "collapsed": false,
    "pycharm": {
     "name": "#%%\n",
     "is_executing": false
    }
   }
  },
  {
   "cell_type": "code",
   "execution_count": 32,
   "outputs": [
    {
     "data": {
      "text/html": "<table>\n<thead>\n<tr><th>model_id                                           </th><th style=\"text-align: right;\">  mean_per_class_error</th><th style=\"text-align: right;\">  logloss</th><th style=\"text-align: right;\">    rmse</th><th style=\"text-align: right;\">     mse</th></tr>\n</thead>\n<tbody>\n<tr><td>StackedEnsemble_BestOfFamily_AutoML_20190807_224054</td><td style=\"text-align: right;\">              0.21485 </td><td style=\"text-align: right;\"> 0.528914</td><td style=\"text-align: right;\">0.411059</td><td style=\"text-align: right;\">0.168969</td></tr>\n<tr><td>StackedEnsemble_AllModels_AutoML_20190807_224054   </td><td style=\"text-align: right;\">              0.21485 </td><td style=\"text-align: right;\"> 0.528914</td><td style=\"text-align: right;\">0.411059</td><td style=\"text-align: right;\">0.168969</td></tr>\n<tr><td>GBM_1_AutoML_20190807_224054                       </td><td style=\"text-align: right;\">              0.219326</td><td style=\"text-align: right;\"> 0.58951 </td><td style=\"text-align: right;\">0.440333</td><td style=\"text-align: right;\">0.193893</td></tr>\n<tr><td>DRF_1_AutoML_20190807_224054                       </td><td style=\"text-align: right;\">              0.272512</td><td style=\"text-align: right;\"> 0.837383</td><td style=\"text-align: right;\">0.56311 </td><td style=\"text-align: right;\">0.317093</td></tr>\n<tr><td>GLM_grid_1_AutoML_20190807_224054_model_1          </td><td style=\"text-align: right;\">              0.306214</td><td style=\"text-align: right;\"> 0.760702</td><td style=\"text-align: right;\">0.511483</td><td style=\"text-align: right;\">0.261615</td></tr>\n</tbody>\n</table>"
     },
     "metadata": {},
     "output_type": "display_data"
    },
    {
     "data": {
      "text/plain": ""
     },
     "metadata": {},
     "output_type": "execute_result",
     "execution_count": 32
    }
   ],
   "source": [
    "# View the AutoML Leaderboard\n",
    "lb = aml.leaderboard\n",
    "lb.head(rows=lb.nrows)  # Print all rows instead of default (10 rows)"
   ],
   "metadata": {
    "collapsed": false,
    "pycharm": {
     "name": "#%%\n",
     "is_executing": false
    }
   }
  },
  {
   "cell_type": "code",
   "execution_count": 33,
   "outputs": [],
   "source": [
    "lb_pd = lb.as_data_frame()"
   ],
   "metadata": {
    "collapsed": false,
    "pycharm": {
     "name": "#%%\n",
     "is_executing": false
    }
   }
  },
  {
   "cell_type": "code",
   "execution_count": 34,
   "outputs": [
    {
     "name": "stdout",
     "text": [
      "Model Details",
      "\n",
      "=============",
      "\n",
      "H2OStackedEnsembleEstimator",
      " ",
      ": ",
      " ",
      "Stacked Ensemble",
      "\n",
      "Model Key: ",
      " ",
      "StackedEnsemble_BestOfFamily_AutoML_20190807_224054",
      "\n",
      "No model summary for this model",
      "\n",
      "\n",
      "\n",
      "ModelMetricsMultinomialGLM: stackedensemble",
      "\n",
      "** Reported on train data. **",
      "\n",
      "\n",
      "MSE: 0.0647390981292803",
      "\n",
      "RMSE: 0.2544387905357206",
      "\n",
      "\n",
      "ModelMetricsMultinomialGLM: stackedensemble",
      "\n",
      "** Reported on cross-validation data. **",
      "\n",
      "\n",
      "MSE: 0.16896924835495394",
      "\n",
      "RMSE: 0.41105869210485496",
      "\n"
     ],
     "output_type": "stream"
    },
    {
     "data": {
      "text/plain": ""
     },
     "metadata": {},
     "output_type": "execute_result",
     "execution_count": 34
    }
   ],
   "source": [
    "# The leader model is stored here\n",
    "aml.leader"
   ],
   "metadata": {
    "collapsed": false,
    "pycharm": {
     "name": "#%%\n",
     "is_executing": false
    }
   }
  },
  {
   "cell_type": "code",
   "execution_count": 35,
   "outputs": [
    {
     "name": "stdout",
     "text": [
      "stackedensemble prediction progress: |",
      "████████████████████████████████████| 100%",
      "\n",
      "\n"
     ],
     "output_type": "stream"
    },
    {
     "data": {
      "text/html": "<table>\n<thead>\n<tr><th style=\"text-align: right;\">  predict</th><th style=\"text-align: right;\">       p0</th><th style=\"text-align: right;\">       p1</th><th style=\"text-align: right;\">        p2</th></tr>\n</thead>\n<tbody>\n<tr><td style=\"text-align: right;\">        1</td><td style=\"text-align: right;\">0.117819 </td><td style=\"text-align: right;\">0.859985 </td><td style=\"text-align: right;\">0.0221957 </td></tr>\n<tr><td style=\"text-align: right;\">        1</td><td style=\"text-align: right;\">0.139296 </td><td style=\"text-align: right;\">0.849054 </td><td style=\"text-align: right;\">0.0116508 </td></tr>\n<tr><td style=\"text-align: right;\">        2</td><td style=\"text-align: right;\">0.162042 </td><td style=\"text-align: right;\">0.0828813</td><td style=\"text-align: right;\">0.755077  </td></tr>\n<tr><td style=\"text-align: right;\">        0</td><td style=\"text-align: right;\">0.807759 </td><td style=\"text-align: right;\">0.167267 </td><td style=\"text-align: right;\">0.0249739 </td></tr>\n<tr><td style=\"text-align: right;\">        1</td><td style=\"text-align: right;\">0.326073 </td><td style=\"text-align: right;\">0.657616 </td><td style=\"text-align: right;\">0.0163104 </td></tr>\n<tr><td style=\"text-align: right;\">        1</td><td style=\"text-align: right;\">0.101193 </td><td style=\"text-align: right;\">0.889185 </td><td style=\"text-align: right;\">0.00962218</td></tr>\n<tr><td style=\"text-align: right;\">        1</td><td style=\"text-align: right;\">0.195824 </td><td style=\"text-align: right;\">0.79021  </td><td style=\"text-align: right;\">0.0139659 </td></tr>\n<tr><td style=\"text-align: right;\">        1</td><td style=\"text-align: right;\">0.173461 </td><td style=\"text-align: right;\">0.817731 </td><td style=\"text-align: right;\">0.00880805</td></tr>\n<tr><td style=\"text-align: right;\">        1</td><td style=\"text-align: right;\">0.0988055</td><td style=\"text-align: right;\">0.892912 </td><td style=\"text-align: right;\">0.00828289</td></tr>\n<tr><td style=\"text-align: right;\">        1</td><td style=\"text-align: right;\">0.0978716</td><td style=\"text-align: right;\">0.893042 </td><td style=\"text-align: right;\">0.00908649</td></tr>\n</tbody>\n</table>"
     },
     "metadata": {},
     "output_type": "display_data"
    }
   ],
   "source": [
    "preds = aml.predict(test)\n",
    "print(preds)"
   ],
   "metadata": {
    "collapsed": false,
    "pycharm": {
     "name": "#%%\n",
     "is_executing": false
    }
   }
  },
  {
   "cell_type": "code",
   "execution_count": 36,
   "outputs": [
    {
     "data": {
      "text/html": "<table>\n<thead>\n<tr><th style=\"text-align: right;\">  predict</th><th style=\"text-align: right;\">  labels</th></tr>\n</thead>\n<tbody>\n<tr><td style=\"text-align: right;\">        1</td><td style=\"text-align: right;\">       1</td></tr>\n<tr><td style=\"text-align: right;\">        1</td><td style=\"text-align: right;\">       1</td></tr>\n<tr><td style=\"text-align: right;\">        2</td><td style=\"text-align: right;\">       2</td></tr>\n<tr><td style=\"text-align: right;\">        0</td><td style=\"text-align: right;\">       1</td></tr>\n<tr><td style=\"text-align: right;\">        1</td><td style=\"text-align: right;\">       1</td></tr>\n<tr><td style=\"text-align: right;\">        1</td><td style=\"text-align: right;\">       1</td></tr>\n<tr><td style=\"text-align: right;\">        1</td><td style=\"text-align: right;\">       1</td></tr>\n<tr><td style=\"text-align: right;\">        1</td><td style=\"text-align: right;\">       1</td></tr>\n<tr><td style=\"text-align: right;\">        1</td><td style=\"text-align: right;\">       1</td></tr>\n<tr><td style=\"text-align: right;\">        1</td><td style=\"text-align: right;\">       1</td></tr>\n</tbody>\n</table>"
     },
     "metadata": {},
     "output_type": "display_data"
    },
    {
     "name": "stdout",
     "text": [
      "\n"
     ],
     "output_type": "stream"
    }
   ],
   "source": [
    "var = preds[\"predict\"].cbind(test[y])\n",
    "print(var)"
   ],
   "metadata": {
    "collapsed": false,
    "pycharm": {
     "name": "#%%\n",
     "is_executing": false
    }
   }
  },
  {
   "cell_type": "code",
   "execution_count": 37,
   "outputs": [
    {
     "name": "stdout",
     "text": [
      "              precision    recall  f1-score   support\n\n           0       0.30      0.73      0.42       164\n           1       0.98      0.82      0.89      1905\n           2       0.76      0.90      0.83       410\n\n    accuracy                           0.82      2479\n   macro avg       0.68      0.82      0.71      2479\nweighted avg       0.90      0.82      0.85      2479\n",
      "\n",
      "[[ 119   25   20]\n [ 254 1553   98]\n [  28   11  371]]",
      "\n",
      "0.8241226300927793",
      "\n",
      "0.847493303550912",
      "\n"
     ],
     "output_type": "stream"
    },
    {
     "data": {
      "text/plain": "<Figure size 360x360 with 1 Axes>",
      "image/png": "[encoded data removed]"
     },
     "metadata": {
      "needs_background": "light"
     },
     "output_type": "display_data"
    }
   ],
   "source": [
    "# convert to pandas dataframe\n",
    "y_test = h2o.as_list(test[y], use_pandas=True)\n",
    "y_pred = h2o.as_list(preds[\"predict\"])\n",
    "report = classification_report(y_test, y_pred)\n",
    "print(report)\n",
    "print(metrics.confusion_matrix(y_test, y_pred))\n",
    "print(metrics.accuracy_score(y_test, y_pred))\n",
    "print(metrics.f1_score(y_test, y_pred, average='weighted'))\n",
    "\n",
    "confusion_matrix = metrics.confusion_matrix(y_test,y_pred)\n",
    "matrix_proportions = np.zeros((3,3))\n",
    "for i in range(0,3):\n",
    "    matrix_proportions[i,:] = confusion_matrix[i,:]/float(confusion_matrix[i,:].sum())\n",
    "names=['Hate','Offensive','Neither']\n",
    "confusion_df = pd.DataFrame(matrix_proportions, index=names,columns=names)\n",
    "plt.figure(figsize=(5,5))\n",
    "seaborn.heatmap(confusion_df,annot=True,annot_kws={\"size\": 12},cmap='gist_gray_r',cbar=False, square=True,fmt='.2f')\n",
    "plt.ylabel(r'True categories',fontsize=14)\n",
    "plt.xlabel(r'Predicted categories',fontsize=14)\n",
    "plt.tick_params(labelsize=12)\n",
    "plt.savefig('C:/Users/mikec/Documents/Results/RandomMax05.png')\n",
    "\n",
    "f = open(\"C:/Users/mikec/Documents/Results/RandomMax05.txt\", \"a\")\n",
    "print(\"Random under-sampling, max run time 30 mins\", file=f)\n",
    "print(report, file=f)\n",
    "print(metrics.confusion_matrix(y_test, y_pred), file=f)\n",
    "print(metrics.accuracy_score(y_test, y_pred), file=f)\n",
    "print(metrics.f1_score(y_test, y_pred, average='weighted'), file=f)\n",
    "f.close()"
   ],
   "metadata": {
    "collapsed": false,
    "pycharm": {
     "name": "#%%\n",
     "is_executing": false
    }
   }
  },
  {
   "cell_type": "code",
   "execution_count": 38,
   "outputs": [],
   "source": [
    "file = lb_pd.to_csv('C:/Users/mikec/Documents/Results/RandomMax05.csv')\n",
    "#featuresSelected = top_feat_impt.to_csv('C:/Users/mikec/Documents/Results/ifeature_selection.csv')"
   ],
   "metadata": {
    "collapsed": false,
    "pycharm": {
     "name": "#%%\n",
     "is_executing": false
    }
   }
  },
  {
   "cell_type": "code",
   "execution_count": null,
   "outputs": [],
   "source": [
    " \n"
   ],
   "metadata": {
    "collapsed": false,
    "pycharm": {
     "name": "#%%\n"
    }
   }
  }
 ],
 "metadata": {
  "kernelspec": {
   "name": "pycharm-f7050d0a",
   "language": "python",
   "display_name": "PyCharm (DAADRISE_AbusiveLangProject)"
  },
  "language_info": {
   "codemirror_mode": {
    "name": "ipython",
    "version": 3
   },
   "file_extension": ".py",
   "mimetype": "text/x-python",
   "name": "python",
   "nbconvert_exporter": "python",
   "pygments_lexer": "ipython3",
   "version": "3.7.3"
  },
  "pycharm": {
   "stem_cell": {
    "cell_type": "raw",
    "source": [],
    "metadata": {
     "collapsed": false
    }
   }
  }
 },
 "nbformat": 4,
 "nbformat_minor": 2
}