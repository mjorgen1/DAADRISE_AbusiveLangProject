{
 "cells": [
  {
   "cell_type": "code",
   "execution_count": 1,
   "outputs": [],
   "source": [
    "import pandas as pd\n",
    "import numpy as np\n",
    "import nltk\n",
    "from nltk.stem.porter import *\n",
    "from vaderSentiment.vaderSentiment import SentimentIntensityAnalyzer as VS\n",
    "from textstat.textstat import *\n",
    "from sklearn import metrics\n",
    "from sklearn.metrics import classification_report\n",
    "from sklearn.feature_extraction.text import TfidfVectorizer\n",
    "from sklearn.model_selection import train_test_split\n",
    "import matplotlib.pyplot as plt\n",
    "import seaborn\n",
    "%matplotlib inline"
   ],
   "metadata": {
    "collapsed": false,
    "pycharm": {
     "name": "#%%\n",
     "is_executing": false
    }
   }
  },
  {
   "cell_type": "code",
   "execution_count": 2,
   "metadata": {
    "pycharm": {
     "is_executing": false
    }
   },
   "outputs": [],
   "source": [
    "df = pd.read_csv(\"C:/Users/mikec/Documents/davidson/data/labeled_data.csv\")"
   ]
  },
  {
   "cell_type": "code",
   "execution_count": 3,
   "metadata": {
    "pycharm": {
     "is_executing": false
    }
   },
   "outputs": [],
   "source": [
    "tweets=df.tweet"
   ]
  },
  {
   "cell_type": "code",
   "execution_count": 4,
   "metadata": {
    "pycharm": {
     "is_executing": false
    }
   },
   "outputs": [],
   "source": [
    "stopwords=stopwords = nltk.corpus.stopwords.words(\"english\")\n",
    "\n",
    "other_exclusions = [\"#ff\", \"ff\", \"rt\"]\n",
    "stopwords.extend(other_exclusions)\n",
    "\n",
    "stemmer = PorterStemmer()\n",
    "\n",
    "def preprocess(text_string):\n",
    "    \"\"\"\n",
    "    Accepts a text string and replaces:\n",
    "    1) urls with URLHERE\n",
    "    2) lots of whitespace with one instance\n",
    "    3) mentions with MENTIONHERE\n",
    "\n",
    "    This allows us to get standardized counts of urls and mentions\n",
    "    Without caring about specific people mentioned\n",
    "    \"\"\"\n",
    "    space_pattern = '\\s+'\n",
    "    giant_url_regex = ('http[s]?://(?:[a-zA-Z]|[0-9]|[$-_@.&+]|'\n",
    "        '[!*\\(\\),]|(?:%[0-9a-fA-F][0-9a-fA-F]))+')\n",
    "    mention_regex = '@[\\w\\-]+'\n",
    "    parsed_text = re.sub(space_pattern, ' ', text_string)\n",
    "    parsed_text = re.sub(giant_url_regex, '', parsed_text)\n",
    "    parsed_text = re.sub(mention_regex, '', parsed_text)\n",
    "    return parsed_text\n",
    "\n",
    "def tokenize(tweet):\n",
    "    \"\"\"Removes punctuation & excess whitespace, sets to lowercase,\n",
    "    and stems tweets. Returns a list of stemmed tokens.\"\"\"\n",
    "    tweet = \" \".join(re.split(\"[^a-zA-Z]+\", tweet.lower())).strip()\n",
    "    tokens = [stemmer.stem(t) for t in tweet.split()]\n",
    "    return tokens\n",
    "\n",
    "def basic_tokenize(tweet):\n",
    "    \"\"\"Same as tokenize but without the stemming\"\"\"\n",
    "    tweet = \" \".join(re.split(\"[^a-zA-Z.,!?]+\", tweet.lower())).strip()\n",
    "    return tweet.split()\n",
    "\n",
    "vectorizer = TfidfVectorizer(\n",
    "    tokenizer=tokenize,\n",
    "    preprocessor=preprocess,\n",
    "    ngram_range=(1, 3),\n",
    "    stop_words=stopwords,\n",
    "    use_idf=True,\n",
    "    smooth_idf=False,\n",
    "    norm=None,\n",
    "    decode_error='replace',\n",
    "    max_features=10000,\n",
    "    min_df=5,\n",
    "    max_df=0.75\n",
    "    )"
   ]
  },
  {
   "cell_type": "code",
   "execution_count": 5,
   "metadata": {
    "pycharm": {
     "is_executing": false
    }
   },
   "outputs": [],
   "source": [
    "import warnings\n",
    "warnings.simplefilter(action='ignore', category=FutureWarning)"
   ]
  },
  {
   "cell_type": "code",
   "execution_count": 6,
   "metadata": {
    "pycharm": {
     "is_executing": false
    }
   },
   "outputs": [
    {
     "name": "stderr",
     "text": [
      "C:\\Users\\mikec\\AppData\\Local\\Programs\\Python\\Python37\\lib\\site-packages\\sklearn\\feature_extraction\\text.py:300: UserWarning: Your stop_words may be inconsistent with your preprocessing. Tokenizing the stop words generated tokens ['abov', 'ani', 'becaus', 'befor', 'doe', 'dure', 'ha', 'hi', 'onc', 'onli', 'ourselv', 'themselv', 'thi', 'veri', 'wa', 'whi', 'yourselv'] not in stop_words.\n  'stop_words.' % sorted(inconsistent))\n"
     ],
     "output_type": "stream"
    }
   ],
   "source": [
    "#Construct tfidf matrix and get relevant scores\n",
    "tfidf = vectorizer.fit_transform(tweets).toarray()\n",
    "vocab = {v:i for i, v in enumerate(vectorizer.get_feature_names())}\n",
    "idf_vals = vectorizer.idf_\n",
    "idf_dict = {i:idf_vals[i] for i in vocab.values()} #keys are indices; values are IDF scores"
   ]
  },
  {
   "cell_type": "code",
   "execution_count": 7,
   "metadata": {
    "pycharm": {
     "is_executing": false
    }
   },
   "outputs": [],
   "source": [
    "#Get POS tags for tweets and save as a string\n",
    "tweet_tags = []\n",
    "for t in tweets:\n",
    "    tokens = basic_tokenize(preprocess(t))\n",
    "    tags = nltk.pos_tag(tokens)\n",
    "    tag_list = [x[1] for x in tags]\n",
    "    tag_str = \" \".join(tag_list)\n",
    "    tweet_tags.append(tag_str)"
   ]
  },
  {
   "cell_type": "code",
   "execution_count": 8,
   "metadata": {
    "pycharm": {
     "is_executing": false
    }
   },
   "outputs": [],
   "source": [
    "#We can use the TFIDF vectorizer to get a token matrix for the POS tags\n",
    "pos_vectorizer = TfidfVectorizer(\n",
    "    tokenizer=None,\n",
    "    lowercase=False,\n",
    "    preprocessor=None,\n",
    "    ngram_range=(1, 3),\n",
    "    stop_words=None,\n",
    "    use_idf=False,\n",
    "    smooth_idf=False,\n",
    "    norm=None,\n",
    "    decode_error='replace',\n",
    "    max_features=5000,\n",
    "    min_df=5,\n",
    "    max_df=0.75,\n",
    "    )"
   ]
  },
  {
   "cell_type": "code",
   "execution_count": 9,
   "metadata": {
    "pycharm": {
     "is_executing": false
    }
   },
   "outputs": [],
   "source": [
    "#Construct POS TF matrix and get vocab dict\n",
    "pos = pos_vectorizer.fit_transform(pd.Series(tweet_tags)).toarray()\n",
    "pos_vocab = {v:i for i, v in enumerate(pos_vectorizer.get_feature_names())}"
   ]
  },
  {
   "cell_type": "code",
   "execution_count": 10,
   "metadata": {
    "pycharm": {
     "is_executing": false
    }
   },
   "outputs": [],
   "source": [
    "#Now get other features\n",
    "sentiment_analyzer = VS()\n",
    "\n",
    "def count_twitter_objs(text_string):\n",
    "    \"\"\"\n",
    "    Accepts a text string and replaces:\n",
    "    1) urls with URLHERE\n",
    "    2) lots of whitespace with one instance\n",
    "    3) mentions with MENTIONHERE\n",
    "    4) hashtags with HASHTAGHERE\n",
    "\n",
    "    This allows us to get standardized counts of urls and mentions\n",
    "    Without caring about specific people mentioned.\n",
    "    \n",
    "    Returns counts of urls, mentions, and hashtags.\n",
    "    \"\"\"\n",
    "    space_pattern = '\\s+'\n",
    "    giant_url_regex = ('http[s]?://(?:[a-zA-Z]|[0-9]|[$-_@.&+]|'\n",
    "        '[!*\\(\\),]|(?:%[0-9a-fA-F][0-9a-fA-F]))+')\n",
    "    mention_regex = '@[\\w\\-]+'\n",
    "    hashtag_regex = '#[\\w\\-]+'\n",
    "    parsed_text = re.sub(space_pattern, ' ', text_string)\n",
    "    parsed_text = re.sub(giant_url_regex, 'URLHERE', parsed_text)\n",
    "    parsed_text = re.sub(mention_regex, 'MENTIONHERE', parsed_text)\n",
    "    parsed_text = re.sub(hashtag_regex, 'HASHTAGHERE', parsed_text)\n",
    "    return(parsed_text.count('URLHERE'),parsed_text.count('MENTIONHERE'),parsed_text.count('HASHTAGHERE'))\n",
    "\n",
    "def other_features(tweet):\n",
    "    \"\"\"This function takes a string and returns a list of features.\n",
    "    These include Sentiment scores, Text and Readability scores,\n",
    "    as well as Twitter specific features\"\"\"\n",
    "    sentiment = sentiment_analyzer.polarity_scores(tweet)\n",
    "    \n",
    "    words = preprocess(tweet) #Get text only\n",
    "    \n",
    "    syllables = textstat.syllable_count(words)\n",
    "    num_chars = sum(len(w) for w in words)\n",
    "    num_chars_total = len(tweet)\n",
    "    num_terms = len(tweet.split())\n",
    "    num_words = len(words.split())\n",
    "    avg_syl = round(float((syllables+0.001))/float(num_words+0.001),4)\n",
    "    num_unique_terms = len(set(words.split()))\n",
    "    \n",
    "    ###Modified FK grade, where avg words per sentence is just num words/1\n",
    "    FKRA = round(float(0.39 * float(num_words)/1.0) + float(11.8 * avg_syl) - 15.59,1)\n",
    "    ##Modified FRE score, where sentence fixed to 1\n",
    "    FRE = round(206.835 - 1.015*(float(num_words)/1.0) - (84.6*float(avg_syl)),2)\n",
    "    \n",
    "    twitter_objs = count_twitter_objs(tweet)\n",
    "    retweet = 0\n",
    "    if \"rt\" in words:\n",
    "        retweet = 1\n",
    "    features = [FKRA, FRE,syllables, avg_syl, num_chars, num_chars_total, num_terms, num_words,\n",
    "                num_unique_terms, sentiment['neg'], sentiment['pos'], sentiment['neu'], sentiment['compound'],\n",
    "                twitter_objs[2], twitter_objs[1],\n",
    "                twitter_objs[0], retweet]\n",
    "    #features = pandas.DataFrame(features)\n",
    "    return features\n",
    "\n",
    "def get_feature_array(tweets):\n",
    "    feats=[]\n",
    "    for t in tweets:\n",
    "        feats.append(other_features(t))\n",
    "    return np.array(feats)"
   ]
  },
  {
   "cell_type": "code",
   "execution_count": 11,
   "metadata": {
    "pycharm": {
     "is_executing": false
    }
   },
   "outputs": [],
   "source": [
    "other_features_names = [\"FKRA\", \"FRE\",\"num_syllables\", \"avg_syl_per_word\", \"num_chars\", \"num_chars_total\", \\\n",
    "                        \"num_terms\", \"num_words\", \"num_unique_words\", \"vader neg\",\"vader pos\",\"vader neu\", \\\n",
    "                        \"vader compound\", \"num_hashtags\", \"num_mentions\", \"num_urls\", \"is_retweet\"]"
   ]
  },
  {
   "cell_type": "code",
   "execution_count": 12,
   "metadata": {
    "pycharm": {
     "is_executing": false
    }
   },
   "outputs": [],
   "source": [
    "feats = get_feature_array(tweets)"
   ]
  },
  {
   "cell_type": "code",
   "execution_count": 13,
   "metadata": {
    "pycharm": {
     "is_executing": false
    }
   },
   "outputs": [],
   "source": [
    "#Now join them all up\n",
    "M = np.concatenate([tfidf,pos,feats],axis=1)"
   ]
  },
  {
   "cell_type": "code",
   "execution_count": 14,
   "metadata": {
    "pycharm": {
     "is_executing": false
    }
   },
   "outputs": [
    {
     "data": {
      "text/plain": "(24783, 11172)"
     },
     "metadata": {},
     "output_type": "execute_result",
     "execution_count": 14
    }
   ],
   "source": [
    "M.shape"
   ]
  },
  {
   "cell_type": "code",
   "execution_count": 15,
   "metadata": {
    "pycharm": {
     "is_executing": false
    }
   },
   "outputs": [],
   "source": [
    "#Finally get a list of variable names\n",
    "variables = ['']*len(vocab)\n",
    "for k,v in vocab.items():\n",
    "    variables[v] = k\n",
    "\n",
    "pos_variables = ['']*len(pos_vocab)\n",
    "for k,v in pos_vocab.items():\n",
    "    pos_variables[v] = k\n",
    "\n",
    "feature_names = variables+pos_variables+other_features_names"
   ]
  },
  {
   "cell_type": "code",
   "execution_count": 16,
   "outputs": [],
   "source": [
    "X = pd.DataFrame(M)\n",
    "y = df['class'].astype(int)\n",
    "X.columns = feature_names"
   ],
   "metadata": {
    "collapsed": false,
    "pycharm": {
     "name": "#%%\n",
     "is_executing": false
    }
   }
  },
  {
   "cell_type": "code",
   "execution_count": 17,
   "outputs": [
    {
     "name": "stdout",
     "text": [
      "Univariate Selection features found, use getUnivariateData() to get the features\n                  Specs        Score\n535               bitch  2384.592874\n11164         vader neg  1772.135115\n11166         vader neu  1384.101505\n11167    vader compound  1350.379776\n2002             faggot   903.795790\n6305              trash   852.094597\n512                bird   824.433547\n6998              yanke   648.175049\n4394             nigger   643.049468\n11156               FRE   600.180045\n1209             charli   589.646341\n11158  avg_syl_per_word   515.689760\n11155              FKRA   497.458888\n2916                hoe   483.474357\n7029             yellow   432.872647\n2000                fag   301.480469\n11170          num_urls   294.387789\n4901              pussi   266.527970\n6828        white trash   254.230504\n6818              white   253.601431\n2246               fuck   226.482701\n4573               oreo   213.074922\n1047             browni   206.540573\n3323             jihadi   201.869783\n4307              nigga   197.535373\n4095               mock   172.935700\n250                 ass   147.876857\n11157     num_syllables   146.967301\n4115             monkey   139.171421\n1332              color   138.253435\n...                 ...          ...\n9282           RB RB IN     2.369546\n7817         IN WRB PRP     2.369041\n2199                 fr     2.362485\n2466             get yo     2.362485\n5982             taught     2.362485\n9924          VBD IN IN     2.362305\n10941        WDT VBP IN     2.361343\n7074                 yr     2.360650\n7515          DT VBZ RB     2.360197\n9877           VB WP VB     2.359370\n10574         VBP RP JJ     2.359370\n2166                foh     2.359370\n6377             trynna     2.359370\n8044          JJ VBP RB     2.357203\n9665           VB IN DT     2.355574\n10026        VBD RB VBG     2.354735\n7381           DT NN JJ     2.351967\n5495               sick     2.348711\n2136               flaw     2.346508\n2433            get new     2.346508\n5298         say nigger     2.346508\n3488         lame bitch     2.346508\n3607           like dat     2.346508\n9123        PRP VBP VBP     2.344167\n5311              sayin     2.344093\n3917               mama     2.343510\n167           ani bitch     2.340007\n751          bitch next     2.340007\n5286          say bitch     2.340007\n8951          PRP NN CC     2.336282\n\n[3000 rows x 2 columns]\n"
     ],
     "output_type": "stream"
    }
   ],
   "source": [
    "#Feature selection \n",
    "from sklearn.feature_selection import SelectKBest, f_classif\n",
    "# Univariate Selection -- apply SelectKBest class to extract top n best features\n",
    "bestfeatures = SelectKBest(score_func=f_classif, k=3000)\n",
    "fit = bestfeatures.fit(X,y)\n",
    "dfscores = pd.DataFrame(fit.scores_)\n",
    "dfcolumns = pd.DataFrame(X.columns)\n",
    "# concat two dataframes for better visualization \n",
    "featureScores = pd.concat([dfcolumns,dfscores],axis=1)\n",
    "featureScores.columns = ['Specs','Score']  #naming the dataframe columns\n",
    "print('Univariate Selection features found, use getUnivariateData() to get the features')\n",
    "# Extract the top n features\n",
    "uni_selected_feat = featureScores.nlargest(3000,'Score')\n",
    "print(uni_selected_feat) # print out the top n features selected\n",
    "# Saving the top n features to a data frame\n",
    "top_univariate_features = pd.DataFrame()\n",
    "for i in range(0, 3000):\n",
    "    curr_column_vals = X.iloc[:, uni_selected_feat.iloc[i].name]\n",
    "    curr_column_name = uni_selected_feat.iloc[i][0]\n",
    "    top_univariate_features[curr_column_name] = curr_column_vals\n",
    "X = top_univariate_features"
   ],
   "metadata": {
    "collapsed": false,
    "pycharm": {
     "name": "#%%\n",
     "is_executing": false
    }
   }
  },
  {
   "cell_type": "code",
   "execution_count": 18,
   "outputs": [],
   "source": [
    "from sklearn.model_selection import train_test_split"
   ],
   "metadata": {
    "collapsed": false,
    "pycharm": {
     "name": "#%%\n",
     "is_executing": false
    }
   }
  },
  {
   "cell_type": "code",
   "execution_count": 19,
   "outputs": [],
   "source": [
    "X_train, X_test, y_train, y_test = train_test_split(X, y, random_state=42, test_size=0.1)\n"
   ],
   "metadata": {
    "collapsed": false,
    "pycharm": {
     "name": "#%%\n",
     "is_executing": false
    }
   }
  },
  {
   "cell_type": "code",
   "execution_count": 20,
   "outputs": [
    {
     "name": "stderr",
     "text": [
      "Using TensorFlow backend.\n"
     ],
     "output_type": "stream"
    },
    {
     "name": "stdout",
     "text": [
      "Random Under Sampler!!\n",
      "Done!\n"
     ],
     "output_type": "stream"
    }
   ],
   "source": [
    "from imblearn.under_sampling import RandomUnderSampler\n",
    "print(\"Random Under Sampler!!\")\n",
    "rus = RandomUnderSampler(random_state=2)\n",
    "X_res, y_res = rus.fit_resample(X_train, y_train)\n",
    "X_train = pd.DataFrame(X_res)\n",
    "X_train.columns = uni_selected_feat['Specs']\n",
    "y_train = pd.DataFrame()\n",
    "y_train['labels'] = y_res\n",
    "print(\"Done!\")\n"
   ],
   "metadata": {
    "collapsed": false,
    "pycharm": {
     "name": "#%%\n",
     "is_executing": false
    }
   }
  },
  {
   "cell_type": "code",
   "execution_count": 21,
   "outputs": [],
   "source": [
    "#y_train = y_train.to_frame(name='labels')\n",
    "y_test = y_test.to_frame(name='labels')"
   ],
   "metadata": {
    "collapsed": false,
    "pycharm": {
     "name": "#%%\n",
     "is_executing": false
    }
   }
  },
  {
   "cell_type": "code",
   "execution_count": 22,
   "outputs": [],
   "source": [
    "X_train.to_csv('C:/Users/mikec/Documents/X_train.csv', index=None, header=True, encoding='utf-8')\n",
    "X_test.to_csv('C:/Users/mikec/Documents/X_test.csv', index=None, header=True, encoding='utf-8')\n",
    "y_train.to_csv('C:/Users/mikec/Documents/y_train.csv', index=None, header=True, encoding='utf-8')\n",
    "y_test.to_csv('C:/Users/mikec/Documents/y_test.csv', index=None, header=True, encoding='utf-8')"
   ],
   "metadata": {
    "collapsed": false,
    "pycharm": {
     "name": "#%%\n",
     "is_executing": false
    }
   }
  },
  {
   "cell_type": "code",
   "execution_count": 23,
   "outputs": [
    {
     "name": "stdout",
     "text": [
      "Checking whether there is an H2O instance running at http://localhost:54321 ",
      ".",
      ".",
      ".",
      ".",
      ".",
      " not found.",
      "\n",
      "Attempting to start a local H2O server...",
      "\n",
      "  Java Version: java version \"1.8.0_211\"\r; Java(TM) SE Runtime Environment (build 1.8.0_211-b12)\r; Java HotSpot(TM) 64-Bit Server VM (build 25.211-b12, mixed mode)",
      "\n",
      "  Starting server from C:\\Users\\mikec\\AppData\\Local\\Programs\\Python\\Python37\\lib\\site-packages\\h2o\\backend\\bin\\h2o.jar",
      "\n",
      "  Ice root: C:\\Users\\mikec\\AppData\\Local\\Temp\\tmpajv5khsm",
      "\n",
      "  JVM stdout: C:\\Users\\mikec\\AppData\\Local\\Temp\\tmpajv5khsm\\h2o_mikec_started_from_python.out",
      "\n",
      "  JVM stderr: C:\\Users\\mikec\\AppData\\Local\\Temp\\tmpajv5khsm\\h2o_mikec_started_from_python.err",
      "\n",
      "  Server is running at http://127.0.0.1:54321",
      "\n",
      "Connecting to H2O server at http://127.0.0.1:54321 ..",
      ".",
      " successful.",
      "\n"
     ],
     "output_type": "stream"
    },
    {
     "data": {
      "text/plain": "--------------------------  ------------------------------------------\nH2O cluster uptime:         03 secs\nH2O cluster timezone:       Europe/Berlin\nH2O data parsing timezone:  UTC\nH2O cluster version:        3.24.0.5\nH2O cluster version age:    1 month and 17 days\nH2O cluster name:           H2O_from_python_mikec_ap2mdz\nH2O cluster total nodes:    1\nH2O cluster free memory:    1.752 Gb\nH2O cluster total cores:    8\nH2O cluster allowed cores:  8\nH2O cluster status:         accepting new members, healthy\nH2O connection url:         http://127.0.0.1:54321\nH2O connection proxy:\nH2O internal security:      False\nH2O API Extensions:         Amazon S3, Algos, AutoML, Core V3, Core V4\nPython version:             3.7.3 final\n--------------------------  ------------------------------------------",
      "text/html": "<div style=\"overflow:auto\"><table style=\"width:50%\"><tr><td>H2O cluster uptime:</td>\n<td>03 secs</td></tr>\n<tr><td>H2O cluster timezone:</td>\n<td>Europe/Berlin</td></tr>\n<tr><td>H2O data parsing timezone:</td>\n<td>UTC</td></tr>\n<tr><td>H2O cluster version:</td>\n<td>3.24.0.5</td></tr>\n<tr><td>H2O cluster version age:</td>\n<td>1 month and 17 days </td></tr>\n<tr><td>H2O cluster name:</td>\n<td>H2O_from_python_mikec_ap2mdz</td></tr>\n<tr><td>H2O cluster total nodes:</td>\n<td>1</td></tr>\n<tr><td>H2O cluster free memory:</td>\n<td>1.752 Gb</td></tr>\n<tr><td>H2O cluster total cores:</td>\n<td>8</td></tr>\n<tr><td>H2O cluster allowed cores:</td>\n<td>8</td></tr>\n<tr><td>H2O cluster status:</td>\n<td>accepting new members, healthy</td></tr>\n<tr><td>H2O connection url:</td>\n<td>http://127.0.0.1:54321</td></tr>\n<tr><td>H2O connection proxy:</td>\n<td>None</td></tr>\n<tr><td>H2O internal security:</td>\n<td>False</td></tr>\n<tr><td>H2O API Extensions:</td>\n<td>Amazon S3, Algos, AutoML, Core V3, Core V4</td></tr>\n<tr><td>Python version:</td>\n<td>3.7.3 final</td></tr></table></div>"
     },
     "metadata": {},
     "output_type": "display_data"
    }
   ],
   "source": [
    "import h2o\n",
    "h2o.init()\n",
    "from h2o.automl import H2OAutoML"
   ],
   "metadata": {
    "collapsed": false,
    "pycharm": {
     "name": "#%%\n",
     "is_executing": false
    }
   }
  },
  {
   "cell_type": "code",
   "execution_count": 24,
   "outputs": [
    {
     "name": "stdout",
     "text": [
      "Parse progress: |",
      "██",
      "█",
      "█",
      "█",
      "█",
      "█",
      "█",
      "█",
      "█",
      "█",
      "█",
      "█",
      "█",
      "███████████████████████████████████████████| 100%",
      "\n",
      "Parse progress: |",
      "█████████████████████████████████████████████████████████| 100%",
      "\n",
      "Parse progress: |",
      "█████████████████████████████████████████████████████████| 100%",
      "\n",
      "Parse progress: |█████████████████████████████████████████████████████████| 100%",
      "\n"
     ],
     "output_type": "stream"
    }
   ],
   "source": [
    "X_train = h2o.import_file('C:/Users/mikec/Documents/X_train.csv')\n",
    "y_train = h2o.import_file('C:/Users/mikec/Documents/y_train.csv')\n",
    "X_test = h2o.import_file('C:/Users/mikec/Documents/X_test.csv')\n",
    "y_test = h2o.import_file('C:/Users/mikec/Documents/y_test.csv')"
   ],
   "metadata": {
    "collapsed": false,
    "pycharm": {
     "name": "#%%\n",
     "is_executing": false
    }
   }
  },
  {
   "cell_type": "code",
   "execution_count": null,
   "outputs": [],
   "source": [
    "# preparing the train and test data sets\n",
    "# now convert tweet vecs and labels to a pandas dataframe and back to h2o dataframe\n",
    "train = X_train.cbind(y_train)\n",
    "test = X_test.cbind(y_test)"
   ],
   "metadata": {
    "collapsed": false,
    "pycharm": {
     "name": "#%%\n",
     "is_executing": true
    }
   }
  },
  {
   "cell_type": "code",
   "execution_count": 26,
   "outputs": [],
   "source": [
    "# more on data prep\n",
    "x = train.columns         # x: A list/vector of predictor column names or indexes. \n",
    "                          # This argument only needs to be specified if the user wants to exclude columns from the \n",
    "                          # set of predictors. If all columns (other than the response) should be used in prediction, \n",
    "                          # then this does not need to be set.\n",
    "\n",
    "y = \"labels\"              # This argument is the name (or index) of the response column\n",
    "x.remove(y)\n",
    "\n",
    "# need to set train and test\n",
    "train[y] = train[y].asfactor()\n",
    "test[y] = test[y].asfactor()"
   ],
   "metadata": {
    "collapsed": false,
    "pycharm": {
     "name": "#%%\n",
     "is_executing": false
    }
   }
  },
  {
   "cell_type": "code",
   "execution_count": 27,
   "outputs": [
    {
     "name": "stdout",
     "text": [
      "AutoML progress: |",
      "█",
      "█",
      "█",
      "█",
      "█",
      "█",
      "█",
      "█",
      "█",
      "█",
      "█",
      "█",
      "█",
      "█",
      "█",
      "█",
      "█",
      "█",
      "█",
      "█",
      "█",
      "█",
      "█",
      "█",
      "█",
      "█",
      "█",
      "█",
      "█",
      "█",
      "█",
      "█",
      "█",
      "█",
      "█",
      "█",
      "█",
      "█",
      "█",
      "█",
      "█",
      "█",
      "█",
      "█",
      "█",
      "█",
      "█",
      "█",
      "█",
      "█",
      "█",
      "█",
      "█",
      "█",
      "█",
      "█| 100%",
      "\n"
     ],
     "output_type": "stream"
    }
   ],
   "source": [
    "# now the AUTO-ML piece comes in\n",
    "aml = H2OAutoML(max_runtime_secs=3600) #max_models=10 or 20?, max_runtime_secs=3600\n",
    "aml.train(x=x, y=y, training_frame=train)"
   ],
   "metadata": {
    "collapsed": false,
    "pycharm": {
     "name": "#%%\n",
     "is_executing": false
    }
   }
  },
  {
   "cell_type": "code",
   "execution_count": 28,
   "outputs": [
    {
     "data": {
      "text/html": "<table>\n<thead>\n<tr><th>model_id                                           </th><th style=\"text-align: right;\">  mean_per_class_error</th><th style=\"text-align: right;\">  logloss</th><th style=\"text-align: right;\">    rmse</th><th style=\"text-align: right;\">     mse</th></tr>\n</thead>\n<tbody>\n<tr><td>StackedEnsemble_AllModels_AutoML_20190805_150609   </td><td style=\"text-align: right;\">              0.186414</td><td style=\"text-align: right;\"> 0.486843</td><td style=\"text-align: right;\">0.389524</td><td style=\"text-align: right;\">0.151729</td></tr>\n<tr><td>StackedEnsemble_BestOfFamily_AutoML_20190805_150609</td><td style=\"text-align: right;\">              0.189573</td><td style=\"text-align: right;\"> 0.493696</td><td style=\"text-align: right;\">0.393457</td><td style=\"text-align: right;\">0.154808</td></tr>\n<tr><td>GBM_1_AutoML_20190805_150609                       </td><td style=\"text-align: right;\">              0.205371</td><td style=\"text-align: right;\"> 0.538129</td><td style=\"text-align: right;\">0.414725</td><td style=\"text-align: right;\">0.171996</td></tr>\n<tr><td>GBM_2_AutoML_20190805_150609                       </td><td style=\"text-align: right;\">              0.206688</td><td style=\"text-align: right;\"> 0.54346 </td><td style=\"text-align: right;\">0.417568</td><td style=\"text-align: right;\">0.174363</td></tr>\n<tr><td>GBM_4_AutoML_20190805_150609                       </td><td style=\"text-align: right;\">              0.209057</td><td style=\"text-align: right;\"> 0.543646</td><td style=\"text-align: right;\">0.417675</td><td style=\"text-align: right;\">0.174452</td></tr>\n<tr><td>GBM_3_AutoML_20190805_150609                       </td><td style=\"text-align: right;\">              0.212744</td><td style=\"text-align: right;\"> 0.544919</td><td style=\"text-align: right;\">0.418091</td><td style=\"text-align: right;\">0.1748  </td></tr>\n<tr><td>GBM_grid_1_AutoML_20190805_150609_model_1          </td><td style=\"text-align: right;\">              0.234334</td><td style=\"text-align: right;\"> 0.663151</td><td style=\"text-align: right;\">0.479341</td><td style=\"text-align: right;\">0.229768</td></tr>\n<tr><td>GLM_grid_1_AutoML_20190805_150609_model_1          </td><td style=\"text-align: right;\">              0.235914</td><td style=\"text-align: right;\"> 0.622762</td><td style=\"text-align: right;\">0.45417 </td><td style=\"text-align: right;\">0.20627 </td></tr>\n<tr><td>XRT_1_AutoML_20190805_150609                       </td><td style=\"text-align: right;\">              0.23881 </td><td style=\"text-align: right;\"> 0.799539</td><td style=\"text-align: right;\">0.547022</td><td style=\"text-align: right;\">0.299233</td></tr>\n<tr><td>DRF_1_AutoML_20190805_150609                       </td><td style=\"text-align: right;\">              0.248552</td><td style=\"text-align: right;\"> 0.754721</td><td style=\"text-align: right;\">0.525344</td><td style=\"text-align: right;\">0.275986</td></tr>\n<tr><td>GBM_5_AutoML_20190805_150609                       </td><td style=\"text-align: right;\">              0.250132</td><td style=\"text-align: right;\"> 0.624312</td><td style=\"text-align: right;\">0.455793</td><td style=\"text-align: right;\">0.207748</td></tr>\n<tr><td>GBM_grid_1_AutoML_20190805_150609_model_2          </td><td style=\"text-align: right;\">              0.294365</td><td style=\"text-align: right;\"> 0.717176</td><td style=\"text-align: right;\">0.495151</td><td style=\"text-align: right;\">0.245174</td></tr>\n<tr><td>DeepLearning_grid_1_AutoML_20190805_150609_model_2 </td><td style=\"text-align: right;\">              0.414165</td><td style=\"text-align: right;\"> 3.13913 </td><td style=\"text-align: right;\">0.613071</td><td style=\"text-align: right;\">0.375856</td></tr>\n<tr><td>DeepLearning_grid_1_AutoML_20190805_150609_model_3 </td><td style=\"text-align: right;\">              0.452607</td><td style=\"text-align: right;\"> 2.71647 </td><td style=\"text-align: right;\">0.632967</td><td style=\"text-align: right;\">0.400648</td></tr>\n<tr><td>DeepLearning_grid_1_AutoML_20190805_150609_model_1 </td><td style=\"text-align: right;\">              0.47446 </td><td style=\"text-align: right;\"> 9.15479 </td><td style=\"text-align: right;\">0.665421</td><td style=\"text-align: right;\">0.442785</td></tr>\n<tr><td>DeepLearning_1_AutoML_20190805_150609              </td><td style=\"text-align: right;\">              0.491311</td><td style=\"text-align: right;\"> 1.48265 </td><td style=\"text-align: right;\">0.623323</td><td style=\"text-align: right;\">0.388531</td></tr>\n</tbody>\n</table>"
     },
     "metadata": {},
     "output_type": "display_data"
    },
    {
     "data": {
      "text/plain": ""
     },
     "metadata": {},
     "output_type": "execute_result",
     "execution_count": 28
    }
   ],
   "source": [
    "# View the AutoML Leaderboard\n",
    "lb = aml.leaderboard\n",
    "lb.head(rows=lb.nrows)  # Print all rows instead of default (10 rows)"
   ],
   "metadata": {
    "collapsed": false,
    "pycharm": {
     "name": "#%%\n",
     "is_executing": false
    }
   }
  },
  {
   "cell_type": "code",
   "execution_count": 29,
   "outputs": [],
   "source": [
    "lb_pd = lb.as_data_frame()"
   ],
   "metadata": {
    "collapsed": false,
    "pycharm": {
     "name": "#%%\n",
     "is_executing": false
    }
   }
  },
  {
   "cell_type": "code",
   "execution_count": 30,
   "outputs": [
    {
     "name": "stdout",
     "text": [
      "Model Details",
      "\n",
      "=============",
      "\n",
      "H2OStackedEnsembleEstimator",
      " ",
      ": ",
      " ",
      "Stacked Ensemble",
      "\n",
      "Model Key: ",
      " ",
      "StackedEnsemble_AllModels_AutoML_20190805_150609",
      "\n",
      "No model summary for this model",
      "\n",
      "\n",
      "\n",
      "ModelMetricsMultinomialGLM: stackedensemble",
      "\n",
      "** Reported on train data. **",
      "\n",
      "\n",
      "MSE: 0.05793710710381947",
      "\n",
      "RMSE: 0.24070128189068596",
      "\n",
      "\n",
      "ModelMetricsMultinomialGLM: stackedensemble",
      "\n",
      "** Reported on cross-validation data. **",
      "\n",
      "\n",
      "MSE: 0.15172930716099325",
      "\n",
      "RMSE: 0.3895244628530964",
      "\n"
     ],
     "output_type": "stream"
    },
    {
     "data": {
      "text/plain": ""
     },
     "metadata": {},
     "output_type": "execute_result",
     "execution_count": 30
    }
   ],
   "source": [
    "# The leader model is stored here\n",
    "aml.leader"
   ],
   "metadata": {
    "collapsed": false,
    "pycharm": {
     "name": "#%%\n",
     "is_executing": false
    }
   }
  },
  {
   "cell_type": "code",
   "execution_count": 31,
   "outputs": [
    {
     "name": "stdout",
     "text": [
      "stackedensemble prediction progress: |",
      "█",
      "█",
      "██████████████████████████████████| 100%",
      "\n",
      "\n"
     ],
     "output_type": "stream"
    },
    {
     "data": {
      "text/html": "<table>\n<thead>\n<tr><th style=\"text-align: right;\">  predict</th><th style=\"text-align: right;\">       p0</th><th style=\"text-align: right;\">       p1</th><th style=\"text-align: right;\">        p2</th></tr>\n</thead>\n<tbody>\n<tr><td style=\"text-align: right;\">        1</td><td style=\"text-align: right;\">0.0839297</td><td style=\"text-align: right;\">0.906573 </td><td style=\"text-align: right;\">0.00949697</td></tr>\n<tr><td style=\"text-align: right;\">        1</td><td style=\"text-align: right;\">0.0845078</td><td style=\"text-align: right;\">0.90133  </td><td style=\"text-align: right;\">0.0141619 </td></tr>\n<tr><td style=\"text-align: right;\">        2</td><td style=\"text-align: right;\">0.0590234</td><td style=\"text-align: right;\">0.0641893</td><td style=\"text-align: right;\">0.876787  </td></tr>\n<tr><td style=\"text-align: right;\">        0</td><td style=\"text-align: right;\">0.727311 </td><td style=\"text-align: right;\">0.24163  </td><td style=\"text-align: right;\">0.0310595 </td></tr>\n<tr><td style=\"text-align: right;\">        1</td><td style=\"text-align: right;\">0.218404 </td><td style=\"text-align: right;\">0.764504 </td><td style=\"text-align: right;\">0.0170928 </td></tr>\n<tr><td style=\"text-align: right;\">        1</td><td style=\"text-align: right;\">0.0824216</td><td style=\"text-align: right;\">0.907814 </td><td style=\"text-align: right;\">0.00976403</td></tr>\n<tr><td style=\"text-align: right;\">        1</td><td style=\"text-align: right;\">0.0636271</td><td style=\"text-align: right;\">0.928987 </td><td style=\"text-align: right;\">0.0073862 </td></tr>\n<tr><td style=\"text-align: right;\">        1</td><td style=\"text-align: right;\">0.253472 </td><td style=\"text-align: right;\">0.737798 </td><td style=\"text-align: right;\">0.00872996</td></tr>\n<tr><td style=\"text-align: right;\">        1</td><td style=\"text-align: right;\">0.055123 </td><td style=\"text-align: right;\">0.93816  </td><td style=\"text-align: right;\">0.00671719</td></tr>\n<tr><td style=\"text-align: right;\">        1</td><td style=\"text-align: right;\">0.0501487</td><td style=\"text-align: right;\">0.942301 </td><td style=\"text-align: right;\">0.00755033</td></tr>\n</tbody>\n</table>"
     },
     "metadata": {},
     "output_type": "display_data"
    }
   ],
   "source": [
    "preds = aml.predict(test)\n",
    "print(preds)"
   ],
   "metadata": {
    "collapsed": false,
    "pycharm": {
     "name": "#%%\n",
     "is_executing": false
    }
   }
  },
  {
   "cell_type": "code",
   "execution_count": 32,
   "outputs": [
    {
     "data": {
      "text/html": "<table>\n<thead>\n<tr><th style=\"text-align: right;\">  predict</th><th style=\"text-align: right;\">  labels</th></tr>\n</thead>\n<tbody>\n<tr><td style=\"text-align: right;\">        1</td><td style=\"text-align: right;\">       1</td></tr>\n<tr><td style=\"text-align: right;\">        1</td><td style=\"text-align: right;\">       1</td></tr>\n<tr><td style=\"text-align: right;\">        2</td><td style=\"text-align: right;\">       2</td></tr>\n<tr><td style=\"text-align: right;\">        0</td><td style=\"text-align: right;\">       1</td></tr>\n<tr><td style=\"text-align: right;\">        1</td><td style=\"text-align: right;\">       1</td></tr>\n<tr><td style=\"text-align: right;\">        1</td><td style=\"text-align: right;\">       1</td></tr>\n<tr><td style=\"text-align: right;\">        1</td><td style=\"text-align: right;\">       1</td></tr>\n<tr><td style=\"text-align: right;\">        1</td><td style=\"text-align: right;\">       1</td></tr>\n<tr><td style=\"text-align: right;\">        1</td><td style=\"text-align: right;\">       1</td></tr>\n<tr><td style=\"text-align: right;\">        1</td><td style=\"text-align: right;\">       1</td></tr>\n</tbody>\n</table>"
     },
     "metadata": {},
     "output_type": "display_data"
    },
    {
     "name": "stdout",
     "text": [
      "\n"
     ],
     "output_type": "stream"
    }
   ],
   "source": [
    "var = preds[\"predict\"].cbind(test[y])\n",
    "print(var)"
   ],
   "metadata": {
    "collapsed": false,
    "pycharm": {
     "name": "#%%\n",
     "is_executing": false
    }
   }
  },
  {
   "cell_type": "code",
   "execution_count": 33,
   "outputs": [
    {
     "name": "stdout",
     "text": [
      "              precision    recall  f1-score   support\n\n           0       0.32      0.78      0.45       164\n           1       0.98      0.82      0.89      1905\n           2       0.79      0.91      0.84       410\n\n    accuracy                           0.83      2479\n   macro avg       0.69      0.84      0.73      2479\nweighted avg       0.90      0.83      0.86      2479\n",
      "\n",
      "[[ 128   26   10]\n [ 248 1567   90]\n [  30    7  373]]",
      "\n",
      "0.8342073416700282",
      "\n",
      "0.8565556741563435",
      "\n"
     ],
     "output_type": "stream"
    },
    {
     "data": {
      "text/plain": "<Figure size 360x360 with 1 Axes>",
      "image/png": "[encoded data removed]"
     },
     "metadata": {
      "needs_background": "light"
     },
     "output_type": "display_data"
    }
   ],
   "source": [
    "# convert to pandas dataframe\n",
    "y_test = h2o.as_list(test[y], use_pandas=True)\n",
    "y_pred = h2o.as_list(preds[\"predict\"])\n",
    "report = classification_report(y_test, y_pred)\n",
    "print(report)\n",
    "print(metrics.confusion_matrix(y_test, y_pred))\n",
    "print(metrics.accuracy_score(y_test, y_pred))\n",
    "print(metrics.f1_score(y_test, y_pred, average='weighted'))\n",
    "\n",
    "confusion_matrix = metrics.confusion_matrix(y_test,y_pred)\n",
    "matrix_proportions = np.zeros((3,3))\n",
    "for i in range(0,3):\n",
    "    matrix_proportions[i,:] = confusion_matrix[i,:]/float(confusion_matrix[i,:].sum())\n",
    "names=['Hate','Offensive','Neither']\n",
    "confusion_df = pd.DataFrame(matrix_proportions, index=names,columns=names)\n",
    "plt.figure(figsize=(5,5))\n",
    "seaborn.heatmap(confusion_df,annot=True,annot_kws={\"size\": 12},cmap='gist_gray_r',cbar=False, square=True,fmt='.2f')\n",
    "plt.ylabel(r'True categories',fontsize=14)\n",
    "plt.xlabel(r'Predicted categories',fontsize=14)\n",
    "plt.tick_params(labelsize=12)\n",
    "plt.savefig('C:/Users/mikec/Documents/Results/Univariate3000RandomMax1.png')\n",
    "\n",
    "f = open(\"C:/Users/mikec/Documents/Results/Univariate3000RandomMax1.txt\", \"a\")\n",
    "print(\"Univariate feature selection with 3000 features with random under sampling, max run time 1 hour\", file=f)\n",
    "print(report, file=f)\n",
    "print(metrics.confusion_matrix(y_test, y_pred), file=f)\n",
    "print(metrics.accuracy_score(y_test, y_pred), file=f)\n",
    "print(metrics.f1_score(y_test, y_pred, average='weighted'), file=f)\n",
    "f.close()"
   ],
   "metadata": {
    "collapsed": false,
    "pycharm": {
     "name": "#%%\n",
     "is_executing": false
    }
   }
  },
  {
   "cell_type": "code",
   "execution_count": 34,
   "outputs": [],
   "source": [
    "file = lb_pd.to_csv('C:/Users/mikec/Documents/Results/Univariate3000RandomMax1.csv')\n",
    "featuresSelected = uni_selected_feat.to_csv('C:/Users/mikec/Documents/Results/feature_selection.csv')"
   ],
   "metadata": {
    "collapsed": false,
    "pycharm": {
     "name": "#%%\n",
     "is_executing": false
    }
   }
  },
  {
   "cell_type": "code",
   "execution_count": null,
   "outputs": [],
   "source": [
    "\n"
   ],
   "metadata": {
    "collapsed": false,
    "pycharm": {
     "name": "#%%\n"
    }
   }
  }
 ],
 "metadata": {
  "kernelspec": {
   "name": "pycharm-f7050d0a",
   "language": "python",
   "display_name": "PyCharm (DAADRISE_AbusiveLangProject)"
  },
  "language_info": {
   "codemirror_mode": {
    "name": "ipython",
    "version": 3
   },
   "file_extension": ".py",
   "mimetype": "text/x-python",
   "name": "python",
   "nbconvert_exporter": "python",
   "pygments_lexer": "ipython3",
   "version": "3.7.3"
  },
  "pycharm": {
   "stem_cell": {
    "cell_type": "raw",
    "source": [],
    "metadata": {
     "collapsed": false
    }
   }
  }
 },
 "nbformat": 4,
 "nbformat_minor": 2
}