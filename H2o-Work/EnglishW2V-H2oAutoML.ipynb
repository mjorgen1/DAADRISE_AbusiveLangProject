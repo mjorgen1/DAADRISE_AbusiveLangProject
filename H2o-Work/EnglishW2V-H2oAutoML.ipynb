{
 "cells": [
  {
   "cell_type": "code",
   "execution_count": 1,
   "metadata": {},
   "outputs": [
    {
     "name": "stdout",
     "output_type": "stream",
     "text": [
      "Checking whether there is an H2O instance running at http://localhost:54321 . connected.\n"
     ]
    },
    {
     "data": {
      "text/html": [
       "<div style=\"overflow:auto\"><table style=\"width:50%\"><tr><td>H2O cluster uptime:</td>\n",
       "<td>6 days 23 hours 21 mins</td></tr>\n",
       "<tr><td>H2O cluster timezone:</td>\n",
       "<td>Europe/Vienna</td></tr>\n",
       "<tr><td>H2O data parsing timezone:</td>\n",
       "<td>UTC</td></tr>\n",
       "<tr><td>H2O cluster version:</td>\n",
       "<td>3.24.0.5</td></tr>\n",
       "<tr><td>H2O cluster version age:</td>\n",
       "<td>14 days, 14 hours and 41 minutes </td></tr>\n",
       "<tr><td>H2O cluster name:</td>\n",
       "<td>H2O_from_python_mackenzie_dm3nzl</td></tr>\n",
       "<tr><td>H2O cluster total nodes:</td>\n",
       "<td>1</td></tr>\n",
       "<tr><td>H2O cluster free memory:</td>\n",
       "<td>1.219 Gb</td></tr>\n",
       "<tr><td>H2O cluster total cores:</td>\n",
       "<td>4</td></tr>\n",
       "<tr><td>H2O cluster allowed cores:</td>\n",
       "<td>4</td></tr>\n",
       "<tr><td>H2O cluster status:</td>\n",
       "<td>locked, healthy</td></tr>\n",
       "<tr><td>H2O connection url:</td>\n",
       "<td>http://localhost:54321</td></tr>\n",
       "<tr><td>H2O connection proxy:</td>\n",
       "<td>None</td></tr>\n",
       "<tr><td>H2O internal security:</td>\n",
       "<td>False</td></tr>\n",
       "<tr><td>H2O API Extensions:</td>\n",
       "<td>Amazon S3, XGBoost, Algos, AutoML, Core V3, Core V4</td></tr>\n",
       "<tr><td>Python version:</td>\n",
       "<td>3.7.1 final</td></tr></table></div>"
      ],
      "text/plain": [
       "--------------------------  ---------------------------------------------------\n",
       "H2O cluster uptime:         6 days 23 hours 21 mins\n",
       "H2O cluster timezone:       Europe/Vienna\n",
       "H2O data parsing timezone:  UTC\n",
       "H2O cluster version:        3.24.0.5\n",
       "H2O cluster version age:    14 days, 14 hours and 41 minutes\n",
       "H2O cluster name:           H2O_from_python_mackenzie_dm3nzl\n",
       "H2O cluster total nodes:    1\n",
       "H2O cluster free memory:    1.219 Gb\n",
       "H2O cluster total cores:    4\n",
       "H2O cluster allowed cores:  4\n",
       "H2O cluster status:         locked, healthy\n",
       "H2O connection url:         http://localhost:54321\n",
       "H2O connection proxy:\n",
       "H2O internal security:      False\n",
       "H2O API Extensions:         Amazon S3, XGBoost, Algos, AutoML, Core V3, Core V4\n",
       "Python version:             3.7.1 final\n",
       "--------------------------  ---------------------------------------------------"
      ]
     },
     "metadata": {},
     "output_type": "display_data"
    }
   ],
   "source": [
    "import h2o\n",
    "h2o.init()\n",
    "from h2o.estimators.word2vec import H2OWord2vecEstimator\n",
    "import nltk\n",
    "# nltk.download('stopwords') -- might need if running nltk + stopwords for the first time\n",
    "from nltk.corpus import stopwords\n",
    "from h2o.automl import H2OAutoML\n",
    "import pandas as pd\n",
    "from sklearn import metrics"
   ]
  },
  {
   "cell_type": "code",
   "execution_count": 25,
   "metadata": {
    "scrolled": true
   },
   "outputs": [
    {
     "name": "stdout",
     "output_type": "stream",
     "text": [
      "Parse progress: |█████████████████████████████████████████████████████████| 100%\n",
      "Parse progress: |█████████████████████████████████████████████████████████| 100%\n"
     ]
    }
   ],
   "source": [
    "train_data = h2o.upload_file(\"/home/mackenzie/Downloads/EnglishCleanedTrainingData.csv\") # check if path correct \n",
    "test_data = h2o.upload_file(\"/home/mackenzie/Downloads/EnglishCleanedTestingData.csv\") # check if path correct\n",
    "STOP_WORDS = set(stopwords.words('english'))\n",
    "new_stopwords = ['rt', 'co', 'http', 'u', 'got', 'get']\n",
    "STOP_WORDS = STOP_WORDS.union(new_stopwords)"
   ]
  },
  {
   "cell_type": "code",
   "execution_count": 3,
   "metadata": {},
   "outputs": [],
   "source": [
    "def tokenize(sentences, stop_word = STOP_WORDS):\n",
    "    tokenized = sentences.tokenize(\"\\\\W+\")\n",
    "    tokenized_lower = tokenized.tolower()\n",
    "    tokenized_filtered = tokenized_lower[(tokenized_lower.nchar() >= 2) | (tokenized_lower.isna()),:]\n",
    "    tokenized_words = tokenized_filtered[tokenized_filtered.grep(\"[0-9]\",invert=True,output_logical=True),:]\n",
    "    tokenized_words = tokenized_words[(tokenized_words.isna()) | (~ tokenized_words.isin(STOP_WORDS)),:]\n",
    "    return tokenized_words"
   ]
  },
  {
   "cell_type": "code",
   "execution_count": 4,
   "metadata": {},
   "outputs": [
    {
     "name": "stdout",
     "output_type": "stream",
     "text": [
      "Break train tweets into sequence of words\n"
     ]
    }
   ],
   "source": [
    "print(\"Break train tweets into sequence of words\")\n",
    "train_words = tokenize(train_data[\"tweet\"])"
   ]
  },
  {
   "cell_type": "code",
   "execution_count": 5,
   "metadata": {},
   "outputs": [
    {
     "name": "stdout",
     "output_type": "stream",
     "text": [
      "Break test tweets into sequence of words\n"
     ]
    }
   ],
   "source": [
    "print(\"Break test tweets into sequence of words\")\n",
    "test_words = tokenize(test_data[\"tweet\"])"
   ]
  },
  {
   "cell_type": "code",
   "execution_count": 6,
   "metadata": {},
   "outputs": [
    {
     "name": "stdout",
     "output_type": "stream",
     "text": [
      "Build word2vec model for train\n",
      "word2vec Model Build progress: |██████████████████████████████████████████| 100%\n"
     ]
    }
   ],
   "source": [
    "print(\"Build word2vec model for train\")\n",
    "w2v_model_one = H2OWord2vecEstimator(sent_sample_rate = 0.0, epochs = 10)\n",
    "w2v_model_one.train(training_frame=train_words)"
   ]
  },
  {
   "cell_type": "code",
   "execution_count": 7,
   "metadata": {},
   "outputs": [
    {
     "name": "stdout",
     "output_type": "stream",
     "text": [
      "Build word2vec model for test\n",
      "word2vec Model Build progress: |██████████████████████████████████████████| 100%\n"
     ]
    }
   ],
   "source": [
    "print(\"Build word2vec model for test\")\n",
    "w2v_model_two = H2OWord2vecEstimator(sent_sample_rate = 0.0, epochs = 10)\n",
    "w2v_model_two.train(training_frame=test_words)"
   ]
  },
  {
   "cell_type": "code",
   "execution_count": 8,
   "metadata": {},
   "outputs": [],
   "source": [
    "# could do synonym check here\n",
    "#print(\"Sanity check - find synonyms for the word 'teacher'\")\n",
    "#w2v_model.find_synonyms(\"teacher\", count = 5)"
   ]
  },
  {
   "cell_type": "code",
   "execution_count": 9,
   "metadata": {},
   "outputs": [
    {
     "name": "stdout",
     "output_type": "stream",
     "text": [
      "Calculate a vector for each train tweet\n"
     ]
    },
    {
     "data": {
      "text/html": [
       "<table>\n",
       "<thead>\n",
       "<tr><th style=\"text-align: right;\">          C1</th><th style=\"text-align: right;\">        C2</th><th style=\"text-align: right;\">        C3</th><th style=\"text-align: right;\">         C4</th><th style=\"text-align: right;\">        C5</th><th style=\"text-align: right;\">        C6</th><th style=\"text-align: right;\">         C7</th><th style=\"text-align: right;\">         C8</th><th style=\"text-align: right;\">        C9</th><th style=\"text-align: right;\">        C10</th><th style=\"text-align: right;\">        C11</th><th style=\"text-align: right;\">      C12</th><th style=\"text-align: right;\">       C13</th><th style=\"text-align: right;\">       C14</th><th style=\"text-align: right;\">       C15</th><th style=\"text-align: right;\">        C16</th><th style=\"text-align: right;\">       C17</th><th style=\"text-align: right;\">      C18</th><th style=\"text-align: right;\">         C19</th><th style=\"text-align: right;\">       C20</th><th style=\"text-align: right;\">       C21</th><th style=\"text-align: right;\">       C22</th><th style=\"text-align: right;\">       C23</th><th style=\"text-align: right;\">       C24</th><th style=\"text-align: right;\">        C25</th><th style=\"text-align: right;\">      C26</th><th style=\"text-align: right;\">       C27</th><th style=\"text-align: right;\">        C28</th><th style=\"text-align: right;\">     C29</th><th style=\"text-align: right;\">       C30</th><th style=\"text-align: right;\">        C31</th><th style=\"text-align: right;\">       C32</th><th style=\"text-align: right;\">       C33</th><th style=\"text-align: right;\">       C34</th><th style=\"text-align: right;\">        C35</th><th style=\"text-align: right;\">         C36</th><th style=\"text-align: right;\">       C37</th><th style=\"text-align: right;\">       C38</th><th style=\"text-align: right;\">       C39</th><th style=\"text-align: right;\">        C40</th><th style=\"text-align: right;\">       C41</th><th style=\"text-align: right;\">        C42</th><th style=\"text-align: right;\">      C43</th><th style=\"text-align: right;\">       C44</th><th style=\"text-align: right;\">       C45</th><th style=\"text-align: right;\">       C46</th><th style=\"text-align: right;\">       C47</th><th style=\"text-align: right;\">      C48</th><th style=\"text-align: right;\">       C49</th><th style=\"text-align: right;\">        C50</th><th style=\"text-align: right;\">       C51</th><th style=\"text-align: right;\">       C52</th><th style=\"text-align: right;\">      C53</th><th style=\"text-align: right;\">        C54</th><th style=\"text-align: right;\">      C55</th><th style=\"text-align: right;\">       C56</th><th style=\"text-align: right;\">        C57</th><th style=\"text-align: right;\">       C58</th><th style=\"text-align: right;\">       C59</th><th style=\"text-align: right;\">        C60</th><th style=\"text-align: right;\">        C61</th><th style=\"text-align: right;\">       C62</th><th style=\"text-align: right;\">        C63</th><th style=\"text-align: right;\">        C64</th><th style=\"text-align: right;\">        C65</th><th style=\"text-align: right;\">        C66</th><th style=\"text-align: right;\">         C67</th><th style=\"text-align: right;\">       C68</th><th style=\"text-align: right;\">      C69</th><th style=\"text-align: right;\">        C70</th><th style=\"text-align: right;\">       C71</th><th style=\"text-align: right;\">       C72</th><th style=\"text-align: right;\">       C73</th><th style=\"text-align: right;\">       C74</th><th style=\"text-align: right;\">       C75</th><th style=\"text-align: right;\">       C76</th><th style=\"text-align: right;\">       C77</th><th style=\"text-align: right;\">        C78</th><th style=\"text-align: right;\">        C79</th><th style=\"text-align: right;\">       C80</th><th style=\"text-align: right;\">        C81</th><th style=\"text-align: right;\">       C82</th><th style=\"text-align: right;\">       C83</th><th style=\"text-align: right;\">       C84</th><th style=\"text-align: right;\">         C85</th><th style=\"text-align: right;\">        C86</th><th style=\"text-align: right;\">        C87</th><th style=\"text-align: right;\">       C88</th><th style=\"text-align: right;\">        C89</th><th style=\"text-align: right;\">       C90</th><th style=\"text-align: right;\">     C91</th><th style=\"text-align: right;\">         C92</th><th style=\"text-align: right;\">       C93</th><th style=\"text-align: right;\">       C94</th><th style=\"text-align: right;\">       C95</th><th style=\"text-align: right;\">      C96</th><th style=\"text-align: right;\">        C97</th><th style=\"text-align: right;\">       C98</th><th style=\"text-align: right;\">      C99</th><th style=\"text-align: right;\">       C100</th></tr>\n",
       "</thead>\n",
       "<tbody>\n",
       "<tr><td style=\"text-align: right;\"> 0.0223424  </td><td style=\"text-align: right;\">-0.08276  </td><td style=\"text-align: right;\"> 0.0387922</td><td style=\"text-align: right;\"> 0.117605  </td><td style=\"text-align: right;\"> 0.10378  </td><td style=\"text-align: right;\">-0.144005 </td><td style=\"text-align: right;\">-0.0221281 </td><td style=\"text-align: right;\">-0.051491  </td><td style=\"text-align: right;\">-0.0144988</td><td style=\"text-align: right;\"> 0.00602809</td><td style=\"text-align: right;\"> 0.222964  </td><td style=\"text-align: right;\">0.114629 </td><td style=\"text-align: right;\">-0.128073 </td><td style=\"text-align: right;\">-0.103262 </td><td style=\"text-align: right;\">-0.184455 </td><td style=\"text-align: right;\">-0.0345309 </td><td style=\"text-align: right;\">-0.0431599</td><td style=\"text-align: right;\">0.0863207</td><td style=\"text-align: right;\">-0.202299   </td><td style=\"text-align: right;\"> 0.224225 </td><td style=\"text-align: right;\"> 0.0215012</td><td style=\"text-align: right;\"> 0.215449 </td><td style=\"text-align: right;\">-0.122652 </td><td style=\"text-align: right;\"> 0.0115363</td><td style=\"text-align: right;\"> 0.208421  </td><td style=\"text-align: right;\">0.151796 </td><td style=\"text-align: right;\">-0.157925 </td><td style=\"text-align: right;\">-0.0497596 </td><td style=\"text-align: right;\">0.165338</td><td style=\"text-align: right;\">-0.0447987</td><td style=\"text-align: right;\">-0.0355493 </td><td style=\"text-align: right;\"> 0.197404 </td><td style=\"text-align: right;\">-0.302941 </td><td style=\"text-align: right;\"> 0.175013 </td><td style=\"text-align: right;\"> 0.00974624</td><td style=\"text-align: right;\">-0.0929491  </td><td style=\"text-align: right;\">-0.165572 </td><td style=\"text-align: right;\">-0.047391 </td><td style=\"text-align: right;\">-0.228681 </td><td style=\"text-align: right;\">-0.0234547 </td><td style=\"text-align: right;\">-0.222493 </td><td style=\"text-align: right;\">-0.0358672 </td><td style=\"text-align: right;\">0.156457 </td><td style=\"text-align: right;\">-0.121174 </td><td style=\"text-align: right;\">-0.239643 </td><td style=\"text-align: right;\">-0.092991 </td><td style=\"text-align: right;\">-0.127105 </td><td style=\"text-align: right;\">0.0259335</td><td style=\"text-align: right;\"> 0.100321 </td><td style=\"text-align: right;\">-0.0313455 </td><td style=\"text-align: right;\">-0.113834 </td><td style=\"text-align: right;\">-0.194439 </td><td style=\"text-align: right;\">0.183633 </td><td style=\"text-align: right;\"> 0.0233283 </td><td style=\"text-align: right;\">0.251628 </td><td style=\"text-align: right;\"> 0.0351301</td><td style=\"text-align: right;\"> 0.0904468 </td><td style=\"text-align: right;\">-0.0372926</td><td style=\"text-align: right;\">-0.0700557</td><td style=\"text-align: right;\">-0.0526358 </td><td style=\"text-align: right;\"> 0.0645934 </td><td style=\"text-align: right;\">-0.144038 </td><td style=\"text-align: right;\"> 0.0168826 </td><td style=\"text-align: right;\"> 0.194091  </td><td style=\"text-align: right;\">-0.0205084 </td><td style=\"text-align: right;\"> 0.0335193 </td><td style=\"text-align: right;\">-0.123215   </td><td style=\"text-align: right;\">-0.184751 </td><td style=\"text-align: right;\">0.170322 </td><td style=\"text-align: right;\"> 0.0740542 </td><td style=\"text-align: right;\">-0.0467131</td><td style=\"text-align: right;\">-0.176256 </td><td style=\"text-align: right;\">-0.0881352</td><td style=\"text-align: right;\">-0.0574672</td><td style=\"text-align: right;\">-0.0337711</td><td style=\"text-align: right;\">-0.124141 </td><td style=\"text-align: right;\">-0.0452782</td><td style=\"text-align: right;\"> 0.0344    </td><td style=\"text-align: right;\"> 0.0148767 </td><td style=\"text-align: right;\"> 0.253006 </td><td style=\"text-align: right;\">-0.0315287 </td><td style=\"text-align: right;\">-0.254408 </td><td style=\"text-align: right;\">-0.0812914</td><td style=\"text-align: right;\"> 0.0343174</td><td style=\"text-align: right;\"> 0.0772073  </td><td style=\"text-align: right;\">-0.0617911 </td><td style=\"text-align: right;\">-0.182489  </td><td style=\"text-align: right;\">-0.220473 </td><td style=\"text-align: right;\"> 0.0101707 </td><td style=\"text-align: right;\"> 0.0424757</td><td style=\"text-align: right;\">0.14839 </td><td style=\"text-align: right;\">-0.0269312  </td><td style=\"text-align: right;\">-0.0207631</td><td style=\"text-align: right;\"> 0.105923 </td><td style=\"text-align: right;\">-0.0374845</td><td style=\"text-align: right;\">0.035177 </td><td style=\"text-align: right;\"> 0.0222166 </td><td style=\"text-align: right;\"> 0.194937 </td><td style=\"text-align: right;\">0.0802423</td><td style=\"text-align: right;\"> 0.0933859 </td></tr>\n",
       "<tr><td style=\"text-align: right;\"> 0.0381571  </td><td style=\"text-align: right;\"> 0.169677 </td><td style=\"text-align: right;\">-0.0946149</td><td style=\"text-align: right;\"> 0.0558397 </td><td style=\"text-align: right;\"> 0.0266164</td><td style=\"text-align: right;\">-0.0336636</td><td style=\"text-align: right;\"> 0.0751325 </td><td style=\"text-align: right;\">-0.157822  </td><td style=\"text-align: right;\">-0.0662286</td><td style=\"text-align: right;\">-0.0330098 </td><td style=\"text-align: right;\"> 0.147064  </td><td style=\"text-align: right;\">0.139625 </td><td style=\"text-align: right;\">-0.0766034</td><td style=\"text-align: right;\"> 0.0753417</td><td style=\"text-align: right;\">-0.0813428</td><td style=\"text-align: right;\"> 0.0705755 </td><td style=\"text-align: right;\">-0.179138 </td><td style=\"text-align: right;\">0.0661921</td><td style=\"text-align: right;\">-0.158312   </td><td style=\"text-align: right;\"> 0.10535  </td><td style=\"text-align: right;\"> 0.108928 </td><td style=\"text-align: right;\"> 0.264944 </td><td style=\"text-align: right;\"> 0.0136087</td><td style=\"text-align: right;\"> 0.121737 </td><td style=\"text-align: right;\"> 0.152939  </td><td style=\"text-align: right;\">0.147995 </td><td style=\"text-align: right;\"> 0.0068351</td><td style=\"text-align: right;\">-0.00768577</td><td style=\"text-align: right;\">0.179074</td><td style=\"text-align: right;\"> 0.0671987</td><td style=\"text-align: right;\">-0.00392963</td><td style=\"text-align: right;\"> 0.0722276</td><td style=\"text-align: right;\">-0.210974 </td><td style=\"text-align: right;\">-0.124551 </td><td style=\"text-align: right;\"> 0.0498734 </td><td style=\"text-align: right;\">-0.10903    </td><td style=\"text-align: right;\">-0.162239 </td><td style=\"text-align: right;\"> 0.0283855</td><td style=\"text-align: right;\">-0.327184 </td><td style=\"text-align: right;\"> 0.0283496 </td><td style=\"text-align: right;\">-0.199846 </td><td style=\"text-align: right;\">-0.170235  </td><td style=\"text-align: right;\">0.0960226</td><td style=\"text-align: right;\">-0.054669 </td><td style=\"text-align: right;\">-0.192298 </td><td style=\"text-align: right;\">-0.169993 </td><td style=\"text-align: right;\">-0.278767 </td><td style=\"text-align: right;\">0.0990923</td><td style=\"text-align: right;\"> 0.0206655</td><td style=\"text-align: right;\"> 0.0559498 </td><td style=\"text-align: right;\"> 0.0124686</td><td style=\"text-align: right;\">-0.217594 </td><td style=\"text-align: right;\">0.0711856</td><td style=\"text-align: right;\">-0.123334  </td><td style=\"text-align: right;\">0.146967 </td><td style=\"text-align: right;\">-0.123879 </td><td style=\"text-align: right;\">-0.0663025 </td><td style=\"text-align: right;\"> 0.0562728</td><td style=\"text-align: right;\"> 0.0676319</td><td style=\"text-align: right;\">-0.0215916 </td><td style=\"text-align: right;\"> 0.0829631 </td><td style=\"text-align: right;\"> 0.11396  </td><td style=\"text-align: right;\">-0.0103352 </td><td style=\"text-align: right;\">-0.0999446 </td><td style=\"text-align: right;\"> 0.0175469 </td><td style=\"text-align: right;\"> 0.179792  </td><td style=\"text-align: right;\">-0.188006   </td><td style=\"text-align: right;\"> 0.0814401</td><td style=\"text-align: right;\">0.289559 </td><td style=\"text-align: right;\"> 0.136967  </td><td style=\"text-align: right;\">-0.0663057</td><td style=\"text-align: right;\">-0.141992 </td><td style=\"text-align: right;\">-0.319676 </td><td style=\"text-align: right;\">-0.0111743</td><td style=\"text-align: right;\">-0.1079   </td><td style=\"text-align: right;\">-0.210902 </td><td style=\"text-align: right;\"> 0.0981346</td><td style=\"text-align: right;\">-0.0665335 </td><td style=\"text-align: right;\"> 0.124551  </td><td style=\"text-align: right;\">-0.0121625</td><td style=\"text-align: right;\">-0.00209863</td><td style=\"text-align: right;\">-0.207908 </td><td style=\"text-align: right;\">-0.185202 </td><td style=\"text-align: right;\"> 0.0137445</td><td style=\"text-align: right;\"> 0.107493   </td><td style=\"text-align: right;\">-0.0245979 </td><td style=\"text-align: right;\">-0.19279   </td><td style=\"text-align: right;\">-0.120658 </td><td style=\"text-align: right;\"> 0.00970476</td><td style=\"text-align: right;\"> 0.1241   </td><td style=\"text-align: right;\">0.136172</td><td style=\"text-align: right;\">-0.149274   </td><td style=\"text-align: right;\">-0.0558557</td><td style=\"text-align: right;\"> 0.0765942</td><td style=\"text-align: right;\"> 0.113389 </td><td style=\"text-align: right;\">0.15758  </td><td style=\"text-align: right;\"> 0.118811  </td><td style=\"text-align: right;\"> 0.0921255</td><td style=\"text-align: right;\">0.0523585</td><td style=\"text-align: right;\"> 0.123106  </td></tr>\n",
       "<tr><td style=\"text-align: right;\"> 0.156697   </td><td style=\"text-align: right;\"> 0.18083  </td><td style=\"text-align: right;\">-0.0624462</td><td style=\"text-align: right;\"> 0.0231771 </td><td style=\"text-align: right;\"> 0.0430882</td><td style=\"text-align: right;\">-0.075262 </td><td style=\"text-align: right;\"> 0.00655932</td><td style=\"text-align: right;\"> 0.0488314 </td><td style=\"text-align: right;\">-0.0172671</td><td style=\"text-align: right;\">-0.0445129 </td><td style=\"text-align: right;\"> 0.0983548 </td><td style=\"text-align: right;\">0.073057 </td><td style=\"text-align: right;\">-0.198447 </td><td style=\"text-align: right;\"> 0.0500282</td><td style=\"text-align: right;\"> 0.0139142</td><td style=\"text-align: right;\"> 0.168126  </td><td style=\"text-align: right;\">-0.120425 </td><td style=\"text-align: right;\">0.0204765</td><td style=\"text-align: right;\">-0.142426   </td><td style=\"text-align: right;\"> 0.0602858</td><td style=\"text-align: right;\"> 0.122715 </td><td style=\"text-align: right;\"> 0.120716 </td><td style=\"text-align: right;\">-0.0905239</td><td style=\"text-align: right;\"> 0.0472035</td><td style=\"text-align: right;\"> 0.0387592 </td><td style=\"text-align: right;\">0.0989807</td><td style=\"text-align: right;\">-0.116968 </td><td style=\"text-align: right;\">-0.170702  </td><td style=\"text-align: right;\">0.1045  </td><td style=\"text-align: right;\">-0.0339078</td><td style=\"text-align: right;\">-0.0549988 </td><td style=\"text-align: right;\"> 0.0542825</td><td style=\"text-align: right;\">-0.131366 </td><td style=\"text-align: right;\">-0.0726431</td><td style=\"text-align: right;\"> 0.0546257 </td><td style=\"text-align: right;\"> 0.0186057  </td><td style=\"text-align: right;\"> 0.0132361</td><td style=\"text-align: right;\"> 0.0231228</td><td style=\"text-align: right;\">-0.247582 </td><td style=\"text-align: right;\">-0.00924552</td><td style=\"text-align: right;\">-0.227218 </td><td style=\"text-align: right;\">-0.0764011 </td><td style=\"text-align: right;\">0.0529758</td><td style=\"text-align: right;\">-0.0698664</td><td style=\"text-align: right;\">-0.233807 </td><td style=\"text-align: right;\">-0.0769302</td><td style=\"text-align: right;\">-0.201596 </td><td style=\"text-align: right;\">0.124064 </td><td style=\"text-align: right;\"> 0.0219946</td><td style=\"text-align: right;\"> 0.00283156</td><td style=\"text-align: right;\">-0.0465681</td><td style=\"text-align: right;\">-0.351317 </td><td style=\"text-align: right;\">0.237269 </td><td style=\"text-align: right;\">-0.0779144 </td><td style=\"text-align: right;\">0.182555 </td><td style=\"text-align: right;\">-0.0879206</td><td style=\"text-align: right;\">-0.0499739 </td><td style=\"text-align: right;\"> 0.0883217</td><td style=\"text-align: right;\">-0.0686838</td><td style=\"text-align: right;\">-0.032174  </td><td style=\"text-align: right;\">-0.035887  </td><td style=\"text-align: right;\">-0.0704311</td><td style=\"text-align: right;\">-0.00101519</td><td style=\"text-align: right;\">-0.00792553</td><td style=\"text-align: right;\">-0.0839945 </td><td style=\"text-align: right;\"> 0.0255661 </td><td style=\"text-align: right;\">-0.131935   </td><td style=\"text-align: right;\">-0.0329768</td><td style=\"text-align: right;\">0.135967 </td><td style=\"text-align: right;\"> 0.166322  </td><td style=\"text-align: right;\">-0.0279789</td><td style=\"text-align: right;\">-0.0849111</td><td style=\"text-align: right;\">-0.129975 </td><td style=\"text-align: right;\">-0.0596101</td><td style=\"text-align: right;\">-0.0739678</td><td style=\"text-align: right;\">-0.247904 </td><td style=\"text-align: right;\"> 0.139237 </td><td style=\"text-align: right;\"> 0.0206789 </td><td style=\"text-align: right;\"> 0.0757857 </td><td style=\"text-align: right;\"> 0.0879412</td><td style=\"text-align: right;\"> 0.0201232 </td><td style=\"text-align: right;\">-0.169221 </td><td style=\"text-align: right;\">-0.0679391</td><td style=\"text-align: right;\"> 0.027705 </td><td style=\"text-align: right;\"> 0.00329124 </td><td style=\"text-align: right;\">-0.0867621 </td><td style=\"text-align: right;\">-0.178825  </td><td style=\"text-align: right;\">-0.264275 </td><td style=\"text-align: right;\">-0.004378  </td><td style=\"text-align: right;\"> 0.131204 </td><td style=\"text-align: right;\">0.115545</td><td style=\"text-align: right;\">-0.099328   </td><td style=\"text-align: right;\">-0.0649829</td><td style=\"text-align: right;\"> 0.0216034</td><td style=\"text-align: right;\"> 0.0935499</td><td style=\"text-align: right;\">0.0574648</td><td style=\"text-align: right;\">-0.00661883</td><td style=\"text-align: right;\"> 0.131036 </td><td style=\"text-align: right;\">0.0792279</td><td style=\"text-align: right;\"> 0.115624  </td></tr>\n",
       "<tr><td style=\"text-align: right;\">-0.108762   </td><td style=\"text-align: right;\"> 0.224019 </td><td style=\"text-align: right;\"> 0.0491488</td><td style=\"text-align: right;\">-0.0458032 </td><td style=\"text-align: right;\">-0.0307439</td><td style=\"text-align: right;\">-0.0665347</td><td style=\"text-align: right;\">-0.0226533 </td><td style=\"text-align: right;\">-0.00578452</td><td style=\"text-align: right;\">-0.0755648</td><td style=\"text-align: right;\"> 0.00195552</td><td style=\"text-align: right;\"> 0.165161  </td><td style=\"text-align: right;\">0.0633906</td><td style=\"text-align: right;\">-0.0841122</td><td style=\"text-align: right;\"> 0.156898 </td><td style=\"text-align: right;\">-0.256173 </td><td style=\"text-align: right;\"> 0.0894957 </td><td style=\"text-align: right;\">-0.142387 </td><td style=\"text-align: right;\">0.100941 </td><td style=\"text-align: right;\">-0.161361   </td><td style=\"text-align: right;\"> 0.0173705</td><td style=\"text-align: right;\"> 0.093694 </td><td style=\"text-align: right;\"> 0.104144 </td><td style=\"text-align: right;\">-0.184319 </td><td style=\"text-align: right;\"> 0.210381 </td><td style=\"text-align: right;\"> 0.0375314 </td><td style=\"text-align: right;\">0.0796243</td><td style=\"text-align: right;\"> 0.0315992</td><td style=\"text-align: right;\">-0.0655946 </td><td style=\"text-align: right;\">0.162442</td><td style=\"text-align: right;\">-0.0260141</td><td style=\"text-align: right;\">-0.130015  </td><td style=\"text-align: right;\">-0.129768 </td><td style=\"text-align: right;\">-0.108081 </td><td style=\"text-align: right;\"> 0.0668278</td><td style=\"text-align: right;\">-0.0368491 </td><td style=\"text-align: right;\">-0.0999875  </td><td style=\"text-align: right;\">-0.0755118</td><td style=\"text-align: right;\"> 0.177272 </td><td style=\"text-align: right;\">-0.195265 </td><td style=\"text-align: right;\"> 0.0371625 </td><td style=\"text-align: right;\">-0.153785 </td><td style=\"text-align: right;\">-0.00489053</td><td style=\"text-align: right;\">0.0484189</td><td style=\"text-align: right;\">-0.122989 </td><td style=\"text-align: right;\">-0.0417165</td><td style=\"text-align: right;\">-0.0763641</td><td style=\"text-align: right;\">-0.168227 </td><td style=\"text-align: right;\">0.20354  </td><td style=\"text-align: right;\"> 0.134843 </td><td style=\"text-align: right;\">-0.117026  </td><td style=\"text-align: right;\">-0.102748 </td><td style=\"text-align: right;\">-0.0650835</td><td style=\"text-align: right;\">0.115502 </td><td style=\"text-align: right;\"> 0.00540144</td><td style=\"text-align: right;\">0.0646049</td><td style=\"text-align: right;\">-0.107289 </td><td style=\"text-align: right;\"> 0.0367208 </td><td style=\"text-align: right;\"> 0.0256136</td><td style=\"text-align: right;\">-0.0240284</td><td style=\"text-align: right;\">-0.103669  </td><td style=\"text-align: right;\"> 0.0299553 </td><td style=\"text-align: right;\"> 0.0214981</td><td style=\"text-align: right;\"> 0.116108  </td><td style=\"text-align: right;\">-0.0437393 </td><td style=\"text-align: right;\"> 0.0347446 </td><td style=\"text-align: right;\"> 0.00999967</td><td style=\"text-align: right;\"> 0.0370853  </td><td style=\"text-align: right;\">-0.0481873</td><td style=\"text-align: right;\">0.0240867</td><td style=\"text-align: right;\"> 0.197667  </td><td style=\"text-align: right;\">-0.232405 </td><td style=\"text-align: right;\"> 0.153374 </td><td style=\"text-align: right;\">-0.101111 </td><td style=\"text-align: right;\">-0.0810579</td><td style=\"text-align: right;\">-0.0249153</td><td style=\"text-align: right;\">-0.141176 </td><td style=\"text-align: right;\">-0.0934557</td><td style=\"text-align: right;\"> 0.0029746 </td><td style=\"text-align: right;\"> 0.0769511 </td><td style=\"text-align: right;\"> 0.0799526</td><td style=\"text-align: right;\"> 0.157844  </td><td style=\"text-align: right;\">-0.0588758</td><td style=\"text-align: right;\">-0.133657 </td><td style=\"text-align: right;\"> 0.210626 </td><td style=\"text-align: right;\">-0.129814   </td><td style=\"text-align: right;\">-0.00674226</td><td style=\"text-align: right;\">-0.00200009</td><td style=\"text-align: right;\">-0.0384792</td><td style=\"text-align: right;\"> 0.0425603 </td><td style=\"text-align: right;\"> 0.104148 </td><td style=\"text-align: right;\">0.260929</td><td style=\"text-align: right;\"> 0.00918147 </td><td style=\"text-align: right;\">-0.0756199</td><td style=\"text-align: right;\"> 0.0261978</td><td style=\"text-align: right;\"> 0.203517 </td><td style=\"text-align: right;\">0.0241982</td><td style=\"text-align: right;\">-0.09687   </td><td style=\"text-align: right;\">-0.0195334</td><td style=\"text-align: right;\">0.210521 </td><td style=\"text-align: right;\"> 0.014416  </td></tr>\n",
       "<tr><td style=\"text-align: right;\">-0.171298   </td><td style=\"text-align: right;\"> 0.172508 </td><td style=\"text-align: right;\"> 0.0522536</td><td style=\"text-align: right;\"> 0.0168697 </td><td style=\"text-align: right;\"> 0.147797 </td><td style=\"text-align: right;\">-0.0792849</td><td style=\"text-align: right;\">-0.0242652 </td><td style=\"text-align: right;\"> 0.060213  </td><td style=\"text-align: right;\"> 0.0323577</td><td style=\"text-align: right;\"> 0.0214742 </td><td style=\"text-align: right;\"> 0.178588  </td><td style=\"text-align: right;\">0.187538 </td><td style=\"text-align: right;\">-0.0313689</td><td style=\"text-align: right;\"> 0.0547712</td><td style=\"text-align: right;\">-0.141935 </td><td style=\"text-align: right;\">-0.0642782 </td><td style=\"text-align: right;\">-0.190697 </td><td style=\"text-align: right;\">0.106084 </td><td style=\"text-align: right;\"> 0.0743484  </td><td style=\"text-align: right;\">-0.05701  </td><td style=\"text-align: right;\"> 0.0196388</td><td style=\"text-align: right;\">-0.0617599</td><td style=\"text-align: right;\">-0.16522  </td><td style=\"text-align: right;\"> 0.0184185</td><td style=\"text-align: right;\">-0.0182502 </td><td style=\"text-align: right;\">0.135726 </td><td style=\"text-align: right;\">-0.0606426</td><td style=\"text-align: right;\">-0.2995    </td><td style=\"text-align: right;\">0.158358</td><td style=\"text-align: right;\">-0.0248271</td><td style=\"text-align: right;\">-0.0435638 </td><td style=\"text-align: right;\">-0.0164796</td><td style=\"text-align: right;\">-0.0595336</td><td style=\"text-align: right;\"> 0.138065 </td><td style=\"text-align: right;\"> 0.0680826 </td><td style=\"text-align: right;\"> 0.110457   </td><td style=\"text-align: right;\">-0.163902 </td><td style=\"text-align: right;\"> 0.103143 </td><td style=\"text-align: right;\">-0.163269 </td><td style=\"text-align: right;\"> 0.0788219 </td><td style=\"text-align: right;\">-0.0541276</td><td style=\"text-align: right;\">-0.00234488</td><td style=\"text-align: right;\">0.0860105</td><td style=\"text-align: right;\"> 0.0145989</td><td style=\"text-align: right;\">-0.201136 </td><td style=\"text-align: right;\">-0.139185 </td><td style=\"text-align: right;\">-0.251269 </td><td style=\"text-align: right;\">0.15199  </td><td style=\"text-align: right;\">-0.0286447</td><td style=\"text-align: right;\"> 0.100983  </td><td style=\"text-align: right;\">-0.0158224</td><td style=\"text-align: right;\">-0.0419701</td><td style=\"text-align: right;\">0.0567476</td><td style=\"text-align: right;\"> 0.0953104 </td><td style=\"text-align: right;\">0.165114 </td><td style=\"text-align: right;\">-0.139335 </td><td style=\"text-align: right;\">-0.123832  </td><td style=\"text-align: right;\"> 0.0763108</td><td style=\"text-align: right;\">-0.0664292</td><td style=\"text-align: right;\">-0.181959  </td><td style=\"text-align: right;\"> 0.154035  </td><td style=\"text-align: right;\">-0.139467 </td><td style=\"text-align: right;\">-0.0089236 </td><td style=\"text-align: right;\"> 0.110335  </td><td style=\"text-align: right;\"> 0.0139672 </td><td style=\"text-align: right;\">-0.0703829 </td><td style=\"text-align: right;\"> 0.086826   </td><td style=\"text-align: right;\">-0.196079 </td><td style=\"text-align: right;\">0.0827616</td><td style=\"text-align: right;\">-0.00673475</td><td style=\"text-align: right;\">-0.175123 </td><td style=\"text-align: right;\"> 0.0364335</td><td style=\"text-align: right;\"> 0.0131072</td><td style=\"text-align: right;\">-0.169864 </td><td style=\"text-align: right;\">-0.144642 </td><td style=\"text-align: right;\">-0.104229 </td><td style=\"text-align: right;\">-0.0554649</td><td style=\"text-align: right;\"> 0.0675057 </td><td style=\"text-align: right;\">-0.0348844 </td><td style=\"text-align: right;\"> 0.0520964</td><td style=\"text-align: right;\">-0.0285787 </td><td style=\"text-align: right;\">-0.20366  </td><td style=\"text-align: right;\"> 0.0105453</td><td style=\"text-align: right;\"> 0.0910867</td><td style=\"text-align: right;\">-0.00516657 </td><td style=\"text-align: right;\">-0.120538  </td><td style=\"text-align: right;\">-0.178393  </td><td style=\"text-align: right;\">-0.361721 </td><td style=\"text-align: right;\"> 0.0632365 </td><td style=\"text-align: right;\"> 0.19261  </td><td style=\"text-align: right;\">0.142261</td><td style=\"text-align: right;\">-0.0513087  </td><td style=\"text-align: right;\"> 0.0805751</td><td style=\"text-align: right;\">-0.0869257</td><td style=\"text-align: right;\">-0.0275631</td><td style=\"text-align: right;\">0.29951  </td><td style=\"text-align: right;\">-0.0251317 </td><td style=\"text-align: right;\"> 0.101992 </td><td style=\"text-align: right;\">0.0996594</td><td style=\"text-align: right;\"> 0.193112  </td></tr>\n",
       "<tr><td style=\"text-align: right;\">-9.42051e-05</td><td style=\"text-align: right;\">-0.0265923</td><td style=\"text-align: right;\"> 0.0206741</td><td style=\"text-align: right;\"> 0.122351  </td><td style=\"text-align: right;\"> 0.0445544</td><td style=\"text-align: right;\">-0.0138616</td><td style=\"text-align: right;\">-0.0167429 </td><td style=\"text-align: right;\"> 0.073755  </td><td style=\"text-align: right;\">-0.0510145</td><td style=\"text-align: right;\">-0.100854  </td><td style=\"text-align: right;\"> 0.265726  </td><td style=\"text-align: right;\">0.0639582</td><td style=\"text-align: right;\">-0.079262 </td><td style=\"text-align: right;\">-0.072736 </td><td style=\"text-align: right;\">-0.238711 </td><td style=\"text-align: right;\"> 0.0339785 </td><td style=\"text-align: right;\">-0.0489888</td><td style=\"text-align: right;\">0.0476875</td><td style=\"text-align: right;\">-0.000361465</td><td style=\"text-align: right;\"> 0.0304371</td><td style=\"text-align: right;\"> 0.0470914</td><td style=\"text-align: right;\"> 0.12685  </td><td style=\"text-align: right;\">-0.136892 </td><td style=\"text-align: right;\"> 0.0154733</td><td style=\"text-align: right;\">-0.0353449 </td><td style=\"text-align: right;\">0.229756 </td><td style=\"text-align: right;\">-0.160795 </td><td style=\"text-align: right;\">-0.239952  </td><td style=\"text-align: right;\">0.236432</td><td style=\"text-align: right;\">-0.179699 </td><td style=\"text-align: right;\"> 0.0312122 </td><td style=\"text-align: right;\"> 0.27607  </td><td style=\"text-align: right;\">-0.243838 </td><td style=\"text-align: right;\"> 0.218166 </td><td style=\"text-align: right;\">-0.044384  </td><td style=\"text-align: right;\"> 0.000354499</td><td style=\"text-align: right;\"> 0.0141793</td><td style=\"text-align: right;\">-0.136644 </td><td style=\"text-align: right;\">-0.0371106</td><td style=\"text-align: right;\">-0.0646406 </td><td style=\"text-align: right;\">-0.109234 </td><td style=\"text-align: right;\">-0.0326232 </td><td style=\"text-align: right;\">0.206716 </td><td style=\"text-align: right;\">-0.0279387</td><td style=\"text-align: right;\">-0.229395 </td><td style=\"text-align: right;\">-0.0320085</td><td style=\"text-align: right;\">-0.0652559</td><td style=\"text-align: right;\">0.0520165</td><td style=\"text-align: right;\">-0.0782973</td><td style=\"text-align: right;\">-0.00622266</td><td style=\"text-align: right;\">-0.176884 </td><td style=\"text-align: right;\">-0.11432  </td><td style=\"text-align: right;\">0.270602 </td><td style=\"text-align: right;\"> 0.0243334 </td><td style=\"text-align: right;\">0.102654 </td><td style=\"text-align: right;\"> 0.0311921</td><td style=\"text-align: right;\">-0.00489881</td><td style=\"text-align: right;\">-0.0342091</td><td style=\"text-align: right;\">-0.0669661</td><td style=\"text-align: right;\">-0.00224263</td><td style=\"text-align: right;\"> 0.00890342</td><td style=\"text-align: right;\">-0.172201 </td><td style=\"text-align: right;\"> 0.00341516</td><td style=\"text-align: right;\"> 0.246365  </td><td style=\"text-align: right;\">-0.0368596 </td><td style=\"text-align: right;\">-0.207188  </td><td style=\"text-align: right;\"> 0.0308514  </td><td style=\"text-align: right;\">-0.109887 </td><td style=\"text-align: right;\">0.0766623</td><td style=\"text-align: right;\"> 0.138734  </td><td style=\"text-align: right;\">-0.121039 </td><td style=\"text-align: right;\">-0.084086 </td><td style=\"text-align: right;\"> 0.0504322</td><td style=\"text-align: right;\">-0.22281  </td><td style=\"text-align: right;\"> 0.0516483</td><td style=\"text-align: right;\">-0.110684 </td><td style=\"text-align: right;\"> 0.0977797</td><td style=\"text-align: right;\"> 0.00285231</td><td style=\"text-align: right;\"> 0.00866116</td><td style=\"text-align: right;\"> 0.167765 </td><td style=\"text-align: right;\">-0.173974  </td><td style=\"text-align: right;\">-0.145992 </td><td style=\"text-align: right;\">-0.0350052</td><td style=\"text-align: right;\"> 0.173258 </td><td style=\"text-align: right;\"> 0.000853154</td><td style=\"text-align: right;\">-0.0872269 </td><td style=\"text-align: right;\">-0.174797  </td><td style=\"text-align: right;\">-0.28874  </td><td style=\"text-align: right;\">-0.0103119 </td><td style=\"text-align: right;\">-0.0474156</td><td style=\"text-align: right;\">0.05689 </td><td style=\"text-align: right;\">-5.72304e-05</td><td style=\"text-align: right;\">-0.109307 </td><td style=\"text-align: right;\"> 0.0406183</td><td style=\"text-align: right;\">-0.022745 </td><td style=\"text-align: right;\">0.0511145</td><td style=\"text-align: right;\">-0.148427  </td><td style=\"text-align: right;\"> 0.0894933</td><td style=\"text-align: right;\">0.0553011</td><td style=\"text-align: right;\"> 0.216045  </td></tr>\n",
       "<tr><td style=\"text-align: right;\"> 0.0446506  </td><td style=\"text-align: right;\"> 0.103582 </td><td style=\"text-align: right;\">-0.045617 </td><td style=\"text-align: right;\"> 0.0564694 </td><td style=\"text-align: right;\"> 0.190124 </td><td style=\"text-align: right;\">-0.206986 </td><td style=\"text-align: right;\">-0.0971405 </td><td style=\"text-align: right;\"> 0.0860469 </td><td style=\"text-align: right;\"> 0.0672393</td><td style=\"text-align: right;\">-0.0618046 </td><td style=\"text-align: right;\">-0.00259778</td><td style=\"text-align: right;\">0.0868067</td><td style=\"text-align: right;\">-0.155634 </td><td style=\"text-align: right;\"> 0.016893 </td><td style=\"text-align: right;\">-0.0445403</td><td style=\"text-align: right;\">-0.144539  </td><td style=\"text-align: right;\"> 0.113119 </td><td style=\"text-align: right;\">0.099252 </td><td style=\"text-align: right;\">-0.126755   </td><td style=\"text-align: right;\"> 0.137568 </td><td style=\"text-align: right;\">-0.0282381</td><td style=\"text-align: right;\"> 0.122386 </td><td style=\"text-align: right;\"> 0.0172058</td><td style=\"text-align: right;\"> 0.138858 </td><td style=\"text-align: right;\"> 0.0689298 </td><td style=\"text-align: right;\">0.138137 </td><td style=\"text-align: right;\">-0.17183  </td><td style=\"text-align: right;\">-0.129981  </td><td style=\"text-align: right;\">0.056596</td><td style=\"text-align: right;\">-0.144908 </td><td style=\"text-align: right;\">-0.118369  </td><td style=\"text-align: right;\">-0.19318  </td><td style=\"text-align: right;\">-0.168356 </td><td style=\"text-align: right;\">-0.16107  </td><td style=\"text-align: right;\"> 0.104508  </td><td style=\"text-align: right;\">-0.145765   </td><td style=\"text-align: right;\"> 0.151916 </td><td style=\"text-align: right;\"> 0.0130775</td><td style=\"text-align: right;\">-0.263571 </td><td style=\"text-align: right;\"> 0.241287  </td><td style=\"text-align: right;\">-0.306884 </td><td style=\"text-align: right;\"> 0.138342  </td><td style=\"text-align: right;\">0.065289 </td><td style=\"text-align: right;\">-0.288563 </td><td style=\"text-align: right;\">-0.121306 </td><td style=\"text-align: right;\">-0.0205827</td><td style=\"text-align: right;\">-0.120503 </td><td style=\"text-align: right;\">0.136624 </td><td style=\"text-align: right;\"> 0.25627  </td><td style=\"text-align: right;\">-0.0112445 </td><td style=\"text-align: right;\"> 0.0134769</td><td style=\"text-align: right;\">-0.112152 </td><td style=\"text-align: right;\">0.291916 </td><td style=\"text-align: right;\"> 0.0564913 </td><td style=\"text-align: right;\">0.143526 </td><td style=\"text-align: right;\"> 0.0425589</td><td style=\"text-align: right;\">-0.0693494 </td><td style=\"text-align: right;\">-0.0539465</td><td style=\"text-align: right;\">-0.181812 </td><td style=\"text-align: right;\"> 0.0834871 </td><td style=\"text-align: right;\">-0.228379  </td><td style=\"text-align: right;\">-0.128873 </td><td style=\"text-align: right;\"> 0.1426    </td><td style=\"text-align: right;\"> 0.191611  </td><td style=\"text-align: right;\">-0.00824583</td><td style=\"text-align: right;\">-0.0991585 </td><td style=\"text-align: right;\"> 0.186127   </td><td style=\"text-align: right;\">-0.304739 </td><td style=\"text-align: right;\">0.143483 </td><td style=\"text-align: right;\">-0.147782  </td><td style=\"text-align: right;\">-0.155402 </td><td style=\"text-align: right;\"> 0.199163 </td><td style=\"text-align: right;\">-0.212021 </td><td style=\"text-align: right;\"> 0.0423738</td><td style=\"text-align: right;\">-0.165697 </td><td style=\"text-align: right;\">-0.0529032</td><td style=\"text-align: right;\">-0.129729 </td><td style=\"text-align: right;\"> 0.0849725 </td><td style=\"text-align: right;\"> 0.283901  </td><td style=\"text-align: right;\"> 0.118871 </td><td style=\"text-align: right;\">-0.190396  </td><td style=\"text-align: right;\">-0.125796 </td><td style=\"text-align: right;\">-0.0206022</td><td style=\"text-align: right;\">-0.076086 </td><td style=\"text-align: right;\"> 0.0402931  </td><td style=\"text-align: right;\"> 0.00329293</td><td style=\"text-align: right;\">-0.170738  </td><td style=\"text-align: right;\">-0.117908 </td><td style=\"text-align: right;\">-0.0989784 </td><td style=\"text-align: right;\"> 0.273022 </td><td style=\"text-align: right;\">0.112295</td><td style=\"text-align: right;\">-0.155813   </td><td style=\"text-align: right;\">-0.284762 </td><td style=\"text-align: right;\"> 0.0386634</td><td style=\"text-align: right;\"> 0.163719 </td><td style=\"text-align: right;\">0.154147 </td><td style=\"text-align: right;\"> 0.0527989 </td><td style=\"text-align: right;\"> 0.140726 </td><td style=\"text-align: right;\">0.127203 </td><td style=\"text-align: right;\"> 0.0769367 </td></tr>\n",
       "<tr><td style=\"text-align: right;\"> 0.188278   </td><td style=\"text-align: right;\"> 0.0434627</td><td style=\"text-align: right;\"> 0.047484 </td><td style=\"text-align: right;\">-0.0850035 </td><td style=\"text-align: right;\">-0.0976758</td><td style=\"text-align: right;\">-0.123307 </td><td style=\"text-align: right;\">-0.0183787 </td><td style=\"text-align: right;\"> 0.163295  </td><td style=\"text-align: right;\">-0.0845849</td><td style=\"text-align: right;\">-0.0643949 </td><td style=\"text-align: right;\"> 0.0956952 </td><td style=\"text-align: right;\">0.0364802</td><td style=\"text-align: right;\">-0.0349721</td><td style=\"text-align: right;\"> 0.0288983</td><td style=\"text-align: right;\">-0.15988  </td><td style=\"text-align: right;\"> 0.0932515 </td><td style=\"text-align: right;\">-0.129394 </td><td style=\"text-align: right;\">0.0739778</td><td style=\"text-align: right;\">-0.00885031 </td><td style=\"text-align: right;\"> 0.154165 </td><td style=\"text-align: right;\"> 0.0235392</td><td style=\"text-align: right;\">-0.022209 </td><td style=\"text-align: right;\">-0.142635 </td><td style=\"text-align: right;\"> 0.0560876</td><td style=\"text-align: right;\"> 0.237867  </td><td style=\"text-align: right;\">0.152499 </td><td style=\"text-align: right;\">-0.179922 </td><td style=\"text-align: right;\">-0.16678   </td><td style=\"text-align: right;\">0.180905</td><td style=\"text-align: right;\">-0.137063 </td><td style=\"text-align: right;\">-0.0998848 </td><td style=\"text-align: right;\"> 0.0180835</td><td style=\"text-align: right;\">-0.347402 </td><td style=\"text-align: right;\"> 0.104217 </td><td style=\"text-align: right;\"> 0.0906803 </td><td style=\"text-align: right;\"> 0.00330935 </td><td style=\"text-align: right;\">-0.181469 </td><td style=\"text-align: right;\"> 0.133803 </td><td style=\"text-align: right;\">-0.110781 </td><td style=\"text-align: right;\">-0.0537764 </td><td style=\"text-align: right;\">-0.187926 </td><td style=\"text-align: right;\"> 0.108993  </td><td style=\"text-align: right;\">0.0675786</td><td style=\"text-align: right;\">-0.192171 </td><td style=\"text-align: right;\">-0.167639 </td><td style=\"text-align: right;\">-0.100407 </td><td style=\"text-align: right;\">-0.158477 </td><td style=\"text-align: right;\">0.0785753</td><td style=\"text-align: right;\">-0.0557424</td><td style=\"text-align: right;\"> 0.153512  </td><td style=\"text-align: right;\">-0.0634054</td><td style=\"text-align: right;\">-0.27308  </td><td style=\"text-align: right;\">0.113656 </td><td style=\"text-align: right;\">-0.158251  </td><td style=\"text-align: right;\">0.0653502</td><td style=\"text-align: right;\">-0.194833 </td><td style=\"text-align: right;\"> 0.00854311</td><td style=\"text-align: right;\">-0.121374 </td><td style=\"text-align: right;\"> 0.0562611</td><td style=\"text-align: right;\"> 0.0660068 </td><td style=\"text-align: right;\"> 0.0625423 </td><td style=\"text-align: right;\">-0.142944 </td><td style=\"text-align: right;\">-0.00890338</td><td style=\"text-align: right;\">-0.0707818 </td><td style=\"text-align: right;\"> 0.143149  </td><td style=\"text-align: right;\"> 0.0230598 </td><td style=\"text-align: right;\">-0.170716   </td><td style=\"text-align: right;\">-0.188209 </td><td style=\"text-align: right;\">0.139039 </td><td style=\"text-align: right;\"> 0.110096  </td><td style=\"text-align: right;\">-0.058058 </td><td style=\"text-align: right;\"> 0.0410989</td><td style=\"text-align: right;\">-0.267129 </td><td style=\"text-align: right;\"> 0.100261 </td><td style=\"text-align: right;\">-0.0737388</td><td style=\"text-align: right;\">-0.0696842</td><td style=\"text-align: right;\"> 0.1433   </td><td style=\"text-align: right;\">-0.0987062 </td><td style=\"text-align: right;\">-0.0240282 </td><td style=\"text-align: right;\"> 0.0778442</td><td style=\"text-align: right;\">-0.0237733 </td><td style=\"text-align: right;\">-0.0488599</td><td style=\"text-align: right;\">-0.17472  </td><td style=\"text-align: right;\"> 0.205325 </td><td style=\"text-align: right;\"> 0.0465426  </td><td style=\"text-align: right;\">-0.00921307</td><td style=\"text-align: right;\">-0.214642  </td><td style=\"text-align: right;\">-0.181588 </td><td style=\"text-align: right;\"> 0.0216773 </td><td style=\"text-align: right;\"> 0.228822 </td><td style=\"text-align: right;\">0.17549 </td><td style=\"text-align: right;\"> 0.0726149  </td><td style=\"text-align: right;\">-0.0851556</td><td style=\"text-align: right;\"> 0.0619527</td><td style=\"text-align: right;\">-0.0424095</td><td style=\"text-align: right;\">0.0456467</td><td style=\"text-align: right;\">-0.0440015 </td><td style=\"text-align: right;\"> 0.102085 </td><td style=\"text-align: right;\">0.0527313</td><td style=\"text-align: right;\"> 0.209723  </td></tr>\n",
       "<tr><td style=\"text-align: right;\">-0.00415409 </td><td style=\"text-align: right;\"> 0.230939 </td><td style=\"text-align: right;\">-0.0953216</td><td style=\"text-align: right;\">-0.120408  </td><td style=\"text-align: right;\"> 0.143948 </td><td style=\"text-align: right;\">-0.112186 </td><td style=\"text-align: right;\">-0.0460698 </td><td style=\"text-align: right;\">-0.0521157 </td><td style=\"text-align: right;\">-0.0352361</td><td style=\"text-align: right;\"> 0.0160038 </td><td style=\"text-align: right;\"> 0.273965  </td><td style=\"text-align: right;\">0.129079 </td><td style=\"text-align: right;\">-0.195427 </td><td style=\"text-align: right;\"> 0.226574 </td><td style=\"text-align: right;\">-0.294177 </td><td style=\"text-align: right;\">-0.0386062 </td><td style=\"text-align: right;\">-0.160881 </td><td style=\"text-align: right;\">0.133741 </td><td style=\"text-align: right;\">-0.0926442  </td><td style=\"text-align: right;\">-0.040671 </td><td style=\"text-align: right;\"> 0.249882 </td><td style=\"text-align: right;\"> 0.207681 </td><td style=\"text-align: right;\">-0.0465756</td><td style=\"text-align: right;\">-0.0685025</td><td style=\"text-align: right;\"> 0.16484   </td><td style=\"text-align: right;\">0.143259 </td><td style=\"text-align: right;\"> 0.162338 </td><td style=\"text-align: right;\"> 0.215877  </td><td style=\"text-align: right;\">0.267279</td><td style=\"text-align: right;\"> 0.180685 </td><td style=\"text-align: right;\">-0.005526  </td><td style=\"text-align: right;\">-0.0262352</td><td style=\"text-align: right;\">-0.290422 </td><td style=\"text-align: right;\">-0.181897 </td><td style=\"text-align: right;\"> 0.0732409 </td><td style=\"text-align: right;\"> 0.00349713 </td><td style=\"text-align: right;\">-0.247377 </td><td style=\"text-align: right;\"> 0.160412 </td><td style=\"text-align: right;\">-0.268944 </td><td style=\"text-align: right;\"> 0.112412  </td><td style=\"text-align: right;\">-0.132509 </td><td style=\"text-align: right;\"> 0.0306471 </td><td style=\"text-align: right;\">0.0404587</td><td style=\"text-align: right;\"> 0.025246 </td><td style=\"text-align: right;\">-0.1582   </td><td style=\"text-align: right;\">-0.282189 </td><td style=\"text-align: right;\">-0.13899  </td><td style=\"text-align: right;\">0.221595 </td><td style=\"text-align: right;\">-0.200665 </td><td style=\"text-align: right;\">-0.0233079 </td><td style=\"text-align: right;\">-0.0220834</td><td style=\"text-align: right;\">-0.161012 </td><td style=\"text-align: right;\">0.0860824</td><td style=\"text-align: right;\">-0.0745856 </td><td style=\"text-align: right;\">0.146317 </td><td style=\"text-align: right;\">-0.215287 </td><td style=\"text-align: right;\"> 0.0435458 </td><td style=\"text-align: right;\"> 0.0264689</td><td style=\"text-align: right;\"> 0.063589 </td><td style=\"text-align: right;\"> 0.0970948 </td><td style=\"text-align: right;\"> 0.0246886 </td><td style=\"text-align: right;\"> 0.0623019</td><td style=\"text-align: right;\"> 0.00949776</td><td style=\"text-align: right;\">-0.168643  </td><td style=\"text-align: right;\"> 0.165045  </td><td style=\"text-align: right;\"> 0.163702  </td><td style=\"text-align: right;\">-0.0567518  </td><td style=\"text-align: right;\">-0.0938379</td><td style=\"text-align: right;\">0.0910423</td><td style=\"text-align: right;\"> 0.226128  </td><td style=\"text-align: right;\">-0.151403 </td><td style=\"text-align: right;\">-0.0487102</td><td style=\"text-align: right;\">-0.276322 </td><td style=\"text-align: right;\">-0.0625076</td><td style=\"text-align: right;\">-0.0809528</td><td style=\"text-align: right;\">-0.0982236</td><td style=\"text-align: right;\">-0.167525 </td><td style=\"text-align: right;\">-0.10465   </td><td style=\"text-align: right;\"> 0.0133093 </td><td style=\"text-align: right;\"> 0.0975246</td><td style=\"text-align: right;\">-0.0410549 </td><td style=\"text-align: right;\">-0.0520372</td><td style=\"text-align: right;\">-0.0447321</td><td style=\"text-align: right;\"> 0.0385116</td><td style=\"text-align: right;\"> 0.105534   </td><td style=\"text-align: right;\">-0.131119  </td><td style=\"text-align: right;\">-0.129714  </td><td style=\"text-align: right;\"> 0.0207184</td><td style=\"text-align: right;\"> 0.0167182 </td><td style=\"text-align: right;\"> 0.234237 </td><td style=\"text-align: right;\">0.137796</td><td style=\"text-align: right;\">-0.23921    </td><td style=\"text-align: right;\">-0.113393 </td><td style=\"text-align: right;\"> 0.201833 </td><td style=\"text-align: right;\"> 0.228814 </td><td style=\"text-align: right;\">0.284622 </td><td style=\"text-align: right;\"> 0.0935076 </td><td style=\"text-align: right;\"> 0.0610431</td><td style=\"text-align: right;\">0.159202 </td><td style=\"text-align: right;\">-0.00155751</td></tr>\n",
       "<tr><td style=\"text-align: right;\"> 0.0712138  </td><td style=\"text-align: right;\"> 0.121804 </td><td style=\"text-align: right;\"> 0.0526673</td><td style=\"text-align: right;\"> 0.00265834</td><td style=\"text-align: right;\"> 0.0615845</td><td style=\"text-align: right;\">-0.0271408</td><td style=\"text-align: right;\"> 0.027376  </td><td style=\"text-align: right;\">-0.0699017 </td><td style=\"text-align: right;\">-0.0249849</td><td style=\"text-align: right;\">-0.0120433 </td><td style=\"text-align: right;\"> 0.15249   </td><td style=\"text-align: right;\">0.01893  </td><td style=\"text-align: right;\">-0.0287104</td><td style=\"text-align: right;\"> 0.0570224</td><td style=\"text-align: right;\">-0.202543 </td><td style=\"text-align: right;\">-0.00525314</td><td style=\"text-align: right;\">-0.112002 </td><td style=\"text-align: right;\">0.0804026</td><td style=\"text-align: right;\">-0.0683476  </td><td style=\"text-align: right;\"> 0.054021 </td><td style=\"text-align: right;\">-0.100613 </td><td style=\"text-align: right;\"> 0.125214 </td><td style=\"text-align: right;\">-0.0365284</td><td style=\"text-align: right;\"> 0.086826 </td><td style=\"text-align: right;\">-0.00805105</td><td style=\"text-align: right;\">0.172307 </td><td style=\"text-align: right;\">-0.104552 </td><td style=\"text-align: right;\">-0.163813  </td><td style=\"text-align: right;\">0.111874</td><td style=\"text-align: right;\">-0.10876  </td><td style=\"text-align: right;\"> 0.0931141 </td><td style=\"text-align: right;\">-0.0774039</td><td style=\"text-align: right;\">-0.191603 </td><td style=\"text-align: right;\"> 0.0244768</td><td style=\"text-align: right;\"> 0.069691  </td><td style=\"text-align: right;\">-0.0213716  </td><td style=\"text-align: right;\"> 0.0725572</td><td style=\"text-align: right;\"> 0.0772842</td><td style=\"text-align: right;\">-0.0168696</td><td style=\"text-align: right;\"> 0.0801887 </td><td style=\"text-align: right;\">-0.131702 </td><td style=\"text-align: right;\">-0.0507287 </td><td style=\"text-align: right;\">0.0953796</td><td style=\"text-align: right;\">-0.0605326</td><td style=\"text-align: right;\">-0.168296 </td><td style=\"text-align: right;\">-0.143995 </td><td style=\"text-align: right;\">-0.114551 </td><td style=\"text-align: right;\">0.116575 </td><td style=\"text-align: right;\"> 0.0286817</td><td style=\"text-align: right;\">-0.088713  </td><td style=\"text-align: right;\">-0.0645511</td><td style=\"text-align: right;\">-0.115604 </td><td style=\"text-align: right;\">0.134006 </td><td style=\"text-align: right;\"> 0.0672288 </td><td style=\"text-align: right;\">0.177058 </td><td style=\"text-align: right;\">-0.0722164</td><td style=\"text-align: right;\">-0.0254155 </td><td style=\"text-align: right;\">-0.0320576</td><td style=\"text-align: right;\">-0.0719592</td><td style=\"text-align: right;\">-0.0112288 </td><td style=\"text-align: right;\"> 0.0117968 </td><td style=\"text-align: right;\">-0.0666868</td><td style=\"text-align: right;\">-0.00269597</td><td style=\"text-align: right;\"> 0.0379023 </td><td style=\"text-align: right;\">-0.0713167 </td><td style=\"text-align: right;\">-0.0251271 </td><td style=\"text-align: right;\">-0.000725147</td><td style=\"text-align: right;\">-0.0470236</td><td style=\"text-align: right;\">0.197153 </td><td style=\"text-align: right;\"> 0.224795  </td><td style=\"text-align: right;\">-0.147377 </td><td style=\"text-align: right;\"> 0.0152512</td><td style=\"text-align: right;\">-0.101577 </td><td style=\"text-align: right;\">-0.123619 </td><td style=\"text-align: right;\"> 0.0392174</td><td style=\"text-align: right;\">-0.0916335</td><td style=\"text-align: right;\"> 0.0403953</td><td style=\"text-align: right;\">-0.0118394 </td><td style=\"text-align: right;\"> 0.0536049 </td><td style=\"text-align: right;\"> 0.0196374</td><td style=\"text-align: right;\">-0.0173143 </td><td style=\"text-align: right;\">-0.127685 </td><td style=\"text-align: right;\"> 0.0108943</td><td style=\"text-align: right;\"> 0.139652 </td><td style=\"text-align: right;\">-0.0226088  </td><td style=\"text-align: right;\">-0.00719462</td><td style=\"text-align: right;\">-0.0515537 </td><td style=\"text-align: right;\">-0.128429 </td><td style=\"text-align: right;\"> 0.090842  </td><td style=\"text-align: right;\"> 0.0662319</td><td style=\"text-align: right;\">0.11165 </td><td style=\"text-align: right;\">-0.081591   </td><td style=\"text-align: right;\">-0.0879537</td><td style=\"text-align: right;\"> 0.127007 </td><td style=\"text-align: right;\"> 0.0684104</td><td style=\"text-align: right;\">0.0904563</td><td style=\"text-align: right;\">-0.137921  </td><td style=\"text-align: right;\"> 0.0301356</td><td style=\"text-align: right;\">0.106754 </td><td style=\"text-align: right;\"> 0.147597  </td></tr>\n",
       "</tbody>\n",
       "</table>"
      ]
     },
     "metadata": {},
     "output_type": "display_data"
    },
    {
     "name": "stdout",
     "output_type": "stream",
     "text": [
      "\n"
     ]
    }
   ],
   "source": [
    "print(\"Calculate a vector for each train tweet\")\n",
    "tweet_vecs_train = w2v_model_one.transform(train_words, aggregate_method = \"AVERAGE\")\n",
    "print(tweet_vecs_train)"
   ]
  },
  {
   "cell_type": "code",
   "execution_count": 10,
   "metadata": {},
   "outputs": [
    {
     "name": "stdout",
     "output_type": "stream",
     "text": [
      "Calculate a vector for each test tweet\n"
     ]
    }
   ],
   "source": [
    "print(\"Calculate a vector for each test tweet\")\n",
    "tweet_vecs_test = w2v_model_two.transform(test_words, aggregate_method = \"AVERAGE\")"
   ]
  },
  {
   "cell_type": "code",
   "execution_count": 11,
   "metadata": {},
   "outputs": [],
   "source": [
    "# see lines 10 to 12 in the demo for word2Vec for using ml on the vecs and such\n",
    "#print(tweet_vecs)"
   ]
  },
  {
   "cell_type": "code",
   "execution_count": 12,
   "metadata": {},
   "outputs": [],
   "source": [
    "# preparing the train and test data sets\n",
    "# now convert tweet vecs and labels to a pandas dataframe and back to h2o dataframe\n",
    "# data = job_titles[valid_job_titles,:].cbind(job_title_vecs[valid_job_titles,:])\n",
    "train = tweet_vecs_train.cbind(train_data[\"labels\"])\n",
    "test = tweet_vecs_test.cbind(test_data[\"labels\"])\n"
   ]
  },
  {
   "cell_type": "code",
   "execution_count": 13,
   "metadata": {},
   "outputs": [],
   "source": [
    "# more on data prep\n",
    "x = train.columns         # x: A list/vector of predictor column names or indexes. \n",
    "                          # This argument only needs to be specified if the user wants to exclude columns from the \n",
    "                          # set of predictors. If all columns (other than the response) should be used in prediction, \n",
    "                          # then this does not need to be set.\n",
    "\n",
    "y = \"labels\"              # This argument is the name (or index) of the response column\n",
    "x.remove(y)\n",
    "\n",
    "# need to set train and test\n",
    "train[y] = train[y].asfactor()\n",
    "test[y] = test[y].asfactor()"
   ]
  },
  {
   "cell_type": "code",
   "execution_count": 14,
   "metadata": {},
   "outputs": [
    {
     "name": "stdout",
     "output_type": "stream",
     "text": [
      "AutoML progress: |████████████████████████████████████████████████████████| 100%\n"
     ]
    }
   ],
   "source": [
    "# now the AUTO-ML piece comes in\n",
    "aml = H2OAutoML(max_models=10) #max_models=10 or 20?, seed?\n",
    "aml.train(x=x, y=y, training_frame=train)"
   ]
  },
  {
   "cell_type": "code",
   "execution_count": 15,
   "metadata": {},
   "outputs": [
    {
     "data": {
      "text/html": [
       "<table>\n",
       "<thead>\n",
       "<tr><th>model_id                                           </th><th style=\"text-align: right;\">  mean_per_class_error</th><th style=\"text-align: right;\">  logloss</th><th style=\"text-align: right;\">    rmse</th><th style=\"text-align: right;\">      mse</th></tr>\n",
       "</thead>\n",
       "<tbody>\n",
       "<tr><td>StackedEnsemble_BestOfFamily_AutoML_20190703_143453</td><td style=\"text-align: right;\">              0.379212</td><td style=\"text-align: right;\"> 0.352589</td><td style=\"text-align: right;\">0.3191  </td><td style=\"text-align: right;\">0.101825 </td></tr>\n",
       "<tr><td>StackedEnsemble_AllModels_AutoML_20190703_143453   </td><td style=\"text-align: right;\">              0.380945</td><td style=\"text-align: right;\"> 0.351513</td><td style=\"text-align: right;\">0.31898 </td><td style=\"text-align: right;\">0.101748 </td></tr>\n",
       "<tr><td>GLM_grid_1_AutoML_20190703_143453_model_1          </td><td style=\"text-align: right;\">              0.384846</td><td style=\"text-align: right;\"> 0.347966</td><td style=\"text-align: right;\">0.319396</td><td style=\"text-align: right;\">0.102014 </td></tr>\n",
       "<tr><td>GBM_1_AutoML_20190703_143453                       </td><td style=\"text-align: right;\">              0.38608 </td><td style=\"text-align: right;\"> 0.343009</td><td style=\"text-align: right;\">0.318445</td><td style=\"text-align: right;\">0.101407 </td></tr>\n",
       "<tr><td>GBM_2_AutoML_20190703_143453                       </td><td style=\"text-align: right;\">              0.3924  </td><td style=\"text-align: right;\"> 0.343937</td><td style=\"text-align: right;\">0.318668</td><td style=\"text-align: right;\">0.101549 </td></tr>\n",
       "<tr><td>XGBoost_1_AutoML_20190703_143453                   </td><td style=\"text-align: right;\">              0.394923</td><td style=\"text-align: right;\"> 0.338059</td><td style=\"text-align: right;\">0.316211</td><td style=\"text-align: right;\">0.0999894</td></tr>\n",
       "<tr><td>GBM_3_AutoML_20190703_143453                       </td><td style=\"text-align: right;\">              0.395216</td><td style=\"text-align: right;\"> 0.347392</td><td style=\"text-align: right;\">0.319843</td><td style=\"text-align: right;\">0.102299 </td></tr>\n",
       "<tr><td>XGBoost_2_AutoML_20190703_143453                   </td><td style=\"text-align: right;\">              0.397681</td><td style=\"text-align: right;\"> 0.344188</td><td style=\"text-align: right;\">0.321341</td><td style=\"text-align: right;\">0.10326  </td></tr>\n",
       "<tr><td>GBM_4_AutoML_20190703_143453                       </td><td style=\"text-align: right;\">              0.401665</td><td style=\"text-align: right;\"> 0.352246</td><td style=\"text-align: right;\">0.319949</td><td style=\"text-align: right;\">0.102368 </td></tr>\n",
       "<tr><td>XGBoost_3_AutoML_20190703_143453                   </td><td style=\"text-align: right;\">              0.410509</td><td style=\"text-align: right;\"> 0.35616 </td><td style=\"text-align: right;\">0.328232</td><td style=\"text-align: right;\">0.107736 </td></tr>\n",
       "<tr><td>GBM_5_AutoML_20190703_143453                       </td><td style=\"text-align: right;\">              0.418992</td><td style=\"text-align: right;\"> 0.363676</td><td style=\"text-align: right;\">0.331787</td><td style=\"text-align: right;\">0.110082 </td></tr>\n",
       "<tr><td>DRF_1_AutoML_20190703_143453                       </td><td style=\"text-align: right;\">              0.424959</td><td style=\"text-align: right;\"> 0.611516</td><td style=\"text-align: right;\">0.344011</td><td style=\"text-align: right;\">0.118344 </td></tr>\n",
       "</tbody>\n",
       "</table>"
      ]
     },
     "metadata": {},
     "output_type": "display_data"
    },
    {
     "data": {
      "text/plain": []
     },
     "execution_count": 15,
     "metadata": {},
     "output_type": "execute_result"
    }
   ],
   "source": [
    "# View the AutoML Leaderboard\n",
    "lb = aml.leaderboard\n",
    "lb.head(rows=lb.nrows)  # Print all rows instead of default (10 rows)"
   ]
  },
  {
   "cell_type": "code",
   "execution_count": 16,
   "metadata": {},
   "outputs": [
    {
     "name": "stdout",
     "output_type": "stream",
     "text": [
      "Model Details\n",
      "=============\n",
      "H2OStackedEnsembleEstimator :  Stacked Ensemble\n",
      "Model Key:  StackedEnsemble_BestOfFamily_AutoML_20190703_143453\n",
      "No model summary for this model\n",
      "\n",
      "\n",
      "ModelMetricsMultinomialGLM: stackedensemble\n",
      "** Reported on train data. **\n",
      "\n",
      "MSE: 0.04370837949664802\n",
      "RMSE: 0.20906549092724036\n",
      "\n",
      "ModelMetricsMultinomialGLM: stackedensemble\n",
      "** Reported on cross-validation data. **\n",
      "\n",
      "MSE: 0.10182483318575941\n",
      "RMSE: 0.31910003632992495\n"
     ]
    },
    {
     "data": {
      "text/plain": []
     },
     "execution_count": 16,
     "metadata": {},
     "output_type": "execute_result"
    }
   ],
   "source": [
    "# The leader model is stored here\n",
    "aml.leader"
   ]
  },
  {
   "cell_type": "code",
   "execution_count": 17,
   "metadata": {},
   "outputs": [
    {
     "name": "stdout",
     "output_type": "stream",
     "text": [
      "stackedensemble prediction progress: |████████████████████████████████████| 100%\n"
     ]
    },
    {
     "data": {
      "text/html": [
       "<table>\n",
       "<thead>\n",
       "<tr><th style=\"text-align: right;\">  predict</th><th style=\"text-align: right;\">       p0</th><th style=\"text-align: right;\">       p1</th><th style=\"text-align: right;\">      p2</th></tr>\n",
       "</thead>\n",
       "<tbody>\n",
       "<tr><td style=\"text-align: right;\">        2</td><td style=\"text-align: right;\">0.107316 </td><td style=\"text-align: right;\">0.170745 </td><td style=\"text-align: right;\">0.721938</td></tr>\n",
       "<tr><td style=\"text-align: right;\">        2</td><td style=\"text-align: right;\">0.0450257</td><td style=\"text-align: right;\">0.0502032</td><td style=\"text-align: right;\">0.904771</td></tr>\n",
       "<tr><td style=\"text-align: right;\">        2</td><td style=\"text-align: right;\">0.16064  </td><td style=\"text-align: right;\">0.226383 </td><td style=\"text-align: right;\">0.612977</td></tr>\n",
       "<tr><td style=\"text-align: right;\">        2</td><td style=\"text-align: right;\">0.0877273</td><td style=\"text-align: right;\">0.122501 </td><td style=\"text-align: right;\">0.789772</td></tr>\n",
       "<tr><td style=\"text-align: right;\">        2</td><td style=\"text-align: right;\">0.0917272</td><td style=\"text-align: right;\">0.131997 </td><td style=\"text-align: right;\">0.776276</td></tr>\n",
       "<tr><td style=\"text-align: right;\">        2</td><td style=\"text-align: right;\">0.22616  </td><td style=\"text-align: right;\">0.116045 </td><td style=\"text-align: right;\">0.657795</td></tr>\n",
       "<tr><td style=\"text-align: right;\">        2</td><td style=\"text-align: right;\">0.0590925</td><td style=\"text-align: right;\">0.0577924</td><td style=\"text-align: right;\">0.883115</td></tr>\n",
       "<tr><td style=\"text-align: right;\">        2</td><td style=\"text-align: right;\">0.0954635</td><td style=\"text-align: right;\">0.126629 </td><td style=\"text-align: right;\">0.777908</td></tr>\n",
       "<tr><td style=\"text-align: right;\">        2</td><td style=\"text-align: right;\">0.107068 </td><td style=\"text-align: right;\">0.218627 </td><td style=\"text-align: right;\">0.674305</td></tr>\n",
       "<tr><td style=\"text-align: right;\">        2</td><td style=\"text-align: right;\">0.0656908</td><td style=\"text-align: right;\">0.0806016</td><td style=\"text-align: right;\">0.853708</td></tr>\n",
       "</tbody>\n",
       "</table>"
      ]
     },
     "metadata": {},
     "output_type": "display_data"
    },
    {
     "name": "stdout",
     "output_type": "stream",
     "text": [
      "\n"
     ]
    }
   ],
   "source": [
    "preds = aml.predict(test)\n",
    "print(preds)"
   ]
  },
  {
   "cell_type": "code",
   "execution_count": 18,
   "metadata": {},
   "outputs": [
    {
     "data": {
      "text/html": [
       "<table>\n",
       "<thead>\n",
       "<tr><th style=\"text-align: right;\">  predict</th><th style=\"text-align: right;\">  labels</th></tr>\n",
       "</thead>\n",
       "<tbody>\n",
       "<tr><td style=\"text-align: right;\">        2</td><td style=\"text-align: right;\">       1</td></tr>\n",
       "<tr><td style=\"text-align: right;\">        2</td><td style=\"text-align: right;\">       1</td></tr>\n",
       "<tr><td style=\"text-align: right;\">        2</td><td style=\"text-align: right;\">       2</td></tr>\n",
       "<tr><td style=\"text-align: right;\">        2</td><td style=\"text-align: right;\">       1</td></tr>\n",
       "<tr><td style=\"text-align: right;\">        2</td><td style=\"text-align: right;\">       1</td></tr>\n",
       "<tr><td style=\"text-align: right;\">        2</td><td style=\"text-align: right;\">       1</td></tr>\n",
       "<tr><td style=\"text-align: right;\">        2</td><td style=\"text-align: right;\">       1</td></tr>\n",
       "<tr><td style=\"text-align: right;\">        2</td><td style=\"text-align: right;\">       1</td></tr>\n",
       "<tr><td style=\"text-align: right;\">        2</td><td style=\"text-align: right;\">       1</td></tr>\n",
       "<tr><td style=\"text-align: right;\">        2</td><td style=\"text-align: right;\">       0</td></tr>\n",
       "</tbody>\n",
       "</table>"
      ]
     },
     "metadata": {},
     "output_type": "display_data"
    },
    {
     "name": "stdout",
     "output_type": "stream",
     "text": [
      "\n"
     ]
    }
   ],
   "source": [
    "var = preds[\"predict\"].cbind(test[y])\n",
    "print(var)"
   ]
  },
  {
   "cell_type": "code",
   "execution_count": 21,
   "metadata": {},
   "outputs": [
    {
     "name": "stdout",
     "output_type": "stream",
     "text": [
      "[[   9    9  268]\n",
      " [  28   51 3759]\n",
      " [   4   64  765]]\n",
      "0.16643130925963284\n"
     ]
    }
   ],
   "source": [
    "# convert to pandas dataframe\n",
    "y_test = h2o.as_list(test[y], use_pandas=True)\n",
    "y_pred = h2o.as_list(preds[\"predict\"])\n",
    "print(metrics.confusion_matrix(y_test, y_pred))\n",
    "print(metrics.accuracy_score(y_test, y_pred))"
   ]
  },
  {
   "cell_type": "code",
   "execution_count": null,
   "metadata": {},
   "outputs": [],
   "source": []
  }
 ],
 "metadata": {
  "kernelspec": {
   "display_name": "Python 3",
   "language": "python",
   "name": "python3"
  },
  "language_info": {
   "codemirror_mode": {
    "name": "ipython",
    "version": 3
   },
   "file_extension": ".py",
   "mimetype": "text/x-python",
   "name": "python",
   "nbconvert_exporter": "python",
   "pygments_lexer": "ipython3",
   "version": "3.7.1"
  }
 },
 "nbformat": 4,
 "nbformat_minor": 2
}
