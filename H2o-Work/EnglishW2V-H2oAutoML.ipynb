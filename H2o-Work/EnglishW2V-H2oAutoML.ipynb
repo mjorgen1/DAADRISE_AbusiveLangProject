{
 "cells": [
  {
   "cell_type": "code",
   "execution_count": 2,
   "metadata": {
    "pycharm": {
     "is_executing": false,
     "name": "#%%\n"
    }
   },
   "outputs": [
    {
     "name": "stdout",
     "output_type": "stream",
     "text": [
      "C:\\Users\\mikec\\Codes\\DAADRISE_AbusiveLangProject\\featureSelection\n"
     ]
    }
   ],
   "source": [
    "# Change the directory path\n",
    "%cd ../featureSelection/"
   ]
  },
  {
   "cell_type": "code",
   "execution_count": 4,
   "metadata": {
    "pycharm": {
     "is_executing": false
    }
   },
   "outputs": [
    {
     "name": "stdout",
     "output_type": "stream",
     "text": [
      "Checking whether there is an H2O instance running at http://localhost:54321 . connected.\n"
     ]
    },
    {
     "data": {
      "text/html": [
       "<div style=\"overflow:auto\"><table style=\"width:50%\"><tr><td>H2O cluster uptime:</td>\n",
       "<td>2 mins 31 secs</td></tr>\n",
       "<tr><td>H2O cluster timezone:</td>\n",
       "<td>Europe/Berlin</td></tr>\n",
       "<tr><td>H2O data parsing timezone:</td>\n",
       "<td>UTC</td></tr>\n",
       "<tr><td>H2O cluster version:</td>\n",
       "<td>3.24.0.5</td></tr>\n",
       "<tr><td>H2O cluster version age:</td>\n",
       "<td>27 days </td></tr>\n",
       "<tr><td>H2O cluster name:</td>\n",
       "<td>H2O_from_python_mikec_akgrqp</td></tr>\n",
       "<tr><td>H2O cluster total nodes:</td>\n",
       "<td>1</td></tr>\n",
       "<tr><td>H2O cluster free memory:</td>\n",
       "<td>1.741 Gb</td></tr>\n",
       "<tr><td>H2O cluster total cores:</td>\n",
       "<td>8</td></tr>\n",
       "<tr><td>H2O cluster allowed cores:</td>\n",
       "<td>8</td></tr>\n",
       "<tr><td>H2O cluster status:</td>\n",
       "<td>locked, healthy</td></tr>\n",
       "<tr><td>H2O connection url:</td>\n",
       "<td>http://localhost:54321</td></tr>\n",
       "<tr><td>H2O connection proxy:</td>\n",
       "<td>None</td></tr>\n",
       "<tr><td>H2O internal security:</td>\n",
       "<td>False</td></tr>\n",
       "<tr><td>H2O API Extensions:</td>\n",
       "<td>Amazon S3, Algos, AutoML, Core V3, Core V4</td></tr>\n",
       "<tr><td>Python version:</td>\n",
       "<td>3.7.3 final</td></tr></table></div>"
      ],
      "text/plain": [
       "--------------------------  ------------------------------------------\n",
       "H2O cluster uptime:         2 mins 31 secs\n",
       "H2O cluster timezone:       Europe/Berlin\n",
       "H2O data parsing timezone:  UTC\n",
       "H2O cluster version:        3.24.0.5\n",
       "H2O cluster version age:    27 days\n",
       "H2O cluster name:           H2O_from_python_mikec_akgrqp\n",
       "H2O cluster total nodes:    1\n",
       "H2O cluster free memory:    1.741 Gb\n",
       "H2O cluster total cores:    8\n",
       "H2O cluster allowed cores:  8\n",
       "H2O cluster status:         locked, healthy\n",
       "H2O connection url:         http://localhost:54321\n",
       "H2O connection proxy:\n",
       "H2O internal security:      False\n",
       "H2O API Extensions:         Amazon S3, Algos, AutoML, Core V3, Core V4\n",
       "Python version:             3.7.3 final\n",
       "--------------------------  ------------------------------------------"
      ]
     },
     "metadata": {},
     "output_type": "display_data"
    }
   ],
   "source": [
    "import pandas as pd\n",
    "import h2o\n",
    "h2o.init()\n",
    "from h2o.automl import H2OAutoML\n",
    "from sklearn import metrics"
   ]
  },
  {
   "cell_type": "code",
   "execution_count": 5,
   "metadata": {
    "scrolled": true
   },
   "outputs": [
    {
     "name": "stdout",
     "output_type": "stream",
     "text": [
      "Parse progress: |█████████████████████████████████████████████████████████| 100%\n",
      "Parse progress: |█████████████████████████████████████████████████████████| 100%\n",
      "Parse progress: |█████████████████████████████████████████████████████████| 100%\n",
      "Parse progress: |█████████████████████████████████████████████████████████| 100%\n"
     ]
    }
   ],
   "source": [
    "X_train = h2o.H2OFrame(pd.read_csv('C:\\\\Users\\\\mikec\\\\Documents\\\\UnivariateFeatures.csv'))\n",
    "y_train = h2o.H2OFrame(pd.read_csv('C:\\\\Users\\\\mikec\\\\Documents\\\\TrainLabels.csv'))\n",
    "X_test = h2o.H2OFrame(pd.read_csv('C:\\\\Users\\\\mikec\\\\Documents\\\\UnivariateFeaturesTest.csv'))\n",
    "y_test = h2o.H2OFrame(pd.read_csv('C:\\\\Users\\\\mikec\\\\Documents\\\\TestLabels.csv')) \n"
   ]
  },
  {
   "cell_type": "code",
   "execution_count": 6,
   "metadata": {
    "pycharm": {
     "name": "#%%\n"
    }
   },
   "outputs": [],
   "source": [
    "# preparing the train and test data sets\n",
    "# now convert tweet vecs and labels to a pandas dataframe and back to h2o dataframe\n",
    "# data = job_titles[valid_job_titles,:].cbind(job_title_vecs[valid_job_titles,:])\n",
    "train = X_train.cbind(y_train)\n",
    "test = X_test.cbind(y_test)\n"
   ]
  },
  {
   "cell_type": "code",
   "execution_count": 7,
   "metadata": {},
   "outputs": [],
   "source": [
    "# more on data prep\n",
    "x = train.columns         # x: A list/vector of predictor column names or indexes. \n",
    "                          # This argument only needs to be specified if the user wants to exclude columns from the \n",
    "                          # set of predictors. If all columns (other than the response) should be used in prediction, \n",
    "                          # then this does not need to be set.\n",
    "\n",
    "y = \"labels\"              # This argument is the name (or index) of the response column\n",
    "x.remove(y)\n",
    "\n",
    "# need to set train and test\n",
    "train[y] = train[y].asfactor()\n",
    "test[y] = test[y].asfactor()"
   ]
  },
  {
   "cell_type": "code",
   "execution_count": 8,
   "metadata": {},
   "outputs": [
    {
     "name": "stdout",
     "output_type": "stream",
     "text": [
      "AutoML progress: |█████████████████████████████████████████████████████████| 100%\n"
     ]
    }
   ],
   "source": [
    "# now the AUTO-ML piece comes in\n",
    "aml = H2OAutoML(max_models=10) #max_models=10 or 20?, seed?\n",
    "aml.train(x=x, y=y, training_frame=train)"
   ]
  },
  {
   "cell_type": "code",
   "execution_count": 9,
   "metadata": {},
   "outputs": [
    {
     "data": {
      "text/html": [
       "<table>\n",
       "<thead>\n",
       "<tr><th>model_id                                           </th><th style=\"text-align: right;\">  mean_per_class_error</th><th style=\"text-align: right;\">  logloss</th><th style=\"text-align: right;\">    rmse</th><th style=\"text-align: right;\">     mse</th></tr>\n",
       "</thead>\n",
       "<tbody>\n",
       "<tr><td>StackedEnsemble_BestOfFamily_AutoML_20190716_142734</td><td style=\"text-align: right;\">              0.495895</td><td style=\"text-align: right;\"> 0.469692</td><td style=\"text-align: right;\">0.382292</td><td style=\"text-align: right;\">0.146147</td></tr>\n",
       "<tr><td>StackedEnsemble_AllModels_AutoML_20190716_142734   </td><td style=\"text-align: right;\">              0.499103</td><td style=\"text-align: right;\"> 0.465409</td><td style=\"text-align: right;\">0.381667</td><td style=\"text-align: right;\">0.145669</td></tr>\n",
       "<tr><td>GBM_4_AutoML_20190716_142734                       </td><td style=\"text-align: right;\">              0.499409</td><td style=\"text-align: right;\"> 0.451556</td><td style=\"text-align: right;\">0.380391</td><td style=\"text-align: right;\">0.144698</td></tr>\n",
       "<tr><td>GBM_2_AutoML_20190716_142734                       </td><td style=\"text-align: right;\">              0.500663</td><td style=\"text-align: right;\"> 0.446323</td><td style=\"text-align: right;\">0.378108</td><td style=\"text-align: right;\">0.142966</td></tr>\n",
       "<tr><td>GBM_1_AutoML_20190716_142734                       </td><td style=\"text-align: right;\">              0.503834</td><td style=\"text-align: right;\"> 0.446871</td><td style=\"text-align: right;\">0.378567</td><td style=\"text-align: right;\">0.143313</td></tr>\n",
       "<tr><td>GBM_3_AutoML_20190716_142734                       </td><td style=\"text-align: right;\">              0.50688 </td><td style=\"text-align: right;\"> 0.449292</td><td style=\"text-align: right;\">0.379983</td><td style=\"text-align: right;\">0.144387</td></tr>\n",
       "<tr><td>DeepLearning_1_AutoML_20190716_142734              </td><td style=\"text-align: right;\">              0.507779</td><td style=\"text-align: right;\"> 0.478662</td><td style=\"text-align: right;\">0.393869</td><td style=\"text-align: right;\">0.155133</td></tr>\n",
       "<tr><td>XRT_1_AutoML_20190716_142734                       </td><td style=\"text-align: right;\">              0.511671</td><td style=\"text-align: right;\"> 0.564981</td><td style=\"text-align: right;\">0.38234 </td><td style=\"text-align: right;\">0.146184</td></tr>\n",
       "<tr><td>DRF_1_AutoML_20190716_142734                       </td><td style=\"text-align: right;\">              0.512341</td><td style=\"text-align: right;\"> 0.612543</td><td style=\"text-align: right;\">0.384286</td><td style=\"text-align: right;\">0.147676</td></tr>\n",
       "<tr><td>GBM_5_AutoML_20190716_142734                       </td><td style=\"text-align: right;\">              0.518633</td><td style=\"text-align: right;\"> 0.445624</td><td style=\"text-align: right;\">0.378923</td><td style=\"text-align: right;\">0.143583</td></tr>\n",
       "<tr><td>GLM_grid_1_AutoML_20190716_142734_model_1          </td><td style=\"text-align: right;\">              0.524269</td><td style=\"text-align: right;\"> 0.453528</td><td style=\"text-align: right;\">0.381632</td><td style=\"text-align: right;\">0.145643</td></tr>\n",
       "<tr><td>GBM_grid_1_AutoML_20190716_142734_model_1          </td><td style=\"text-align: right;\">              0.573734</td><td style=\"text-align: right;\"> 0.509652</td><td style=\"text-align: right;\">0.410034</td><td style=\"text-align: right;\">0.168128</td></tr>\n",
       "</tbody>\n",
       "</table>"
      ]
     },
     "metadata": {},
     "output_type": "display_data"
    },
    {
     "data": {
      "text/plain": []
     },
     "execution_count": 9,
     "metadata": {},
     "output_type": "execute_result"
    }
   ],
   "source": [
    "# View the AutoML Leaderboard\n",
    "lb = aml.leaderboard\n",
    "lb.head(rows=lb.nrows)  # Print all rows instead of default (10 rows)"
   ]
  },
  {
   "cell_type": "code",
   "execution_count": 10,
   "metadata": {},
   "outputs": [
    {
     "name": "stdout",
     "output_type": "stream",
     "text": [
      "Model Details\n",
      "=============\n",
      "H2OStackedEnsembleEstimator :  Stacked Ensemble\n",
      "Model Key:  StackedEnsemble_BestOfFamily_AutoML_20190716_142734\n",
      "No model summary for this model\n",
      "\n",
      "\n",
      "ModelMetricsMultinomialGLM: stackedensemble\n",
      "** Reported on train data. **\n",
      "\n",
      "MSE: 0.12751102495447594\n",
      "RMSE: 0.3570868591176045\n",
      "\n",
      "ModelMetricsMultinomialGLM: stackedensemble\n",
      "** Reported on cross-validation data. **\n",
      "\n",
      "MSE: 0.14614699609105922\n",
      "RMSE: 0.38229176827530464\n"
     ]
    },
    {
     "data": {
      "text/plain": []
     },
     "execution_count": 10,
     "metadata": {},
     "output_type": "execute_result"
    }
   ],
   "source": [
    "# The leader model is stored here\n",
    "aml.leader"
   ]
  },
  {
   "cell_type": "code",
   "execution_count": 11,
   "metadata": {},
   "outputs": [
    {
     "name": "stdout",
     "output_type": "stream",
     "text": [
      "stackedensemble prediction progress: |████████████████████████████████████| 100%\n"
     ]
    },
    {
     "data": {
      "text/html": [
       "<table>\n",
       "<thead>\n",
       "<tr><th style=\"text-align: right;\">  predict</th><th style=\"text-align: right;\">       p0</th><th style=\"text-align: right;\">      p1</th><th style=\"text-align: right;\">       p2</th></tr>\n",
       "</thead>\n",
       "<tbody>\n",
       "<tr><td style=\"text-align: right;\">        1</td><td style=\"text-align: right;\">0.0533817</td><td style=\"text-align: right;\">0.803028</td><td style=\"text-align: right;\">0.14359  </td></tr>\n",
       "<tr><td style=\"text-align: right;\">        1</td><td style=\"text-align: right;\">0.0552645</td><td style=\"text-align: right;\">0.908163</td><td style=\"text-align: right;\">0.0365727</td></tr>\n",
       "<tr><td style=\"text-align: right;\">        2</td><td style=\"text-align: right;\">0.0437635</td><td style=\"text-align: right;\">0.405957</td><td style=\"text-align: right;\">0.55028  </td></tr>\n",
       "<tr><td style=\"text-align: right;\">        1</td><td style=\"text-align: right;\">0.0621332</td><td style=\"text-align: right;\">0.83863 </td><td style=\"text-align: right;\">0.0992363</td></tr>\n",
       "<tr><td style=\"text-align: right;\">        1</td><td style=\"text-align: right;\">0.195651 </td><td style=\"text-align: right;\">0.754768</td><td style=\"text-align: right;\">0.0495803</td></tr>\n",
       "<tr><td style=\"text-align: right;\">        1</td><td style=\"text-align: right;\">0.0969759</td><td style=\"text-align: right;\">0.849422</td><td style=\"text-align: right;\">0.0536025</td></tr>\n",
       "<tr><td style=\"text-align: right;\">        1</td><td style=\"text-align: right;\">0.0365563</td><td style=\"text-align: right;\">0.880968</td><td style=\"text-align: right;\">0.0824753</td></tr>\n",
       "<tr><td style=\"text-align: right;\">        1</td><td style=\"text-align: right;\">0.0361413</td><td style=\"text-align: right;\">0.897004</td><td style=\"text-align: right;\">0.0668552</td></tr>\n",
       "<tr><td style=\"text-align: right;\">        1</td><td style=\"text-align: right;\">0.0606979</td><td style=\"text-align: right;\">0.735728</td><td style=\"text-align: right;\">0.203574 </td></tr>\n",
       "<tr><td style=\"text-align: right;\">        1</td><td style=\"text-align: right;\">0.087728 </td><td style=\"text-align: right;\">0.696559</td><td style=\"text-align: right;\">0.215713 </td></tr>\n",
       "</tbody>\n",
       "</table>"
      ]
     },
     "metadata": {},
     "output_type": "display_data"
    },
    {
     "name": "stdout",
     "output_type": "stream",
     "text": [
      "\n"
     ]
    }
   ],
   "source": [
    "preds = aml.predict(test)\n",
    "print(preds)"
   ]
  },
  {
   "cell_type": "code",
   "execution_count": 12,
   "metadata": {},
   "outputs": [
    {
     "data": {
      "text/html": [
       "<table>\n",
       "<thead>\n",
       "<tr><th style=\"text-align: right;\">  predict</th><th style=\"text-align: right;\">  labels</th></tr>\n",
       "</thead>\n",
       "<tbody>\n",
       "<tr><td style=\"text-align: right;\">        1</td><td style=\"text-align: right;\">       1</td></tr>\n",
       "<tr><td style=\"text-align: right;\">        1</td><td style=\"text-align: right;\">       1</td></tr>\n",
       "<tr><td style=\"text-align: right;\">        2</td><td style=\"text-align: right;\">       1</td></tr>\n",
       "<tr><td style=\"text-align: right;\">        1</td><td style=\"text-align: right;\">       2</td></tr>\n",
       "<tr><td style=\"text-align: right;\">        1</td><td style=\"text-align: right;\">       1</td></tr>\n",
       "<tr><td style=\"text-align: right;\">        1</td><td style=\"text-align: right;\">       1</td></tr>\n",
       "<tr><td style=\"text-align: right;\">        1</td><td style=\"text-align: right;\">       1</td></tr>\n",
       "<tr><td style=\"text-align: right;\">        1</td><td style=\"text-align: right;\">       1</td></tr>\n",
       "<tr><td style=\"text-align: right;\">        1</td><td style=\"text-align: right;\">       1</td></tr>\n",
       "<tr><td style=\"text-align: right;\">        1</td><td style=\"text-align: right;\">       1</td></tr>\n",
       "</tbody>\n",
       "</table>"
      ]
     },
     "metadata": {},
     "output_type": "display_data"
    },
    {
     "name": "stdout",
     "output_type": "stream",
     "text": [
      "\n"
     ]
    }
   ],
   "source": [
    "var = preds[\"predict\"].cbind(test[y])\n",
    "print(var)"
   ]
  },
  {
   "cell_type": "code",
   "execution_count": 13,
   "metadata": {},
   "outputs": [
    {
     "name": "stdout",
     "output_type": "stream",
     "text": [
      "[[   2  249   34]\n",
      " [   8 2740 1088]\n",
      " [   0  748   83]]\n",
      "0.5704765751211631\n"
     ]
    }
   ],
   "source": [
    "# convert to pandas dataframe\n",
    "y_test = h2o.as_list(test[y], use_pandas=True)\n",
    "y_pred = h2o.as_list(preds[\"predict\"])\n",
    "print(metrics.confusion_matrix(y_test, y_pred))\n",
    "print(metrics.accuracy_score(y_test, y_pred))"
   ]
  },
  {
   "cell_type": "code",
   "execution_count": null,
   "metadata": {},
   "outputs": [],
   "source": []
  }
 ],
 "metadata": {
  "kernelspec": {
   "display_name": "Python 3",
   "language": "python",
   "name": "python3"
  },
  "language_info": {
   "codemirror_mode": {
    "name": "ipython",
    "version": 3
   },
   "file_extension": ".py",
   "mimetype": "text/x-python",
   "name": "python",
   "nbconvert_exporter": "python",
   "pygments_lexer": "ipython3",
   "version": "3.7.3"
  },
  "pycharm": {
   "stem_cell": {
    "cell_type": "raw",
    "metadata": {
     "collapsed": false
    },
    "source": []
   }
  }
 },
 "nbformat": 4,
 "nbformat_minor": 2
}
