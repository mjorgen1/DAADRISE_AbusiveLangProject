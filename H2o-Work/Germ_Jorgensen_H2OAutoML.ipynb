{
 "cells": [
  {
   "cell_type": "code",
   "execution_count": 1,
   "metadata": {
    "pycharm": {
     "is_executing": false
    }
   },
   "outputs": [],
   "source": [
    "import pandas as pd\n",
    "import numpy as np\n",
    "import pickle\n",
    "import sys\n",
    "from sklearn.feature_extraction.text import TfidfVectorizer\n",
    "from sklearn.model_selection import train_test_split\n",
    "from sklearn import metrics\n",
    "from sklearn.metrics import confusion_matrix\n",
    "import nltk\n",
    "from nltk.stem.cistem import Cistem\n",
    "import string\n",
    "import re\n",
    "from vaderSentiment.vaderSentiment import SentimentIntensityAnalyzer as VS\n",
    "from textstat.textstat import *\n",
    "import matplotlib.pyplot as plt\n",
    "import seaborn\n",
    "from textblob_de import TextBlobDE as TextBlob\n",
    "import warnings\n",
    "import h2o\n",
    "from h2o.automl import H2OAutoML\n",
    "import random \n",
    "import os\n",
    "from sklearn.feature_selection import SelectKBest\n",
    "from sklearn.feature_selection import chi2, f_classif, mutual_info_classif\n",
    "%matplotlib inline"
   ]
  },
  {
   "cell_type": "code",
   "execution_count": 2,
   "metadata": {
    "pycharm": {
     "is_executing": false
    }
   },
   "outputs": [],
   "source": [
    "# Raw data\n",
    "train_data = pd.read_csv(\"/home/mackenzie/Downloads/GermanTrainingData.txt\", sep='\\t', names=['tweet', 'coarse', 'labels'])\n",
    "test_data = pd.read_csv(\"/home/mackenzie/Downloads/GermanTestingData.txt\", sep='\\t', names=['tweet', 'coarse', 'labels'])\n",
    "df = pd.concat([train_data, test_data], ignore_index=True)\n",
    "del train_data\n",
    "del test_data"
   ]
  },
  {
   "cell_type": "code",
   "execution_count": 3,
   "metadata": {
    "pycharm": {
     "is_executing": false
    }
   },
   "outputs": [],
   "source": [
    "tweets=df.tweet\n",
    "\n",
    "# function to change accents for text processing purposes\n",
    "def convert_umlauts(text):\n",
    "    temp = text\n",
    "    temp = temp.replace('ä', 'ae')\n",
    "    temp = temp.replace('ö', 'oe')\n",
    "    temp = temp.replace('ü', 'ue')\n",
    "    temp = temp.replace('Ä', 'Ae')\n",
    "    temp = temp.replace('Ö', 'Oe')\n",
    "    temp = temp.replace('Ü', 'Ue')\n",
    "    temp = temp.replace('ß', 'ss')\n",
    "    return temp\n",
    "\n",
    "# call the tweets below to change accented word to their roots\n",
    "for i in range(0, len(tweets)):\n",
    "    curr = tweets.iloc[i]\n",
    "    tweets.iloc[i] = convert_umlauts(curr)"
   ]
  },
  {
   "cell_type": "code",
   "execution_count": 5,
   "metadata": {
    "pycharm": {
     "is_executing": false
    }
   },
   "outputs": [],
   "source": [
    "stopwords=stopwords = nltk.corpus.stopwords.words(\"german\")\n",
    "\n",
    "other_exclusions = [\"lbr\", \"|lbr|\", \"»\"]\n",
    "stopwords.extend(other_exclusions)\n",
    "\n",
    "stemmer = Cistem()\n",
    "\n",
    "def preprocess(text_string):\n",
    "    \"\"\"\n",
    "    Accepts a text string and replaces:\n",
    "    1) urls with URLHERE\n",
    "    2) lots of whitespace with one instance\n",
    "    3) mentions with MENTIONHERE\n",
    "\n",
    "    This allows us to get standardized counts of urls and mentions\n",
    "    Without caring about specific people mentioned\n",
    "    \"\"\"\n",
    "    space_pattern = '\\s+'\n",
    "    giant_url_regex = ('http[s]?://(?:[a-ßA-ß]|[0-9]|[$-_@.&+]|'\n",
    "        '[!*\\(\\),]|(?:%[0-9a-fA-F][0-9a-fA-F]))+')\n",
    "    mention_regex = '@[\\w\\-]+'\n",
    "    parsed_text = re.sub(space_pattern, ' ', text_string)\n",
    "    parsed_text = re.sub(giant_url_regex, '', parsed_text)\n",
    "    parsed_text = re.sub(mention_regex, '', parsed_text)\n",
    "    return parsed_text\n",
    "\n",
    "def tokenize(tweet):\n",
    "    \"\"\"Removes punctuation & excess whitespace, sets to lowercase,\n",
    "    and stems tweets. Returns a list of stemmed tokens.\"\"\"\n",
    "    tweet = \" \".join(re.split(\"[^a-ßA-ß]+\", tweet.lower())).strip()\n",
    "    tokens = [stemmer.stem(t) for t in tweet.split()]\n",
    "    return tokens\n",
    "\n",
    "def basic_tokenize(tweet):\n",
    "    \"\"\"Same as tokenize but without the stemming\"\"\"\n",
    "    tweet = \" \".join(re.split(\"[^a-ßA-ß.,!?]+\", tweet.lower())).strip()\n",
    "    return tweet.split()\n",
    "\n",
    "vectorizer = TfidfVectorizer(\n",
    "    tokenizer=tokenize,\n",
    "    preprocessor=preprocess,\n",
    "    ngram_range=(1, 3),\n",
    "    stop_words=stopwords,\n",
    "    use_idf=True,\n",
    "    smooth_idf=False,\n",
    "    norm=None,\n",
    "    decode_error='replace',\n",
    "    max_features=3000,\n",
    "    min_df=5,\n",
    "    max_df=0.75\n",
    "    )"
   ]
  },
  {
   "cell_type": "code",
   "execution_count": 6,
   "metadata": {
    "pycharm": {
     "is_executing": false
    }
   },
   "outputs": [],
   "source": [
    "warnings.simplefilter(action='ignore', category=FutureWarning)"
   ]
  },
  {
   "cell_type": "code",
   "execution_count": 7,
   "metadata": {
    "pycharm": {
     "is_executing": false
    }
   },
   "outputs": [
    {
     "name": "stderr",
     "output_type": "stream",
     "text": [
      "/home/mackenzie/anaconda3/lib/python3.7/site-packages/sklearn/feature_extraction/text.py:300: UserWarning: Your stop_words may be inconsistent with your preprocessing. Tokenizing the stop words generated tokens ['all', 'ber', 'dami', 'dasselb', 'demselb', 'denselb', 'derselb', 'dess', 'desselb', 'dieselb', 'dor', 'etwa', 'eur', 'f', 'geg', 'hatt', 'hrend', 'jed', 'jen', 'jetz', 'k', 'mach', 'manch', 'nich', 'nne', 'nnt', 'ohn', 'r', 'rde', 'selb', 'solch', 'son', 'sond', 'w', 'welch', 'werd', 'wes', 'woll', 'zwisch'] not in stop_words.\n",
      "  'stop_words.' % sorted(inconsistent))\n"
     ]
    },
    {
     "name": "stdout",
     "output_type": "stream",
     "text": [
      "{'^ml': 0, '`ne': 1, 'a': 2, 'a h': 3, 'ab': 4, 'ab heu': 5, 'abartig': 6, 'abend': 7, 'abgefuck': 8, 'abgefuck spd': 9, 'abgeleh': 10, 'abgeord': 11, 'abgeschaff': 12, 'abgeschob': 13, 'abgeschob werd': 14, 'abgeseh': 15, 'abgeseh davo': 16, 'abgewaehl': 17, 'abhaengig': 18, 'ableg': 19, 'ableh': 20, 'abschaff': 21, 'abschaffung': 22, 'abschaum': 23, 'abschieb': 24, 'abschiebung': 25, 'absehbar': 26, 'absich': 27, 'absolu': 28, 'abstimmung': 29, 'absurd': 30, 'abu': 31, 'abwaehl': 32, 'abwar': 33, 'abzug': 34, 'acc': 35, 'accou': 36, 'ach': 37, 'ach ja': 38, 'ach scheiss': 39, 'achtung': 40, 'adolf': 41, 'adv': 42, 'aegyp': 43, 'aehnlich': 44, 'ael': 45, 'aem': 46, 'aend': 47, 'aerg': 48, 'aerz': 49, 'aeuss': 50, 'aeusserung': 51, 'afd': 52, 'afd nich': 53, 'afd stimm': 54, 'afd waehl': 55, 'afdwuerg': 56, 'aff': 57, 'afghanista': 58, 'afri': 59, 'afrika': 60, 'agenda': 61, 'ah': 62, 'aha': 63, 'ahnung': 64, 'aksynod': 65, 'akt': 66, 'aktio': 67, 'aktuell': 68, 'akzeptier': 69, 'al': 70, 'alkohol': 71, 'all': 72, 'all deutsch': 73, 'all ern': 74, 'all fuer': 75, 'all gut': 76, 'all klar': 77, 'all mensch': 78, 'all merkel': 79, 'all mittel': 80, 'all nich': 81, 'all schon': 82, 'all tun': 83, 'all ueber': 84, 'all wiss': 85, 'allei': 86, 'allerding': 87, 'allerding nich': 88, 'allgemei': 89, 'alt': 90, 'alt schmoddrig': 91, 'altena': 92, 'alter': 93, 'alternativ': 94, 'altersarmu': 95, 'altkatholisch': 96, 'altkatholisch|': 97, 'altkatholisch| synod': 98, 'altmaier': 99, 'altpartei': 100, 'amerika': 101, 'amerikanisch': 102, 'ami': 103, 'amp': 104, 'amri': 105, 'amt': 106, 'analphab': 107, 'analy': 108, 'anarchi': 109, 'anatolie': 110, 'andersdenk': 111, 'andrea': 112, 'andrea nahl': 113, 'anfang': 114, 'ang': 115, 'angab': 116, 'angeblich': 117, 'angebo': 118, 'angeh': 119, 'angehoerig': 120, 'angela': 121, 'angela merkel': 122, 'angelegenhei': 123, 'angemess': 124, 'angenomm': 125, 'angerich': 126, 'angesich': 127, 'angewie': 128, 'angezeig': 129, 'angreif': 130, 'angriff': 131, 'anhaeng': 132, 'anlass': 133, 'ann': 134, 'annewill': 135, 'ans': 136, 'anschau': 137, 'anschei': 138, 'anschlaeg': 139, 'anschlag': 140, 'anschliess': 141, 'anseh': 142, 'ansich': 143, 'anso': 144, 'ansprech': 145, 'anspruch': 146, 'ansta': 147, 'anstaendig': 148, 'anstatt': 149, 'anteil': 150, 'anti': 151, 'antideutsch': 152, 'antifa': 153, 'antifantenbru': 154, 'antifaschi': 155, 'antiisraelisch': 156, 'antisemi': 157, 'antisemitisch': 158, 'antisemitismu': 159, 'antisemitismu amp': 160, 'antraeg': 161, 'antrag': 162, 'antwor': 163, 'anwael': 164, 'anwal': 165, 'anzeig': 166, 'ao': 167, 'apfel': 168, 'ar': 169, 'arab': 170, 'arabie': 171, 'arabisch': 172, 'arbei': 173, 'arbeitgeb': 174, 'arbeitslag': 175, 'arbeitslo': 176, 'ard': 177, 'ard zdf': 178, 'argum': 179, 'argumentatio': 180, 'argumentier': 181, 'arm': 182, 'armee': 183, 'armselig': 184, 'armu': 185, 'arroga': 186, 'arsch': 187, 'arsch vorbei': 188, 'arschloch': 189, 'arschloech': 190, 'art': 191, 'art gg': 192, 'artikel': 193, 'arz': 194, 'asia': 195, 'asozial': 196, 'asyl': 197, 'asyla': 198, 'asylantenpack': 199, 'asylbewerb': 200, 'asylrech': 201, 'asylschmarotz': 202, 'athei': 203, 'attenta': 204, 'aufbau': 205, 'aufgab': 206, 'aufgebau': 207, 'aufgekla': 208, 'aufgru': 209, 'aufhal': 210, 'aufho': 211, 'aufklaerung': 212, 'aufmerksamkei': 213, 'aufnehm': 214, 'aufrech': 215, 'aufreg': 216, 'aufregung': 217, 'aufruf': 218, 'aufsta': 219, 'aufsteh': 220, 'auftr': 221, 'auftrag': 222, 'auftritt': 223, 'aug': 224, 'auschwitz': 225, 'ausdruck': 226, 'auseinandersetzung': 227, 'ausgerech': 228, 'ausla': 229, 'auslaendisch': 230, 'ausnahm': 231, 'ausreich': 232, 'auss': 233, 'aussag': 234, 'ausschliesslich': 235, 'ausseh': 236, 'aussengrenz': 237, 'aussenmini': 238, 'ausserd': 239, 'ausserhalb': 240, 'aussieh': 241, 'auswaertig': 242, 'auswaertig amt': 243, 'auswei': 244, 'auto': 245, 'axel': 246, 'axel stoll': 247, 'b': 248, 'back': 249, 'bad': 250, 'bah': 251, 'bald': 252, 'balk': 253, 'band': 254, 'bank': 255, 'bann': 256, 'barcelona': 257, 'basi': 258, 'basta': 259, 'bastard': 260, 'bau': 261, 'bayer': 262, 'bayerisch': 263, 'bayrisch': 264, 'beach': 265, 'beam': 266, 'beantrag': 267, 'beantwor': 268, 'beck': 269, 'bedenk': 270, 'bedeu': 271, 'bedeutung': 272, 'bedford': 273, 'bedford strohm': 274, 'bedie': 275, 'beeindruck': 276, 'beend': 277, 'befi': 278, 'befrei': 279, 'befuerch': 280, 'befuerwor': 281, 'begang': 282, 'begeh': 283, 'begei': 284, 'beginn': 285, 'begreif': 286, 'begriff': 287, 'begru': 288, 'behal': 289, 'behandel': 290, 'behaup': 291, 'behauptung': 292, 'beherrsch': 293, 'behi': 294, 'behoerd': 295, 'beid': 296, 'beifall': 297, 'beim': 298, 'bein': 299, 'beispiel': 300, 'beiss': 301, 'bekaempf': 302, 'bekam': 303, 'bekann': 304, 'bekenn': 305, 'bekenntni': 306, 'beklopp': 307, 'bekomm': 308, 'belaestig': 309, 'belaestigung': 310, 'belang': 311, 'beleg': 312, 'beleidig': 313, 'beleidigung': 314, 'belog': 315, 'beloh': 316, 'bemueh': 317, 'benachteilig': 318, 'benenn': 319, 'benutz': 320, 'beobach': 321, 'ber': 322, 'berechtig': 323, 'berei': 324, 'berei jetz': 325, 'bereich': 326, 'bereicherung': 327, 'berg': 328, 'berich': 329, 'berich ueber': 330, 'berichterstattung': 331, 'berli': 332, 'bernd': 333, 'beruf': 334, 'beruhig': 335, 'bes': 336, 'bescha': 337, 'beschaeftig': 338, 'bescheid': 339, 'bescheu': 340, 'beschimpf': 341, 'beschiss': 342, 'beschloss': 343, 'beschw': 344, 'besetz': 345, 'beso': 346, 'besorg': 347, 'bess': 348, 'bess nich': 349, 'besta': 350, 'bestaetig': 351, 'besteh': 352, 'bestell': 353, 'bestimm': 354, 'bestraf': 355, 'besuch': 356, 'bet': 357, 'beteilig': 358, 'beto': 359, 'betrach': 360, 'betreib': 361, 'betroff': 362, 'betrueg': 363, 'betrug': 364, 'bett': 365, 'bevoelkerung': 366, 'bevor': 367, 'bewaehrung': 368, 'bewegung': 369, 'bewei': 370, 'bewoh': 371, 'bewuss': 372, 'bezahl': 373, 'bezeich': 374, 'bezieh': 375, 'beziehung': 376, 'bezug': 377, 'bibel': 378, 'biet': 379, 'bild': 380, 'bildung': 381, 'billig': 382, 'bio': 383, 'bir': 384, 'bischof': 385, 'bish': 386, 'bislang': 387, 'bissch': 388, 'bitt': 389, 'bka': 390, 'bka gutach': 391, 'bla': 392, 'blau': 393, 'bleib': 394, 'blick': 395, 'blieb': 396, 'blind': 397, 'block': 398, 'blockier': 399, 'bloed': 400, 'bloedsinn': 401, 'bloss': 402, 'blu': 403, 'boe': 404, 'boehmermann': 405, 'bonhoeff': 406, 'bonn': 407, 'bor': 408, 'bot': 409, 'botschaf': 410, 'botschaf manila': 411, 'boykottier': 412, 'brach': 413, 'braeuch': 414, 'brand': 415, 'brandenburg': 416, 'brandenburg tor': 417, 'brau': 418, 'brauch': 419, 'brauch nich': 420, 'brd': 421, 'brech': 422, 'brei': 423, 'breitscheidplatz': 424, 'brem': 425, 'brenn': 426, 'bring': 427, 'bro': 428, 'bru': 429, 'brud': 430, 'brued': 431, 'bruessel': 432, 'bstu': 433, 'btw': 434, 'buch': 435, 'buchstab': 436, 'buehr': 437, 'buerg': 438, 'buergerkrieg': 439, 'buergerlich': 440, 'buergermei': 441, 'buergermei altena': 442, 'bullshi': 443, 'bun': 444, 'bund': 445, 'bundeskanzl': 446, 'bundeskanzleri': 447, 'bundesparteitag': 448, 'bundesregierung': 449, 'bundestag': 450, 'bundestagswahl': 451, 'bundeswehr': 452, 'bundeswei': 453, 'burka': 454, 'burtstag': 455, 'bverfg': 456, 'bw': 457, 'bzgl': 458, 'bzw': 459, 'c': 460, 'ca': 461, 'cdu': 462, 'cdu csu': 463, 'cdu spd': 464, 'cen': 465, 'chanc': 466, 'chanukka': 467, 'chao': 468, 'charak': 469, 'chebli': 470, 'chef': 471, 'chi': 472, 'china': 473, 'cholera': 474, 'chri': 475, 'christentum': 476, 'christlich': 477, 'christu': 478, 'cl': 479, 'claudia': 480, 'claudia roth': 481, 'co': 482, 'com': 483, 'cool': 484, 'csd': 485, 'csu': 486, 'csup': 487, 'd': 488, 'd nich': 489, 'dabei': 490, 'dach': 491, 'dachau': 492, 'dadurch': 493, 'daemlich': 494, 'dafu': 495, 'dafu sorg': 496, 'dageg': 497, 'daher': 498, 'dahi': 499, 'dam': 500, 'damal': 501, 'dami': 502, 'dami nich': 503, 'danach': 504, 'dank': 505, 'dank all': 506, 'dank fuer': 507, 'dank fuer hinwei': 508, 'dara': 509, 'darau': 510, 'darauf': 511, 'darf': 512, 'darf nich': 513, 'dargestell': 514, 'dari': 515, 'darueb': 516, 'darueb red': 517, 'darum': 518, 'dat': 519, 'dauer': 520, 'daum': 521, 'david': 522, 'davo': 523, 'davongejag': 524, 'davonjag': 525, 'davor': 526, 'ddr': 527, 'de': 528, 'debatt': 529, 'deck': 530, 'definier': 531, 'definitio': 532, 'definitiv': 533, 'demaizier': 534, 'demnaech': 535, 'demo': 536, 'demokra': 537, 'demokratie': 538, 'demokratisch': 539, 'demonstra': 540, 'demonstratio': 541, 'demonstrier': 542, 'deniz': 543, 'deniz yuecel': 544, 'denk': 545, 'denk opfer': 546, 'dennoch': 547, 'denunzia': 548, 'deo': 549, 'depp': 550, 'derar': 551, 'derjenig': 552, 'dermass': 553, 'derzeitig': 554, 'deshalb': 555, 'dess': 556, 'desweg': 557, 'deutlich': 558, 'deutsch': 559, 'deutsch botschaf': 560, 'deutsch botschaf manila': 561, 'deutsch buerg': 562, 'deutsch national': 563, 'deutsch nich': 564, 'deutsch politik': 565, 'deutsch schich': 566, 'deutsch steuerzahl': 567, 'deutsch volk': 568, 'deutsch waehl': 569, 'deutschfeindlich': 570, 'deutschla': 571, 'deutschla all': 572, 'deutschla brauch': 573, 'deutschla deutsch': 574, 'deutschla europa': 575, 'deutschla geh': 576, 'deutschla mach': 577, 'deutschla nich': 578, 'dezemb': 579, 'dialog': 580, 'dick': 581, 'diejenig': 582, 'dien': 583, 'dienstag': 584, 'diesel': 585, 'diesjaehrig': 586, 'diesmal': 587, 'dietrich': 588, 'dietrich bonhoeff': 589, 'differenzier': 590, 'dig': 591, 'digitalisierung': 592, 'diktator': 593, 'diktatur': 594, 'dilk': 595, 'ding': 596, 'direk': 597, 'diskriminierung': 598, 'diskussio': 599, 'diskutier': 600, 'dobri': 601, 'doerf': 602, 'dolmetsch': 603, 'dom': 604, 'donald': 605, 'donald trump': 606, 'doof': 607, 'dor': 608, 'dorthi': 609, 'dortmu': 610, 'dr': 611, 'dra': 612, 'drauf': 613, 'dreck': 614, 'dreckig': 615, 'dreh': 616, 'drei': 617, 'dresd': 618, 'dri': 619, 'dring': 620, 'dritt': 621, 'dritteoptio': 622, 'drittesgeschlech': 623, 'drittklassig': 624, 'drog': 625, 'droh': 626, 'druck': 627, 'drueck': 628, 'drum': 629, 'dt': 630, 'duemm': 631, 'duerf': 632, 'duerf nich': 633, 'duesseldorf': 634, 'duld': 635, 'dumm': 636, 'dumm deutsch': 637, 'dummhei': 638, 'dummkoepf': 639, 'durchau': 640, 'durchsetz': 641, 'durf': 642, 'e': 643, 'ebe': 644, 'ebe nich': 645, 'ebenfall': 646, 'ebenso': 647, 'ech': 648, 'eck': 649, 'egal': 650, 'egal welch': 651, 'eh': 652, 'ehe': 653, 'ehefuerall': 654, 'ehemalig': 655, 'eher': 656, 'ehr': 657, 'ehrenamtlich': 658, 'ehrlich': 659, 'eier': 660, 'eige': 661, 'eige volk': 662, 'eigentlich': 663, 'eigentlich nich': 664, 'eign': 665, 'eindeutig': 666, 'einfach': 667, 'einfach nich': 668, 'eingefuehr': 669, 'eingeh': 670, 'eingestell': 671, 'einhei': 672, 'einkauf': 673, 'einrei': 674, 'eins': 675, 'einsatz': 676, 'einseitig': 677, 'einsetz': 678, 'einstell': 679, 'einwa': 680, 'einwanderung': 681, 'einzel': 682, 'einzig': 683, 'ekd': 684, 'ekd rv': 685, 'ekdsynod': 686, 'ekelhaf': 687, 'elend': 688, 'eli': 689, 'elter': 690, 'empfehl': 691, 'empfi': 692, 'end': 693, 'endlich': 694, 'endlich mal': 695, 'engagier': 696, 'engla': 697, 'enorm': 698, 'entdeck': 699, 'entf': 700, 'entgeg': 701, 'entla': 702, 'entscheid': 703, 'entscheidung': 704, 'entschied': 705, 'entschuldig': 706, 'entschuldigung': 707, 'entsetz': 708, 'entsorg': 709, 'entsprich': 710, 'entsteh': 711, 'enttaeusch': 712, 'entwed': 713, 'entwickel': 714, 'entwicklung': 715, 'erb': 716, 'erbaermlich': 717, 'erd': 718, 'erdoga': 719, 'erfahr': 720, 'erfahrung': 721, 'erfolg': 722, 'erfolgreich': 723, 'erfu': 724, 'erfuell': 725, 'ergebni': 726, 'ergebniss': 727, 'ergib': 728, 'erhal': 729, 'erheb': 730, 'erika': 731, 'erinn': 732, 'erkann': 733, 'erkenn': 734, 'erkla': 735, 'erklaerung': 736, 'erlaub': 737, 'erleb': 738, 'ermittel': 739, 'ermord': 740, 'ern': 741, 'ern nehm': 742, 'erneu': 743, 'ernsthaf': 744, 'erreich': 745, 'ers': 746, 'ers mal': 747, 'ers rech': 748, 'ers rech nich': 749, 'erschei': 750, 'ersetz': 751, 'erstaunlich': 752, 'erstmal': 753, 'ertrag': 754, 'erwach': 755, 'erwaeh': 756, 'erwar': 757, 'erzaehl': 758, 'ess': 759, 'etablier': 760, 'etc': 761, 'etwa': 762, 'etwa nich': 763, 'eu': 764, 'eur': 765, 'euro': 766, 'europa': 767, 'europaeer': 768, 'europaeisch': 769, 'ewig': 770, 'existenz': 771, 'existier': 772, 'exper': 773, 'extr': 774, 'f': 775, 'facebook': 776, 'faehr': 777, 'faehrlich': 778, 'faell': 779, 'faell nich': 780, 'fah': 781, 'fahr': 782, 'fair': 783, 'fak': 784, 'fak new': 785, 'fakenew': 786, 'fall': 787, 'fall lass': 788, 'falsch': 789, 'familie': 790, 'familiennachzug': 791, 'fan': 792, 'fang': 793, 'fas': 794, 'fas all': 795, 'faschi': 796, 'faschismu': 797, 'fass': 798, 'faul': 799, 'fb': 800, 'fdp': 801, 'fehl': 802, 'feier': 803, 'feiertag': 804, 'feig': 805, 'feigling': 806, 'fein': 807, 'feind': 808, 'femini': 809, 'feminismu': 810, 'feministisch': 811, 'fen': 812, 'fernseh': 813, 'fertig': 814, 'fes': 815, 'feststell': 816, 'fett': 817, 'fettig': 818, 'fettig haar': 819, 'fettig haar wdr': 820, 'fick': 821, 'film': 822, 'finanziell': 823, 'finanzier': 824, 'finanzkommissio': 825, 'find': 826, 'find gut': 827, 'find koenn': 828, 'find nich': 829, 'fing': 830, 'fir': 831, 'fisch': 832, 'flagg': 833, 'flasch': 834, 'flasch sammel': 835, 'flieg': 836, 'flieh': 837, 'fliess': 838, 'flintenuschi': 839, 'fluch': 840, 'fluech': 841, 'fluechtling': 842, 'fluechtlingshilf': 843, 'fluechtlingspolitik': 844, 'flughaf': 845, 'foerd': 846, 'folg': 847, 'follow': 848, 'for': 849, 'ford': 850, 'forderung': 851, 'form': 852, 'formel': 853, 'formulier': 854, 'fortschritt': 855, 'foto': 856, 'fpo': 857, 'fr': 858, 'frag': 859, 'frag mal': 860, 'frag stell': 861, 'frag warum': 862, 'fraktio': 863, 'frank': 864, 'frankfur': 865, 'frankreich': 866, 'franz': 867, 'franzisku': 868, 'franzo': 869, 'franzoesisch': 870, 'frau': 871, 'frau kind': 872, 'frau maischberg': 873, 'frau merkel': 874, 'frech': 875, 'frei': 876, 'freiburg': 877, 'freier': 878, 'freihei': 879, 'freihei fuer': 880, 'freitag': 881, 'freiwillig': 882, 'fremd': 883, 'fress': 884, 'freu': 885, 'freu ueber': 886, 'freud': 887, 'freundeskrei': 888, 'fried': 889, 'friedlich': 890, 'friedma': 891, 'froehlich': 892, 'froehlich gruss': 893, 'froehlich gruss hauptstad': 894, 'froh': 895, 'frueh': 896, 'fuehl': 897, 'fuehr': 898, 'fuehrung': 899, 'fuell': 900, 'fuer': 901, 'fuer afd': 902, 'fuer all': 903, 'fuer asyla': 904, 'fuer d': 905, 'fuer deutsch': 906, 'fuer deutschla': 907, 'fuer dumm': 908, 'fuer eur': 909, 'fuer europa': 910, 'fuer fluechtling': 911, 'fuer frau': 912, 'fuer freihei': 913, 'fuer gross': 914, 'fuer heu': 915, 'fuer hinwei': 916, 'fuer immer': 917, 'fuer jed': 918, 'fuer land': 919, 'fuer mensch': 920, 'fuer merkel': 921, 'fuer ne': 922, 'fuer nich': 923, 'fuer rech': 924, 'fuer spd': 925, 'fuerch': 926, 'fuhr': 927, 'fund': 928, 'funktiona': 929, 'funktionier': 930, 'furchtbar': 931, 'fuss': 932, 'fussball': 933, 'fxn': 934, 'g': 935, 'gab': 936, 'gabriel': 937, 'gae': 938, 'gaeb': 939, 'gang': 940, 'ganz': 941, 'ganz einfach': 942, 'ganz europa': 943, 'ganz klar': 944, 'ganz tag': 945, 'gar': 946, 'gar nich': 947, 'garantier': 948, 'garnich': 949, 'gas': 950, 'gauck': 951, 'gaula': 952, 'geb': 953, 'geb rech': 954, 'geg': 955, 'geg afd': 956, 'geg all': 957, 'geg antisemitismu': 958, 'geg deutsch': 959, 'geg jud': 960, 'geg rech': 961, 'geg trump': 962, 'geh': 963, 'geh arsch': 964, 'geh gar': 965, 'geh gar nich': 966, 'geh gut': 967, 'geh ja': 968, 'geh nich': 969, 'geh s': 970, 'geil': 971, 'geis': 972, 'gelb': 973, 'geld': 974, 'geld fuer': 975, 'genau': 976, 'genseitig': 977, 'genteil': 978, 'genteil fall': 979, 'genueb': 980, 'genug': 981, 'genwehr': 982, 'georg': 983, 'ger': 984, 'geta': 985, 'gez': 986, 'gg': 987, 'gib': 988, 'gib deutschla': 989, 'gib ja': 990, 'gib nich': 991, 'gib s': 992, 'gib schon': 993, 'gil': 994, 'gil fuer': 995, 'ging': 996, 'glaeubig': 997, 'glatt': 998, 'glaub': 999, 'glaub all': 1000, 'glaub immer': 1001, 'glaub nich': 1002, 'glaub wirklich': 1003, 'gleich': 1004, 'gleichberechtigung': 1005, 'gleichzeitig': 1006, 'glueck': 1007, 'glueckwunsch': 1008, 'glyphosa': 1009, 'gnad': 1010, 'gner': 1011, 'goebbel': 1012, 'goering': 1013, 'goett': 1014, 'gold': 1015, 'googl': 1016, 'gott': 1017, 'gott sei': 1018, 'gott sei dank': 1019, 'grab': 1020, 'grad': 1021, 'grandio': 1022, 'gratulier': 1023, 'grau': 1024, 'greif': 1025, 'grenz': 1026, 'grenzenlo': 1027, 'griech': 1028, 'groening': 1029, 'groess': 1030, 'groko': 1031, 'gross': 1032, 'gross koalitio': 1033, 'grossartig': 1034, 'grossteil': 1035, 'gru': 1036, 'gru fdp': 1037, 'gru link': 1038, 'gru nich': 1039, 'gru versiff': 1040, 'gru waehl': 1041, 'gruess': 1042, 'grund': 1043, 'grundgesetz': 1044, 'grundlag': 1045, 'grundsaetzlich': 1046, 'grupp': 1047, 'gruselig': 1048, 'gruss': 1049, 'gruss hauptstad': 1050, 'gt': 1051, 'gt gt': 1052, 'gt gt gt': 1053, 'guck': 1054, 'gue': 1055, 'gummigeschoss': 1056, 'gut': 1057, 'gut find': 1058, 'gut fuer': 1059, 'gut mach': 1060, 'gut morg': 1061, 'gut nich': 1062, 'gut tun': 1063, 'gutach': 1064, 'guter': 1065, 'gutmensch': 1066, 'h': 1067, 'h maa': 1068, 'haar': 1069, 'haar wdr': 1070, 'hadith': 1071, 'hael': 1072, 'haelf': 1073, 'haend': 1074, 'haeng': 1075, 'haer': 1076, 'haesslich': 1077, 'haett': 1078, 'haeu': 1079, 'haeufig': 1080, 'haf': 1081, 'hahaha': 1082, 'hal': 1083, 'hal nich': 1084, 'halb': 1085, 'hallo': 1086, 'hallo freu': 1087, 'haltung': 1088, 'hama': 1089, 'hamburg': 1090, 'hamburg prid': 1091, 'hamburgprid': 1092, 'hand': 1093, 'handel': 1094, 'happy': 1095, 'har': 1096, 'hartaberfair': 1097, 'hartz': 1098, 'hartz iv': 1099, 'hartziv': 1100, 'has': 1101, 'hashtag': 1102, 'hass': 1103, 'hatt': 1104, 'hau': 1105, 'hauf': 1106, 'hauptsach': 1107, 'hauptsaechlich': 1108, 'hauptstad': 1109, 'hauptstad israel': 1110, 'hautfarb': 1111, 'hebraeisch': 1112, 'heiko': 1113, 'heiko maa': 1114, 'heil': 1115, 'heilig': 1116, 'heima': 1117, 'heimatla': 1118, 'heira': 1119, 'heiss': 1120, 'heiss nich': 1121, 'held': 1122, 'helf': 1123, 'helmu': 1124, 'her': 1125, 'herau': 1126, 'herkomm': 1127, 'herkunf': 1128, 'herr': 1129, 'herrsch': 1130, 'herum': 1131, 'herz': 1132, 'herzlich': 1133, 'herzlich glueckwunsch': 1134, 'herzlich willkomm': 1135, 'hess': 1136, 'hetero': 1137, 'hetz': 1138, 'hetz geg': 1139, 'heu': 1140, 'heu abend': 1141, 'heu nich': 1142, 'heu uhr': 1143, 'heuchel': 1144, 'heuchelei': 1145, 'heuchl': 1146, 'heul': 1147, 'heutig': 1148, 'hi': 1149, 'hiess': 1150, 'hilf': 1151, 'hillary': 1152, 'himmel': 1153, 'hinterblieb': 1154, 'hinterfotzig': 1155, 'hinterfrag': 1156, 'hintergru': 1157, 'hinterh': 1158, 'hinweg': 1159, 'hinwei': 1160, 'hir': 1161, 'hir proth': 1162, 'hirnwaesch': 1163, 'historisch': 1164, 'hitl': 1165, 'hoch': 1166, 'hochverra': 1167, 'hoech': 1168, 'hoeck': 1169, 'hoeh': 1170, 'hoell': 1171, 'hoer': 1172, 'hoer einfach': 1173, 'hoer ja': 1174, 'hoer nich': 1175, 'hoff': 1176, 'hoffentlich': 1177, 'hoffnung': 1178, 'hoh': 1179, 'hohl': 1180, 'hol': 1181, 'holf': 1182, 'hollstei': 1183, 'holocau': 1184, 'holstei': 1185, 'homo': 1186, 'homosexuell': 1187, 'honeck': 1188, 'hord': 1189, 'hos': 1190, 'hos fettig': 1191, 'hos fettig haar': 1192, 'hr': 1193, 'huebsch': 1194, 'huerd': 1195, 'humanita': 1196, 'humor': 1197, 'hund': 1198, 'hunderttau': 1199, 'hung': 1200, 'hur': 1201, 'hurensoh': 1202, 'i': 1203, 'ichwar': 1204, 'ick': 1205, 'idee': 1206, 'identifizier': 1207, 'identita': 1208, 'ideologie': 1209, 'ideologisch': 1210, 'idio': 1211, 'ignorier': 1212, 'ill': 1213, 'illegal': 1214, 'imam': 1215, 'immer': 1216, 'immer fuer': 1217, 'immer gleich': 1218, 'immer mehr': 1219, 'immer nich': 1220, 'immerhi': 1221, 'importier': 1222, 'impul': 1223, 'incirlik': 1224, 'industriell': 1225, 'info': 1226, 'informatio': 1227, 'informier': 1228, 'infosta': 1229, 'inhal': 1230, 'inhaltlich': 1231, 'inn': 1232, 'innenmini': 1233, 'inner': 1234, 'innerhalb': 1235, 'insbeso': 1236, 'insgesam': 1237, 'insul': 1238, 'integratio': 1239, 'integrier': 1240, 'intelligenz': 1241, 'intensiv': 1242, 'inter': 1243, 'interess': 1244, 'interessa': 1245, 'interessier': 1246, 'international': 1247, 'interpretatio': 1248, 'interpretier': 1249, 'interview': 1250, 'invasor': 1251, 'iq': 1252, 'ira': 1253, 'irgendei': 1254, 'irgendetwa': 1255, 'irgendwa': 1256, 'irgendwann': 1257, 'irgendwie': 1258, 'irgendwo': 1259, 'irr': 1260, 'irrsinn': 1261, 'is': 1262, 'is kaempf': 1263, 'isi': 1264, 'islam': 1265, 'islam hoer': 1266, 'islam nich': 1267, 'islami': 1268, 'islamisch': 1269, 'islamisierung': 1270, 'islamismu': 1271, 'islamistisch': 1272, 'islamkritik': 1273, 'israel': 1274, 'israelisch': 1275, 'israelpedia': 1276, 'iss': 1277, 'isteskrank': 1278, 'istig': 1279, 'istlich': 1280, 'italie': 1281, 'iv': 1282, 'j': 1283, 'ja': 1284, 'ja all': 1285, 'ja berei': 1286, 'ja immer': 1287, 'ja ja': 1288, 'ja mach': 1289, 'ja mal': 1290, 'ja nich': 1291, 'ja nich mal': 1292, 'ja niema': 1293, 'ja rech': 1294, 'ja schon': 1295, 'ja stimm': 1296, 'ja wohl': 1297, 'jaehrig': 1298, 'jaemmerlich': 1299, 'jag': 1300, 'jahr': 1301, 'jahr fuer': 1302, 'jahr nich': 1303, 'jahrhu': 1304, 'jahrzeh': 1305, 'jaja': 1306, 'jamaika': 1307, 'jamm': 1308, 'japa': 1309, 'jcm': 1310, 'je': 1311, 'jed': 1312, 'jed fall': 1313, 'jed prei': 1314, 'jed tag': 1315, 'jedenfall': 1316, 'jedoch': 1317, 'jem': 1318, 'jema': 1319, 'jemal': 1320, 'jen': 1321, 'jerusal': 1322, 'jesu': 1323, 'jetz': 1324, 'jetz afd': 1325, 'jetz all': 1326, 'jetz mal': 1327, 'jetz nich': 1328, 'jetz schon': 1329, 'jetzig': 1330, 'jo': 1331, 'job': 1332, 'journali': 1333, 'journalismu': 1334, 'jubel': 1335, 'jud': 1336, 'judenhass': 1337, 'judentum': 1338, 'juedisch': 1339, 'jueng': 1340, 'jufo': 1341, 'jug': 1342, 'jugendlich': 1343, 'jung': 1344, 'jung schoe': 1345, 'juni': 1346, 'juristisch': 1347, 'juso': 1348, 'justiz': 1349, 'k': 1350, 'kack': 1351, 'kaem': 1352, 'kaempf': 1353, 'kaempf fuer': 1354, 'kaempf geg': 1355, 'kaffee': 1356, 'kaha': 1357, 'kal': 1358, 'kam': 1359, 'kamerad': 1360, 'kampag': 1361, 'kampf': 1362, 'kampf geg': 1363, 'kan': 1364, 'kandida': 1365, 'kanzl': 1366, 'kanzleri': 1367, 'kanzlerkandida': 1368, 'kapier': 1369, 'kapital': 1370, 'kapitalismu': 1371, 'kapitel': 1372, 'kard': 1373, 'kard marx': 1374, 'kardinal': 1375, 'kardinal marx': 1376, 'karl': 1377, 'karlsruh': 1378, 'kassier': 1379, 'katalonie': 1380, 'katholik': 1381, 'katholisch': 1382, 'katz': 1383, 'kauf': 1384, 'kaum': 1385, 'keinerlei': 1386, 'kenn': 1387, 'kenntni': 1388, 'ker': 1389, 'kerz': 1390, 'kett': 1391, 'kika': 1392, 'kind': 1393, 'kinderga': 1394, 'kirch': 1395, 'kirchentag': 1396, 'kita': 1397, 'klaer': 1398, 'klag': 1399, 'klapp': 1400, 'klar': 1401, 'klass': 1402, 'klatsch': 1403, 'klau': 1404, 'kleb': 1405, 'klei': 1406, 'kleidung': 1407, 'klick': 1408, 'klima': 1409, 'kling': 1410, 'klo': 1411, 'klug': 1412, 'kna': 1413, 'knall': 1414, 'knapp': 1415, 'knech': 1416, 'kneip': 1417, 'koalitio': 1418, 'koalitionsverhandlung': 1419, 'koalitionsvertrag': 1420, 'koch': 1421, 'koel': 1422, 'koenn': 1423, 'koenn ja': 1424, 'koenn nich': 1425, 'koepf': 1426, 'koerp': 1427, 'koerperlich': 1428, 'kohl': 1429, 'kolleg': 1430, 'komisch': 1431, 'komm': 1432, 'komm naech': 1433, 'komm nich': 1434, 'komm wuerd': 1435, 'kommentar': 1436, 'kommentier': 1437, 'kommuni': 1438, 'komp': 1439, 'komplett': 1440, 'kompromiss': 1441, 'kon': 1442, 'konflik': 1443, 'konfrontier': 1444, 'konkr': 1445, 'konn': 1446, 'konsequ': 1447, 'konsequenz': 1448, 'konservativ': 1449, 'konsor': 1450, 'kontex': 1451, 'kontroll': 1452, 'kontrollier': 1453, 'konz': 1454, 'konzep': 1455, 'kopf': 1456, 'kopftuch': 1457, 'kora': 1458, 'kora hadith': 1459, 'korrek': 1460, 'korrigier': 1461, 'korrup': 1462, 'kos': 1463, 'kostenlo': 1464, 'kotz': 1465, 'kraf': 1466, 'krank': 1467, 'krankenversicherung': 1468, 'kratz': 1469, 'krei': 1470, 'kreuz': 1471, 'kriech': 1472, 'krieg': 1473, 'krim': 1474, 'kriminalita': 1475, 'kriminell': 1476, 'kriminell ausla': 1477, 'kritik': 1478, 'kritisch': 1479, 'kritisier': 1480, 'kro': 1481, 'kueh': 1482, 'kuemm': 1483, 'kuena': 1484, 'kuerz': 1485, 'kuess': 1486, 'kuh': 1487, 'kultur': 1488, 'kulturell': 1489, 'kun': 1490, 'kundgebung': 1491, 'kur': 1492, 'kurd': 1493, 'kurz': 1494, 'kz': 1495, 'l': 1496, 'laber': 1497, 'lach': 1498, 'lad': 1499, 'laecherlich': 1500, 'laed': 1501, 'laend': 1502, 'laeng': 1503, 'laeng leb': 1504, 'laess': 1505, 'laess nich': 1506, 'laeuf': 1507, 'laferlichterluth': 1508, 'lag': 1509, 'lager': 1510, 'land': 1511, 'land nich': 1512, 'landsleu': 1513, 'landwirtschaf': 1514, 'lang': 1515, 'lang nich': 1516, 'langjaehrig': 1517, 'langsam': 1518, 'langweilig': 1519, 'lanz': 1520, 'las': 1521, 'lass': 1522, 'lass endlich': 1523, 'lass nich': 1524, 'lau': 1525, 'lauf': 1526, 'lder': 1527, 'leb': 1528, 'leb deutschla': 1529, 'leb nich': 1530, 'leck': 1531, 'lediglich': 1532, 'leer': 1533, 'leg': 1534, 'legal': 1535, 'legenhei': 1536, 'legitim': 1537, 'leh': 1538, 'lehr': 1539, 'leich': 1540, 'leid': 1541, 'leider': 1542, 'leider nich': 1543, 'leipzig': 1544, 'leis': 1545, 'leistung': 1546, 'leit': 1547, 'leitkultur': 1548, 'ler': 1549, 'les': 1550, 'lesb': 1551, 'letz': 1552, 'letz jahr': 1553, 'letz mal': 1554, 'letz tag': 1555, 'leu': 1556, 'leug': 1557, 'ley': 1558, 'liberal': 1559, 'lich': 1560, 'lieb': 1561, 'lieb freu': 1562, 'lieber': 1563, 'lieber herr': 1564, 'lied': 1565, 'liefer': 1566, 'lieg': 1567, 'lies': 1568, 'lind': 1569, 'linie': 1570, 'link': 1571, 'link anarchi': 1572, 'link gru': 1573, 'linksgru': 1574, 'linksradikal': 1575, 'lis': 1576, 'liv': 1577, 'lkw': 1578, 'lob': 1579, 'lobby': 1580, 'loe': 1581, 'loeh': 1582, 'loesch': 1583, 'loesung': 1584, 'loesung fuer': 1585, 'log': 1586, 'logik': 1587, 'logisch': 1588, 'loh': 1589, 'los': 1590, 'lsvd': 1591, 'lt': 1592, 'lte': 1593, 'ltwnd': 1594, 'lueg': 1595, 'luegenpress': 1596, 'lug': 1597, 'lump': 1598, 'lus': 1599, 'lustig': 1600, 'luth': 1601, 'm': 1602, 'maa': 1603, 'mach': 1604, 'mach all': 1605, 'mach mal': 1606, 'mach nich': 1607, 'machtgeil': 1608, 'mad': 1609, 'maechtig': 1610, 'maedch': 1611, 'maedel': 1612, 'maenn': 1613, 'maenn nich': 1614, 'maennlich': 1615, 'maertyr': 1616, 'maerz': 1617, 'mafia': 1618, 'mag': 1619, 'mag nich': 1620, 'magaldi': 1621, 'magazi': 1622, 'mai': 1623, 'mail': 1624, 'maischberg': 1625, 'mal': 1626, 'mal ehrlich': 1627, 'mal fuer': 1628, 'mal jema': 1629, 'mal nich': 1630, 'mal richtig': 1631, 'mal schau': 1632, 'mal seh': 1633, 'manch': 1634, 'manch mensch': 1635, 'manchmal': 1636, 'manda': 1637, 'manila': 1638, 'manipulier': 1639, 'mann': 1640, 'mann nich': 1641, 'mannheim': 1642, 'marco': 1643, 'mari': 1644, 'maria': 1645, 'mark': 1646, 'marti': 1647, 'marti schulz': 1648, 'marx': 1649, 'mass': 1650, 'massiv': 1651, 'massnahm': 1652, 'material': 1653, 'mau': 1654, 'mauer': 1655, 'maul': 1656, 'meck': 1657, 'mecklenburg': 1658, 'medie': 1659, 'mehr': 1660, 'mehr fuer': 1661, 'mehr hoer': 1662, 'mehr land': 1663, 'mehr mehr': 1664, 'mehr mensch': 1665, 'mehr nich': 1666, 'mehrfach': 1667, 'mehrhei': 1668, 'mehrzahl': 1669, 'meind': 1670, 'meinsam': 1671, 'meinung': 1672, 'meinungsaeusserung': 1673, 'meinungsfreihei': 1674, 'meis': 1675, 'meld': 1676, 'meldung': 1677, 'meng': 1678, 'mensch': 1679, 'mensch nich': 1680, 'menschenrech': 1681, 'menschenverachtung': 1682, 'menschenwuerd': 1683, 'menschhei': 1684, 'menschlich': 1685, 'merk': 1686, 'merkel': 1687, 'merkel co': 1688, 'merkel fuer': 1689, 'merkel konsor': 1690, 'merkel mach': 1691, 'merkel nich': 1692, 'merkel u': 1693, 'merkel vasall': 1694, 'merkwuerdig': 1695, 'mess': 1696, 'meter': 1697, 'metoo': 1698, 'michael': 1699, 'michel': 1700, 'miet': 1701, 'migra': 1702, 'migratio': 1703, 'migrationshintergru': 1704, 'milliard': 1705, 'millio': 1706, 'min': 1707, 'mind': 1708, 'minderhei': 1709, 'minderheitsregierung': 1710, 'minderjaehrig': 1711, 'mini': 1712, 'minu': 1713, 'mio': 1714, 'mis': 1715, 'misch': 1716, 'missbrauch': 1717, 'mitarbei': 1718, 'mitbekomm': 1719, 'miteina': 1720, 'mitgefuehl': 1721, 'mitglied': 1722, 'mitgliederentscheid': 1723, 'mitleid': 1724, 'mitt': 1725, 'mittel': 1726, 'mittelalterlich': 1727, 'mittlerweil': 1728, 'mittwoch': 1729, 'mob': 1730, 'moder': 1731, 'moderator': 1732, 'moderatori': 1733, 'moech': 1734, 'moech nich': 1735, 'moeg': 1736, 'moeglich': 1737, 'moeglichkei': 1738, 'moerd': 1739, 'mohammed': 1740, 'moi': 1741, 'moi moi': 1742, 'momenta': 1743, 'mona': 1744, 'moralisch': 1745, 'mord': 1746, 'morg': 1747, 'moschee': 1748, 'mosl': 1749, 'mossul': 1750, 'motto': 1751, 'mp': 1752, 'msm': 1753, 'muell': 1754, 'muench': 1755, 'muess': 1756, 'muess eigentlich': 1757, 'muess endlich': 1758, 'muess nich': 1759, 'muett': 1760, 'multikulti': 1761, 'mund': 1762, 'murksel': 1763, 'muslim': 1764, 'muslima': 1765, 'muslimisch': 1766, 'mut': 1767, 'mutig': 1768, 'mutt': 1769, 'mutti': 1770, 'n': 1771, 'na': 1772, 'na ja': 1773, 'na klar': 1774, 'nachbar': 1775, 'nachd': 1776, 'nachdenk': 1777, 'nachfrag': 1778, 'nachrich': 1779, 'nachvollziehbar': 1780, 'nachzul': 1781, 'nack': 1782, 'naech': 1783, 'naech jahr': 1784, 'naech mal': 1785, 'naeh': 1786, 'naemlich': 1787, 'nafri': 1788, 'nah': 1789, 'nah ost': 1790, 'nahezu': 1791, 'nahl': 1792, 'naiv': 1793, 'naja': 1794, 'nam': 1795, 'nann': 1796, 'nas': 1797, 'natio': 1798, 'national': 1799, 'nationalismu': 1800, 'nationalita': 1801, 'nationalmannschaf': 1802, 'nationalsozialismu': 1803, 'nationalstaa': 1804, 'nato': 1805, 'natuerlich': 1806, 'natuerlich nich': 1807, 'natur': 1808, 'nauso': 1809, 'nazi': 1810, 'nder': 1811, 'nder studie': 1812, 'ne': 1813, 'neb': 1814, 'neba': 1815, 'nee': 1816, 'negativ': 1817, 'neger': 1818, 'nehm': 1819, 'nehm all': 1820, 'nehmig': 1821, 'nein': 1822, 'nen': 1823, 'nenn': 1824, 'neonazi': 1825, 'neratio': 1826, 'nerell': 1827, 'nerv': 1828, 'nett': 1829, 'netz': 1830, 'netzdg': 1831, 'neu': 1832, 'neu jahr': 1833, 'neubrandenburg': 1834, 'neuer': 1835, 'neujahrsempfang': 1836, 'neutral': 1837, 'neuwahl': 1838, 'new': 1839, 'nich': 1840, 'nich abgeschob': 1841, 'nich aend': 1842, 'nich all': 1843, 'nich begreif': 1844, 'nich bekann': 1845, 'nich bess': 1846, 'nich deutsch': 1847, 'nich deutschla': 1848, 'nich einfach': 1849, 'nich einzig': 1850, 'nich ern': 1851, 'nich ern nehm': 1852, 'nich ers': 1853, 'nich find': 1854, 'nich frau': 1855, 'nich fuer': 1856, 'nich ganz': 1857, 'nich geb': 1858, 'nich geg': 1859, 'nich geh': 1860, 'nich genug': 1861, 'nich gott': 1862, 'nich gru': 1863, 'nich gut': 1864, 'nich jahr': 1865, 'nich kenn': 1866, 'nich komm': 1867, 'nich lag': 1868, 'nich leb': 1869, 'nich ler': 1870, 'nich mach': 1871, 'nich mal': 1872, 'nich mehr': 1873, 'nich mehr hoer': 1874, 'nich merkel': 1875, 'nich moeglich': 1876, 'nich nich': 1877, 'nich probl': 1878, 'nich rad': 1879, 'nich rech': 1880, 'nich red': 1881, 'nich regier': 1882, 'nich sag': 1883, 'nich schlech': 1884, 'nich schlimm': 1885, 'nich schoe': 1886, 'nich seh': 1887, 'nich selb': 1888, 'nich sond': 1889, 'nich staendig': 1890, 'nich tun': 1891, 'nich ueber': 1892, 'nich vergess': 1893, 'nich versta': 1894, 'nich versteh': 1895, 'nich wahr': 1896, 'nich welch': 1897, 'nich wenig': 1898, 'nich wer': 1899, 'nich wichtig': 1900, 'nich wirklich': 1901, 'nich wiss': 1902, 'nich wund': 1903, 'nichtmal': 1904, 'nie': 1905, 'nieder': 1906, 'niederla': 1907, 'niederlag': 1908, 'niedrig': 1909, 'niema': 1910, 'niemal': 1911, 'niess': 1912, 'nimm': 1913, 'nirg': 1914, 'niveau': 1915, 'nix': 1916, 'no': 1917, 'noafd': 1918, 'noafd afd': 1919, 'nochmal': 1920, 'noe': 1921, 'noetig': 1922, 'nogroko': 1923, 'nomm': 1924, 'nord': 1925, 'nordkorea': 1926, 'normal': 1927, 'noss': 1928, 'not': 1929, 'notwendig': 1930, 'novemb': 1931, 'npd': 1932, 'nrw': 1933, 'ns': 1934, 'nsu': 1935, 'ntv': 1936, 'nu': 1937, 'nueg': 1938, 'nuernberg': 1939, 'nuetz': 1940, 'nuhr': 1941, 'null': 1942, 'nulltipp': 1943, 'nurmalso': 1944, 'nutz': 1945, 'o': 1946, 'obama': 1947, 'obdachlo': 1948, 'obe': 1949, 'ober': 1950, 'obergrenz': 1951, 'objektiv': 1952, 'obwohl': 1953, 'och': 1954, 'od': 1955, 'oef': 1956, 'oeff': 1957, 'oeffentlich': 1958, 'oeffentlich rechtlich': 1959, 'oeffentlichkei': 1960, 'oekologisch': 1961, 'oekum': 1962, 'oer': 1963, 'oesterreich': 1964, 'oesterreichisch': 1965, 'oezdemir': 1966, 'off': 1967, 'off abu': 1968, 'off insul': 1969, 'offenbar': 1970, 'offensichtlich': 1971, 'offiziell': 1972, 'oft': 1973, 'oh': 1974, 'ohn': 1975, 'ohn rueckgra': 1976, 'ohn schulabschluss': 1977, 'ohr': 1978, 'ohrfeig': 1979, 'ok': 1980, 'okay': 1981, 'onli': 1982, 'opfer': 1983, 'oppositio': 1984, 'orba': 1985, 'ord': 1986, 'ordentlich': 1987, 'ordnung': 1988, 'orf': 1989, 'organisatio': 1990, 'organisier': 1991, 'ort': 1992, 'ossi': 1993, 'ost': 1994, 'ostku': 1995, 'other': 1996, 'other other': 1997, 'p': 1998, 'paar': 1999, 'pack': 2000, 'paedophil': 2001, 'paedophil denunzia': 2002, 'paess': 2003, 'pak': 2004, 'palaesti': 2005, 'palaestina': 2006, 'palm': 2007, 'panz': 2008, 'pap': 2009, 'parad': 2010, 'parallel': 2011, 'parlam': 2012, 'partei': 2013, 'partei deutschla': 2014, 'partei waehl': 2015, 'parteitag': 2016, 'pass': 2017, 'pass nich': 2018, 'passier': 2019, 'patriarcha': 2020, 'patrio': 2021, 'patriotisch': 2022, 'patriotismu': 2023, 'peinlich': 2024, 'per': 2025, 'perfek': 2026, 'perma': 2027, 'perso': 2028, 'persoenlich': 2029, 'personal': 2030, 'perv': 2031, 'pes': 2032, 'peter': 2033, 'pfaff': 2034, 'pfeif': 2035, 'pferd': 2036, 'pfleg': 2037, 'pflich': 2038, 'pfui': 2039, 'pfui teufel': 2040, 'phoenix': 2041, 'piep': 2042, 'pl': 2043, 'pla': 2044, 'plattform': 2045, 'platz': 2046, 'ploetzlich': 2047, 'plu': 2048, 'poggenburg': 2049, 'pol': 2050, 'poli': 2051, 'politik': 2052, 'politik nich': 2053, 'politisch': 2054, 'polizei': 2055, 'polizi': 2056, 'polnisch': 2057, 'porno': 2058, 'pos': 2059, 'positio': 2060, 'positiv': 2061, 'pra': 2062, 'praesid': 2063, 'predig': 2064, 'prei': 2065, 'press': 2066, 'prid': 2067, 'primitiv': 2068, 'priva': 2069, 'pro': 2070, 'probl': 2071, 'problematisch': 2072, 'produzier': 2073, 'professionell': 2074, 'profil': 2075, 'profilier': 2076, 'programm': 2077, 'projek': 2078, 'propaganda': 2079, 'proph': 2080, 'protestier': 2081, 'proth': 2082, 'provokatio': 2083, 'proz': 2084, 'prozess': 2085, 'pruef': 2086, 'pruegel': 2087, 'ps': 2088, 'psychisch': 2089, 'punk': 2090, 'pur': 2091, 'puti': 2092, 'quatsch': 2093, 'quell': 2094, 'quo': 2095, 'r': 2096, 'rach': 2097, 'rad': 2098, 'radikal': 2099, 'rai': 2100, 'rall': 2101, 'rass': 2102, 'rassi': 2103, 'rassismu': 2104, 'rassistisch': 2105, 'rassistisch ideologie': 2106, 'rational': 2107, 'ratt': 2108, 'rau': 2109, 'rau deutschla': 2110, 'raub': 2111, 'rauch': 2112, 'raum': 2113, 'rausschmeiss': 2114, 'reagier': 2115, 'reaktio': 2116, 'real': 2117, 'realita': 2118, 'rech': 2119, 'rech nich': 2120, 'rechnung': 2121, 'rechtfertig': 2122, 'rechtigkei': 2123, 'rechtlich': 2124, 'rechtsextr': 2125, 'rechtspopuli': 2126, 'rechtsstaa': 2127, 'red': 2128, 'red ueber': 2129, 'reformationsjubilaeum': 2130, 'refugee': 2131, 'reg': 2132, 'regel': 2133, 'regier': 2134, 'regierung': 2135, 'regim': 2136, 'regio': 2137, 'reich': 2138, 'reich nich': 2139, 'reichsbuerg': 2140, 'reih': 2141, 'rein': 2142, 'reis': 2143, 'reiss': 2144, 'religio': 2145, 'ren': 2146, 'republik': 2147, 'res': 2148, 'respek': 2149, 'rett': 2150, 'retwee': 2151, 'rich': 2152, 'richtig': 2153, 'richtung': 2154, 'ries': 2155, 'ring': 2156, 'ritt': 2157, 'rohingya': 2158, 'roll': 2159, 'ros': 2160, 'rot': 2161, 'rot gru': 2162, 'rot gru versiff': 2163, 'roth': 2164, 'rtl': 2165, 'ru': 2166, 'rueckgra': 2167, 'ruecksich': 2168, 'ruf': 2169, 'ruh': 2170, 'ruhig': 2171, 'rum': 2172, 'run': 2173, 'rund': 2174, 'russ': 2175, 'russisch': 2176, 'russla': 2177, 'rv': 2178, 's': 2179, 'sach': 2180, 'saekular': 2181, 'saemtlich': 2182, 'sag': 2183, 'sag all': 2184, 'sag mal': 2185, 'sag nich': 2186, 'sah': 2187, 'salafi': 2188, 'sam': 2189, 'sammel': 2190, 'sanktio': 2191, 'sat': 2192, 'satz': 2193, 'sau': 2194, 'saudi': 2195, 'saudi arabie': 2196, 'schad': 2197, 'schaebig': 2198, 'schaech': 2199, 'schaed': 2200, 'schaem': 2201, 'schaeubl': 2202, 'schaff': 2203, 'schal': 2204, 'schand': 2205, 'schand fuer': 2206, 'schand fuer deutschla': 2207, 'scharia': 2208, 'schau': 2209, 'schau mal': 2210, 'schauspiel': 2211, 'scheh': 2212, 'schein': 2213, 'scheinbar': 2214, 'scheinheilg': 2215, 'scheinheilg partei': 2216, 'scheinheilg partei deutschla': 2217, 'scheinheilig': 2218, 'scheiss': 2219, 'scheiter': 2220, 'schenk': 2221, 'scherg': 2222, 'schich': 2223, 'schick': 2224, 'schieh': 2225, 'schiess': 2226, 'schlaeg': 2227, 'schlaf': 2228, 'schlag': 2229, 'schlamp': 2230, 'schland': 2231, 'schlech': 2232, 'schleswig': 2233, 'schliess': 2234, 'schliesslich': 2235, 'schlimm': 2236, 'schloss': 2237, 'schluss': 2238, 'schmarotz': 2239, 'schmarotz paedophil': 2240, 'schmarotz paedophil denunzia': 2241, 'schmeiss': 2242, 'schmid': 2243, 'schmierfink': 2244, 'schmoddrig': 2245, 'schnell': 2246, 'schoe': 2247, 'schon': 2248, 'schon gar': 2249, 'schon gar nich': 2250, 'schon immer': 2251, 'schon klar': 2252, 'schon laeng': 2253, 'schon lang': 2254, 'schon mal': 2255, 'schon seit': 2256, 'schoss': 2257, 'schrecklich': 2258, 'schrei': 2259, 'schreib': 2260, 'schrieb': 2261, 'schrif': 2262, 'schritt': 2263, 'schroed': 2264, 'schuetz': 2265, 'schul': 2266, 'schulabschluss': 2267, 'schuld': 2268, 'schuldig': 2269, 'schulz': 2270, 'schutz': 2271, 'schwachkoepf': 2272, 'schwachsinn': 2273, 'schwaech': 2274, 'schwaetz': 2275, 'schwarz': 2276, 'schwarz gru': 2277, 'schwed': 2278, 'schwei': 2279, 'schweig': 2280, 'schweiz': 2281, 'schwer': 2282, 'schwesig': 2283, 'schwierig': 2284, 'schwimm': 2285, 'schwuchtel': 2286, 'schwul': 2287, 'sed': 2288, 'sed stasi': 2289, 'seehof': 2290, 'seel': 2291, 'seg': 2292, 'seh': 2293, 'seh nich': 2294, 'sei': 2295, 'sei dank': 2296, 'seid': 2297, 'seid all': 2298, 'seit': 2299, 'seit jahr': 2300, 'seit jahrzeh': 2301, 'seit lang': 2302, 'seit wann': 2303, 'seitd': 2304, 'sel': 2305, 'selb': 2306, 'selb schuld': 2307, 'selbstverstaendlich': 2308, 'sellschaf': 2309, 'sellschaf nich': 2310, 'sellschaftlich': 2311, 'seltsam': 2312, 'send': 2313, 'sendung': 2314, 'septemb': 2315, 'servicezei': 2316, 'setz': 2317, 'setzgeb': 2318, 'sex': 2319, 'sexismu': 2320, 'sexualita': 2321, 'sexuell': 2322, 'sexuell belaestigung': 2323, 'sexy': 2324, 'sharia': 2325, 'show': 2326, 'sicherhei': 2327, 'sicherlich': 2328, 'sieg': 2329, 'sieger': 2330, 'sieh': 2331, 'signal': 2332, 'silv': 2333, 'sindel': 2334, 'sing': 2335, 'sinn': 2336, 'sinnvoll': 2337, 'situatio': 2338, 'sitz': 2339, 'sitz blieb': 2340, 'sitzengeblieb': 2341, 'skandal': 2342, 'sklav': 2343, 'soed': 2344, 'sofor': 2345, 'sog': 2346, 'sogar': 2347, 'sogenann': 2348, 'soh': 2349, 'solang': 2350, 'solch': 2351, 'solch leu': 2352, 'solda': 2353, 'soli': 2354, 'solidarita': 2355, 'somm': 2356, 'son': 2357, 'sond': 2358, 'sondierung': 2359, 'sondierungsergebniss': 2360, 'sondierungsgespraech': 2361, 'sondierungsgespraech unio': 2362, 'sonntag': 2363, 'sorg': 2364, 'soro': 2365, 'sorry': 2366, 'souvera': 2367, 'soviel': 2368, 'sowa': 2369, 'sowa nich': 2370, 'sowei': 2371, 'sowie': 2372, 'sowieso': 2373, 'sowohl': 2374, 'sozi': 2375, 'sozial': 2376, 'sozialam': 2377, 'sozialdemokra': 2378, 'sozialschmarotz': 2379, 'sozialsy': 2380, 'spa': 2381, 'spah': 2382, 'spal': 2383, 'spanie': 2384, 'spann': 2385, 'spar': 2386, 'spass': 2387, 'spd': 2388, 'spd gru': 2389, 'spd nich': 2390, 'spd politik': 2391, 'spd schmarotz': 2392, 'spd schmarotz paedophil': 2393, 'spd verseuch': 2394, 'spdb': 2395, 'spdbp': 2396, 'spderneu': 2397, 'spdl': 2398, 'spend': 2399, 'sperr': 2400, 'speziell': 2401, 'spiegel': 2402, 'spiel': 2403, 'spinn': 2404, 'spitz': 2405, 'spor': 2406, 'sprach': 2407, 'spraech': 2408, 'sprech': 2409, 'sprich': 2410, 'sproch': 2411, 'spruch': 2412, 'spuer': 2413, 'spur': 2414, 'ss': 2415, 'st': 2416, 'sta': 2417, 'staa': 2418, 'staatlich': 2419, 'staatsanwaltschaf': 2420, 'staatsbuerg': 2421, 'staatsbuergerschaf': 2422, 'staatsfunk': 2423, 'stad': 2424, 'staed': 2425, 'staendig': 2426, 'staerk': 2427, 'stal': 2428, 'stamm': 2429, 'stand': 2430, 'stapo': 2431, 'star': 2432, 'stark': 2433, 'stasi': 2434, 'stasi unterlag': 2435, 'statistik': 2436, 'statt': 2437, 'stattfi': 2438, 'steck': 2439, 'steg': 2440, 'steh': 2441, 'steh fuer': 2442, 'stei': 2443, 'steig': 2444, 'steinmei': 2445, 'stell': 2446, 'stellung': 2447, 'ster': 2448, 'sterb': 2449, 'steu': 2450, 'steuergeld': 2451, 'steuerzahl': 2452, 'sth': 2453, 'stiftung': 2454, 'stil': 2455, 'still': 2456, 'stimm': 2457, 'stimm fuer': 2458, 'stink': 2459, 'stoer': 2460, 'stolz': 2461, 'stopp': 2462, 'straf': 2463, 'strafbar': 2464, 'strafta': 2465, 'strass': 2466, 'strategie': 2467, 'strei': 2468, 'strich': 2469, 'strohm': 2470, 'strom': 2471, 'strunz': 2472, 'strunzdumm': 2473, 'studie': 2474, 'studier': 2475, 'stueck': 2476, 'stuerz': 2477, 'stund': 2478, 'sturm': 2479, 'subjek': 2480, 'subsidia': 2481, 'such': 2482, 'suess': 2483, 'sund': 2484, 'super': 2485, 'symbol': 2486, 'synod': 2487, 'syrer': 2488, 'syrie': 2489, 'syrisch': 2490, 'sys': 2491, 'szczeci': 2492, 't': 2493, 'tae': 2494, 'taeglich': 2495, 'tag': 2496, 'tagesschau': 2497, 'tasch': 2498, 'tat': 2499, 'tator': 2500, 'tatsach': 2501, 'tatsaechlich': 2502, 'tau': 2503, 'taub': 2504, 'taug': 2505, 'taug nich': 2506, 'tbb': 2507, 'team': 2508, 'teil': 2509, 'teilnehm': 2510, 'teilwei': 2511, 'termi': 2512, 'terror': 2513, 'terroranschlag': 2514, 'terrori': 2515, 'teufel': 2516, 'tex': 2517, 'the': 2518, 'them': 2519, 'thema': 2520, 'tief': 2521, 'tier': 2522, 'tipp': 2523, 'titel': 2524, 'tja': 2525, 'tl': 2526, 'tn': 2527, 'toch': 2528, 'tod': 2529, 'todesstraf': 2530, 'toe': 2531, 'toleranz': 2532, 'toll': 2533, 'tor': 2534, 'tot': 2535, 'total': 2536, 'tra': 2537, 'traditio': 2538, 'traeg': 2539, 'traeum': 2540, 'trag': 2541, 'trau': 2542, 'traum': 2543, 'traurig': 2544, 'tre': 2545, 'treff': 2546, 'treib': 2547, 'trenn': 2548, 'treu': 2549, 'triff': 2550, 'trink': 2551, 'tritt': 2552, 'tro': 2553, 'troff': 2554, 'troll': 2555, 'trotz': 2556, 'trotzd': 2557, 'trump': 2558, 'trupp': 2559, 'tue': 2560, 'tuer': 2561, 'tuerk': 2562, 'tuerkei': 2563, 'tuerkisch': 2564, 'tun': 2565, 'tut': 2566, 'tv': 2567, 'tvduell': 2568, 'twee': 2569, 'twitt': 2570, 'typ': 2571, 'typisch': 2572, 'typisch deutsch': 2573, 'u': 2574, 'u a': 2575, 'ueb': 2576, 'ueber': 2577, 'ueber merkel': 2578, 'ueberall': 2579, 'ueberfluessig': 2580, 'ueberford': 2581, 'ueberhaup': 2582, 'ueberhaup nich': 2583, 'ueberlass': 2584, 'ueberleb': 2585, 'ueberleg': 2586, 'uebernehm': 2587, 'ueberzeug': 2588, 'ueblich': 2589, 'uebrig': 2590, 'uebrig nich': 2591, 'uhr': 2592, 'ukrai': 2593, 'umfrag': 2594, 'umgang': 2595, 'umgeh': 2596, 'ums': 2597, 'umso': 2598, 'umverteilung': 2599, 'un': 2600, 'unabhaengig': 2601, 'unbeding': 2602, 'unbekann': 2603, 'undenkbar': 2604, 'unertraeglich': 2605, 'unfaehig': 2606, 'unfaehigkei': 2607, 'unfassbar': 2608, 'ungar': 2609, 'ungebild': 2610, 'ungewoehnlich': 2611, 'unglaeubig': 2612, 'unglaublich': 2613, 'uni': 2614, 'unio': 2615, 'unmoeglich': 2616, 'unrech': 2617, 'unsich': 2618, 'unsinn': 2619, 'unt': 2620, 'unterar': 2621, 'unterdrueck': 2622, 'unterdrueckung': 2623, 'untergang': 2624, 'untergeh': 2625, 'unterlag': 2626, 'unternehm': 2627, 'unterrich': 2628, 'unterscheid': 2629, 'unterschied': 2630, 'unterschied zwisch': 2631, 'unterschiedlich': 2632, 'unterstell': 2633, 'unterstuetz': 2634, 'unterstuetzung': 2635, 'unwiss': 2636, 'unwuerdig': 2637, 'ur': 2638, 'urlaub': 2639, 'ursach': 2640, 'urteil': 2641, 'us': 2642, 'usa': 2643, 'user': 2644, 'usw': 2645, 'v': 2646, 'vanja': 2647, 'vasall': 2648, 'vasall merkel': 2649, 'vater': 2650, 'vaterla': 2651, 'vera': 2652, 'verach': 2653, 'veranstaltung': 2654, 'verantwor': 2655, 'verantwortlich': 2656, 'verantwortung': 2657, 'verantwortung fuer': 2658, 'verarsch': 2659, 'verba': 2660, 'verbal': 2661, 'verbesserung': 2662, 'verbie': 2663, 'verbindung': 2664, 'verbloed': 2665, 'verbo': 2666, 'verbrech': 2667, 'verbrei': 2668, 'verbrenn': 2669, 'verbu': 2670, 'verdamm': 2671, 'verdie': 2672, 'verei': 2673, 'vereinig': 2674, 'vereinig staa': 2675, 'verfahr': 2676, 'verfassung': 2677, 'verfluch': 2678, 'verfolg': 2679, 'verfuegung': 2680, 'vergang': 2681, 'vergangenhei': 2682, 'vergess': 2683, 'vergewaltig': 2684, 'vergewaltigung': 2685, 'vergif': 2686, 'vergleich': 2687, 'verhal': 2688, 'verhandel': 2689, 'verhandlung': 2690, 'verharmlo': 2691, 'verhi': 2692, 'verhi werd': 2693, 'verjag': 2694, 'verkauf': 2695, 'verkehr': 2696, 'verklag': 2697, 'verkomm': 2698, 'verlang': 2699, 'verlass': 2700, 'verletz': 2701, 'verlier': 2702, 'verlink': 2703, 'verlog': 2704, 'verlor': 2705, 'vermiss': 2706, 'vermittel': 2707, 'vermutlich': 2708, 'vernich': 2709, 'vernichtung': 2710, 'vernuenftig': 2711, 'veroeffentlich': 2712, 'verpass': 2713, 'verra': 2714, 'verreck': 2715, 'verrueck': 2716, 'versag': 2717, 'verschenk': 2718, 'verschiss': 2719, 'verschlei': 2720, 'verschwi': 2721, 'verseuch': 2722, 'versiff': 2723, 'versprech': 2724, 'versta': 2725, 'verstaendlich': 2726, 'verstaendni': 2727, 'versteck': 2728, 'versteh': 2729, 'verstoess': 2730, 'versuch': 2731, 'verteidig': 2732, 'verteil': 2733, 'verteilung': 2734, 'vertr': 2735, 'vertrau': 2736, 'vertrieb': 2737, 'vertritt': 2738, 'verursach': 2739, 'verurteil': 2740, 'verw': 2741, 'verwechsel': 2742, 'verweig': 2743, 'verzich': 2744, 'via': 2745, 'video': 2746, 'vielfaeltig': 2747, 'vielfal': 2748, 'vielleich': 2749, 'vier': 2750, 'vll': 2751, 'voegel': 2752, 'voelk': 2753, 'voellig': 2754, 'volk': 2755, 'volk beck': 2756, 'volksverra': 2757, 'volksverraeteri': 2758, 'voll': 2759, 'vollkomm': 2760, 'vollpfo': 2761, 'vollstaendig': 2762, 'vorau': 2763, 'vorbei': 2764, 'vorberei': 2765, 'vorbereitung': 2766, 'vorbild': 2767, 'vorfaell': 2768, 'vorgeh': 2769, 'vorh': 2770, 'vorha': 2771, 'vorkomm': 2772, 'vorschlag': 2773, 'vorsich': 2774, 'vorsitz': 2775, 'vorsta': 2776, 'vorstell': 2777, 'vorstellung': 2778, 'vorteil': 2779, 'vortrag': 2780, 'vorurteil': 2781, 'vorwerf': 2782, 'vs': 2783, 'vt': 2784, 'w': 2785, 'wach': 2786, 'waehl': 2787, 'waehl afd': 2788, 'waehl nich': 2789, 'waehl werd': 2790, 'waehlbar': 2791, 'waehr': 2792, 'waer': 2793, 'waer fuer': 2794, 'waer gut': 2795, 'waer nich': 2796, 'waer schon': 2797, 'waff': 2798, 'wag': 2799, 'wagenknech': 2800, 'wahl': 2801, 'wahlergebni': 2802, 'wahlkampf': 2803, 'wahnsinn': 2804, 'wahr': 2805, 'wahrhei': 2806, 'wahrhei sag': 2807, 'wahrscheinlich': 2808, 'wal': 2809, 'wal geg': 2810, 'wand': 2811, 'wann': 2812, 'warum': 2813, 'warum nich': 2814, 'wass': 2815, 'wdr': 2816, 'wechsel': 2817, 'weder': 2818, 'weh': 2819, 'wehr': 2820, 'weiblich': 2821, 'weiblichkei': 2822, 'weichei': 2823, 'weidel': 2824, 'weih': 2825, 'weihnach': 2826, 'weihnachtsmark': 2827, 'wein': 2828, 'weis': 2829, 'weiss': 2830, 'weiss nich': 2831, 'weit': 2832, 'weitau': 2833, 'weiterhi': 2834, 'wel': 2835, 'welch': 2836, 'welch partei': 2837, 'weltanschauung': 2838, 'weltbild': 2839, 'weltwei': 2840, 'wem': 2841, 'wen': 2842, 'wend': 2843, 'wenig': 2844, 'wer': 2845, 'wer denk': 2846, 'wer fuer': 2847, 'wer glaub': 2848, 'wer nich': 2849, 'wer ueber': 2850, 'werb': 2851, 'werbung': 2852, 'werd': 2853, 'werd all': 2854, 'werd dafu': 2855, 'werd ers': 2856, 'werd immer': 2857, 'werd jetz': 2858, 'werd koenn': 2859, 'werd muess': 2860, 'werd nich': 2861, 'werd nie': 2862, 'werd wohl': 2863, 'werd woll': 2864, 'werf': 2865, 'werk': 2866, 'wes': 2867, 'wesentlich': 2868, 'weshalb': 2869, 'westlich': 2870, 'wett': 2871, 'wich': 2872, 'wichtig': 2873, 'wider': 2874, 'widerlich': 2875, 'widersprich': 2876, 'widerspruch': 2877, 'widersta': 2878, 'wiederhol': 2879, 'wien': 2880, 'wies': 2881, 'wieso': 2882, 'wieviel': 2883, 'willick': 2884, 'willkomm': 2885, 'win': 2886, 'wind': 2887, 'winn': 2888, 'wirf': 2889, 'wirk': 2890, 'wirklich': 2891, 'wirklich nich': 2892, 'wirtschaf': 2893, 'wiss': 2894, 'wiss nich': 2895, 'wissenschaf': 2896, 'witz': 2897, 'woand': 2898, 'wobei': 2899, 'woch': 2900, 'woeh': 2901, 'wofu': 2902, 'woh': 2903, 'woher': 2904, 'wohi': 2905, 'wohl': 2906, 'wohl eher': 2907, 'wohl nich': 2908, 'wohlsta': 2909, 'wohnung': 2910, 'wolfgang': 2911, 'woll': 2912, 'woll nich': 2913, 'wonn': 2914, 'wor': 2915, 'word': 2916, 'wow': 2917, 'wozu': 2918, 'wue': 2919, 'wuensch': 2920, 'wuensch all': 2921, 'wuerd': 2922, 'wuerd all': 2923, 'wuerd heu': 2924, 'wuerd nich': 2925, 'wuerd sag': 2926, 'wuerstel': 2927, 'wuess': 2928, 'wund': 2929, 'wunderbar': 2930, 'wunsch': 2931, 'wurd': 2932, 'wuss': 2933, 'wut': 2934, 'x': 2935, 'x sitz': 2936, 'x sitz blieb': 2937, 'x sitzengeblieb': 2938, 'youtub': 2939, 'yuecel': 2940, 'yvonn': 2941, 'yvonn willick': 2942, 'z': 2943, 'z b': 2944, 'zaehl': 2945, 'zahl': 2946, 'zahlreich': 2947, 'zaub': 2948, 'zb': 2949, 'zdf': 2950, 'zeich': 2951, 'zeig': 2952, 'zeit': 2953, 'zeitpunk': 2954, 'zeitung': 2955, 'zensier': 2956, 'zensur': 2957, 'zentral': 2958, 'zentrum': 2959, 'zersetzung': 2960, 'zersto': 2961, 'zeug': 2962, 'zieg': 2963, 'zieh': 2964, 'ziel': 2965, 'ziemlich': 2966, 'zita': 2967, 'zitier': 2968, 'zitt': 2969, 'zog': 2970, 'zuend': 2971, 'zuer': 2972, 'zufolg': 2973, 'zug': 2974, 'zuho': 2975, 'zukunf': 2976, 'zumi': 2977, 'zurech': 2978, 'zurueck': 2979, 'zusaetzlich': 2980, 'zusamm': 2981, 'zusammenhang': 2982, 'zusammenleb': 2983, 'zusta': 2984, 'zustaendig': 2985, 'zustimm': 2986, 'zustimmung': 2987, 'zuviel': 2988, 'zuvor': 2989, 'zw': 2990, 'zwang': 2991, 'zweck': 2992, 'zwei': 2993, 'zweifel': 2994, 'zweimal': 2995, 'zwing': 2996, 'zwisch': 2997, 'zwung': 2998, '§': 2999}"
     ]
    },
    {
     "name": "stdout",
     "output_type": "stream",
     "text": [
      "\n"
     ]
    }
   ],
   "source": [
    "#Construct tfidf matrix and get relevant scores\n",
    "tfidf = vectorizer.fit_transform(tweets).toarray()\n",
    "vocab = {v:i for i, v in enumerate(vectorizer.get_feature_names())}\n",
    "idf_vals = vectorizer.idf_\n",
    "idf_dict = {i:idf_vals[i] for i in vocab.values()} #keys are indices; values are IDF scores"
   ]
  },
  {
   "cell_type": "code",
   "execution_count": 8,
   "metadata": {
    "pycharm": {
     "is_executing": false
    }
   },
   "outputs": [],
   "source": [
    "#Now get other features\n",
    "sentiment_analyzer = VS()\n",
    "\n",
    "def count_twitter_objs(text_string):\n",
    "    \"\"\"\n",
    "    Accepts a text string and replaces:\n",
    "    1) urls with URLHERE\n",
    "    2) lots of whitespace with one instance\n",
    "    3) mentions with MENTIONHERE\n",
    "    4) hashtags with HASHTAGHERE\n",
    "\n",
    "    This allows us to get standardized counts of urls and mentions\n",
    "    Without caring about specific people mentioned.\n",
    "    \n",
    "    Returns counts of urls, mentions, and hashtags.\n",
    "    \"\"\"\n",
    "    space_pattern = '\\s+'\n",
    "    giant_url_regex = ('http[s]?://(?:[a-ßA-ß]|[0-9]|[$-_@.&+]|'\n",
    "        '[!*\\(\\),]|(?:%[0-9a-fA-F][0-9a-fA-F]))+')\n",
    "    mention_regex = '@[\\w\\-]+'\n",
    "    hashtag_regex = '#[\\w\\-]+'\n",
    "    parsed_text = re.sub(space_pattern, ' ', text_string)\n",
    "    parsed_text = re.sub(giant_url_regex, 'URLHERE', parsed_text)\n",
    "    parsed_text = re.sub(mention_regex, 'MENTIONHERE', parsed_text)\n",
    "    parsed_text = re.sub(hashtag_regex, 'HASHTAGHERE', parsed_text)\n",
    "    return(parsed_text.count('URLHERE'),parsed_text.count('MENTIONHERE'),parsed_text.count('HASHTAGHERE'))\n",
    "\n",
    "def other_features(tweet):\n",
    "    \"\"\"This function takes a string and returns a list of features.\n",
    "    These include Sentiment scores, Text and Readability scores,\n",
    "    as well as Twitter specific features\"\"\"\n",
    "    sentiment = TextBlob(\"tweet\").sentiment\n",
    "    \n",
    "    words = preprocess(tweet) #Get text only\n",
    "    \n",
    "    syllables = textstat.syllable_count(words, lang='de_DE')\n",
    "    num_chars = sum(len(w) for w in words)\n",
    "    num_chars_total = len(tweet)\n",
    "    num_terms = len(tweet.split())\n",
    "    num_words = len(words.split())\n",
    "    avg_syl = round(float((syllables+0.001))/float(num_words+0.001),4)\n",
    "    num_unique_terms = len(set(words.split()))\n",
    "    \n",
    "    ###Modified FK grade, where avg words per sentence is just num words/1\n",
    "    FKRA = round(float(0.39 * float(num_words)/1.0) + float(11.8 * avg_syl) - 15.59,1)\n",
    "    ##Modified FRE score, where sentence fixed to 1\n",
    "    FRE = round(206.835 - 1.015*(float(num_words)/1.0) - (84.6*float(avg_syl)),2)\n",
    "    \n",
    "    twitter_objs = count_twitter_objs(tweet)\n",
    "    features = [FKRA, FRE, syllables, avg_syl, num_chars, num_chars_total, num_terms, num_words,\n",
    "                num_unique_terms, sentiment[0],twitter_objs[2], twitter_objs[1], twitter_objs[0]]\n",
    "    #features = pandas.DataFrame(features)\n",
    "    return features\n",
    "\n",
    "def get_feature_array(tweets):\n",
    "    feats=[]\n",
    "    for t in tweets:\n",
    "        feats.append(other_features(t))\n",
    "    return np.array(feats)\n",
    "\n",
    "# Changing string labels to numeric labels\n",
    "def string_to_numeric(x):\n",
    "    if x == 'OTHER' or x == 'PROFANITY':\n",
    "        return 0\n",
    "    if x == 'INSULT':\n",
    "        return 1\n",
    "    if x == 'ABUSE':\n",
    "        return 2"
   ]
  },
  {
   "cell_type": "code",
   "execution_count": 9,
   "metadata": {
    "pycharm": {
     "is_executing": false
    }
   },
   "outputs": [],
   "source": [
    "other_features_names = [\"FKRA\", \"FRE\",\"num_syllables\", \"avg_syl_per_word\", \"num_chars\", \"num_chars_total\", \\\n",
    "                        \"num_terms\", \"num_words\", \"num_unique_words\", \"sentiment\", \"num_hashtags\", \"num_mentions\", \"num_urls\"]"
   ]
  },
  {
   "cell_type": "code",
   "execution_count": 10,
   "metadata": {
    "pycharm": {
     "is_executing": false
    }
   },
   "outputs": [],
   "source": [
    "feats = get_feature_array(tweets)"
   ]
  },
  {
   "cell_type": "code",
   "execution_count": 11,
   "metadata": {
    "pycharm": {
     "is_executing": false
    }
   },
   "outputs": [],
   "source": [
    "#Now join them all up\n",
    "M = np.concatenate([tfidf,feats],axis=1)"
   ]
  },
  {
   "cell_type": "code",
   "execution_count": 12,
   "metadata": {
    "pycharm": {
     "is_executing": false
    }
   },
   "outputs": [
    {
     "data": {
      "text/plain": [
       "(8407, 3013)"
      ]
     },
     "execution_count": 12,
     "metadata": {},
     "output_type": "execute_result"
    }
   ],
   "source": [
    "M.shape"
   ]
  },
  {
   "cell_type": "code",
   "execution_count": 13,
   "metadata": {
    "pycharm": {
     "is_executing": false
    }
   },
   "outputs": [],
   "source": [
    "#Finally get a list of variable names\n",
    "variables = ['']*len(vocab)\n",
    "for k,v in vocab.items():\n",
    "    variables[v] = k\n",
    "\n",
    "feature_names = variables+other_features_names"
   ]
  },
  {
   "cell_type": "code",
   "execution_count": 14,
   "metadata": {
    "pycharm": {
     "is_executing": false
    }
   },
   "outputs": [],
   "source": [
    "X = pd.DataFrame(M)\n",
    "y = df['labels'].apply(string_to_numeric)\n",
    "X.columns = feature_names"
   ]
  },
  {
   "cell_type": "code",
   "execution_count": 15,
   "metadata": {},
   "outputs": [
    {
     "name": "stderr",
     "output_type": "stream",
     "text": [
      "/home/mackenzie/anaconda3/lib/python3.7/site-packages/sklearn/feature_selection/univariate_selection.py:114: UserWarning: Features [3009 3012] are constant.\n",
      "  UserWarning)\n",
      "/home/mackenzie/anaconda3/lib/python3.7/site-packages/sklearn/feature_selection/univariate_selection.py:115: RuntimeWarning: invalid value encountered in true_divide\n",
      "  f = msb / msw\n"
     ]
    },
    {
     "name": "stdout",
     "output_type": "stream",
     "text": [
      "Univariate Selection features found, use getUnivariateData() to get the features\n",
      "                             Specs      Score\n",
      "636                           dumm  64.461365\n",
      "2473                    strunzdumm  55.880652\n",
      "1749                          mosl  55.345552\n",
      "2239                     schmarotz  53.819002\n",
      "2000                          pack  52.935005\n",
      "2001                     paedophil  52.840050\n",
      "1687                        merkel  52.572181\n",
      "1251                       invasor  49.851795\n",
      "1265                         islam  48.541379\n",
      "198                          asyla  47.059928\n",
      "1763                       murksel  45.142919\n",
      "1596                   luegenpress  43.138647\n",
      "2648                        vasall  41.965389\n",
      "2219                       scheiss  41.374236\n",
      "2267                schulabschluss  38.508092\n",
      "818                         fettig  34.680448\n",
      "819                    fettig haar  34.563703\n",
      "2240           schmarotz paedophil  34.354193\n",
      "2270                        schulz  33.965406\n",
      "23                        abschaum  33.503491\n",
      "2816                           wdr  33.264589\n",
      "1036                           gru  32.167806\n",
      "2002            paedophil denunzia  30.502020\n",
      "2392                 spd schmarotz  30.502020\n",
      "2393       spd schmarotz paedophil  30.502020\n",
      "1190                           hos  30.436309\n",
      "1161                           hir  30.410354\n",
      "548                       denunzia  29.669812\n",
      "8                         abgefuck  28.726377\n",
      "2241  schmarotz paedophil denunzia  28.579248\n",
      "...                            ...        ...\n",
      "106                            amt   1.819574\n",
      "1344                          jung   1.807634\n",
      "569                  deutsch waehl   1.806421\n",
      "672                         einhei   1.806421\n",
      "692                          empfi   1.806421\n",
      "891                        friedma   1.806421\n",
      "1575                  linksradikal   1.806421\n",
      "1662                     mehr hoer   1.806421\n",
      "629                           drum   1.804330\n",
      "755                         erwach   1.804330\n",
      "959                    geg deutsch   1.804330\n",
      "1272                  islamistisch   1.804330\n",
      "1612                        maedel   1.804330\n",
      "2384                        spanie   1.804330\n",
      "475                           chri   1.791708\n",
      "1258                     irgendwie   1.789348\n",
      "2830                         weiss   1.776576\n",
      "512                           darf   1.775234\n",
      "1401                          klar   1.769051\n",
      "1441                    kompromiss   1.764525\n",
      "1849                  nich einfach   1.764525\n",
      "2580                 ueberfluessig   1.754775\n",
      "2912                          woll   1.751505\n",
      "390                            bka   1.742576\n",
      "743                          erneu   1.742576\n",
      "971                           geil   1.738516\n",
      "984                            ger   1.734635\n",
      "2070                           pro   1.731674\n",
      "380                           bild   1.729724\n",
      "1061                      gut morg   1.727970\n",
      "\n",
      "[1000 rows x 2 columns]\n",
      "Index(['dumm', 'strunzdumm', 'mosl', 'schmarotz', 'pack', 'paedophil',\n",
      "       'merkel', 'invasor', 'islam', 'asyla',\n",
      "       ...\n",
      "       'nich einfach', 'ueberfluessig', 'woll', 'bka', 'erneu', 'geil', 'ger',\n",
      "       'pro', 'bild', 'gut morg'],\n",
      "      dtype='object', length=1000)\n"
     ]
    }
   ],
   "source": [
    "# Univariate feature selection from sklearn\n",
    "bestfeatures = SelectKBest(score_func=f_classif, k=1000)\n",
    "fit = bestfeatures.fit(X,y)\n",
    "dfscores = pd.DataFrame(fit.scores_)\n",
    "dfcolumns = pd.DataFrame(X.columns)\n",
    "\n",
    "# concat two dataframes for better visualization \n",
    "featureScores = pd.concat([dfcolumns,dfscores],axis=1)\n",
    "featureScores.columns = ['Specs','Score']  #naming the dataframe columns\n",
    "print('Univariate Selection features found, use getUnivariateData() to get the features')\n",
    "# Extract the top n features\n",
    "uni_selected_feat = featureScores.nlargest(1000,'Score')\n",
    "print(uni_selected_feat) # print out the top n features selected\n",
    "\n",
    "# Saving the top n features to a data frame\n",
    "#print(a.iloc[0].name) # how to get the column # for the ith feature\n",
    "#print(a.iloc[0][0]) # how to get the header column\n",
    "top_univariate_features = pd.DataFrame()\n",
    "for i in range(0, 1000):\n",
    "    curr_column_vals = X.iloc[:, uni_selected_feat.iloc[i].name]\n",
    "    curr_column_name = uni_selected_feat.iloc[i][0]\n",
    "    top_univariate_features[curr_column_name] = curr_column_vals\n",
    "\n",
    "X = pd.DataFrame(top_univariate_features)\n",
    "X.columns = top_univariate_features.columns\n",
    "print(X.columns)\n",
    "feature_names = top_univariate_features.columns"
   ]
  },
  {
   "cell_type": "code",
   "execution_count": 16,
   "metadata": {},
   "outputs": [
    {
     "name": "stdout",
     "output_type": "stream",
     "text": [
      "8407\n",
      "8407\n"
     ]
    }
   ],
   "source": [
    "print(len(X))\n",
    "print(len(y))"
   ]
  },
  {
   "cell_type": "code",
   "execution_count": 17,
   "metadata": {
    "pycharm": {
     "is_executing": false
    }
   },
   "outputs": [],
   "source": [
    "X_train, X_test, y_train, y_test = train_test_split(X, y, random_state=42, test_size=0.1)"
   ]
  },
  {
   "cell_type": "code",
   "execution_count": 18,
   "metadata": {
    "pycharm": {
     "is_executing": false
    }
   },
   "outputs": [],
   "source": [
    "y_train = y_train.to_frame(name='labels')\n",
    "y_test = y_test.to_frame(name='labels')"
   ]
  },
  {
   "cell_type": "code",
   "execution_count": 19,
   "metadata": {},
   "outputs": [],
   "source": [
    "# Undersampling from imblearn\n",
    "from collections import Counter\n",
    "from sklearn.datasets import make_classification\n",
    "from imblearn.under_sampling import RandomUnderSampler\n",
    "rus = RandomUnderSampler(random_state=42)\n",
    "X_res, y_res = rus.fit_resample(X_train, y_train)\n",
    "X_train = pd.DataFrame(X_res)\n",
    "X_train.columns = feature_names\n",
    "y_train = pd.DataFrame(y_res)\n",
    "y_train.columns = ['labels']"
   ]
  },
  {
   "cell_type": "code",
   "execution_count": 20,
   "metadata": {
    "pycharm": {
     "is_executing": false
    }
   },
   "outputs": [
    {
     "name": "stdout",
     "output_type": "stream",
     "text": [
      "Checking whether there is an H2O instance running at http://localhost:54321 ..... not found.\n",
      "Attempting to start a local H2O server...\n",
      "  Java Version: java version \"11.0.2\" 2019-01-15 LTS; Java(TM) SE Runtime Environment 18.9 (build 11.0.2+9-LTS); Java HotSpot(TM) 64-Bit Server VM 18.9 (build 11.0.2+9-LTS, mixed mode)\n",
      "  Starting server from /home/mackenzie/anaconda3/lib/python3.7/site-packages/h2o/backend/bin/h2o.jar\n",
      "  Ice root: /tmp/tmpb5s6dwsw\n",
      "  JVM stdout: /tmp/tmpb5s6dwsw/h2o_mackenzie_started_from_python.out\n",
      "  JVM stderr: /tmp/tmpb5s6dwsw/h2o_mackenzie_started_from_python.err\n",
      "  Server is running at http://127.0.0.1:54321\n",
      "Connecting to H2O server at http://127.0.0.1:54321 ... successful.\n"
     ]
    },
    {
     "data": {
      "text/html": [
       "<div style=\"overflow:auto\"><table style=\"width:50%\"><tr><td>H2O cluster uptime:</td>\n",
       "<td>02 secs</td></tr>\n",
       "<tr><td>H2O cluster timezone:</td>\n",
       "<td>Europe/Vienna</td></tr>\n",
       "<tr><td>H2O data parsing timezone:</td>\n",
       "<td>UTC</td></tr>\n",
       "<tr><td>H2O cluster version:</td>\n",
       "<td>3.26.0.1</td></tr>\n",
       "<tr><td>H2O cluster version age:</td>\n",
       "<td>20 days </td></tr>\n",
       "<tr><td>H2O cluster name:</td>\n",
       "<td>H2O_from_python_mackenzie_z7e5zs</td></tr>\n",
       "<tr><td>H2O cluster total nodes:</td>\n",
       "<td>1</td></tr>\n",
       "<tr><td>H2O cluster free memory:</td>\n",
       "<td>1.922 Gb</td></tr>\n",
       "<tr><td>H2O cluster total cores:</td>\n",
       "<td>4</td></tr>\n",
       "<tr><td>H2O cluster allowed cores:</td>\n",
       "<td>4</td></tr>\n",
       "<tr><td>H2O cluster status:</td>\n",
       "<td>accepting new members, healthy</td></tr>\n",
       "<tr><td>H2O connection url:</td>\n",
       "<td>http://127.0.0.1:54321</td></tr>\n",
       "<tr><td>H2O connection proxy:</td>\n",
       "<td>None</td></tr>\n",
       "<tr><td>H2O internal security:</td>\n",
       "<td>False</td></tr>\n",
       "<tr><td>H2O API Extensions:</td>\n",
       "<td>Amazon S3, XGBoost, Algos, AutoML, Core V3, Core V4</td></tr>\n",
       "<tr><td>Python version:</td>\n",
       "<td>3.7.1 final</td></tr></table></div>"
      ],
      "text/plain": [
       "--------------------------  ---------------------------------------------------\n",
       "H2O cluster uptime:         02 secs\n",
       "H2O cluster timezone:       Europe/Vienna\n",
       "H2O data parsing timezone:  UTC\n",
       "H2O cluster version:        3.26.0.1\n",
       "H2O cluster version age:    20 days\n",
       "H2O cluster name:           H2O_from_python_mackenzie_z7e5zs\n",
       "H2O cluster total nodes:    1\n",
       "H2O cluster free memory:    1.922 Gb\n",
       "H2O cluster total cores:    4\n",
       "H2O cluster allowed cores:  4\n",
       "H2O cluster status:         accepting new members, healthy\n",
       "H2O connection url:         http://127.0.0.1:54321\n",
       "H2O connection proxy:\n",
       "H2O internal security:      False\n",
       "H2O API Extensions:         Amazon S3, XGBoost, Algos, AutoML, Core V3, Core V4\n",
       "Python version:             3.7.1 final\n",
       "--------------------------  ---------------------------------------------------"
      ]
     },
     "metadata": {},
     "output_type": "display_data"
    }
   ],
   "source": [
    "h2o.init()"
   ]
  },
  {
   "cell_type": "code",
   "execution_count": 21,
   "metadata": {
    "pycharm": {
     "is_executing": false
    }
   },
   "outputs": [
    {
     "name": "stdout",
     "output_type": "stream",
     "text": [
      "Parse progress: |█████████████████████████████████████████████████████████| 100%\n",
      "Parse progress: |█████████████████████████████████████████████████████████| 100%\n",
      "Parse progress: |█████████████████████████████████████████████████████████| 100%\n",
      "Parse progress: |█████████████████████████████████████████████████████████| 100%\n"
     ]
    }
   ],
   "source": [
    "# BUG: when we convert to h2o dataframe an extra row is added\n",
    "X_train = h2o.H2OFrame(X_train)\n",
    "y_train = h2o.H2OFrame(y_train)\n",
    "X_test = h2o.H2OFrame(X_test)\n",
    "y_test = h2o.H2OFrame(y_test) "
   ]
  },
  {
   "cell_type": "code",
   "execution_count": 22,
   "metadata": {},
   "outputs": [],
   "source": [
    "X_train = X_train.na_omit() # pandas-->h2o results in an error where a nan row is added to X data, so this deals with that\n",
    "X_test = X_test.na_omit()"
   ]
  },
  {
   "cell_type": "code",
   "execution_count": 23,
   "metadata": {},
   "outputs": [
    {
     "name": "stdout",
     "output_type": "stream",
     "text": [
      "2610\n",
      "2610\n",
      "841\n",
      "841\n"
     ]
    }
   ],
   "source": [
    "# Double check X and y have same number of rows\n",
    "print(len(y_train))\n",
    "print(len(X_train))\n",
    "print(len(y_test))\n",
    "print(len(X_test))"
   ]
  },
  {
   "cell_type": "code",
   "execution_count": 24,
   "metadata": {},
   "outputs": [
    {
     "data": {
      "text/plain": [
       "(2610, 1000)"
      ]
     },
     "execution_count": 24,
     "metadata": {},
     "output_type": "execute_result"
    }
   ],
   "source": [
    "X_train.shape"
   ]
  },
  {
   "cell_type": "code",
   "execution_count": 25,
   "metadata": {},
   "outputs": [],
   "source": [
    "# preparing the train and test data sets\n",
    "# now convert tweet vecs and labels to a pandas dataframe and back to h2o dataframe\n",
    "train = X_train.cbind(y_train)\n",
    "test = X_test.cbind(y_test)"
   ]
  },
  {
   "cell_type": "code",
   "execution_count": 26,
   "metadata": {},
   "outputs": [],
   "source": [
    "# more on data prep\n",
    "x = train.columns         # x: A list/vector of predictor column names or indexes. \n",
    "                          # This argument only needs to be specified if the user wants to exclude columns from the \n",
    "                          # set of predictors. If all columns (other than the response) should be used in prediction, \n",
    "                          # then this does not need to be set.\n",
    "\n",
    "y = \"labels\"              # This argument is the name (or index) of the response column\n",
    "x.remove(y)\n",
    "\n",
    "# need to set train and test\n",
    "train[y] = train[y].asfactor()\n",
    "test[y] = test[y].asfactor()"
   ]
  },
  {
   "cell_type": "code",
   "execution_count": 27,
   "metadata": {},
   "outputs": [
    {
     "name": "stdout",
     "output_type": "stream",
     "text": [
      "AutoML progress: |████████████████████████████████████████████████████████| 100%\n"
     ]
    }
   ],
   "source": [
    "# now the AUTO-ML piece comes in\n",
    "aml = H2OAutoML(max_runtime_secs=1800) #sort_metric=auc, max_runtime_secs=10800, class_sampling_factors = sample_factors, max_models=?, balance_classes=True\n",
    "aml.train(x=x, y=y, training_frame=train)"
   ]
  },
  {
   "cell_type": "code",
   "execution_count": 28,
   "metadata": {},
   "outputs": [],
   "source": [
    "# View the AutoML Leaderboard\n",
    "lb = aml.leaderboard\n",
    "lb.head(rows=lb.nrows)  # Print all rows instead of default (10 rows)\n",
    "lb_pd = lb.as_data_frame()"
   ]
  },
  {
   "cell_type": "code",
   "execution_count": 29,
   "metadata": {},
   "outputs": [
    {
     "name": "stdout",
     "output_type": "stream",
     "text": [
      "Model Details\n",
      "=============\n",
      "H2OGeneralizedLinearEstimator :  Generalized Linear Modeling\n",
      "Model Key:  GLM_grid_1_AutoML_20190805_150218_model_1\n",
      "\n",
      "GLM Model: summary\n",
      "\n"
     ]
    },
    {
     "data": {
      "text/html": [
       "<div style=\"overflow:auto\"><table style=\"width:50%\"><tr><td><b></b></td>\n",
       "<td><b>family</b></td>\n",
       "<td><b>link</b></td>\n",
       "<td><b>regularization</b></td>\n",
       "<td><b>lambda_search</b></td>\n",
       "<td><b>number_of_predictors_total</b></td>\n",
       "<td><b>number_of_active_predictors</b></td>\n",
       "<td><b>number_of_iterations</b></td>\n",
       "<td><b>training_frame</b></td></tr>\n",
       "<tr><td></td>\n",
       "<td>multinomial</td>\n",
       "<td>multinomial</td>\n",
       "<td>Ridge ( lambda = 6.6768 )</td>\n",
       "<td>nlambda = 30, lambda.max = 6.6768, lambda.min = 6.6768, lambda.1se = 6.6768</td>\n",
       "<td>2916</td>\n",
       "<td>2892</td>\n",
       "<td>2</td>\n",
       "<td>automl_training_py_3_sid_a0ef</td></tr></table></div>"
      ],
      "text/plain": [
       "    family       link         regularization             lambda_search                                                                number_of_predictors_total    number_of_active_predictors    number_of_iterations    training_frame\n",
       "--  -----------  -----------  -------------------------  ---------------------------------------------------------------------------  ----------------------------  -----------------------------  ----------------------  -----------------------------\n",
       "    multinomial  multinomial  Ridge ( lambda = 6.6768 )  nlambda = 30, lambda.max = 6.6768, lambda.min = 6.6768, lambda.1se = 6.6768  2916                          2892                           2                       automl_training_py_3_sid_a0ef"
      ]
     },
     "metadata": {},
     "output_type": "display_data"
    },
    {
     "name": "stdout",
     "output_type": "stream",
     "text": [
      "\n",
      "\n",
      "ModelMetricsMultinomialGLM: glm\n",
      "** Reported on train data. **\n",
      "\n",
      "MSE: 0.4074572415737435\n",
      "RMSE: 0.6383237748774078\n",
      "\n",
      "ModelMetricsMultinomialGLM: glm\n",
      "** Reported on cross-validation data. **\n",
      "\n",
      "MSE: 0.4225374959814697\n",
      "RMSE: 0.6500288424227572\n",
      "Cross-Validation Metrics Summary: \n"
     ]
    },
    {
     "data": {
      "text/html": [
       "<div style=\"overflow:auto\"><table style=\"width:50%\"><tr><td><b></b></td>\n",
       "<td><b>mean</b></td>\n",
       "<td><b>sd</b></td>\n",
       "<td><b>cv_1_valid</b></td>\n",
       "<td><b>cv_2_valid</b></td>\n",
       "<td><b>cv_3_valid</b></td>\n",
       "<td><b>cv_4_valid</b></td>\n",
       "<td><b>cv_5_valid</b></td></tr>\n",
       "<tr><td>accuracy</td>\n",
       "<td>0.6272030</td>\n",
       "<td>0.0176536</td>\n",
       "<td>0.6302682</td>\n",
       "<td>0.6034483</td>\n",
       "<td>0.6704981</td>\n",
       "<td>0.6015326</td>\n",
       "<td>0.6302682</td></tr>\n",
       "<tr><td>err</td>\n",
       "<td>0.3727969</td>\n",
       "<td>0.0176536</td>\n",
       "<td>0.3697318</td>\n",
       "<td>0.3965517</td>\n",
       "<td>0.3295019</td>\n",
       "<td>0.3984674</td>\n",
       "<td>0.3697318</td></tr>\n",
       "<tr><td>err_count</td>\n",
       "<td>194.6</td>\n",
       "<td>9.215205</td>\n",
       "<td>193.0</td>\n",
       "<td>207.0</td>\n",
       "<td>172.0</td>\n",
       "<td>208.0</td>\n",
       "<td>193.0</td></tr>\n",
       "<tr><td>logloss</td>\n",
       "<td>1.0511941</td>\n",
       "<td>0.0011040</td>\n",
       "<td>1.0531588</td>\n",
       "<td>1.0526212</td>\n",
       "<td>1.0497366</td>\n",
       "<td>1.0512986</td>\n",
       "<td>1.0491554</td></tr>\n",
       "<tr><td>max_per_class_error</td>\n",
       "<td>0.4321839</td>\n",
       "<td>0.0161330</td>\n",
       "<td>0.4425287</td>\n",
       "<td>0.4137931</td>\n",
       "<td>0.4080460</td>\n",
       "<td>0.4712644</td>\n",
       "<td>0.4252874</td></tr>\n",
       "<tr><td>mean_per_class_accuracy</td>\n",
       "<td>0.6272030</td>\n",
       "<td>0.0176536</td>\n",
       "<td>0.6302682</td>\n",
       "<td>0.6034483</td>\n",
       "<td>0.6704981</td>\n",
       "<td>0.6015326</td>\n",
       "<td>0.6302682</td></tr>\n",
       "<tr><td>mean_per_class_error</td>\n",
       "<td>0.3727969</td>\n",
       "<td>0.0176536</td>\n",
       "<td>0.3697318</td>\n",
       "<td>0.3965517</td>\n",
       "<td>0.3295019</td>\n",
       "<td>0.3984674</td>\n",
       "<td>0.3697318</td></tr>\n",
       "<tr><td>mse</td>\n",
       "<td>0.4225375</td>\n",
       "<td>0.0005126</td>\n",
       "<td>0.4234273</td>\n",
       "<td>0.4232222</td>\n",
       "<td>0.4218513</td>\n",
       "<td>0.4225942</td>\n",
       "<td>0.4215924</td></tr>\n",
       "<tr><td>null_deviance</td>\n",
       "<td>1146.9512</td>\n",
       "<td>0.0</td>\n",
       "<td>1146.9512</td>\n",
       "<td>1146.9512</td>\n",
       "<td>1146.9512</td>\n",
       "<td>1146.9512</td>\n",
       "<td>1146.9512</td></tr>\n",
       "<tr><td>r2</td>\n",
       "<td>0.3661937</td>\n",
       "<td>0.0007689</td>\n",
       "<td>0.364859</td>\n",
       "<td>0.3651667</td>\n",
       "<td>0.3672230</td>\n",
       "<td>0.3661087</td>\n",
       "<td>0.3676114</td></tr>\n",
       "<tr><td>residual_deviance</td>\n",
       "<td>1097.4467</td>\n",
       "<td>1.1525838</td>\n",
       "<td>1099.4977</td>\n",
       "<td>1098.9366</td>\n",
       "<td>1095.9249</td>\n",
       "<td>1097.5557</td>\n",
       "<td>1095.3182</td></tr>\n",
       "<tr><td>rmse</td>\n",
       "<td>0.6500286</td>\n",
       "<td>0.0003943</td>\n",
       "<td>0.6507130</td>\n",
       "<td>0.6505553</td>\n",
       "<td>0.6495009</td>\n",
       "<td>0.6500725</td>\n",
       "<td>0.6493015</td></tr></table></div>"
      ],
      "text/plain": [
       "                         mean      sd           cv_1_valid    cv_2_valid    cv_3_valid    cv_4_valid    cv_5_valid\n",
       "-----------------------  --------  -----------  ------------  ------------  ------------  ------------  ------------\n",
       "accuracy                 0.627203  0.0176536    0.630268      0.603448      0.670498      0.601533      0.630268\n",
       "err                      0.372797  0.0176536    0.369732      0.396552      0.329502      0.398467      0.369732\n",
       "err_count                194.6     9.2152       193           207           172           208           193\n",
       "logloss                  1.05119   0.00110401   1.05316       1.05262       1.04974       1.0513        1.04916\n",
       "max_per_class_error      0.432184  0.016133     0.442529      0.413793      0.408046      0.471264      0.425287\n",
       "mean_per_class_accuracy  0.627203  0.0176536    0.630268      0.603448      0.670498      0.601533      0.630268\n",
       "mean_per_class_error     0.372797  0.0176536    0.369732      0.396552      0.329502      0.398467      0.369732\n",
       "mse                      0.422538  0.000512627  0.423427      0.423222      0.421851      0.422594      0.421592\n",
       "null_deviance            1146.95   0            1146.95       1146.95       1146.95       1146.95       1146.95\n",
       "r2                       0.366194  0.00076894   0.364859      0.365167      0.367223      0.366109      0.367611\n",
       "residual_deviance        1097.45   1.15258      1099.5        1098.94       1095.92       1097.56       1095.32\n",
       "rmse                     0.650029  0.000394324  0.650713      0.650555      0.649501      0.650072      0.649301"
      ]
     },
     "metadata": {},
     "output_type": "display_data"
    },
    {
     "name": "stdout",
     "output_type": "stream",
     "text": [
      "Scoring History: \n"
     ]
    },
    {
     "data": {
      "text/html": [
       "<div style=\"overflow:auto\"><table style=\"width:50%\"><tr><td><b></b></td>\n",
       "<td><b>timestamp</b></td>\n",
       "<td><b>duration</b></td>\n",
       "<td><b>iteration</b></td>\n",
       "<td><b>lambda</b></td>\n",
       "<td><b>predictors</b></td>\n",
       "<td><b>deviance_train</b></td>\n",
       "<td><b>deviance_test</b></td>\n",
       "<td><b>deviance_xval</b></td>\n",
       "<td><b>deviance_se</b></td></tr>\n",
       "<tr><td></td>\n",
       "<td>2019-08-05 15:05:26</td>\n",
       "<td> 0.000 sec</td>\n",
       "<td>2</td>\n",
       "<td>.67E1</td>\n",
       "<td>2895</td>\n",
       "<td>2.0370352</td>\n",
       "<td>nan</td>\n",
       "<td>0.0</td>\n",
       "<td>0.0</td></tr></table></div>"
      ],
      "text/plain": [
       "    timestamp            duration    iteration    lambda    predictors    deviance_train    deviance_test    deviance_xval    deviance_se\n",
       "--  -------------------  ----------  -----------  --------  ------------  ----------------  ---------------  ---------------  -------------\n",
       "    2019-08-05 15:05:26  0.000 sec   2            6.7       2895          2.03704           nan              0                0"
      ]
     },
     "metadata": {},
     "output_type": "display_data"
    },
    {
     "data": {
      "text/plain": []
     },
     "execution_count": 29,
     "metadata": {},
     "output_type": "execute_result"
    }
   ],
   "source": [
    "# The leader model is stored here\n",
    "aml.leader"
   ]
  },
  {
   "cell_type": "code",
   "execution_count": 30,
   "metadata": {},
   "outputs": [
    {
     "name": "stdout",
     "output_type": "stream",
     "text": [
      "glm prediction progress: |████████████████████████████████████████████████| 100%\n"
     ]
    },
    {
     "data": {
      "text/html": [
       "<table>\n",
       "<thead>\n",
       "<tr><th style=\"text-align: right;\">  predict</th><th style=\"text-align: right;\">      p0</th><th style=\"text-align: right;\">      p1</th><th style=\"text-align: right;\">      p2</th></tr>\n",
       "</thead>\n",
       "<tbody>\n",
       "<tr><td style=\"text-align: right;\">        0</td><td style=\"text-align: right;\">0.356166</td><td style=\"text-align: right;\">0.335375</td><td style=\"text-align: right;\">0.308459</td></tr>\n",
       "<tr><td style=\"text-align: right;\">        1</td><td style=\"text-align: right;\">0.30859 </td><td style=\"text-align: right;\">0.369759</td><td style=\"text-align: right;\">0.321651</td></tr>\n",
       "<tr><td style=\"text-align: right;\">        1</td><td style=\"text-align: right;\">0.261691</td><td style=\"text-align: right;\">0.497316</td><td style=\"text-align: right;\">0.240993</td></tr>\n",
       "<tr><td style=\"text-align: right;\">        0</td><td style=\"text-align: right;\">0.350252</td><td style=\"text-align: right;\">0.329928</td><td style=\"text-align: right;\">0.31982 </td></tr>\n",
       "<tr><td style=\"text-align: right;\">        1</td><td style=\"text-align: right;\">0.328492</td><td style=\"text-align: right;\">0.346748</td><td style=\"text-align: right;\">0.32476 </td></tr>\n",
       "<tr><td style=\"text-align: right;\">        0</td><td style=\"text-align: right;\">0.343181</td><td style=\"text-align: right;\">0.329798</td><td style=\"text-align: right;\">0.327021</td></tr>\n",
       "<tr><td style=\"text-align: right;\">        0</td><td style=\"text-align: right;\">0.365628</td><td style=\"text-align: right;\">0.320253</td><td style=\"text-align: right;\">0.314119</td></tr>\n",
       "<tr><td style=\"text-align: right;\">        0</td><td style=\"text-align: right;\">0.345811</td><td style=\"text-align: right;\">0.329315</td><td style=\"text-align: right;\">0.324874</td></tr>\n",
       "<tr><td style=\"text-align: right;\">        2</td><td style=\"text-align: right;\">0.322275</td><td style=\"text-align: right;\">0.33437 </td><td style=\"text-align: right;\">0.343355</td></tr>\n",
       "<tr><td style=\"text-align: right;\">        2</td><td style=\"text-align: right;\">0.315781</td><td style=\"text-align: right;\">0.319757</td><td style=\"text-align: right;\">0.364463</td></tr>\n",
       "</tbody>\n",
       "</table>"
      ]
     },
     "metadata": {},
     "output_type": "display_data"
    },
    {
     "name": "stdout",
     "output_type": "stream",
     "text": [
      "\n"
     ]
    },
    {
     "data": {
      "text/html": [
       "<table>\n",
       "<thead>\n",
       "<tr><th style=\"text-align: right;\">  predict</th><th style=\"text-align: right;\">  labels</th></tr>\n",
       "</thead>\n",
       "<tbody>\n",
       "<tr><td style=\"text-align: right;\">        0</td><td style=\"text-align: right;\">       0</td></tr>\n",
       "<tr><td style=\"text-align: right;\">        1</td><td style=\"text-align: right;\">       1</td></tr>\n",
       "<tr><td style=\"text-align: right;\">        1</td><td style=\"text-align: right;\">       1</td></tr>\n",
       "<tr><td style=\"text-align: right;\">        0</td><td style=\"text-align: right;\">       0</td></tr>\n",
       "<tr><td style=\"text-align: right;\">        1</td><td style=\"text-align: right;\">       1</td></tr>\n",
       "<tr><td style=\"text-align: right;\">        0</td><td style=\"text-align: right;\">       0</td></tr>\n",
       "<tr><td style=\"text-align: right;\">        0</td><td style=\"text-align: right;\">       0</td></tr>\n",
       "<tr><td style=\"text-align: right;\">        0</td><td style=\"text-align: right;\">       0</td></tr>\n",
       "<tr><td style=\"text-align: right;\">        2</td><td style=\"text-align: right;\">       1</td></tr>\n",
       "<tr><td style=\"text-align: right;\">        2</td><td style=\"text-align: right;\">       2</td></tr>\n",
       "</tbody>\n",
       "</table>"
      ]
     },
     "metadata": {},
     "output_type": "display_data"
    },
    {
     "name": "stdout",
     "output_type": "stream",
     "text": [
      "\n"
     ]
    }
   ],
   "source": [
    "# predictions!\n",
    "preds = aml.predict(test)\n",
    "print(preds)\n",
    "var = preds[\"predict\"].cbind(test[y])\n",
    "print(var)"
   ]
  },
  {
   "cell_type": "code",
   "execution_count": 31,
   "metadata": {},
   "outputs": [
    {
     "name": "stdout",
     "output_type": "stream",
     "text": [
      "The results for this run will be stored in /home/mackenzie/workspace/PycharmProjects/DAADRISE_AbusiveLangProject/Results_Aug5/TestFeatureSelUnd_547\n"
     ]
    }
   ],
   "source": [
    "# Create a new folder to hold statistics for a run\n",
    "def createFolder(directory):\n",
    "    try:\n",
    "        if not os.path.exists(directory):\n",
    "            os.makedirs(directory)\n",
    "    except OSError:\n",
    "        print ('Error: Creating directory. ' +  directory)\n",
    "\n",
    "# create a random folder number to reference the directory\n",
    "rand = random.randint(0, 1000)\n",
    "directory = '/home/mackenzie/workspace/PycharmProjects/DAADRISE_AbusiveLangProject/Results_Aug5/TestFeatureSelUnd_' + str(rand)\n",
    "print('The results for this run will be stored in ' + directory)\n",
    "createFolder(directory)"
   ]
  },
  {
   "cell_type": "code",
   "execution_count": 32,
   "metadata": {
    "pycharm": {
     "name": "#%%\n"
    },
    "scrolled": true
   },
   "outputs": [
    {
     "name": "stdout",
     "output_type": "stream",
     "text": [
      "Confusion Matrix: \n",
      "[[417  85  85]\n",
      " [ 24  49  20]\n",
      " [ 33  25 103]]\n",
      "Accuracy Score: \n",
      "0.6765755053507729\n",
      "F1 Score: \n",
      "0.6985247337257096\n",
      "Recall: \n"
     ]
    },
    {
     "data": {
      "image/png": "[encoded data removed]",
      "text/plain": [
       "<Figure size 360x360 with 1 Axes>"
      ]
     },
     "metadata": {
      "needs_background": "light"
     },
     "output_type": "display_data"
    }
   ],
   "source": [
    "# metrics and results!\n",
    "y_test = h2o.as_list(test[y], use_pandas=True)\n",
    "y_pred = h2o.as_list(preds[\"predict\"])\n",
    "print(\"Confusion Matrix: \")\n",
    "print(metrics.confusion_matrix(y_test, y_pred))\n",
    "print(\"Accuracy Score: \")\n",
    "print(metrics.accuracy_score(y_test, y_pred))\n",
    "print(\"F1 Score: \")\n",
    "print(metrics.f1_score(y_test, y_pred, average=\"weighted\"))\n",
    "print(\"Recall: \")\n",
    "confusion_matrix = metrics.confusion_matrix(y_test,y_pred)\n",
    "matrix_proportions = np.zeros((3,3))\n",
    "for i in range(0,3):\n",
    "    matrix_proportions[i,:] = confusion_matrix[i,:]/float(confusion_matrix[i,:].sum())\n",
    "names=['Other','Insult','Abuse']\n",
    "confusion_df = pd.DataFrame(matrix_proportions, index=names,columns=names)\n",
    "plt.figure(figsize=(5,5))\n",
    "seaborn.heatmap(confusion_df,annot=True,annot_kws={\"size\": 12},cmap='gist_gray_r',cbar=False, square=True,fmt='.2f')\n",
    "plt.ylabel(r'True categories',fontsize=14)\n",
    "plt.xlabel(r'Predicted categories',fontsize=14)\n",
    "plt.tick_params(labelsize=12)\n",
    "plt.savefig(directory + '/recall.png')"
   ]
  },
  {
   "cell_type": "code",
   "execution_count": 33,
   "metadata": {},
   "outputs": [
    {
     "name": "stdout",
     "output_type": "stream",
     "text": [
      "              precision    recall  f1-score   support\n",
      "\n",
      "           0       0.88      0.71      0.79       587\n",
      "           1       0.31      0.53      0.39        93\n",
      "           2       0.50      0.64      0.56       161\n",
      "\n",
      "    accuracy                           0.68       841\n",
      "   macro avg       0.56      0.63      0.58       841\n",
      "weighted avg       0.74      0.68      0.70       841\n",
      "\n"
     ]
    }
   ],
   "source": [
    "# Saves the classification report info\n",
    "print(metrics.classification_report(y_test, y_pred))\n",
    "f= open(directory+'/classification_report.txt',\"w+\")\n",
    "f.write(metrics.classification_report(y_test, y_pred))\n",
    "f.write(str(metrics.confusion_matrix(y_test,y_pred)))\n",
    "f.write('\\n')\n",
    "f.write('accuracy: '+ str(metrics.accuracy_score(y_test, y_pred)))\n",
    "f.write('\\n')\n",
    "f.write('f1-score' + str(metrics.f1_score(y_test, y_pred, average=\"weighted\")))\n",
    "f.write('\\n')\n",
    "f.close()"
   ]
  },
  {
   "cell_type": "code",
   "execution_count": 34,
   "metadata": {},
   "outputs": [],
   "source": [
    "file = lb_pd.to_csv(path_or_buf=directory+'/modelinfo.csv')\n",
    "featuresSelected = uni_selected_feat.to_csv(path_or_buf=directory+'/feature_selection.csv')"
   ]
  }
 ],
 "metadata": {
  "kernelspec": {
   "display_name": "Python 3",
   "language": "python",
   "name": "python3"
  },
  "language_info": {
   "codemirror_mode": {
    "name": "ipython",
    "version": 3
   },
   "file_extension": ".py",
   "mimetype": "text/x-python",
   "name": "python",
   "nbconvert_exporter": "python",
   "pygments_lexer": "ipython3",
   "version": "3.7.1"
  },
  "pycharm": {
   "stem_cell": {
    "cell_type": "raw",
    "metadata": {
     "collapsed": false
    },
    "source": []
   }
  }
 },
 "nbformat": 4,
 "nbformat_minor": 2
}
