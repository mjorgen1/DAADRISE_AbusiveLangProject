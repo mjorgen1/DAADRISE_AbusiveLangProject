{
 "cells": [
  {
   "cell_type": "code",
   "execution_count": 1,
   "metadata": {
    "pycharm": {
     "is_executing": false
    }
   },
   "outputs": [],
   "source": [
    "import pandas as pd"
   ]
  },
  {
   "cell_type": "code",
   "execution_count": 13,
   "metadata": {
    "pycharm": {
     "is_executing": false
    }
   },
   "outputs": [
    {
     "name": "stdout",
     "text": [
      "first data frame: \n            vader neg  0.022759094275828236\n0               trash              0.020642\n1               bitch              0.020132\n2      vader compound              0.019558\n3           vader neu              0.018192\n4               yanke              0.016019\n5                bird              0.013580\n6              yellow              0.013451\n7                 hoe              0.012649\n8              charli              0.009321\n9              faggot              0.008664\n10   avg_syl_per_word              0.007439\n11              pussi              0.006915\n12    num_chars_total              0.006910\n13               FKRA              0.006318\n14               oreo              0.006138\n15                FRE              0.005983\n16          num_chars              0.005759\n17           num_urls              0.005645\n18             browni              0.005330\n19      num_syllables              0.005305\n20             nigger              0.005190\n21              color              0.004563\n22          num_terms              0.004504\n23   num_unique_words              0.004299\n24          num_words              0.004047\n25       num_mentions              0.003892\n26                PRP              0.003890\n27                fag              0.003820\n28             monkey              0.003782\n29             jihadi              0.003672\n..                ...                   ...\n969               old              0.000163\n970              suck              0.000163\n971             illeg              0.000163\n972             sport              0.000163\n973        CC PRP VBP              0.000163\n974         JJR NN NN              0.000162\n975       white peopl              0.000162\n976        PRP NN NNS              0.000162\n977            pretti              0.000162\n978        VBP JJ NNS              0.000162\n979           countri              0.000162\n980               car              0.000162\n981            school              0.000162\n982         color eye              0.000162\n983             JJ TO              0.000161\n984         lemm find              0.000161\n985        fuck queer              0.000161\n986              year              0.000161\n987       yellow bone              0.000161\n988              yall              0.000161\n989        like bitch              0.000161\n990              nike              0.000161\n991            better              0.000160\n992            someon              0.000160\n993            DT PRP              0.000160\n994             gotta              0.000160\n995               god              0.000159\n996          TO DT NN              0.000159\n997           everyth              0.000159\n998             stuff              0.000159\n\n[999 rows x 2 columns]\nsecond data frame: \n            vader neg  0.022759094275828236\n0               trash              0.020642\n1               bitch              0.020132\n2      vader compound              0.019558\n3           vader neu              0.018192\n4               yanke              0.016019\n5                bird              0.013580\n6              yellow              0.013451\n7                 hoe              0.012649\n8              charli              0.009321\n9              faggot              0.008664\n10   avg_syl_per_word              0.007439\n11              pussi              0.006915\n12    num_chars_total              0.006910\n13               FKRA              0.006318\n14               oreo              0.006138\n15                FRE              0.005983\n16          num_chars              0.005759\n17           num_urls              0.005645\n18             browni              0.005330\n19      num_syllables              0.005305\n20             nigger              0.005190\n21              color              0.004563\n22          num_terms              0.004504\n23   num_unique_words              0.004299\n24          num_words              0.004047\n25       num_mentions              0.003892\n26                PRP              0.003890\n27                fag              0.003820\n28             monkey              0.003782\n29             jihadi              0.003672\n..                ...                   ...\n969               old              0.000163\n970              suck              0.000163\n971             illeg              0.000163\n972             sport              0.000163\n973        CC PRP VBP              0.000163\n974         JJR NN NN              0.000162\n975       white peopl              0.000162\n976        PRP NN NNS              0.000162\n977            pretti              0.000162\n978        VBP JJ NNS              0.000162\n979           countri              0.000162\n980               car              0.000162\n981            school              0.000162\n982         color eye              0.000162\n983             JJ TO              0.000161\n984         lemm find              0.000161\n985        fuck queer              0.000161\n986              year              0.000161\n987       yellow bone              0.000161\n988              yall              0.000161\n989        like bitch              0.000161\n990              nike              0.000161\n991            better              0.000160\n992            someon              0.000160\n993            DT PRP              0.000160\n994             gotta              0.000160\n995               god              0.000159\n996          TO DT NN              0.000159\n997           everyth              0.000159\n998             stuff              0.000159\n\n[999 rows x 2 columns]\n"
     ],
     "output_type": "stream"
    },
    {
     "data": {
      "text/plain": "True"
     },
     "metadata": {},
     "output_type": "execute_result",
     "execution_count": 13
    }
   ],
   "source": [
    "# load two csv files of the features selected from a univariate run\n",
    "data_fs1 = pd.read_csv('C:/Users/mikec/Documents/Results/ifeature_selection.csv')\n",
    "data_fs2 = pd.read_csv('C:/Users/mikec/Documents/Results/ifeature_selection.csv')\n",
    "\n",
    "print('first data frame: ')\n",
    "print(data_fs1)\n",
    "print('second data frame: ')\n",
    "print(data_fs2)\n",
    "\n",
    "# double check that data is equal should be\n",
    "data_fs1.equals(data_fs2)"
   ]
  },
  {
   "cell_type": "code",
   "execution_count": 3,
   "metadata": {
    "pycharm": {
     "is_executing": false
    }
   },
   "outputs": [
    {
     "name": "stdout",
     "text": [
      "Index(['Unnamed: 0', 'Specs', 'Score'], dtype='object')\nIndex(['Specs', 'Score'], dtype='object')\nIndex(['Unnamed: 0', 'Specs', 'Score'], dtype='object')\nIndex(['Specs', 'Score'], dtype='object')\n"
     ],
     "output_type": "stream"
    }
   ],
   "source": [
    "# clean data\n",
    "print(data_fs1.columns)\n",
    "del data_fs1['Unnamed: 0']\n",
    "print(data_fs1.columns)\n",
    "\n",
    "print(data_fs2.columns)\n",
    "del data_fs2['Unnamed: 0']\n",
    "print(data_fs2.columns)"
   ]
  },
  {
   "cell_type": "code",
   "execution_count": 4,
   "metadata": {
    "pycharm": {
     "is_executing": false
    }
   },
   "outputs": [
    {
     "name": "stdout",
     "text": [
      "               Specs        Score\n0              bitch  2384.592874\n1          vader neg  1772.135115\n2          vader neu  1384.101505\n3     vader compound  1350.379776\n4             faggot   903.795790\n5              trash   852.094597\n6               bird   824.433547\n7              yanke   648.175049\n8             nigger   643.049468\n9                FRE   600.180045\n10            charli   589.646341\n11  avg_syl_per_word   515.689760\n12              FKRA   497.458888\n13               hoe   483.474357\n14            yellow   432.872647\n15               fag   301.480469\n16          num_urls   294.387789\n17             pussi   266.527970\n18       white trash   254.230504\n19             white   253.601431\n"
     ],
     "output_type": "stream"
    }
   ],
   "source": [
    "# Step 1: visualize the data\n",
    "# print out the top 20 features\n",
    "\n",
    "top_20 = data_fs1.nlargest(20,'Score')\n",
    "print(top_20)"
   ]
  },
  {
   "cell_type": "code",
   "execution_count": 15,
   "metadata": {
    "pycharm": {
     "is_executing": false
    }
   },
   "outputs": [
    {
     "name": "stdout",
     "text": [
      "FKRA is in the selected features\nFRE is in the selected features\nnum_syllables is in the selected features\navg_syl_per_word is in the selected features\nnum_chars is in the selected features\nnum_chars_total is in the selected features\nnum_terms is in the selected features\nnum_words is in the selected features\nnum_unique_words is in the selected features\nvader pos is in the selected features\nvader neu is in the selected features\nvader compound is in the selected features\nnum_hashtags is in the selected features\nnum_mentions is in the selected features\nnum_urls is in the selected features\nis_retweet is in the selected features\n\n\nvader neg is NOT in the selected features\n"
     ],
     "output_type": "stream"
    }
   ],
   "source": [
    "# Step 2: figure out how many of the 1000 features are for which category\n",
    "#run checks to see if any of the \"other features\" are in the list\n",
    "# count how many non-other features aka tfidf features are in the list \n",
    "other_features_names = pd.Series([\"FKRA\", \"FRE\",\"num_syllables\", \"avg_syl_per_word\", \"num_chars\", \"num_chars_total\", \\\n",
    "                        \"num_terms\", \"num_words\", \"num_unique_words\", \"vader neg\",\"vader pos\",\"vader neu\", \\\n",
    "                        \"vader compound\", \"num_hashtags\", \"num_mentions\", \"num_urls\", \"is_retweet\"])\n",
    "arr = other_features_names.isin(data_fs1.iloc[:, 0])\n",
    "\n",
    "for i in range(0, len(arr)):\n",
    "    if(arr[i]):\n",
    "        print(other_features_names[i] + ' is in the selected features')\n",
    "\n",
    "print('\\n')\n",
    "        \n",
    "for i in range(0, len(arr)):\n",
    "    if(not arr[i]):\n",
    "        print(other_features_names[i] + ' is NOT in the selected features')"
   ]
  },
  {
   "cell_type": "code",
   "execution_count": null,
   "metadata": {},
   "outputs": [],
   "source": []
  }
 ],
 "metadata": {
  "kernelspec": {
   "display_name": "Python 3",
   "language": "python",
   "name": "python3"
  },
  "language_info": {
   "codemirror_mode": {
    "name": "ipython",
    "version": 3
   },
   "file_extension": ".py",
   "mimetype": "text/x-python",
   "name": "python",
   "nbconvert_exporter": "python",
   "pygments_lexer": "ipython3",
   "version": "3.7.1"
  },
  "pycharm": {
   "stem_cell": {
    "cell_type": "raw",
    "source": [],
    "metadata": {
     "collapsed": false
    }
   }
  }
 },
 "nbformat": 4,
 "nbformat_minor": 2
}