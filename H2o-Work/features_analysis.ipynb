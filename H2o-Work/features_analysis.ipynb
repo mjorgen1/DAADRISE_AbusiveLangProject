{
 "cells": [
  {
   "cell_type": "code",
   "execution_count": 1,
   "metadata": {},
   "outputs": [],
   "source": [
    "import pandas as pd"
   ]
  },
  {
   "cell_type": "code",
   "execution_count": 3,
   "metadata": {},
   "outputs": [
    {
     "name": "stdout",
     "output_type": "stream",
     "text": [
      "first data frame: \n",
      "     Unnamed: 0                         Specs      Score\n",
      "0           636                          dumm  64.461365\n",
      "1          2473                    strunzdumm  55.880652\n",
      "2          1749                          mosl  55.345552\n",
      "3          2239                     schmarotz  53.819002\n",
      "4          2000                          pack  52.935005\n",
      "5          2001                     paedophil  52.840050\n",
      "6          1687                        merkel  52.572181\n",
      "7          1251                       invasor  49.851795\n",
      "8          1265                         islam  48.541379\n",
      "9           198                         asyla  47.059928\n",
      "10         1763                       murksel  45.142919\n",
      "11         1596                   luegenpress  43.138647\n",
      "12         2648                        vasall  41.965389\n",
      "13         2219                       scheiss  41.374236\n",
      "14         2267                schulabschluss  38.508092\n",
      "15          818                        fettig  34.680448\n",
      "16          819                   fettig haar  34.563703\n",
      "17         2240           schmarotz paedophil  34.354193\n",
      "18         2270                        schulz  33.965406\n",
      "19           23                      abschaum  33.503491\n",
      "20         2816                           wdr  33.264589\n",
      "21         1036                           gru  32.167806\n",
      "22         2002            paedophil denunzia  30.502020\n",
      "23         2392                 spd schmarotz  30.502020\n",
      "24         2393       spd schmarotz paedophil  30.502020\n",
      "25         1190                           hos  30.436309\n",
      "26         1161                           hir  30.410354\n",
      "27          548                      denunzia  29.669812\n",
      "28            8                      abgefuck  28.726377\n",
      "29         2241  schmarotz paedophil denunzia  28.579248\n",
      "..          ...                           ...        ...\n",
      "970         106                           amt   1.819574\n",
      "971        1344                          jung   1.807634\n",
      "972         569                 deutsch waehl   1.806421\n",
      "973         672                        einhei   1.806421\n",
      "974         692                         empfi   1.806421\n",
      "975         891                       friedma   1.806421\n",
      "976        1575                  linksradikal   1.806421\n",
      "977        1662                     mehr hoer   1.806421\n",
      "978         629                          drum   1.804330\n",
      "979         755                        erwach   1.804330\n",
      "980         959                   geg deutsch   1.804330\n",
      "981        1272                  islamistisch   1.804330\n",
      "982        1612                        maedel   1.804330\n",
      "983        2384                        spanie   1.804330\n",
      "984         475                          chri   1.791708\n",
      "985        1258                     irgendwie   1.789348\n",
      "986        2830                         weiss   1.776576\n",
      "987         512                          darf   1.775234\n",
      "988        1401                          klar   1.769051\n",
      "989        1441                    kompromiss   1.764525\n",
      "990        1849                  nich einfach   1.764525\n",
      "991        2580                 ueberfluessig   1.754775\n",
      "992        2912                          woll   1.751505\n",
      "993         390                           bka   1.742576\n",
      "994         743                         erneu   1.742576\n",
      "995         971                          geil   1.738516\n",
      "996         984                           ger   1.734635\n",
      "997        2070                           pro   1.731674\n",
      "998         380                          bild   1.729724\n",
      "999        1061                      gut morg   1.727970\n",
      "\n",
      "[1000 rows x 3 columns]\n",
      "second data frame: \n",
      "     Unnamed: 0                         Specs      Score\n",
      "0           636                          dumm  64.461365\n",
      "1          2473                    strunzdumm  55.880652\n",
      "2          1749                          mosl  55.345552\n",
      "3          2239                     schmarotz  53.819002\n",
      "4          2000                          pack  52.935005\n",
      "5          2001                     paedophil  52.840050\n",
      "6          1687                        merkel  52.572181\n",
      "7          1251                       invasor  49.851795\n",
      "8          1265                         islam  48.541379\n",
      "9           198                         asyla  47.059928\n",
      "10         1763                       murksel  45.142919\n",
      "11         1596                   luegenpress  43.138647\n",
      "12         2648                        vasall  41.965389\n",
      "13         2219                       scheiss  41.374236\n",
      "14         2267                schulabschluss  38.508092\n",
      "15          818                        fettig  34.680448\n",
      "16          819                   fettig haar  34.563703\n",
      "17         2240           schmarotz paedophil  34.354193\n",
      "18         2270                        schulz  33.965406\n",
      "19           23                      abschaum  33.503491\n",
      "20         2816                           wdr  33.264589\n",
      "21         1036                           gru  32.167806\n",
      "22         2002            paedophil denunzia  30.502020\n",
      "23         2392                 spd schmarotz  30.502020\n",
      "24         2393       spd schmarotz paedophil  30.502020\n",
      "25         1190                           hos  30.436309\n",
      "26         1161                           hir  30.410354\n",
      "27          548                      denunzia  29.669812\n",
      "28            8                      abgefuck  28.726377\n",
      "29         2241  schmarotz paedophil denunzia  28.579248\n",
      "..          ...                           ...        ...\n",
      "970         106                           amt   1.819574\n",
      "971        1344                          jung   1.807634\n",
      "972         569                 deutsch waehl   1.806421\n",
      "973         672                        einhei   1.806421\n",
      "974         692                         empfi   1.806421\n",
      "975         891                       friedma   1.806421\n",
      "976        1575                  linksradikal   1.806421\n",
      "977        1662                     mehr hoer   1.806421\n",
      "978         629                          drum   1.804330\n",
      "979         755                        erwach   1.804330\n",
      "980         959                   geg deutsch   1.804330\n",
      "981        1272                  islamistisch   1.804330\n",
      "982        1612                        maedel   1.804330\n",
      "983        2384                        spanie   1.804330\n",
      "984         475                          chri   1.791708\n",
      "985        1258                     irgendwie   1.789348\n",
      "986        2830                         weiss   1.776576\n",
      "987         512                          darf   1.775234\n",
      "988        1401                          klar   1.769051\n",
      "989        1441                    kompromiss   1.764525\n",
      "990        1849                  nich einfach   1.764525\n",
      "991        2580                 ueberfluessig   1.754775\n",
      "992        2912                          woll   1.751505\n",
      "993         390                           bka   1.742576\n",
      "994         743                         erneu   1.742576\n",
      "995         971                          geil   1.738516\n",
      "996         984                           ger   1.734635\n",
      "997        2070                           pro   1.731674\n",
      "998         380                          bild   1.729724\n",
      "999        1061                      gut morg   1.727970\n",
      "\n",
      "[1000 rows x 3 columns]\n"
     ]
    },
    {
     "data": {
      "text/plain": [
       "True"
      ]
     },
     "execution_count": 3,
     "metadata": {},
     "output_type": "execute_result"
    }
   ],
   "source": [
    "# load two csv files of the features selected from a univariate run\n",
    "data_fs1 = pd.read_csv(\"/home/mackenzie/workspace/PycharmProjects/DAADRISE_AbusiveLangProject/Results_Aug5/TestFeatureSelUnd_786/feature_selection.csv\")\n",
    "data_fs2 = pd.read_csv('/home/mackenzie/workspace/PycharmProjects/DAADRISE_AbusiveLangProject/Results_Aug5/TestFeatureSelUnd_896/feature_selection.csv')\n",
    "\n",
    "print('first data frame: ')\n",
    "print(data_fs1)\n",
    "print('second data frame: ')\n",
    "print(data_fs2)\n",
    "\n",
    "# double check that data is equal should be\n",
    "data_fs1.equals(data_fs2)"
   ]
  },
  {
   "cell_type": "code",
   "execution_count": 4,
   "metadata": {},
   "outputs": [
    {
     "name": "stdout",
     "output_type": "stream",
     "text": [
      "Index(['Unnamed: 0', 'Specs', 'Score'], dtype='object')\n",
      "Index(['Specs', 'Score'], dtype='object')\n",
      "Index(['Unnamed: 0', 'Specs', 'Score'], dtype='object')\n",
      "Index(['Specs', 'Score'], dtype='object')\n"
     ]
    }
   ],
   "source": [
    "# clean data\n",
    "print(data_fs1.columns)\n",
    "del data_fs1['Unnamed: 0']\n",
    "print(data_fs1.columns)\n",
    "\n",
    "print(data_fs2.columns)\n",
    "del data_fs2['Unnamed: 0']\n",
    "print(data_fs2.columns)"
   ]
  },
  {
   "cell_type": "code",
   "execution_count": 5,
   "metadata": {},
   "outputs": [
    {
     "name": "stdout",
     "output_type": "stream",
     "text": [
      "                  Specs      Score\n",
      "0                  dumm  64.461365\n",
      "1            strunzdumm  55.880652\n",
      "2                  mosl  55.345552\n",
      "3             schmarotz  53.819002\n",
      "4                  pack  52.935005\n",
      "5             paedophil  52.840050\n",
      "6                merkel  52.572181\n",
      "7               invasor  49.851795\n",
      "8                 islam  48.541379\n",
      "9                 asyla  47.059928\n",
      "10              murksel  45.142919\n",
      "11          luegenpress  43.138647\n",
      "12               vasall  41.965389\n",
      "13              scheiss  41.374236\n",
      "14       schulabschluss  38.508092\n",
      "15               fettig  34.680448\n",
      "16          fettig haar  34.563703\n",
      "17  schmarotz paedophil  34.354193\n",
      "18               schulz  33.965406\n",
      "19             abschaum  33.503491\n"
     ]
    }
   ],
   "source": [
    "# Step 1: visualize the data\n",
    "# print out the top 20 features\n",
    "\n",
    "top_20 = data_fs1.nlargest(20,'Score')\n",
    "print(top_20)"
   ]
  },
  {
   "cell_type": "code",
   "execution_count": 6,
   "metadata": {},
   "outputs": [
    {
     "name": "stdout",
     "output_type": "stream",
     "text": [
      "FKRA is in the selected features\n",
      "FRE is in the selected features\n",
      "num_syllables is in the selected features\n",
      "avg_syl_per_word is in the selected features\n",
      "num_chars is in the selected features\n",
      "num_chars_total is in the selected features\n",
      "num_terms is in the selected features\n",
      "num_hashtags is in the selected features\n",
      "num_mentions is in the selected features\n",
      "\n",
      "\n",
      "num_words is NOT in the selected features\n",
      "num_unique_words is NOT in the selected features\n",
      "sentiment is NOT in the selected features\n",
      "num_urls is NOT in the selected features\n"
     ]
    }
   ],
   "source": [
    "# Step 2: figure out how many of the 1000 features are for which category\n",
    "#run checks to see if any of the \"other features\" are in the list\n",
    "# count how many non-other features aka tfidf features are in the list \n",
    "other_features_names = pd.Series([\"FKRA\", \"FRE\",\"num_syllables\", \"avg_syl_per_word\", \"num_chars\", \"num_chars_total\", \\\n",
    "                        \"num_terms\", \"num_words\", \"num_unique_words\", \"sentiment\", \"num_hashtags\", \"num_mentions\", \"num_urls\"])\n",
    "arr = other_features_names.isin(data_fs1.iloc[:, 0])\n",
    "\n",
    "for i in range(0, len(arr)):\n",
    "    if(arr[i]):\n",
    "        print(other_features_names[i] + ' is in the selected features')\n",
    "\n",
    "print('\\n')\n",
    "        \n",
    "for i in range(0, len(arr)):\n",
    "    if(not arr[i]):\n",
    "        print(other_features_names[i] + ' is NOT in the selected features')"
   ]
  },
  {
   "cell_type": "code",
   "execution_count": null,
   "metadata": {},
   "outputs": [],
   "source": []
  }
 ],
 "metadata": {
  "kernelspec": {
   "display_name": "Python 3",
   "language": "python",
   "name": "python3"
  },
  "language_info": {
   "codemirror_mode": {
    "name": "ipython",
    "version": 3
   },
   "file_extension": ".py",
   "mimetype": "text/x-python",
   "name": "python",
   "nbconvert_exporter": "python",
   "pygments_lexer": "ipython3",
   "version": "3.7.1"
  }
 },
 "nbformat": 4,
 "nbformat_minor": 2
}
