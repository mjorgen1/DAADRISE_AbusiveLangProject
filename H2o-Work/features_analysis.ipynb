{
 "cells": [
  {
   "cell_type": "code",
   "execution_count": 1,
   "metadata": {
    "pycharm": {
     "is_executing": false
    }
   },
   "outputs": [],
   "source": [
    "import pandas as pd"
   ]
  },
  {
   "cell_type": "code",
   "execution_count": 2,
   "metadata": {
    "pycharm": {
     "is_executing": false
    }
   },
   "outputs": [
    {
     "name": "stdout",
     "text": [
      "first data frame: \n     Unnamed: 0             Specs        Score\n0           535             bitch  2384.592874\n1         11164         vader neg  1772.135115\n2         11166         vader neu  1384.101505\n3         11167    vader compound  1350.379776\n4          2002            faggot   903.795790\n5          6305             trash   852.094597\n6           512              bird   824.433547\n7          6998             yanke   648.175049\n8          4394            nigger   643.049468\n9         11156               FRE   600.180045\n10         1209            charli   589.646341\n11        11158  avg_syl_per_word   515.689760\n12        11155              FKRA   497.458888\n13         2916               hoe   483.474357\n14         7029            yellow   432.872647\n15         2000               fag   301.480469\n16        11170          num_urls   294.387789\n17         4901             pussi   266.527970\n18         6828       white trash   254.230504\n19         6818             white   253.601431\n20         2246              fuck   226.482701\n21         4573              oreo   213.074922\n22         1047            browni   206.540573\n23         3323            jihadi   201.869783\n24         4307             nigga   197.535373\n25         4095              mock   172.935700\n26          250               ass   147.876857\n27        11157     num_syllables   146.967301\n28         4115            monkey   139.171421\n29         1332             color   138.253435\n..          ...               ...          ...\n970        3860               mad     7.568335\n971        2585              gone     7.539707\n972        8095            JJR NN     7.535938\n973         831       bitch think     7.526068\n974        6535           uniform     7.506901\n975        1152            cardin     7.505382\n976        1535          da white     7.505382\n977        2892           hillari     7.505382\n978        4139              mous     7.505382\n979        4674         perfectli     7.505382\n980        4806            powder     7.505382\n981        6143         thi whole     7.505382\n982        6321         trash tho     7.505382\n983        6744        wear beani     7.505382\n984        7091          CC DT CC     7.505382\n985        8304          NN MD CC     7.505382\n986        2413          get fuck     7.504202\n987        3616         like fuck     7.504202\n988        7593         IN DT NNS     7.500595\n989        1374           complet     7.489028\n990        3827          love hoe     7.450976\n991        8339         NN NN WDT     7.446565\n992         714        bitch look     7.420753\n993        8422         NN RBS JJ     7.418018\n994        2245        fucc nicca     7.418018\n995        4667         peopl thi     7.418018\n996        8491         NN VBG NN     7.414419\n997        9426         RBR IN NN     7.404603\n998        2117             first     7.401383\n999        4571             orang     7.381874\n\n[1000 rows x 3 columns]\nsecond data frame: \n     Unnamed: 0             Specs        Score\n0           535             bitch  2384.592874\n1         11164         vader neg  1772.135115\n2         11166         vader neu  1384.101505\n3         11167    vader compound  1350.379776\n4          2002            faggot   903.795790\n5          6305             trash   852.094597\n6           512              bird   824.433547\n7          6998             yanke   648.175049\n8          4394            nigger   643.049468\n9         11156               FRE   600.180045\n10         1209            charli   589.646341\n11        11158  avg_syl_per_word   515.689760\n12        11155              FKRA   497.458888\n13         2916               hoe   483.474357\n14         7029            yellow   432.872647\n15         2000               fag   301.480469\n16        11170          num_urls   294.387789\n17         4901             pussi   266.527970\n18         6828       white trash   254.230504\n19         6818             white   253.601431\n20         2246              fuck   226.482701\n21         4573              oreo   213.074922\n22         1047            browni   206.540573\n23         3323            jihadi   201.869783\n24         4307             nigga   197.535373\n25         4095              mock   172.935700\n26          250               ass   147.876857\n27        11157     num_syllables   146.967301\n28         4115            monkey   139.171421\n29         1332             color   138.253435\n..          ...               ...          ...\n970        3860               mad     7.568335\n971        2585              gone     7.539707\n972        8095            JJR NN     7.535938\n973         831       bitch think     7.526068\n974        6535           uniform     7.506901\n975        1152            cardin     7.505382\n976        1535          da white     7.505382\n977        2892           hillari     7.505382\n978        4139              mous     7.505382\n979        4674         perfectli     7.505382\n980        4806            powder     7.505382\n981        6143         thi whole     7.505382\n982        6321         trash tho     7.505382\n983        6744        wear beani     7.505382\n984        7091          CC DT CC     7.505382\n985        8304          NN MD CC     7.505382\n986        2413          get fuck     7.504202\n987        3616         like fuck     7.504202\n988        7593         IN DT NNS     7.500595\n989        1374           complet     7.489028\n990        3827          love hoe     7.450976\n991        8339         NN NN WDT     7.446565\n992         714        bitch look     7.420753\n993        8422         NN RBS JJ     7.418018\n994        2245        fucc nicca     7.418018\n995        4667         peopl thi     7.418018\n996        8491         NN VBG NN     7.414419\n997        9426         RBR IN NN     7.404603\n998        2117             first     7.401383\n999        4571             orang     7.381874\n\n[1000 rows x 3 columns]\n"
     ],
     "output_type": "stream"
    },
    {
     "data": {
      "text/plain": "True"
     },
     "metadata": {},
     "output_type": "execute_result",
     "execution_count": 2
    }
   ],
   "source": [
    "# load two csv files of the features selected from a univariate run\n",
    "data_fs1 = pd.read_csv('C:/Users/mikec/Documents/Results/feature_selection.csv')\n",
    "data_fs2 = pd.read_csv('C:/Users/mikec/Documents/Results/feature_selection.csv')\n",
    "\n",
    "print('first data frame: ')\n",
    "print(data_fs1)\n",
    "print('second data frame: ')\n",
    "print(data_fs2)\n",
    "\n",
    "# double check that data is equal should be\n",
    "data_fs1.equals(data_fs2)"
   ]
  },
  {
   "cell_type": "code",
   "execution_count": 4,
   "metadata": {},
   "outputs": [
    {
     "name": "stdout",
     "output_type": "stream",
     "text": [
      "Index(['Unnamed: 0', 'Specs', 'Score'], dtype='object')\n",
      "Index(['Specs', 'Score'], dtype='object')\n",
      "Index(['Unnamed: 0', 'Specs', 'Score'], dtype='object')\n",
      "Index(['Specs', 'Score'], dtype='object')\n"
     ]
    }
   ],
   "source": [
    "# clean data\n",
    "print(data_fs1.columns)\n",
    "del data_fs1['Unnamed: 0']\n",
    "print(data_fs1.columns)\n",
    "\n",
    "print(data_fs2.columns)\n",
    "del data_fs2['Unnamed: 0']\n",
    "print(data_fs2.columns)"
   ]
  },
  {
   "cell_type": "code",
   "execution_count": 3,
   "metadata": {
    "pycharm": {
     "is_executing": false
    }
   },
   "outputs": [
    {
     "name": "stdout",
     "text": [
      "    Unnamed: 0             Specs        Score\n0          535             bitch  2384.592874\n1        11164         vader neg  1772.135115\n2        11166         vader neu  1384.101505\n3        11167    vader compound  1350.379776\n4         2002            faggot   903.795790\n5         6305             trash   852.094597\n6          512              bird   824.433547\n7         6998             yanke   648.175049\n8         4394            nigger   643.049468\n9        11156               FRE   600.180045\n10        1209            charli   589.646341\n11       11158  avg_syl_per_word   515.689760\n12       11155              FKRA   497.458888\n13        2916               hoe   483.474357\n14        7029            yellow   432.872647\n15        2000               fag   301.480469\n16       11170          num_urls   294.387789\n17        4901             pussi   266.527970\n18        6828       white trash   254.230504\n19        6818             white   253.601431\n"
     ],
     "output_type": "stream"
    }
   ],
   "source": [
    "# Step 1: visualize the data\n",
    "# print out the top 20 features\n",
    "\n",
    "top_20 = data_fs1.nlargest(20,'Score')\n",
    "print(top_20)"
   ]
  },
  {
   "cell_type": "code",
   "execution_count": 4,
   "metadata": {
    "pycharm": {
     "is_executing": false
    }
   },
   "outputs": [
    {
     "name": "stdout",
     "text": [
      "\n\nFKRA is NOT in the selected features\nFRE is NOT in the selected features\nnum_syllables is NOT in the selected features\navg_syl_per_word is NOT in the selected features\nnum_chars is NOT in the selected features\nnum_chars_total is NOT in the selected features\nnum_terms is NOT in the selected features\nnum_words is NOT in the selected features\nnum_unique_words is NOT in the selected features\nsentiment is NOT in the selected features\nnum_hashtags is NOT in the selected features\nnum_mentions is NOT in the selected features\nnum_urls is NOT in the selected features\n"
     ],
     "output_type": "stream"
    }
   ],
   "source": [
    "# Step 2: figure out how many of the 1000 features are for which category\n",
    "#run checks to see if any of the \"other features\" are in the list\n",
    "# count how many non-other features aka tfidf features are in the list \n",
    "other_features_names = pd.Series([\"FKRA\", \"FRE\",\"num_syllables\", \"avg_syl_per_word\", \"num_chars\", \"num_chars_total\", \\\n",
    "                        \"num_terms\", \"num_words\", \"num_unique_words\", \"sentiment\", \"num_hashtags\", \"num_mentions\", \"num_urls\"])\n",
    "arr = other_features_names.isin(data_fs1.iloc[:, 0])\n",
    "\n",
    "for i in range(0, len(arr)):\n",
    "    if(arr[i]):\n",
    "        print(other_features_names[i] + ' is in the selected features')\n",
    "\n",
    "print('\\n')\n",
    "        \n",
    "for i in range(0, len(arr)):\n",
    "    if(not arr[i]):\n",
    "        print(other_features_names[i] + ' is NOT in the selected features')"
   ]
  },
  {
   "cell_type": "code",
   "execution_count": null,
   "metadata": {},
   "outputs": [],
   "source": []
  }
 ],
 "metadata": {
  "kernelspec": {
   "display_name": "Python 3",
   "language": "python",
   "name": "python3"
  },
  "language_info": {
   "codemirror_mode": {
    "name": "ipython",
    "version": 3
   },
   "file_extension": ".py",
   "mimetype": "text/x-python",
   "name": "python",
   "nbconvert_exporter": "python",
   "pygments_lexer": "ipython3",
   "version": "3.7.1"
  },
  "pycharm": {
   "stem_cell": {
    "cell_type": "raw",
    "source": [],
    "metadata": {
     "collapsed": false
    }
   }
  }
 },
 "nbformat": 4,
 "nbformat_minor": 2
}