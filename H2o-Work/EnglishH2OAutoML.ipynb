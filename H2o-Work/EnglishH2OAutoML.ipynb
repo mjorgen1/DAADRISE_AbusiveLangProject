{
 "cells": [
  {
   "cell_type": "code",
   "execution_count": 1,
   "metadata": {
    "pycharm": {
     "is_executing": false,
     "name": "#%%\n"
    }
   },
   "outputs": [
    {
     "name": "stdout",
     "output_type": "stream",
     "text": [
      "C:\\Users\\mikec\\Codes\\DAADRISE_AbusiveLangProject\\featureSelection\n"
     ]
    }
   ],
   "source": [
    "# Change the directory path\n",
    "%cd ../featureSelection/"
   ]
  },
  {
   "cell_type": "code",
   "execution_count": 2,
   "metadata": {
    "pycharm": {
     "is_executing": false
    }
   },
   "outputs": [
    {
     "name": "stdout",
     "output_type": "stream",
     "text": [
      "Checking whether there is an H2O instance running at http://localhost:54321 ..... not found.\n",
      "Attempting to start a local H2O server...\n",
      "; Java HotSpot(TM) 64-Bit Server VM (build 25.211-b12, mixed mode)\n",
      "  Starting server from C:\\Users\\mikec\\AppData\\Local\\Programs\\Python\\Python37\\lib\\site-packages\\h2o\\backend\\bin\\h2o.jar\n",
      "  Ice root: C:\\Users\\mikec\\AppData\\Local\\Temp\\tmpd0watfmm\n",
      "  JVM stdout: C:\\Users\\mikec\\AppData\\Local\\Temp\\tmpd0watfmm\\h2o_mikec_started_from_python.out\n",
      "  JVM stderr: C:\\Users\\mikec\\AppData\\Local\\Temp\\tmpd0watfmm\\h2o_mikec_started_from_python.err\n",
      "  Server is running at http://127.0.0.1:54321\n",
      "Connecting to H2O server at http://127.0.0.1:54321 ... successful.\n"
     ]
    },
    {
     "data": {
      "text/html": [
       "<div style=\"overflow:auto\"><table style=\"width:50%\"><tr><td>H2O cluster uptime:</td>\n",
       "<td>02 secs</td></tr>\n",
       "<tr><td>H2O cluster timezone:</td>\n",
       "<td>Europe/Berlin</td></tr>\n",
       "<tr><td>H2O data parsing timezone:</td>\n",
       "<td>UTC</td></tr>\n",
       "<tr><td>H2O cluster version:</td>\n",
       "<td>3.24.0.5</td></tr>\n",
       "<tr><td>H2O cluster version age:</td>\n",
       "<td>28 days, 13 hours and 4 minutes </td></tr>\n",
       "<tr><td>H2O cluster name:</td>\n",
       "<td>H2O_from_python_mikec_4lnfa3</td></tr>\n",
       "<tr><td>H2O cluster total nodes:</td>\n",
       "<td>1</td></tr>\n",
       "<tr><td>H2O cluster free memory:</td>\n",
       "<td>1.752 Gb</td></tr>\n",
       "<tr><td>H2O cluster total cores:</td>\n",
       "<td>8</td></tr>\n",
       "<tr><td>H2O cluster allowed cores:</td>\n",
       "<td>8</td></tr>\n",
       "<tr><td>H2O cluster status:</td>\n",
       "<td>accepting new members, healthy</td></tr>\n",
       "<tr><td>H2O connection url:</td>\n",
       "<td>http://127.0.0.1:54321</td></tr>\n",
       "<tr><td>H2O connection proxy:</td>\n",
       "<td>None</td></tr>\n",
       "<tr><td>H2O internal security:</td>\n",
       "<td>False</td></tr>\n",
       "<tr><td>H2O API Extensions:</td>\n",
       "<td>Amazon S3, Algos, AutoML, Core V3, Core V4</td></tr>\n",
       "<tr><td>Python version:</td>\n",
       "<td>3.7.3 final</td></tr></table></div>"
      ],
      "text/plain": [
       "--------------------------  ------------------------------------------\n",
       "H2O cluster uptime:         02 secs\n",
       "H2O cluster timezone:       Europe/Berlin\n",
       "H2O data parsing timezone:  UTC\n",
       "H2O cluster version:        3.24.0.5\n",
       "H2O cluster version age:    28 days, 13 hours and 4 minutes\n",
       "H2O cluster name:           H2O_from_python_mikec_4lnfa3\n",
       "H2O cluster total nodes:    1\n",
       "H2O cluster free memory:    1.752 Gb\n",
       "H2O cluster total cores:    8\n",
       "H2O cluster allowed cores:  8\n",
       "H2O cluster status:         accepting new members, healthy\n",
       "H2O connection url:         http://127.0.0.1:54321\n",
       "H2O connection proxy:\n",
       "H2O internal security:      False\n",
       "H2O API Extensions:         Amazon S3, Algos, AutoML, Core V3, Core V4\n",
       "Python version:             3.7.3 final\n",
       "--------------------------  ------------------------------------------"
      ]
     },
     "metadata": {},
     "output_type": "display_data"
    }
   ],
   "source": [
    "import pandas as pd\n",
    "import h2o\n",
    "h2o.init()\n",
    "from h2o.automl import H2OAutoML\n",
    "from sklearn import metrics"
   ]
  },
  {
   "cell_type": "code",
   "execution_count": 3,
   "metadata": {
    "scrolled": true
   },
   "outputs": [
    {
     "name": "stdout",
     "output_type": "stream",
     "text": [
      "Parse progress: |█████████████████████████████████████████████████████████| 100%\n",
      "Parse progress: |█████████████████████████████████████████████████████████| 100%\n",
      "Parse progress: |█████████████████████████████████████████████████████████| 100%\n",
      "Parse progress: |█████████████████████████████████████████████████████████| 100%\n"
     ]
    }
   ],
   "source": [
    "X_train = h2o.H2OFrame(pd.read_csv('C:\\\\Users\\\\mikec\\\\Documents\\\\UnivariateFeatures.csv'))\n",
    "y_train = h2o.H2OFrame(pd.read_csv('C:\\\\Users\\\\mikec\\\\Documents\\\\TrainLabels.csv'))\n",
    "X_test = h2o.H2OFrame(pd.read_csv('C:\\\\Users\\\\mikec\\\\Documents\\\\UnivariateFeaturesTest.csv'))\n",
    "y_test = h2o.H2OFrame(pd.read_csv('C:\\\\Users\\\\mikec\\\\Documents\\\\TestLabels.csv')) \n"
   ]
  },
  {
   "cell_type": "code",
   "execution_count": 4,
   "metadata": {
    "pycharm": {
     "name": "#%%\n"
    }
   },
   "outputs": [],
   "source": [
    "# preparing the train and test data sets\n",
    "# now convert tweet vecs and labels to a pandas dataframe and back to h2o dataframe\n",
    "# data = job_titles[valid_job_titles,:].cbind(job_title_vecs[valid_job_titles,:])\n",
    "train = X_train.cbind(y_train)\n",
    "test = X_test.cbind(y_test)\n"
   ]
  },
  {
   "cell_type": "code",
   "execution_count": 5,
   "metadata": {},
   "outputs": [],
   "source": [
    "# more on data prep\n",
    "x = train.columns         # x: A list/vector of predictor column names or indexes. \n",
    "                          # This argument only needs to be specified if the user wants to exclude columns from the \n",
    "                          # set of predictors. If all columns (other than the response) should be used in prediction, \n",
    "                          # then this does not need to be set.\n",
    "\n",
    "y = \"labels\"              # This argument is the name (or index) of the response column\n",
    "x.remove(y)\n",
    "\n",
    "# need to set train and test\n",
    "train[y] = train[y].asfactor()\n",
    "test[y] = test[y].asfactor()"
   ]
  },
  {
   "cell_type": "code",
   "execution_count": 6,
   "metadata": {},
   "outputs": [
    {
     "name": "stdout",
     "output_type": "stream",
     "text": [
      "AutoML progress: |████████████████████████████████████████████████████████| 100%\n"
     ]
    }
   ],
   "source": [
    "# now the AUTO-ML piece comes in\n",
    "aml = H2OAutoML(max_models=50, max_runtime_secs=7200) #max_models=10 or 20?, max_runtime_secs=3600\n",
    "aml.train(x=x, y=y, training_frame=train)"
   ]
  },
  {
   "cell_type": "code",
   "execution_count": 7,
   "metadata": {},
   "outputs": [
    {
     "data": {
      "text/html": [
       "<table>\n",
       "<thead>\n",
       "<tr><th>model_id                                           </th><th style=\"text-align: right;\">  mean_per_class_error</th><th style=\"text-align: right;\">  logloss</th><th style=\"text-align: right;\">    rmse</th><th style=\"text-align: right;\">     mse</th></tr>\n",
       "</thead>\n",
       "<tbody>\n",
       "<tr><td>DeepLearning_grid_1_AutoML_20190717_125621_model_2 </td><td style=\"text-align: right;\">              0.431079</td><td style=\"text-align: right;\"> 1.09107 </td><td style=\"text-align: right;\">0.484453</td><td style=\"text-align: right;\">0.234694</td></tr>\n",
       "<tr><td>DeepLearning_grid_1_AutoML_20190717_125621_model_15</td><td style=\"text-align: right;\">              0.474999</td><td style=\"text-align: right;\"> 0.602242</td><td style=\"text-align: right;\">0.404667</td><td style=\"text-align: right;\">0.163755</td></tr>\n",
       "<tr><td>DeepLearning_grid_1_AutoML_20190717_125621_model_7 </td><td style=\"text-align: right;\">              0.485857</td><td style=\"text-align: right;\"> 0.459047</td><td style=\"text-align: right;\">0.386341</td><td style=\"text-align: right;\">0.149259</td></tr>\n",
       "<tr><td>DeepLearning_grid_1_AutoML_20190717_125621_model_11</td><td style=\"text-align: right;\">              0.487591</td><td style=\"text-align: right;\"> 0.505001</td><td style=\"text-align: right;\">0.394459</td><td style=\"text-align: right;\">0.155598</td></tr>\n",
       "<tr><td>DeepLearning_1_AutoML_20190717_125621              </td><td style=\"text-align: right;\">              0.488949</td><td style=\"text-align: right;\"> 0.50868 </td><td style=\"text-align: right;\">0.405623</td><td style=\"text-align: right;\">0.16453 </td></tr>\n",
       "<tr><td>DeepLearning_grid_1_AutoML_20190717_125621_model_1 </td><td style=\"text-align: right;\">              0.492261</td><td style=\"text-align: right;\"> 0.669651</td><td style=\"text-align: right;\">0.393758</td><td style=\"text-align: right;\">0.155046</td></tr>\n",
       "<tr><td>GBM_grid_1_AutoML_20190717_125621_model_8          </td><td style=\"text-align: right;\">              0.494283</td><td style=\"text-align: right;\"> 1.1085  </td><td style=\"text-align: right;\">0.422584</td><td style=\"text-align: right;\">0.178578</td></tr>\n",
       "<tr><td>DeepLearning_grid_1_AutoML_20190717_125621_model_4 </td><td style=\"text-align: right;\">              0.49503 </td><td style=\"text-align: right;\"> 0.643155</td><td style=\"text-align: right;\">0.388122</td><td style=\"text-align: right;\">0.150639</td></tr>\n",
       "<tr><td>GBM_grid_1_AutoML_20190717_125621_model_17         </td><td style=\"text-align: right;\">              0.49529 </td><td style=\"text-align: right;\"> 0.458567</td><td style=\"text-align: right;\">0.379415</td><td style=\"text-align: right;\">0.143956</td></tr>\n",
       "<tr><td>StackedEnsemble_BestOfFamily_AutoML_20190717_125621</td><td style=\"text-align: right;\">              0.495475</td><td style=\"text-align: right;\"> 0.469143</td><td style=\"text-align: right;\">0.382715</td><td style=\"text-align: right;\">0.146471</td></tr>\n",
       "<tr><td>GBM_4_AutoML_20190717_125621                       </td><td style=\"text-align: right;\">              0.49583 </td><td style=\"text-align: right;\"> 0.449416</td><td style=\"text-align: right;\">0.37884 </td><td style=\"text-align: right;\">0.14352 </td></tr>\n",
       "<tr><td>GBM_2_AutoML_20190717_125621                       </td><td style=\"text-align: right;\">              0.496732</td><td style=\"text-align: right;\"> 0.444958</td><td style=\"text-align: right;\">0.377194</td><td style=\"text-align: right;\">0.142275</td></tr>\n",
       "<tr><td>GBM_grid_1_AutoML_20190717_125621_model_2          </td><td style=\"text-align: right;\">              0.498067</td><td style=\"text-align: right;\"> 0.452792</td><td style=\"text-align: right;\">0.379582</td><td style=\"text-align: right;\">0.144082</td></tr>\n",
       "<tr><td>DeepLearning_grid_1_AutoML_20190717_125621_model_10</td><td style=\"text-align: right;\">              0.500045</td><td style=\"text-align: right;\"> 0.463675</td><td style=\"text-align: right;\">0.380673</td><td style=\"text-align: right;\">0.144912</td></tr>\n",
       "<tr><td>GBM_3_AutoML_20190717_125621                       </td><td style=\"text-align: right;\">              0.500842</td><td style=\"text-align: right;\"> 0.448475</td><td style=\"text-align: right;\">0.379403</td><td style=\"text-align: right;\">0.143946</td></tr>\n",
       "<tr><td>GBM_grid_1_AutoML_20190717_125621_model_14         </td><td style=\"text-align: right;\">              0.50226 </td><td style=\"text-align: right;\"> 0.443875</td><td style=\"text-align: right;\">0.377213</td><td style=\"text-align: right;\">0.142289</td></tr>\n",
       "<tr><td>GBM_1_AutoML_20190717_125621                       </td><td style=\"text-align: right;\">              0.503477</td><td style=\"text-align: right;\"> 0.44603 </td><td style=\"text-align: right;\">0.377522</td><td style=\"text-align: right;\">0.142523</td></tr>\n",
       "<tr><td>DRF_1_AutoML_20190717_125621                       </td><td style=\"text-align: right;\">              0.503686</td><td style=\"text-align: right;\"> 0.642372</td><td style=\"text-align: right;\">0.383231</td><td style=\"text-align: right;\">0.146866</td></tr>\n",
       "<tr><td>GBM_grid_1_AutoML_20190717_125621_model_7          </td><td style=\"text-align: right;\">              0.504646</td><td style=\"text-align: right;\"> 0.444627</td><td style=\"text-align: right;\">0.377666</td><td style=\"text-align: right;\">0.142632</td></tr>\n",
       "<tr><td>GBM_grid_1_AutoML_20190717_125621_model_13         </td><td style=\"text-align: right;\">              0.506635</td><td style=\"text-align: right;\"> 0.493788</td><td style=\"text-align: right;\">0.400204</td><td style=\"text-align: right;\">0.160163</td></tr>\n",
       "<tr><td>DeepLearning_grid_1_AutoML_20190717_125621_model_3 </td><td style=\"text-align: right;\">              0.507189</td><td style=\"text-align: right;\"> 0.673998</td><td style=\"text-align: right;\">0.396844</td><td style=\"text-align: right;\">0.157485</td></tr>\n",
       "<tr><td>StackedEnsemble_AllModels_AutoML_20190717_125621   </td><td style=\"text-align: right;\">              0.508387</td><td style=\"text-align: right;\"> 0.451496</td><td style=\"text-align: right;\">0.379014</td><td style=\"text-align: right;\">0.143652</td></tr>\n",
       "<tr><td>DeepLearning_grid_1_AutoML_20190717_125621_model_9 </td><td style=\"text-align: right;\">              0.510984</td><td style=\"text-align: right;\"> 0.517227</td><td style=\"text-align: right;\">0.403661</td><td style=\"text-align: right;\">0.162942</td></tr>\n",
       "<tr><td>GBM_5_AutoML_20190717_125621                       </td><td style=\"text-align: right;\">              0.511682</td><td style=\"text-align: right;\"> 0.44447 </td><td style=\"text-align: right;\">0.377845</td><td style=\"text-align: right;\">0.142767</td></tr>\n",
       "<tr><td>GBM_grid_1_AutoML_20190717_125621_model_16         </td><td style=\"text-align: right;\">              0.512053</td><td style=\"text-align: right;\"> 0.443857</td><td style=\"text-align: right;\">0.377892</td><td style=\"text-align: right;\">0.142802</td></tr>\n",
       "<tr><td>GBM_grid_1_AutoML_20190717_125621_model_4          </td><td style=\"text-align: right;\">              0.512111</td><td style=\"text-align: right;\"> 0.441897</td><td style=\"text-align: right;\">0.376499</td><td style=\"text-align: right;\">0.141752</td></tr>\n",
       "<tr><td>GBM_grid_1_AutoML_20190717_125621_model_1          </td><td style=\"text-align: right;\">              0.512225</td><td style=\"text-align: right;\"> 0.442391</td><td style=\"text-align: right;\">0.376758</td><td style=\"text-align: right;\">0.141947</td></tr>\n",
       "<tr><td>DeepLearning_grid_1_AutoML_20190717_125621_model_5 </td><td style=\"text-align: right;\">              0.51697 </td><td style=\"text-align: right;\"> 0.621919</td><td style=\"text-align: right;\">0.390984</td><td style=\"text-align: right;\">0.152868</td></tr>\n",
       "<tr><td>GLM_grid_1_AutoML_20190717_125621_model_1          </td><td style=\"text-align: right;\">              0.521328</td><td style=\"text-align: right;\"> 0.452783</td><td style=\"text-align: right;\">0.3814  </td><td style=\"text-align: right;\">0.145466</td></tr>\n",
       "<tr><td>XRT_1_AutoML_20190717_125621                       </td><td style=\"text-align: right;\">              0.522859</td><td style=\"text-align: right;\"> 0.614279</td><td style=\"text-align: right;\">0.383514</td><td style=\"text-align: right;\">0.147083</td></tr>\n",
       "<tr><td>GBM_grid_1_AutoML_20190717_125621_model_12         </td><td style=\"text-align: right;\">              0.524086</td><td style=\"text-align: right;\"> 3.87805 </td><td style=\"text-align: right;\">0.491003</td><td style=\"text-align: right;\">0.241084</td></tr>\n",
       "<tr><td>GBM_grid_1_AutoML_20190717_125621_model_11         </td><td style=\"text-align: right;\">              0.528188</td><td style=\"text-align: right;\"> 0.494678</td><td style=\"text-align: right;\">0.401604</td><td style=\"text-align: right;\">0.161286</td></tr>\n",
       "<tr><td>DeepLearning_grid_1_AutoML_20190717_125621_model_6 </td><td style=\"text-align: right;\">              0.530883</td><td style=\"text-align: right;\"> 0.627355</td><td style=\"text-align: right;\">0.387177</td><td style=\"text-align: right;\">0.149906</td></tr>\n",
       "<tr><td>DeepLearning_grid_1_AutoML_20190717_125621_model_14</td><td style=\"text-align: right;\">              0.533206</td><td style=\"text-align: right;\"> 0.458712</td><td style=\"text-align: right;\">0.385855</td><td style=\"text-align: right;\">0.148884</td></tr>\n",
       "<tr><td>GBM_grid_1_AutoML_20190717_125621_model_15         </td><td style=\"text-align: right;\">              0.533762</td><td style=\"text-align: right;\"> 0.873406</td><td style=\"text-align: right;\">0.580767</td><td style=\"text-align: right;\">0.33729 </td></tr>\n",
       "<tr><td>DeepLearning_grid_1_AutoML_20190717_125621_model_12</td><td style=\"text-align: right;\">              0.548844</td><td style=\"text-align: right;\"> 0.465762</td><td style=\"text-align: right;\">0.386293</td><td style=\"text-align: right;\">0.149222</td></tr>\n",
       "<tr><td>DeepLearning_grid_1_AutoML_20190717_125621_model_8 </td><td style=\"text-align: right;\">              0.55586 </td><td style=\"text-align: right;\"> 0.459151</td><td style=\"text-align: right;\">0.382622</td><td style=\"text-align: right;\">0.1464  </td></tr>\n",
       "<tr><td>DeepLearning_grid_1_AutoML_20190717_125621_model_13</td><td style=\"text-align: right;\">              0.561356</td><td style=\"text-align: right;\"> 0.516262</td><td style=\"text-align: right;\">0.406093</td><td style=\"text-align: right;\">0.164912</td></tr>\n",
       "<tr><td>GBM_grid_1_AutoML_20190717_125621_model_3          </td><td style=\"text-align: right;\">              0.564937</td><td style=\"text-align: right;\"> 0.872566</td><td style=\"text-align: right;\">0.580346</td><td style=\"text-align: right;\">0.336802</td></tr>\n",
       "<tr><td>GBM_grid_1_AutoML_20190717_125621_model_10         </td><td style=\"text-align: right;\">              0.568133</td><td style=\"text-align: right;\"> 0.806006</td><td style=\"text-align: right;\">0.550784</td><td style=\"text-align: right;\">0.303363</td></tr>\n",
       "<tr><td>GBM_grid_1_AutoML_20190717_125621_model_6          </td><td style=\"text-align: right;\">              0.568573</td><td style=\"text-align: right;\"> 0.94846 </td><td style=\"text-align: right;\">0.611802</td><td style=\"text-align: right;\">0.374302</td></tr>\n",
       "<tr><td>GBM_grid_1_AutoML_20190717_125621_model_9          </td><td style=\"text-align: right;\">              0.580489</td><td style=\"text-align: right;\"> 0.879553</td><td style=\"text-align: right;\">0.58332 </td><td style=\"text-align: right;\">0.340262</td></tr>\n",
       "<tr><td>GBM_grid_1_AutoML_20190717_125621_model_5          </td><td style=\"text-align: right;\">              0.580718</td><td style=\"text-align: right;\"> 0.94966 </td><td style=\"text-align: right;\">0.612266</td><td style=\"text-align: right;\">0.37487 </td></tr>\n",
       "</tbody>\n",
       "</table>"
      ]
     },
     "metadata": {},
     "output_type": "display_data"
    },
    {
     "data": {
      "text/plain": []
     },
     "execution_count": 7,
     "metadata": {},
     "output_type": "execute_result"
    }
   ],
   "source": [
    "# View the AutoML Leaderboard\n",
    "lb = aml.leaderboard\n",
    "lb.head(rows=lb.nrows)  # Print all rows instead of default (10 rows)"
   ]
  },
  {
   "cell_type": "code",
   "execution_count": 8,
   "metadata": {},
   "outputs": [
    {
     "name": "stdout",
     "output_type": "stream",
     "text": [
      "Model Details\n",
      "=============\n",
      "H2ODeepLearningEstimator :  Deep Learning\n",
      "Model Key:  DeepLearning_grid_1_AutoML_20190717_125621_model_2\n",
      "\n",
      "\n",
      "ModelMetricsMultinomial: deeplearning\n",
      "** Reported on train data. **\n",
      "\n",
      "MSE: 0.17377026831159198\n",
      "RMSE: 0.4168576115553031\n",
      "LogLoss: 1.4312961490123934\n",
      "Mean Per-Class Error: 0.5266522892383726\n",
      "Confusion Matrix: Row labels: Actual class; Column labels: Predicted class\n",
      "\n"
     ]
    },
    {
     "data": {
      "text/html": [
       "<div style=\"overflow:auto\"><table style=\"width:50%\"><tr><td><b>0</b></td>\n",
       "<td><b>1</b></td>\n",
       "<td><b>2</b></td>\n",
       "<td><b>Error</b></td>\n",
       "<td><b>Rate</b></td></tr>\n",
       "<tr><td>104.0</td>\n",
       "<td>442.0</td>\n",
       "<td>29.0</td>\n",
       "<td>0.8191304</td>\n",
       "<td>471 / 575</td></tr>\n",
       "<tr><td>144.0</td>\n",
       "<td>7350.0</td>\n",
       "<td>294.0</td>\n",
       "<td>0.0562404</td>\n",
       "<td>438 / 7,788</td></tr>\n",
       "<tr><td>9.0</td>\n",
       "<td>1174.0</td>\n",
       "<td>496.0</td>\n",
       "<td>0.7045861</td>\n",
       "<td>1,183 / 1,679</td></tr>\n",
       "<tr><td>257.0</td>\n",
       "<td>8966.0</td>\n",
       "<td>819.0</td>\n",
       "<td>0.2083250</td>\n",
       "<td>2,092 / 10,042</td></tr></table></div>"
      ],
      "text/plain": [
       "0    1     2    Error      Rate\n",
       "---  ----  ---  ---------  --------------\n",
       "104  442   29   0.81913    471 / 575\n",
       "144  7350  294  0.0562404  438 / 7,788\n",
       "9    1174  496  0.704586   1,183 / 1,679\n",
       "257  8966  819  0.208325   2,092 / 10,042"
      ]
     },
     "metadata": {},
     "output_type": "display_data"
    },
    {
     "name": "stdout",
     "output_type": "stream",
     "text": [
      "Top-3 Hit Ratios: \n"
     ]
    },
    {
     "data": {
      "text/html": [
       "<div style=\"overflow:auto\"><table style=\"width:50%\"><tr><td><b>k</b></td>\n",
       "<td><b>hit_ratio</b></td></tr>\n",
       "<tr><td>1</td>\n",
       "<td>0.791675</td></tr>\n",
       "<tr><td>2</td>\n",
       "<td>0.972615</td></tr>\n",
       "<tr><td>3</td>\n",
       "<td>1.0</td></tr></table></div>"
      ],
      "text/plain": [
       "k    hit_ratio\n",
       "---  -----------\n",
       "1    0.791675\n",
       "2    0.972615\n",
       "3    1"
      ]
     },
     "metadata": {},
     "output_type": "display_data"
    },
    {
     "name": "stdout",
     "output_type": "stream",
     "text": [
      "\n",
      "ModelMetricsMultinomial: deeplearning\n",
      "** Reported on cross-validation data. **\n",
      "\n",
      "MSE: 0.23469449496396133\n",
      "RMSE: 0.48445277887938815\n",
      "LogLoss: 1.0910708130104996\n",
      "Mean Per-Class Error: 0.4310788398574703\n",
      "Confusion Matrix: Row labels: Actual class; Column labels: Predicted class\n",
      "\n"
     ]
    },
    {
     "data": {
      "text/html": [
       "<div style=\"overflow:auto\"><table style=\"width:50%\"><tr><td><b>0</b></td>\n",
       "<td><b>1</b></td>\n",
       "<td><b>2</b></td>\n",
       "<td><b>Error</b></td>\n",
       "<td><b>Rate</b></td></tr>\n",
       "<tr><td>244.0</td>\n",
       "<td>617.0</td>\n",
       "<td>279.0</td>\n",
       "<td>0.7859649</td>\n",
       "<td>896 / 1,140</td></tr>\n",
       "<tr><td>557.0</td>\n",
       "<td>10970.0</td>\n",
       "<td>3816.0</td>\n",
       "<td>0.2850160</td>\n",
       "<td>4,373 / 15,343</td></tr>\n",
       "<tr><td>78.0</td>\n",
       "<td>661.0</td>\n",
       "<td>2586.0</td>\n",
       "<td>0.2222556</td>\n",
       "<td>739 / 3,325</td></tr>\n",
       "<tr><td>879.0</td>\n",
       "<td>12248.0</td>\n",
       "<td>6681.0</td>\n",
       "<td>0.3033118</td>\n",
       "<td>6,008 / 19,808</td></tr></table></div>"
      ],
      "text/plain": [
       "0    1      2     Error     Rate\n",
       "---  -----  ----  --------  --------------\n",
       "244  617    279   0.785965  896 / 1,140\n",
       "557  10970  3816  0.285016  4,373 / 15,343\n",
       "78   661    2586  0.222256  739 / 3,325\n",
       "879  12248  6681  0.303312  6,008 / 19,808"
      ]
     },
     "metadata": {},
     "output_type": "display_data"
    },
    {
     "name": "stdout",
     "output_type": "stream",
     "text": [
      "Top-3 Hit Ratios: \n"
     ]
    },
    {
     "data": {
      "text/html": [
       "<div style=\"overflow:auto\"><table style=\"width:50%\"><tr><td><b>k</b></td>\n",
       "<td><b>hit_ratio</b></td></tr>\n",
       "<tr><td>1</td>\n",
       "<td>0.6966882</td></tr>\n",
       "<tr><td>2</td>\n",
       "<td>0.9503231</td></tr>\n",
       "<tr><td>3</td>\n",
       "<td>1.0</td></tr></table></div>"
      ],
      "text/plain": [
       "k    hit_ratio\n",
       "---  -----------\n",
       "1    0.696688\n",
       "2    0.950323\n",
       "3    1"
      ]
     },
     "metadata": {},
     "output_type": "display_data"
    },
    {
     "name": "stdout",
     "output_type": "stream",
     "text": [
      "Cross-Validation Metrics Summary: \n"
     ]
    },
    {
     "data": {
      "text/html": [
       "<div style=\"overflow:auto\"><table style=\"width:50%\"><tr><td><b></b></td>\n",
       "<td><b>mean</b></td>\n",
       "<td><b>sd</b></td>\n",
       "<td><b>cv_1_valid</b></td>\n",
       "<td><b>cv_2_valid</b></td>\n",
       "<td><b>cv_3_valid</b></td>\n",
       "<td><b>cv_4_valid</b></td>\n",
       "<td><b>cv_5_valid</b></td></tr>\n",
       "<tr><td>accuracy</td>\n",
       "<td>0.6966941</td>\n",
       "<td>0.0442103</td>\n",
       "<td>0.63579</td>\n",
       "<td>0.6236749</td>\n",
       "<td>0.7135285</td>\n",
       "<td>0.7962636</td>\n",
       "<td>0.7142136</td></tr>\n",
       "<tr><td>err</td>\n",
       "<td>0.3033059</td>\n",
       "<td>0.0442103</td>\n",
       "<td>0.36421</td>\n",
       "<td>0.3763251</td>\n",
       "<td>0.2864715</td>\n",
       "<td>0.2037364</td>\n",
       "<td>0.2857864</td></tr>\n",
       "<tr><td>err_count</td>\n",
       "<td>1201.6</td>\n",
       "<td>175.21849</td>\n",
       "<td>1443.0</td>\n",
       "<td>1491.0</td>\n",
       "<td>1135.0</td>\n",
       "<td>807.0</td>\n",
       "<td>1132.0</td></tr>\n",
       "<tr><td>logloss</td>\n",
       "<td>1.0910451</td>\n",
       "<td>0.2530379</td>\n",
       "<td>1.7553008</td>\n",
       "<td>1.177113</td>\n",
       "<td>0.8485351</td>\n",
       "<td>0.7930341</td>\n",
       "<td>0.8812428</td></tr>\n",
       "<tr><td>max_per_class_error</td>\n",
       "<td>0.7866307</td>\n",
       "<td>0.0793113</td>\n",
       "<td>0.7359307</td>\n",
       "<td>0.6017699</td>\n",
       "<td>0.9363636</td>\n",
       "<td>0.8348214</td>\n",
       "<td>0.8242678</td></tr>\n",
       "<tr><td>mean_per_class_accuracy</td>\n",
       "<td>0.5708607</td>\n",
       "<td>0.0287586</td>\n",
       "<td>0.6047033</td>\n",
       "<td>0.6148692</td>\n",
       "<td>0.5424375</td>\n",
       "<td>0.5064032</td>\n",
       "<td>0.5858901</td></tr>\n",
       "<tr><td>mean_per_class_error</td>\n",
       "<td>0.4291393</td>\n",
       "<td>0.0287586</td>\n",
       "<td>0.3952967</td>\n",
       "<td>0.3851309</td>\n",
       "<td>0.4575625</td>\n",
       "<td>0.4935968</td>\n",
       "<td>0.4141099</td></tr>\n",
       "<tr><td>mse</td>\n",
       "<td>0.2346891</td>\n",
       "<td>0.0464246</td>\n",
       "<td>0.3351980</td>\n",
       "<td>0.2873378</td>\n",
       "<td>0.1882117</td>\n",
       "<td>0.1610014</td>\n",
       "<td>0.2016966</td></tr>\n",
       "<tr><td>r2</td>\n",
       "<td>-0.1054955</td>\n",
       "<td>0.2283284</td>\n",
       "<td>-0.5783668</td>\n",
       "<td>-0.3931050</td>\n",
       "<td>0.1011164</td>\n",
       "<td>0.2687492</td>\n",
       "<td>0.0741284</td></tr>\n",
       "<tr><td>rmse</td>\n",
       "<td>0.4798384</td>\n",
       "<td>0.0471394</td>\n",
       "<td>0.5789629</td>\n",
       "<td>0.5360389</td>\n",
       "<td>0.4338338</td>\n",
       "<td>0.4012498</td>\n",
       "<td>0.4491065</td></tr></table></div>"
      ],
      "text/plain": [
       "                         mean       sd         cv_1_valid    cv_2_valid    cv_3_valid    cv_4_valid    cv_5_valid\n",
       "-----------------------  ---------  ---------  ------------  ------------  ------------  ------------  ------------\n",
       "accuracy                 0.696694   0.0442103  0.63579       0.623675      0.713529      0.796264      0.714214\n",
       "err                      0.303306   0.0442103  0.36421       0.376325      0.286471      0.203736      0.285786\n",
       "err_count                1201.6     175.218    1443          1491          1135          807           1132\n",
       "logloss                  1.09105    0.253038   1.7553        1.17711       0.848535      0.793034      0.881243\n",
       "max_per_class_error      0.786631   0.0793113  0.735931      0.60177       0.936364      0.834821      0.824268\n",
       "mean_per_class_accuracy  0.570861   0.0287586  0.604703      0.614869      0.542438      0.506403      0.58589\n",
       "mean_per_class_error     0.429139   0.0287586  0.395297      0.385131      0.457563      0.493597      0.41411\n",
       "mse                      0.234689   0.0464246  0.335198      0.287338      0.188212      0.161001      0.201697\n",
       "r2                       -0.105496  0.228328   -0.578367     -0.393105     0.101116      0.268749      0.0741284\n",
       "rmse                     0.479838   0.0471394  0.578963      0.536039      0.433834      0.40125       0.449106"
      ]
     },
     "metadata": {},
     "output_type": "display_data"
    },
    {
     "name": "stdout",
     "output_type": "stream",
     "text": [
      "Scoring History: \n"
     ]
    },
    {
     "data": {
      "text/html": [
       "<div style=\"overflow:auto\"><table style=\"width:50%\"><tr><td><b></b></td>\n",
       "<td><b>timestamp</b></td>\n",
       "<td><b>duration</b></td>\n",
       "<td><b>training_speed</b></td>\n",
       "<td><b>epochs</b></td>\n",
       "<td><b>iterations</b></td>\n",
       "<td><b>samples</b></td>\n",
       "<td><b>training_rmse</b></td>\n",
       "<td><b>training_logloss</b></td>\n",
       "<td><b>training_r2</b></td>\n",
       "<td><b>training_classification_error</b></td></tr>\n",
       "<tr><td></td>\n",
       "<td>2019-07-17 13:17:06</td>\n",
       "<td> 0.000 sec</td>\n",
       "<td>None</td>\n",
       "<td>0.0</td>\n",
       "<td>0</td>\n",
       "<td>0.0</td>\n",
       "<td>nan</td>\n",
       "<td>nan</td>\n",
       "<td>nan</td>\n",
       "<td>nan</td></tr>\n",
       "<tr><td></td>\n",
       "<td>2019-07-17 13:17:18</td>\n",
       "<td> 9 min 25.221 sec</td>\n",
       "<td>7371 obs/sec</td>\n",
       "<td>4.4472435</td>\n",
       "<td>1</td>\n",
       "<td>88091.0</td>\n",
       "<td>0.4102250</td>\n",
       "<td>0.8373727</td>\n",
       "<td>0.2075912</td>\n",
       "<td>0.1952798</td></tr>\n",
       "<tr><td></td>\n",
       "<td>2019-07-17 13:17:27</td>\n",
       "<td> 9 min 33.656 sec</td>\n",
       "<td>8680 obs/sec</td>\n",
       "<td>8.8844911</td>\n",
       "<td>2</td>\n",
       "<td>175984.0</td>\n",
       "<td>0.4127430</td>\n",
       "<td>0.9308020</td>\n",
       "<td>0.1978333</td>\n",
       "<td>0.1919936</td></tr>\n",
       "<tr><td></td>\n",
       "<td>2019-07-17 13:17:35</td>\n",
       "<td> 9 min 41.966 sec</td>\n",
       "<td>9278 obs/sec</td>\n",
       "<td>13.3345113</td>\n",
       "<td>3</td>\n",
       "<td>264130.0</td>\n",
       "<td>0.4132787</td>\n",
       "<td>0.9134517</td>\n",
       "<td>0.1957500</td>\n",
       "<td>0.2056363</td></tr>\n",
       "<tr><td></td>\n",
       "<td>2019-07-17 13:17:43</td>\n",
       "<td> 9 min 50.353 sec</td>\n",
       "<td>9585 obs/sec</td>\n",
       "<td>17.7818558</td>\n",
       "<td>4</td>\n",
       "<td>352223.0</td>\n",
       "<td>0.4025072</td>\n",
       "<td>0.8315833</td>\n",
       "<td>0.2371266</td>\n",
       "<td>0.1975702</td></tr>\n",
       "<tr><td></td>\n",
       "<td>2019-07-17 13:17:52</td>\n",
       "<td> 9 min 58.773 sec</td>\n",
       "<td>9770 obs/sec</td>\n",
       "<td>22.2216781</td>\n",
       "<td>5</td>\n",
       "<td>440167.0</td>\n",
       "<td>0.4394086</td>\n",
       "<td>1.3855337</td>\n",
       "<td>0.0908360</td>\n",
       "<td>0.2018522</td></tr>\n",
       "<tr><td></td>\n",
       "<td>2019-07-17 13:18:00</td>\n",
       "<td>10 min  7.138 sec</td>\n",
       "<td>9911 obs/sec</td>\n",
       "<td>26.6646305</td>\n",
       "<td>6</td>\n",
       "<td>528173.0</td>\n",
       "<td>0.4366449</td>\n",
       "<td>1.2978832</td>\n",
       "<td>0.1022366</td>\n",
       "<td>0.2009560</td></tr>\n",
       "<tr><td></td>\n",
       "<td>2019-07-17 13:18:08</td>\n",
       "<td>10 min 15.427 sec</td>\n",
       "<td>10023 obs/sec</td>\n",
       "<td>31.0979907</td>\n",
       "<td>7</td>\n",
       "<td>615989.0</td>\n",
       "<td>0.4206748</td>\n",
       "<td>1.2953063</td>\n",
       "<td>0.1667062</td>\n",
       "<td>0.1904999</td></tr>\n",
       "<tr><td></td>\n",
       "<td>2019-07-17 13:18:17</td>\n",
       "<td>10 min 23.735 sec</td>\n",
       "<td>10107 obs/sec</td>\n",
       "<td>35.5378635</td>\n",
       "<td>8</td>\n",
       "<td>703934.0</td>\n",
       "<td>0.4094933</td>\n",
       "<td>0.9287643</td>\n",
       "<td>0.2104155</td>\n",
       "<td>0.1953794</td></tr>\n",
       "<tr><td></td>\n",
       "<td>2019-07-17 13:18:25</td>\n",
       "<td>10 min 32.108 sec</td>\n",
       "<td>10165 obs/sec</td>\n",
       "<td>39.9769285</td>\n",
       "<td>9</td>\n",
       "<td>791863.0</td>\n",
       "<td>0.4498225</td>\n",
       "<td>0.9604203</td>\n",
       "<td>0.0472313</td>\n",
       "<td>0.2766381</td></tr>\n",
       "<tr><td></td>\n",
       "<td>2019-07-17 13:18:33</td>\n",
       "<td>10 min 40.409 sec</td>\n",
       "<td>10222 obs/sec</td>\n",
       "<td>44.4265953</td>\n",
       "<td>10</td>\n",
       "<td>880002.0</td>\n",
       "<td>0.4016673</td>\n",
       "<td>0.9883671</td>\n",
       "<td>0.2403072</td>\n",
       "<td>0.1939853</td></tr>\n",
       "<tr><td></td>\n",
       "<td>2019-07-17 13:18:42</td>\n",
       "<td>10 min 48.748 sec</td>\n",
       "<td>10263 obs/sec</td>\n",
       "<td>48.8683360</td>\n",
       "<td>11</td>\n",
       "<td>967984.0</td>\n",
       "<td>0.4168576</td>\n",
       "<td>1.4312961</td>\n",
       "<td>0.1817603</td>\n",
       "<td>0.2083250</td></tr></table></div>"
      ],
      "text/plain": [
       "    timestamp            duration           training_speed    epochs    iterations    samples    training_rmse    training_logloss    training_r2    training_classification_error\n",
       "--  -------------------  -----------------  ----------------  --------  ------------  ---------  ---------------  ------------------  -------------  -------------------------------\n",
       "    2019-07-17 13:17:06  0.000 sec                            0         0             0          nan              nan                 nan            nan\n",
       "    2019-07-17 13:17:18  9 min 25.221 sec   7371 obs/sec      4.44724   1             88091      0.410225         0.837373            0.207591       0.19528\n",
       "    2019-07-17 13:17:27  9 min 33.656 sec   8680 obs/sec      8.88449   2             175984     0.412743         0.930802            0.197833       0.191994\n",
       "    2019-07-17 13:17:35  9 min 41.966 sec   9278 obs/sec      13.3345   3             264130     0.413279         0.913452            0.19575        0.205636\n",
       "    2019-07-17 13:17:43  9 min 50.353 sec   9585 obs/sec      17.7819   4             352223     0.402507         0.831583            0.237127       0.19757\n",
       "    2019-07-17 13:17:52  9 min 58.773 sec   9770 obs/sec      22.2217   5             440167     0.439409         1.38553             0.090836       0.201852\n",
       "    2019-07-17 13:18:00  10 min  7.138 sec  9911 obs/sec      26.6646   6             528173     0.436645         1.29788             0.102237       0.200956\n",
       "    2019-07-17 13:18:08  10 min 15.427 sec  10023 obs/sec     31.098    7             615989     0.420675         1.29531             0.166706       0.1905\n",
       "    2019-07-17 13:18:17  10 min 23.735 sec  10107 obs/sec     35.5379   8             703934     0.409493         0.928764            0.210416       0.195379\n",
       "    2019-07-17 13:18:25  10 min 32.108 sec  10165 obs/sec     39.9769   9             791863     0.449823         0.96042             0.0472313      0.276638\n",
       "    2019-07-17 13:18:33  10 min 40.409 sec  10222 obs/sec     44.4266   10            880002     0.401667         0.988367            0.240307       0.193985\n",
       "    2019-07-17 13:18:42  10 min 48.748 sec  10263 obs/sec     48.8683   11            967984     0.416858         1.4313              0.18176        0.208325"
      ]
     },
     "metadata": {},
     "output_type": "display_data"
    },
    {
     "name": "stdout",
     "output_type": "stream",
     "text": [
      "Variable Importances: \n"
     ]
    },
    {
     "data": {
      "text/html": [
       "<div style=\"overflow:auto\"><table style=\"width:50%\"><tr><td><b>variable</b></td>\n",
       "<td><b>relative_importance</b></td>\n",
       "<td><b>scaled_importance</b></td>\n",
       "<td><b>percentage</b></td></tr>\n",
       "<tr><td>h _tc</td>\n",
       "<td>1.0</td>\n",
       "<td>1.0</td>\n",
       "<td>0.0135505</td></tr>\n",
       "<tr><td>sentiment</td>\n",
       "<td>0.9759458</td>\n",
       "<td>0.9759458</td>\n",
       "<td>0.0132245</td></tr>\n",
       "<tr><td>ra_nc</td>\n",
       "<td>0.9508978</td>\n",
       "<td>0.9508978</td>\n",
       "<td>0.0128851</td></tr>\n",
       "<tr><td>bird_tw</td>\n",
       "<td>0.9192936</td>\n",
       "<td>0.9192936</td>\n",
       "<td>0.0124569</td></tr>\n",
       "<tr><td>it_tc</td>\n",
       "<td>0.9004003</td>\n",
       "<td>0.9004003</td>\n",
       "<td>0.0122009</td></tr>\n",
       "<tr><td>---</td>\n",
       "<td>---</td>\n",
       "<td>---</td>\n",
       "<td>---</td></tr>\n",
       "<tr><td>rash_tc</td>\n",
       "<td>0.5514030</td>\n",
       "<td>0.5514030</td>\n",
       "<td>0.0074718</td></tr>\n",
       "<tr><td>tra_nc</td>\n",
       "<td>0.5472590</td>\n",
       "<td>0.5472590</td>\n",
       "<td>0.0074156</td></tr>\n",
       "<tr><td>ash _tc</td>\n",
       "<td>0.5436653</td>\n",
       "<td>0.5436653</td>\n",
       "<td>0.0073669</td></tr>\n",
       "<tr><td> tra_tc</td>\n",
       "<td>0.5125073</td>\n",
       "<td>0.5125073</td>\n",
       "<td>0.0069447</td></tr>\n",
       "<tr><td> tra_nc</td>\n",
       "<td>0.4947400</td>\n",
       "<td>0.4947400</td>\n",
       "<td>0.0067040</td></tr></table></div>"
      ],
      "text/plain": [
       "variable    relative_importance    scaled_importance    percentage\n",
       "----------  ---------------------  -------------------  --------------------\n",
       "h _tc       1.0                    1.0                  0.013550482064732245\n",
       "sentiment   0.9759458303451538     0.9759458303451538   0.013224536470242226\n",
       "ra_nc       0.950897753238678      0.950897753238678    0.012885122950654894\n",
       "bird_tw     0.9192936420440674     0.9192936420440674   0.01245687200874052\n",
       "it_tc       0.9004003405570984     0.9004003405570984   0.012200858665797768\n",
       "---         ---                    ---                  ---\n",
       "rash_tc     0.5514029860496521     0.5514029860496521   0.007471776272905615\n",
       "tra_nc      0.5472589731216431     0.5472589731216431   0.00741562290004861\n",
       "ash _tc     0.5436652898788452     0.5436652898788452   0.007366926759720749\n",
       "tra_tc      0.5125072598457336     0.5125072598457336   0.006944720432584682\n",
       "tra_nc      0.49474000930786133    0.49474000930786133  0.006703965622831639"
      ]
     },
     "metadata": {},
     "output_type": "display_data"
    },
    {
     "name": "stdout",
     "output_type": "stream",
     "text": [
      "\n",
      "See the whole table with table.as_data_frame()\n"
     ]
    },
    {
     "data": {
      "text/plain": []
     },
     "execution_count": 8,
     "metadata": {},
     "output_type": "execute_result"
    }
   ],
   "source": [
    "# The leader model is stored here\n",
    "aml.leader"
   ]
  },
  {
   "cell_type": "code",
   "execution_count": 9,
   "metadata": {},
   "outputs": [
    {
     "name": "stdout",
     "output_type": "stream",
     "text": [
      "deeplearning prediction progress: |███████████████████████████████████████| 100%\n"
     ]
    },
    {
     "data": {
      "text/html": [
       "<table>\n",
       "<thead>\n",
       "<tr><th style=\"text-align: right;\">  predict</th><th style=\"text-align: right;\">          p0</th><th style=\"text-align: right;\">         p1</th><th style=\"text-align: right;\">         p2</th></tr>\n",
       "</thead>\n",
       "<tbody>\n",
       "<tr><td style=\"text-align: right;\">        0</td><td style=\"text-align: right;\">1           </td><td style=\"text-align: right;\">1.79288e-76</td><td style=\"text-align: right;\">1.3688e-35 </td></tr>\n",
       "<tr><td style=\"text-align: right;\">        1</td><td style=\"text-align: right;\">3.21522e-62 </td><td style=\"text-align: right;\">1          </td><td style=\"text-align: right;\">3.26164e-16</td></tr>\n",
       "<tr><td style=\"text-align: right;\">        0</td><td style=\"text-align: right;\">1           </td><td style=\"text-align: right;\">1.74052e-65</td><td style=\"text-align: right;\">5.80662e-37</td></tr>\n",
       "<tr><td style=\"text-align: right;\">        2</td><td style=\"text-align: right;\">2.0136e-44  </td><td style=\"text-align: right;\">2.55895e-05</td><td style=\"text-align: right;\">0.999974   </td></tr>\n",
       "<tr><td style=\"text-align: right;\">        0</td><td style=\"text-align: right;\">1           </td><td style=\"text-align: right;\">3.60704e-70</td><td style=\"text-align: right;\">5.20002e-37</td></tr>\n",
       "<tr><td style=\"text-align: right;\">        0</td><td style=\"text-align: right;\">1           </td><td style=\"text-align: right;\">5.68314e-61</td><td style=\"text-align: right;\">9.50122e-43</td></tr>\n",
       "<tr><td style=\"text-align: right;\">        1</td><td style=\"text-align: right;\">1.07561e-151</td><td style=\"text-align: right;\">1          </td><td style=\"text-align: right;\">2.37255e-13</td></tr>\n",
       "<tr><td style=\"text-align: right;\">        2</td><td style=\"text-align: right;\">1.68638e-62 </td><td style=\"text-align: right;\">8.34357e-09</td><td style=\"text-align: right;\">1          </td></tr>\n",
       "<tr><td style=\"text-align: right;\">        0</td><td style=\"text-align: right;\">1           </td><td style=\"text-align: right;\">1.67438e-10</td><td style=\"text-align: right;\">2.58671e-10</td></tr>\n",
       "<tr><td style=\"text-align: right;\">        1</td><td style=\"text-align: right;\">1.47424e-44 </td><td style=\"text-align: right;\">0.998873   </td><td style=\"text-align: right;\">0.00112678 </td></tr>\n",
       "</tbody>\n",
       "</table>"
      ]
     },
     "metadata": {},
     "output_type": "display_data"
    },
    {
     "name": "stdout",
     "output_type": "stream",
     "text": [
      "\n"
     ]
    }
   ],
   "source": [
    "preds = aml.predict(test)\n",
    "print(preds)"
   ]
  },
  {
   "cell_type": "code",
   "execution_count": 10,
   "metadata": {},
   "outputs": [
    {
     "data": {
      "text/html": [
       "<table>\n",
       "<thead>\n",
       "<tr><th style=\"text-align: right;\">  predict</th><th style=\"text-align: right;\">  labels</th></tr>\n",
       "</thead>\n",
       "<tbody>\n",
       "<tr><td style=\"text-align: right;\">        0</td><td style=\"text-align: right;\">       2</td></tr>\n",
       "<tr><td style=\"text-align: right;\">        1</td><td style=\"text-align: right;\">       1</td></tr>\n",
       "<tr><td style=\"text-align: right;\">        0</td><td style=\"text-align: right;\">       2</td></tr>\n",
       "<tr><td style=\"text-align: right;\">        2</td><td style=\"text-align: right;\">       1</td></tr>\n",
       "<tr><td style=\"text-align: right;\">        0</td><td style=\"text-align: right;\">       1</td></tr>\n",
       "<tr><td style=\"text-align: right;\">        0</td><td style=\"text-align: right;\">       2</td></tr>\n",
       "<tr><td style=\"text-align: right;\">        1</td><td style=\"text-align: right;\">       1</td></tr>\n",
       "<tr><td style=\"text-align: right;\">        2</td><td style=\"text-align: right;\">       1</td></tr>\n",
       "<tr><td style=\"text-align: right;\">        0</td><td style=\"text-align: right;\">       2</td></tr>\n",
       "<tr><td style=\"text-align: right;\">        1</td><td style=\"text-align: right;\">       1</td></tr>\n",
       "</tbody>\n",
       "</table>"
      ]
     },
     "metadata": {},
     "output_type": "display_data"
    },
    {
     "name": "stdout",
     "output_type": "stream",
     "text": [
      "\n"
     ]
    }
   ],
   "source": [
    "var = preds[\"predict\"].cbind(test[y])\n",
    "print(var)"
   ]
  },
  {
   "cell_type": "code",
   "execution_count": 11,
   "metadata": {},
   "outputs": [
    {
     "name": "stdout",
     "output_type": "stream",
     "text": [
      "[[ 136  101   48]\n",
      " [ 807 1972 1057]\n",
      " [ 446  233  152]]\n",
      "0.45638126009693053\n"
     ]
    }
   ],
   "source": [
    "# convert to pandas dataframe\n",
    "y_test = h2o.as_list(test[y], use_pandas=True)\n",
    "y_pred = h2o.as_list(preds[\"predict\"])\n",
    "print(metrics.confusion_matrix(y_test, y_pred))\n",
    "print(metrics.accuracy_score(y_test, y_pred))"
   ]
  },
  {
   "cell_type": "code",
   "execution_count": null,
   "metadata": {},
   "outputs": [],
   "source": []
  }
 ],
 "metadata": {
  "kernelspec": {
   "display_name": "Python 3",
   "language": "python",
   "name": "python3"
  },
  "language_info": {
   "codemirror_mode": {
    "name": "ipython",
    "version": 3
   },
   "file_extension": ".py",
   "mimetype": "text/x-python",
   "name": "python",
   "nbconvert_exporter": "python",
   "pygments_lexer": "ipython3",
   "version": "3.7.3"
  },
  "pycharm": {
   "stem_cell": {
    "cell_type": "raw",
    "metadata": {
     "collapsed": false
    },
    "source": []
   }
  }
 },
 "nbformat": 4,
 "nbformat_minor": 2
}
