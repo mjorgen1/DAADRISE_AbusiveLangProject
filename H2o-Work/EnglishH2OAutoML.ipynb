{
 "cells": [
  {
   "cell_type": "code",
   "execution_count": 1,
   "metadata": {
    "pycharm": {
     "is_executing": false,
     "name": "#%%\n"
    }
   },
   "outputs": [
    {
     "name": "stdout",
     "output_type": "stream",
     "text": [
      "C:\\Users\\mikec\\Codes\\DAADRISE_AbusiveLangProject\\featureSelection\n"
     ]
    }
   ],
   "source": [
    "# Change the directory path\n",
    "%cd ../featureSelection/"
   ]
  },
  {
   "cell_type": "code",
   "execution_count": 2,
   "metadata": {
    "pycharm": {
     "is_executing": false
    }
   },
   "outputs": [
    {
     "name": "stdout",
     "output_type": "stream",
     "text": [
      "Checking whether there is an H2O instance running at http://localhost:54321 ..... not found.\n",
      "Attempting to start a local H2O server...\n",
      "; Java HotSpot(TM) 64-Bit Server VM (build 25.211-b12, mixed mode)\n",
      "  Starting server from C:\\Users\\mikec\\AppData\\Local\\Programs\\Python\\Python37\\lib\\site-packages\\h2o\\backend\\bin\\h2o.jar\n",
      "  Ice root: C:\\Users\\mikec\\AppData\\Local\\Temp\\tmpl2rn4een\n",
      "  JVM stdout: C:\\Users\\mikec\\AppData\\Local\\Temp\\tmpl2rn4een\\h2o_mikec_started_from_python.out\n",
      "  JVM stderr: C:\\Users\\mikec\\AppData\\Local\\Temp\\tmpl2rn4een\\h2o_mikec_started_from_python.err\n",
      "  Server is running at http://127.0.0.1:54321\n",
      "Connecting to H2O server at http://127.0.0.1:54321 ... successful.\n"
     ]
    },
    {
     "data": {
      "text/html": [
       "<div style=\"overflow:auto\"><table style=\"width:50%\"><tr><td>H2O cluster uptime:</td>\n",
       "<td>03 secs</td></tr>\n",
       "<tr><td>H2O cluster timezone:</td>\n",
       "<td>Europe/Berlin</td></tr>\n",
       "<tr><td>H2O data parsing timezone:</td>\n",
       "<td>UTC</td></tr>\n",
       "<tr><td>H2O cluster version:</td>\n",
       "<td>3.24.0.5</td></tr>\n",
       "<tr><td>H2O cluster version age:</td>\n",
       "<td>29 days </td></tr>\n",
       "<tr><td>H2O cluster name:</td>\n",
       "<td>H2O_from_python_mikec_7z5ncz</td></tr>\n",
       "<tr><td>H2O cluster total nodes:</td>\n",
       "<td>1</td></tr>\n",
       "<tr><td>H2O cluster free memory:</td>\n",
       "<td>1.752 Gb</td></tr>\n",
       "<tr><td>H2O cluster total cores:</td>\n",
       "<td>0</td></tr>\n",
       "<tr><td>H2O cluster allowed cores:</td>\n",
       "<td>0</td></tr>\n",
       "<tr><td>H2O cluster status:</td>\n",
       "<td>accepting new members, healthy</td></tr>\n",
       "<tr><td>H2O connection url:</td>\n",
       "<td>http://127.0.0.1:54321</td></tr>\n",
       "<tr><td>H2O connection proxy:</td>\n",
       "<td>None</td></tr>\n",
       "<tr><td>H2O internal security:</td>\n",
       "<td>False</td></tr>\n",
       "<tr><td>H2O API Extensions:</td>\n",
       "<td>Amazon S3, Algos, AutoML, Core V3, Core V4</td></tr>\n",
       "<tr><td>Python version:</td>\n",
       "<td>3.7.3 final</td></tr></table></div>"
      ],
      "text/plain": [
       "--------------------------  ------------------------------------------\n",
       "H2O cluster uptime:         03 secs\n",
       "H2O cluster timezone:       Europe/Berlin\n",
       "H2O data parsing timezone:  UTC\n",
       "H2O cluster version:        3.24.0.5\n",
       "H2O cluster version age:    29 days\n",
       "H2O cluster name:           H2O_from_python_mikec_7z5ncz\n",
       "H2O cluster total nodes:    1\n",
       "H2O cluster free memory:    1.752 Gb\n",
       "H2O cluster total cores:    0\n",
       "H2O cluster allowed cores:  0\n",
       "H2O cluster status:         accepting new members, healthy\n",
       "H2O connection url:         http://127.0.0.1:54321\n",
       "H2O connection proxy:\n",
       "H2O internal security:      False\n",
       "H2O API Extensions:         Amazon S3, Algos, AutoML, Core V3, Core V4\n",
       "Python version:             3.7.3 final\n",
       "--------------------------  ------------------------------------------"
      ]
     },
     "metadata": {},
     "output_type": "display_data"
    }
   ],
   "source": [
    "import pandas as pd\n",
    "import h2o\n",
    "h2o.init()\n",
    "from h2o.automl import H2OAutoML\n",
    "from sklearn import metrics"
   ]
  },
  {
   "cell_type": "code",
   "execution_count": 3,
   "metadata": {
    "scrolled": true
   },
   "outputs": [
    {
     "name": "stdout",
     "output_type": "stream",
     "text": [
      "Parse progress: |█████████████████████████████████████████████████████████| 100%\n",
      "Parse progress: |█████████████████████████████████████████████████████████| 100%\n",
      "Parse progress: |█████████████████████████████████████████████████████████| 100%\n",
      "Parse progress: |█████████████████████████████████████████████████████████| 100%\n"
     ]
    }
   ],
   "source": [
    "X_train = h2o.H2OFrame(pd.read_csv('C:\\\\Users\\\\mikec\\\\Documents\\\\ImportanceFeatures_500.csv'))\n",
    "y_train = h2o.H2OFrame(pd.read_csv('C:\\\\Users\\\\mikec\\\\Documents\\\\TrainLabels.csv'))\n",
    "X_test = h2o.H2OFrame(pd.read_csv('C:\\\\Users\\\\mikec\\\\Documents\\\\ImportanceFeaturesTest_500.csv'))\n",
    "y_test = h2o.H2OFrame(pd.read_csv('C:\\\\Users\\\\mikec\\\\Documents\\\\TestLabels.csv')) \n"
   ]
  },
  {
   "cell_type": "code",
   "execution_count": 4,
   "metadata": {
    "pycharm": {
     "name": "#%%\n"
    }
   },
   "outputs": [],
   "source": [
    "# preparing the train and test data sets\n",
    "# now convert tweet vecs and labels to a pandas dataframe and back to h2o dataframe\n",
    "# data = job_titles[valid_job_titles,:].cbind(job_title_vecs[valid_job_titles,:])\n",
    "train = X_train.cbind(y_train)\n",
    "test = X_test.cbind(y_test)\n"
   ]
  },
  {
   "cell_type": "code",
   "execution_count": 5,
   "metadata": {},
   "outputs": [],
   "source": [
    "# more on data prep\n",
    "x = train.columns         # x: A list/vector of predictor column names or indexes. \n",
    "                          # This argument only needs to be specified if the user wants to exclude columns from the \n",
    "                          # set of predictors. If all columns (other than the response) should be used in prediction, \n",
    "                          # then this does not need to be set.\n",
    "\n",
    "y = \"labels\"              # This argument is the name (or index) of the response column\n",
    "x.remove(y)\n",
    "\n",
    "# need to set train and test\n",
    "train[y] = train[y].asfactor()\n",
    "test[y] = test[y].asfactor()"
   ]
  },
  {
   "cell_type": "code",
   "execution_count": 6,
   "metadata": {},
   "outputs": [
    {
     "name": "stdout",
     "output_type": "stream",
     "text": [
      "AutoML progress: |████████████████████████████████████████████████████████| 100%\n"
     ]
    }
   ],
   "source": [
    "# now the AUTO-ML piece comes in\n",
    "aml = H2OAutoML(max_models=10) #max_models=10 or 20?, max_runtime_secs=3600\n",
    "aml.train(x=x, y=y, training_frame=train)"
   ]
  },
  {
   "cell_type": "code",
   "execution_count": 7,
   "metadata": {},
   "outputs": [
    {
     "data": {
      "text/html": [
       "<table>\n",
       "<thead>\n",
       "<tr><th>model_id                                           </th><th style=\"text-align: right;\">  mean_per_class_error</th><th style=\"text-align: right;\">  logloss</th><th style=\"text-align: right;\">    rmse</th><th style=\"text-align: right;\">     mse</th></tr>\n",
       "</thead>\n",
       "<tbody>\n",
       "<tr><td>DeepLearning_1_AutoML_20190718_142918              </td><td style=\"text-align: right;\">              0.666351</td><td style=\"text-align: right;\"> 0.678094</td><td style=\"text-align: right;\">0.457068</td><td style=\"text-align: right;\">0.208911</td></tr>\n",
       "<tr><td>DRF_1_AutoML_20190718_142918                       </td><td style=\"text-align: right;\">              0.666381</td><td style=\"text-align: right;\"> 0.679683</td><td style=\"text-align: right;\">0.458117</td><td style=\"text-align: right;\">0.209871</td></tr>\n",
       "<tr><td>GBM_1_AutoML_20190718_142918                       </td><td style=\"text-align: right;\">              0.666578</td><td style=\"text-align: right;\"> 0.66671 </td><td style=\"text-align: right;\">0.459328</td><td style=\"text-align: right;\">0.210982</td></tr>\n",
       "<tr><td>GBM_3_AutoML_20190718_142918                       </td><td style=\"text-align: right;\">              0.66661 </td><td style=\"text-align: right;\"> 0.668056</td><td style=\"text-align: right;\">0.459466</td><td style=\"text-align: right;\">0.211109</td></tr>\n",
       "<tr><td>GBM_grid_1_AutoML_20190718_142918_model_1          </td><td style=\"text-align: right;\">              0.666667</td><td style=\"text-align: right;\"> 0.90129 </td><td style=\"text-align: right;\">0.590793</td><td style=\"text-align: right;\">0.349036</td></tr>\n",
       "<tr><td>GBM_5_AutoML_20190718_142918                       </td><td style=\"text-align: right;\">              0.666667</td><td style=\"text-align: right;\"> 0.669862</td><td style=\"text-align: right;\">0.459751</td><td style=\"text-align: right;\">0.211371</td></tr>\n",
       "<tr><td>StackedEnsemble_AllModels_AutoML_20190718_142918   </td><td style=\"text-align: right;\">              0.666667</td><td style=\"text-align: right;\"> 0.663647</td><td style=\"text-align: right;\">0.455118</td><td style=\"text-align: right;\">0.207133</td></tr>\n",
       "<tr><td>GLM_grid_1_AutoML_20190718_142918_model_1          </td><td style=\"text-align: right;\">              0.666667</td><td style=\"text-align: right;\"> 0.662468</td><td style=\"text-align: right;\">0.454826</td><td style=\"text-align: right;\">0.206867</td></tr>\n",
       "<tr><td>StackedEnsemble_BestOfFamily_AutoML_20190718_142918</td><td style=\"text-align: right;\">              0.666667</td><td style=\"text-align: right;\"> 0.662707</td><td style=\"text-align: right;\">0.454882</td><td style=\"text-align: right;\">0.206917</td></tr>\n",
       "<tr><td>GBM_2_AutoML_20190718_142918                       </td><td style=\"text-align: right;\">              0.66671 </td><td style=\"text-align: right;\"> 0.667253</td><td style=\"text-align: right;\">0.459336</td><td style=\"text-align: right;\">0.210989</td></tr>\n",
       "<tr><td>GBM_4_AutoML_20190718_142918                       </td><td style=\"text-align: right;\">              0.666718</td><td style=\"text-align: right;\"> 0.670148</td><td style=\"text-align: right;\">0.459966</td><td style=\"text-align: right;\">0.211569</td></tr>\n",
       "<tr><td>XRT_1_AutoML_20190718_142918                       </td><td style=\"text-align: right;\">              0.666804</td><td style=\"text-align: right;\"> 0.685032</td><td style=\"text-align: right;\">0.461936</td><td style=\"text-align: right;\">0.213384</td></tr>\n",
       "</tbody>\n",
       "</table>"
      ]
     },
     "metadata": {},
     "output_type": "display_data"
    },
    {
     "data": {
      "text/plain": []
     },
     "execution_count": 7,
     "metadata": {},
     "output_type": "execute_result"
    }
   ],
   "source": [
    "# View the AutoML Leaderboard\n",
    "lb = aml.leaderboard\n",
    "lb.head(rows=lb.nrows)  # Print all rows instead of default (10 rows)"
   ]
  },
  {
   "cell_type": "code",
   "execution_count": 8,
   "metadata": {},
   "outputs": [
    {
     "name": "stdout",
     "output_type": "stream",
     "text": [
      "Model Details\n",
      "=============\n",
      "H2ODeepLearningEstimator :  Deep Learning\n",
      "Model Key:  DeepLearning_1_AutoML_20190718_142918\n",
      "\n",
      "\n",
      "ModelMetricsMultinomial: deeplearning\n",
      "** Reported on train data. **\n",
      "\n",
      "MSE: 0.2038320126018107\n",
      "RMSE: 0.45147758815007716\n",
      "LogLoss: 0.6581554069897447\n",
      "Mean Per-Class Error: 0.6654259073483212\n",
      "Confusion Matrix: Row labels: Actual class; Column labels: Predicted class\n",
      "\n"
     ]
    },
    {
     "data": {
      "text/html": [
       "<div style=\"overflow:auto\"><table style=\"width:50%\"><tr><td><b>0</b></td>\n",
       "<td><b>1</b></td>\n",
       "<td><b>2</b></td>\n",
       "<td><b>Error</b></td>\n",
       "<td><b>Rate</b></td></tr>\n",
       "<tr><td>1.0</td>\n",
       "<td>566.0</td>\n",
       "<td>1.0</td>\n",
       "<td>0.9982394</td>\n",
       "<td>567 / 568</td></tr>\n",
       "<tr><td>0.0</td>\n",
       "<td>7775.0</td>\n",
       "<td>3.0</td>\n",
       "<td>0.0003857</td>\n",
       "<td>3 / 7,778</td></tr>\n",
       "<tr><td>0.0</td>\n",
       "<td>1700.0</td>\n",
       "<td>4.0</td>\n",
       "<td>0.9976526</td>\n",
       "<td>1,700 / 1,704</td></tr>\n",
       "<tr><td>1.0</td>\n",
       "<td>10041.0</td>\n",
       "<td>8.0</td>\n",
       "<td>0.2258706</td>\n",
       "<td>2,270 / 10,050</td></tr></table></div>"
      ],
      "text/plain": [
       "0    1      2    Error        Rate\n",
       "---  -----  ---  -----------  --------------\n",
       "1    566    1    0.998239     567 / 568\n",
       "0    7775   3    0.000385703  3 / 7,778\n",
       "0    1700   4    0.997653     1,700 / 1,704\n",
       "1    10041  8    0.225871     2,270 / 10,050"
      ]
     },
     "metadata": {},
     "output_type": "display_data"
    },
    {
     "name": "stdout",
     "output_type": "stream",
     "text": [
      "Top-3 Hit Ratios: \n"
     ]
    },
    {
     "data": {
      "text/html": [
       "<div style=\"overflow:auto\"><table style=\"width:50%\"><tr><td><b>k</b></td>\n",
       "<td><b>hit_ratio</b></td></tr>\n",
       "<tr><td>1</td>\n",
       "<td>0.7741293</td></tr>\n",
       "<tr><td>2</td>\n",
       "<td>0.9433831</td></tr>\n",
       "<tr><td>3</td>\n",
       "<td>1.0</td></tr></table></div>"
      ],
      "text/plain": [
       "k    hit_ratio\n",
       "---  -----------\n",
       "1    0.774129\n",
       "2    0.943383\n",
       "3    1"
      ]
     },
     "metadata": {},
     "output_type": "display_data"
    },
    {
     "name": "stdout",
     "output_type": "stream",
     "text": [
      "\n",
      "ModelMetricsMultinomial: deeplearning\n",
      "** Reported on cross-validation data. **\n",
      "\n",
      "MSE: 0.20891110581012015\n",
      "RMSE: 0.4570679444132132\n",
      "LogLoss: 0.6780942846759986\n",
      "Mean Per-Class Error: 0.6663509977446386\n",
      "Confusion Matrix: Row labels: Actual class; Column labels: Predicted class\n",
      "\n"
     ]
    },
    {
     "data": {
      "text/html": [
       "<div style=\"overflow:auto\"><table style=\"width:50%\"><tr><td><b>0</b></td>\n",
       "<td><b>1</b></td>\n",
       "<td><b>2</b></td>\n",
       "<td><b>Error</b></td>\n",
       "<td><b>Rate</b></td></tr>\n",
       "<tr><td>0.0</td>\n",
       "<td>1139.0</td>\n",
       "<td>1.0</td>\n",
       "<td>1.0</td>\n",
       "<td>1,140 / 1,140</td></tr>\n",
       "<tr><td>4.0</td>\n",
       "<td>15316.0</td>\n",
       "<td>23.0</td>\n",
       "<td>0.0017598</td>\n",
       "<td>27 / 15,343</td></tr>\n",
       "<tr><td>0.0</td>\n",
       "<td>3316.0</td>\n",
       "<td>9.0</td>\n",
       "<td>0.9972932</td>\n",
       "<td>3,316 / 3,325</td></tr>\n",
       "<tr><td>4.0</td>\n",
       "<td>19771.0</td>\n",
       "<td>33.0</td>\n",
       "<td>0.2263227</td>\n",
       "<td>4,483 / 19,808</td></tr></table></div>"
      ],
      "text/plain": [
       "0    1      2    Error       Rate\n",
       "---  -----  ---  ----------  --------------\n",
       "0    1139   1    1           1,140 / 1,140\n",
       "4    15316  23   0.00175976  27 / 15,343\n",
       "0    3316   9    0.997293    3,316 / 3,325\n",
       "4    19771  33   0.226323    4,483 / 19,808"
      ]
     },
     "metadata": {},
     "output_type": "display_data"
    },
    {
     "name": "stdout",
     "output_type": "stream",
     "text": [
      "Top-3 Hit Ratios: \n"
     ]
    },
    {
     "data": {
      "text/html": [
       "<div style=\"overflow:auto\"><table style=\"width:50%\"><tr><td><b>k</b></td>\n",
       "<td><b>hit_ratio</b></td></tr>\n",
       "<tr><td>1</td>\n",
       "<td>0.7736773</td></tr>\n",
       "<tr><td>2</td>\n",
       "<td>0.9409329</td></tr>\n",
       "<tr><td>3</td>\n",
       "<td>1.0</td></tr></table></div>"
      ],
      "text/plain": [
       "k    hit_ratio\n",
       "---  -----------\n",
       "1    0.773677\n",
       "2    0.940933\n",
       "3    1"
      ]
     },
     "metadata": {},
     "output_type": "display_data"
    },
    {
     "name": "stdout",
     "output_type": "stream",
     "text": [
      "Cross-Validation Metrics Summary: \n"
     ]
    },
    {
     "data": {
      "text/html": [
       "<div style=\"overflow:auto\"><table style=\"width:50%\"><tr><td><b></b></td>\n",
       "<td><b>mean</b></td>\n",
       "<td><b>sd</b></td>\n",
       "<td><b>cv_1_valid</b></td>\n",
       "<td><b>cv_2_valid</b></td>\n",
       "<td><b>cv_3_valid</b></td>\n",
       "<td><b>cv_4_valid</b></td>\n",
       "<td><b>cv_5_valid</b></td></tr>\n",
       "<tr><td>accuracy</td>\n",
       "<td>0.7736769</td>\n",
       "<td>0.0034982</td>\n",
       "<td>0.7698132</td>\n",
       "<td>0.7768804</td>\n",
       "<td>0.7819283</td>\n",
       "<td>0.7695026</td>\n",
       "<td>0.7702600</td></tr>\n",
       "<tr><td>err</td>\n",
       "<td>0.2263231</td>\n",
       "<td>0.0034982</td>\n",
       "<td>0.2301868</td>\n",
       "<td>0.2231196</td>\n",
       "<td>0.2180717</td>\n",
       "<td>0.2304973</td>\n",
       "<td>0.2297400</td></tr>\n",
       "<tr><td>err_count</td>\n",
       "<td>896.6</td>\n",
       "<td>13.810142</td>\n",
       "<td>912.0</td>\n",
       "<td>884.0</td>\n",
       "<td>864.0</td>\n",
       "<td>913.0</td>\n",
       "<td>910.0</td></tr>\n",
       "<tr><td>logloss</td>\n",
       "<td>0.6780947</td>\n",
       "<td>0.0081335</td>\n",
       "<td>0.6886394</td>\n",
       "<td>0.6819709</td>\n",
       "<td>0.6560343</td>\n",
       "<td>0.6850347</td>\n",
       "<td>0.678794</td></tr>\n",
       "<tr><td>max_per_class_error</td>\n",
       "<td>1.0</td>\n",
       "<td>0.0</td>\n",
       "<td>1.0</td>\n",
       "<td>1.0</td>\n",
       "<td>1.0</td>\n",
       "<td>1.0</td>\n",
       "<td>1.0</td></tr>\n",
       "<tr><td>mean_per_class_accuracy</td>\n",
       "<td>0.3336681</td>\n",
       "<td>0.0005113</td>\n",
       "<td>0.3333971</td>\n",
       "<td>0.3336265</td>\n",
       "<td>0.3350337</td>\n",
       "<td>0.3333865</td>\n",
       "<td>0.3328969</td></tr>\n",
       "<tr><td>mean_per_class_error</td>\n",
       "<td>0.6663318</td>\n",
       "<td>0.0005113</td>\n",
       "<td>0.6666029</td>\n",
       "<td>0.6663735</td>\n",
       "<td>0.6649663</td>\n",
       "<td>0.6666135</td>\n",
       "<td>0.6671031</td></tr>\n",
       "<tr><td>mse</td>\n",
       "<td>0.2089111</td>\n",
       "<td>0.0020114</td>\n",
       "<td>0.2111651</td>\n",
       "<td>0.2112181</td>\n",
       "<td>0.2034788</td>\n",
       "<td>0.2096323</td>\n",
       "<td>0.2090615</td></tr>\n",
       "<tr><td>r2</td>\n",
       "<td>0.0199933</td>\n",
       "<td>0.0102962</td>\n",
       "<td>0.0314905</td>\n",
       "<td>0.0006743</td>\n",
       "<td>0.0037778</td>\n",
       "<td>0.0332096</td>\n",
       "<td>0.0308143</td></tr>\n",
       "<tr><td>rmse</td>\n",
       "<td>0.4570573</td>\n",
       "<td>0.0022093</td>\n",
       "<td>0.459527</td>\n",
       "<td>0.4595847</td>\n",
       "<td>0.4510862</td>\n",
       "<td>0.4578562</td>\n",
       "<td>0.4572325</td></tr></table></div>"
      ],
      "text/plain": [
       "                         mean       sd           cv_1_valid    cv_2_valid    cv_3_valid    cv_4_valid    cv_5_valid\n",
       "-----------------------  ---------  -----------  ------------  ------------  ------------  ------------  ------------\n",
       "accuracy                 0.773677   0.00349822   0.769813      0.77688       0.781928      0.769503      0.77026\n",
       "err                      0.226323   0.00349822   0.230187      0.22312       0.218072      0.230497      0.22974\n",
       "err_count                896.6      13.8101      912           884           864           913           910\n",
       "logloss                  0.678095   0.00813345   0.688639      0.681971      0.656034      0.685035      0.678794\n",
       "max_per_class_error      1          0            1             1             1             1             1\n",
       "mean_per_class_accuracy  0.333668   0.000511284  0.333397      0.333626      0.335034      0.333386      0.332897\n",
       "mean_per_class_error     0.666332   0.000511284  0.666603      0.666373      0.664966      0.666613      0.667103\n",
       "mse                      0.208911   0.00201135   0.211165      0.211218      0.203479      0.209632      0.209062\n",
       "r2                       0.0199933  0.0102962    0.0314905     0.000674251   0.00377777    0.0332096     0.0308143\n",
       "rmse                     0.457057   0.00220929   0.459527      0.459585      0.451086      0.457856      0.457232"
      ]
     },
     "metadata": {},
     "output_type": "display_data"
    },
    {
     "name": "stdout",
     "output_type": "stream",
     "text": [
      "Scoring History: \n"
     ]
    },
    {
     "data": {
      "text/html": [
       "<div style=\"overflow:auto\"><table style=\"width:50%\"><tr><td><b></b></td>\n",
       "<td><b>timestamp</b></td>\n",
       "<td><b>duration</b></td>\n",
       "<td><b>training_speed</b></td>\n",
       "<td><b>epochs</b></td>\n",
       "<td><b>iterations</b></td>\n",
       "<td><b>samples</b></td>\n",
       "<td><b>training_rmse</b></td>\n",
       "<td><b>training_logloss</b></td>\n",
       "<td><b>training_r2</b></td>\n",
       "<td><b>training_classification_error</b></td></tr>\n",
       "<tr><td></td>\n",
       "<td>2019-07-18 14:38:36</td>\n",
       "<td> 0.000 sec</td>\n",
       "<td>None</td>\n",
       "<td>0.0</td>\n",
       "<td>0</td>\n",
       "<td>0.0</td>\n",
       "<td>nan</td>\n",
       "<td>nan</td>\n",
       "<td>nan</td>\n",
       "<td>nan</td></tr>\n",
       "<tr><td></td>\n",
       "<td>2019-07-18 14:38:37</td>\n",
       "<td>18.532 sec</td>\n",
       "<td>52220 obs/sec</td>\n",
       "<td>1.0413469</td>\n",
       "<td>1</td>\n",
       "<td>20627.0</td>\n",
       "<td>0.4543861</td>\n",
       "<td>0.6688381</td>\n",
       "<td>0.0320031</td>\n",
       "<td>0.2268657</td></tr>\n",
       "<tr><td></td>\n",
       "<td>2019-07-18 14:38:40</td>\n",
       "<td>21.642 sec</td>\n",
       "<td>60000 obs/sec</td>\n",
       "<td>10.4079160</td>\n",
       "<td>10</td>\n",
       "<td>206160.0</td>\n",
       "<td>0.4514776</td>\n",
       "<td>0.6581554</td>\n",
       "<td>0.0443558</td>\n",
       "<td>0.2258706</td></tr></table></div>"
      ],
      "text/plain": [
       "    timestamp            duration    training_speed    epochs    iterations    samples    training_rmse    training_logloss    training_r2    training_classification_error\n",
       "--  -------------------  ----------  ----------------  --------  ------------  ---------  ---------------  ------------------  -------------  -------------------------------\n",
       "    2019-07-18 14:38:36  0.000 sec                     0         0             0          nan              nan                 nan            nan\n",
       "    2019-07-18 14:38:37  18.532 sec  52220 obs/sec     1.04135   1             20627      0.454386         0.668838            0.0320031      0.226866\n",
       "    2019-07-18 14:38:40  21.642 sec  60000 obs/sec     10.4079   10            206160     0.451478         0.658155            0.0443558      0.225871"
      ]
     },
     "metadata": {},
     "output_type": "display_data"
    },
    {
     "name": "stdout",
     "output_type": "stream",
     "text": [
      "Variable Importances: \n"
     ]
    },
    {
     "data": {
      "text/html": [
       "<div style=\"overflow:auto\"><table style=\"width:50%\"><tr><td><b>variable</b></td>\n",
       "<td><b>relative_importance</b></td>\n",
       "<td><b>scaled_importance</b></td>\n",
       "<td><b>percentage</b></td></tr>\n",
       "<tr><td>mock_nw</td>\n",
       "<td>1.0</td>\n",
       "<td>1.0</td>\n",
       "<td>0.0052996</td></tr>\n",
       "<tr><td>mock_tw</td>\n",
       "<td>0.9324063</td>\n",
       "<td>0.9324063</td>\n",
       "<td>0.0049414</td></tr>\n",
       "<tr><td>charli_tw</td>\n",
       "<td>0.9248908</td>\n",
       "<td>0.9248908</td>\n",
       "<td>0.0049016</td></tr>\n",
       "<tr><td>charli_nw</td>\n",
       "<td>0.8510520</td>\n",
       "<td>0.8510520</td>\n",
       "<td>0.0045103</td></tr>\n",
       "<tr><td>yanke_tw</td>\n",
       "<td>0.7962412</td>\n",
       "<td>0.7962412</td>\n",
       "<td>0.0042198</td></tr>\n",
       "<tr><td>---</td>\n",
       "<td>---</td>\n",
       "<td>---</td>\n",
       "<td>---</td></tr>\n",
       "<tr><td>wh_tc</td>\n",
       "<td>0.1902860</td>\n",
       "<td>0.1902860</td>\n",
       "<td>0.0010084</td></tr>\n",
       "<tr><td> wh_tc</td>\n",
       "<td>0.1891483</td>\n",
       "<td>0.1891483</td>\n",
       "<td>0.0010024</td></tr>\n",
       "<tr><td>ash _tc</td>\n",
       "<td>0.1721454</td>\n",
       "<td>0.1721454</td>\n",
       "<td>0.0009123</td></tr>\n",
       "<tr><td> bir_tc</td>\n",
       "<td>0.1682813</td>\n",
       "<td>0.1682813</td>\n",
       "<td>0.0008918</td></tr>\n",
       "<tr><td> bit_nc</td>\n",
       "<td>0.1285612</td>\n",
       "<td>0.1285612</td>\n",
       "<td>0.0006813</td></tr></table></div>"
      ],
      "text/plain": [
       "variable    relative_importance    scaled_importance    percentage\n",
       "----------  ---------------------  -------------------  ---------------------\n",
       "mock_nw     1.0                    1.0                  0.005299635912979819\n",
       "mock_tw     0.9324063062667847     0.9324063062667847   0.0049414139461803125\n",
       "charli_tw   0.9248908162117004     0.9248908162117004   0.004901584585180745\n",
       "charli_nw   0.8510519862174988     0.8510519862174988   0.004510265669971062\n",
       "yanke_tw    0.7962412238121033     0.7962412238121033   0.004219788585109624\n",
       "---         ---                    ---                  ---\n",
       "wh_tc       0.19028601050376892    0.19028601050376892  0.0010084465750034289\n",
       "wh_tc       0.18914829194545746    0.18914829194545746  0.0010024170808729377\n",
       "ash _tc     0.17214535176753998    0.17214535176753998  0.0009123076884797988\n",
       "bir_tc      0.16828128695487976    0.16828128695487976  0.0008918295518285431\n",
       "bit_nc      0.12856121361255646    0.12856121361255646  0.0006813276246773742"
      ]
     },
     "metadata": {},
     "output_type": "display_data"
    },
    {
     "name": "stdout",
     "output_type": "stream",
     "text": [
      "\n",
      "See the whole table with table.as_data_frame()\n"
     ]
    },
    {
     "data": {
      "text/plain": []
     },
     "execution_count": 8,
     "metadata": {},
     "output_type": "execute_result"
    }
   ],
   "source": [
    "# The leader model is stored here\n",
    "aml.leader"
   ]
  },
  {
   "cell_type": "code",
   "execution_count": 9,
   "metadata": {},
   "outputs": [
    {
     "name": "stdout",
     "output_type": "stream",
     "text": [
      "deeplearning prediction progress: |███████████████████████████████████████| 100%\n"
     ]
    },
    {
     "data": {
      "text/html": [
       "<table>\n",
       "<thead>\n",
       "<tr><th style=\"text-align: right;\">  predict</th><th style=\"text-align: right;\">        p0</th><th style=\"text-align: right;\">      p1</th><th style=\"text-align: right;\">       p2</th></tr>\n",
       "</thead>\n",
       "<tbody>\n",
       "<tr><td style=\"text-align: right;\">        1</td><td style=\"text-align: right;\">0.0361144 </td><td style=\"text-align: right;\">0.839834</td><td style=\"text-align: right;\">0.124051 </td></tr>\n",
       "<tr><td style=\"text-align: right;\">        1</td><td style=\"text-align: right;\">0.045438  </td><td style=\"text-align: right;\">0.806089</td><td style=\"text-align: right;\">0.148472 </td></tr>\n",
       "<tr><td style=\"text-align: right;\">        1</td><td style=\"text-align: right;\">0.0540639 </td><td style=\"text-align: right;\">0.907661</td><td style=\"text-align: right;\">0.0382749</td></tr>\n",
       "<tr><td style=\"text-align: right;\">        1</td><td style=\"text-align: right;\">0.0431976 </td><td style=\"text-align: right;\">0.813283</td><td style=\"text-align: right;\">0.143519 </td></tr>\n",
       "<tr><td style=\"text-align: right;\">        1</td><td style=\"text-align: right;\">0.0380133 </td><td style=\"text-align: right;\">0.818476</td><td style=\"text-align: right;\">0.143511 </td></tr>\n",
       "<tr><td style=\"text-align: right;\">        1</td><td style=\"text-align: right;\">0.0482067 </td><td style=\"text-align: right;\">0.787462</td><td style=\"text-align: right;\">0.164331 </td></tr>\n",
       "<tr><td style=\"text-align: right;\">        1</td><td style=\"text-align: right;\">0.05993   </td><td style=\"text-align: right;\">0.781062</td><td style=\"text-align: right;\">0.159008 </td></tr>\n",
       "<tr><td style=\"text-align: right;\">        1</td><td style=\"text-align: right;\">0.0453351 </td><td style=\"text-align: right;\">0.795927</td><td style=\"text-align: right;\">0.158738 </td></tr>\n",
       "<tr><td style=\"text-align: right;\">        1</td><td style=\"text-align: right;\">0.0591828 </td><td style=\"text-align: right;\">0.792589</td><td style=\"text-align: right;\">0.148228 </td></tr>\n",
       "<tr><td style=\"text-align: right;\">        1</td><td style=\"text-align: right;\">0.00931209</td><td style=\"text-align: right;\">0.889024</td><td style=\"text-align: right;\">0.101664 </td></tr>\n",
       "</tbody>\n",
       "</table>"
      ]
     },
     "metadata": {},
     "output_type": "display_data"
    },
    {
     "name": "stdout",
     "output_type": "stream",
     "text": [
      "\n"
     ]
    }
   ],
   "source": [
    "preds = aml.predict(test)\n",
    "print(preds)"
   ]
  },
  {
   "cell_type": "code",
   "execution_count": 10,
   "metadata": {},
   "outputs": [
    {
     "data": {
      "text/html": [
       "<table>\n",
       "<thead>\n",
       "<tr><th style=\"text-align: right;\">  predict</th><th style=\"text-align: right;\">  labels</th></tr>\n",
       "</thead>\n",
       "<tbody>\n",
       "<tr><td style=\"text-align: right;\">        1</td><td style=\"text-align: right;\">       1</td></tr>\n",
       "<tr><td style=\"text-align: right;\">        1</td><td style=\"text-align: right;\">       2</td></tr>\n",
       "<tr><td style=\"text-align: right;\">        1</td><td style=\"text-align: right;\">       1</td></tr>\n",
       "<tr><td style=\"text-align: right;\">        1</td><td style=\"text-align: right;\">       1</td></tr>\n",
       "<tr><td style=\"text-align: right;\">        1</td><td style=\"text-align: right;\">       1</td></tr>\n",
       "<tr><td style=\"text-align: right;\">        1</td><td style=\"text-align: right;\">       1</td></tr>\n",
       "<tr><td style=\"text-align: right;\">        1</td><td style=\"text-align: right;\">       2</td></tr>\n",
       "<tr><td style=\"text-align: right;\">        1</td><td style=\"text-align: right;\">       1</td></tr>\n",
       "<tr><td style=\"text-align: right;\">        1</td><td style=\"text-align: right;\">       1</td></tr>\n",
       "<tr><td style=\"text-align: right;\">        1</td><td style=\"text-align: right;\">       2</td></tr>\n",
       "</tbody>\n",
       "</table>"
      ]
     },
     "metadata": {},
     "output_type": "display_data"
    },
    {
     "name": "stdout",
     "output_type": "stream",
     "text": [
      "\n"
     ]
    }
   ],
   "source": [
    "var = preds[\"predict\"].cbind(test[y])\n",
    "print(var)"
   ]
  },
  {
   "cell_type": "code",
   "execution_count": 11,
   "metadata": {},
   "outputs": [
    {
     "name": "stdout",
     "output_type": "stream",
     "text": [
      "[[   0  285    0]\n",
      " [   0 3835    1]\n",
      " [   0  830    1]]\n",
      "0.7746365105008077\n"
     ]
    }
   ],
   "source": [
    "# convert to pandas dataframe\n",
    "y_test = h2o.as_list(test[y], use_pandas=True)\n",
    "y_pred = h2o.as_list(preds[\"predict\"])\n",
    "print(metrics.confusion_matrix(y_test, y_pred))\n",
    "print(metrics.accuracy_score(y_test, y_pred))"
   ]
  },
  {
   "cell_type": "code",
   "execution_count": null,
   "metadata": {},
   "outputs": [],
   "source": []
  }
 ],
 "metadata": {
  "kernelspec": {
   "display_name": "Python 3",
   "language": "python",
   "name": "python3"
  },
  "language_info": {
   "codemirror_mode": {
    "name": "ipython",
    "version": 3
   },
   "file_extension": ".py",
   "mimetype": "text/x-python",
   "name": "python",
   "nbconvert_exporter": "python",
   "pygments_lexer": "ipython3",
   "version": "3.7.3"
  },
  "pycharm": {
   "stem_cell": {
    "cell_type": "raw",
    "metadata": {
     "collapsed": false
    },
    "source": []
   }
  }
 },
 "nbformat": 4,
 "nbformat_minor": 2
}
