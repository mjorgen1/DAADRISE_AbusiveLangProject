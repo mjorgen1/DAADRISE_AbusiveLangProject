{
 "cells": [
  {
   "cell_type": "code",
   "execution_count": 1,
   "metadata": {},
   "outputs": [
    {
     "name": "stdout",
     "output_type": "stream",
     "text": [
      "Checking whether there is an H2O instance running at http://localhost:54321 . connected.\n"
     ]
    },
    {
     "data": {
      "text/html": [
       "<div style=\"overflow:auto\"><table style=\"width:50%\"><tr><td>H2O cluster uptime:</td>\n",
       "<td>6 days 22 hours 38 mins</td></tr>\n",
       "<tr><td>H2O cluster timezone:</td>\n",
       "<td>Europe/Vienna</td></tr>\n",
       "<tr><td>H2O data parsing timezone:</td>\n",
       "<td>UTC</td></tr>\n",
       "<tr><td>H2O cluster version:</td>\n",
       "<td>3.24.0.5</td></tr>\n",
       "<tr><td>H2O cluster version age:</td>\n",
       "<td>14 days, 13 hours and 58 minutes </td></tr>\n",
       "<tr><td>H2O cluster name:</td>\n",
       "<td>H2O_from_python_mackenzie_dm3nzl</td></tr>\n",
       "<tr><td>H2O cluster total nodes:</td>\n",
       "<td>1</td></tr>\n",
       "<tr><td>H2O cluster free memory:</td>\n",
       "<td>1.289 Gb</td></tr>\n",
       "<tr><td>H2O cluster total cores:</td>\n",
       "<td>4</td></tr>\n",
       "<tr><td>H2O cluster allowed cores:</td>\n",
       "<td>4</td></tr>\n",
       "<tr><td>H2O cluster status:</td>\n",
       "<td>locked, healthy</td></tr>\n",
       "<tr><td>H2O connection url:</td>\n",
       "<td>http://localhost:54321</td></tr>\n",
       "<tr><td>H2O connection proxy:</td>\n",
       "<td>None</td></tr>\n",
       "<tr><td>H2O internal security:</td>\n",
       "<td>False</td></tr>\n",
       "<tr><td>H2O API Extensions:</td>\n",
       "<td>Amazon S3, XGBoost, Algos, AutoML, Core V3, Core V4</td></tr>\n",
       "<tr><td>Python version:</td>\n",
       "<td>3.7.1 final</td></tr></table></div>"
      ],
      "text/plain": [
       "--------------------------  ---------------------------------------------------\n",
       "H2O cluster uptime:         6 days 22 hours 38 mins\n",
       "H2O cluster timezone:       Europe/Vienna\n",
       "H2O data parsing timezone:  UTC\n",
       "H2O cluster version:        3.24.0.5\n",
       "H2O cluster version age:    14 days, 13 hours and 58 minutes\n",
       "H2O cluster name:           H2O_from_python_mackenzie_dm3nzl\n",
       "H2O cluster total nodes:    1\n",
       "H2O cluster free memory:    1.289 Gb\n",
       "H2O cluster total cores:    4\n",
       "H2O cluster allowed cores:  4\n",
       "H2O cluster status:         locked, healthy\n",
       "H2O connection url:         http://localhost:54321\n",
       "H2O connection proxy:\n",
       "H2O internal security:      False\n",
       "H2O API Extensions:         Amazon S3, XGBoost, Algos, AutoML, Core V3, Core V4\n",
       "Python version:             3.7.1 final\n",
       "--------------------------  ---------------------------------------------------"
      ]
     },
     "metadata": {},
     "output_type": "display_data"
    }
   ],
   "source": [
    "import h2o\n",
    "h2o.init()\n",
    "from h2o.estimators.word2vec import H2OWord2vecEstimator\n",
    "import nltk\n",
    "# nltk.download('stopwords') -- might need if running nltk + stopwords for the first time\n",
    "from nltk.corpus import stopwords\n",
    "from h2o.automl import H2OAutoML\n",
    "import pandas as pd\n",
    "from sklearn import metrics"
   ]
  },
  {
   "cell_type": "code",
   "execution_count": 28,
   "metadata": {
    "scrolled": true
   },
   "outputs": [
    {
     "name": "stdout",
     "output_type": "stream",
     "text": [
      "Parse progress: |█████████████████████████████████████████████████████████| 100%\n",
      "Parse progress: |█████████████████████████████████████████████████████████| 100%\n"
     ]
    }
   ],
   "source": [
    "train_data = h2o.upload_file(\"/home/mackenzie/Downloads/GermanCleanedTrainingData.csv\") # check if path correct \n",
    "test_data = h2o.upload_file(\"/home/mackenzie/Downloads/GermanCleanedTestingData.csv\") # check if path correct\n",
    "STOP_WORDS = set(stopwords.words('german'))\n",
    "new_stopwords = ['|lbr|', 'ja']\n",
    "STOP_WORDS = STOP_WORDS.union(new_stopwords)"
   ]
  },
  {
   "cell_type": "code",
   "execution_count": 3,
   "metadata": {},
   "outputs": [],
   "source": [
    "def tokenize(sentences, stop_word = STOP_WORDS):\n",
    "    tokenized = sentences.tokenize(\"\\\\W+\")\n",
    "    tokenized_lower = tokenized.tolower()\n",
    "    tokenized_filtered = tokenized_lower[(tokenized_lower.nchar() >= 2) | (tokenized_lower.isna()),:]\n",
    "    tokenized_words = tokenized_filtered[tokenized_filtered.grep(\"[0-9]\",invert=True,output_logical=True),:]\n",
    "    tokenized_words = tokenized_words[(tokenized_words.isna()) | (~ tokenized_words.isin(STOP_WORDS)),:]\n",
    "    return tokenized_words"
   ]
  },
  {
   "cell_type": "code",
   "execution_count": 5,
   "metadata": {},
   "outputs": [
    {
     "name": "stdout",
     "output_type": "stream",
     "text": [
      "Break train tweets into sequence of words\n"
     ]
    }
   ],
   "source": [
    "print(\"Break train tweets into sequence of words\")\n",
    "train_words = tokenize(train_data[\"tweet\"])"
   ]
  },
  {
   "cell_type": "code",
   "execution_count": 6,
   "metadata": {},
   "outputs": [
    {
     "name": "stdout",
     "output_type": "stream",
     "text": [
      "Break test tweets into sequence of words\n"
     ]
    }
   ],
   "source": [
    "print(\"Break test tweets into sequence of words\")\n",
    "test_words = tokenize(test_data[\"tweet\"])"
   ]
  },
  {
   "cell_type": "code",
   "execution_count": 7,
   "metadata": {},
   "outputs": [
    {
     "name": "stdout",
     "output_type": "stream",
     "text": [
      "Build word2vec model for train\n",
      "word2vec Model Build progress: |██████████████████████████████████████████| 100%\n"
     ]
    }
   ],
   "source": [
    "print(\"Build word2vec model for train\")\n",
    "w2v_model_one = H2OWord2vecEstimator(sent_sample_rate = 0.0, epochs = 10)\n",
    "w2v_model_one.train(training_frame=train_words)"
   ]
  },
  {
   "cell_type": "code",
   "execution_count": 8,
   "metadata": {},
   "outputs": [
    {
     "name": "stdout",
     "output_type": "stream",
     "text": [
      "Build word2vec model for test\n",
      "word2vec Model Build progress: |██████████████████████████████████████████| 100%\n"
     ]
    }
   ],
   "source": [
    "print(\"Build word2vec model for test\")\n",
    "w2v_model_two = H2OWord2vecEstimator(sent_sample_rate = 0.0, epochs = 10)\n",
    "w2v_model_two.train(training_frame=test_words)"
   ]
  },
  {
   "cell_type": "code",
   "execution_count": 9,
   "metadata": {},
   "outputs": [],
   "source": [
    "# could do synonym check here\n",
    "#print(\"Sanity check - find synonyms for the word 'teacher'\")\n",
    "#w2v_model.find_synonyms(\"teacher\", count = 5)"
   ]
  },
  {
   "cell_type": "code",
   "execution_count": 15,
   "metadata": {},
   "outputs": [
    {
     "name": "stdout",
     "output_type": "stream",
     "text": [
      "Calculate a vector for each train tweet\n"
     ]
    },
    {
     "data": {
      "text/html": [
       "<table>\n",
       "<thead>\n",
       "<tr><th style=\"text-align: right;\">        C1</th><th style=\"text-align: right;\">        C2</th><th style=\"text-align: right;\">         C3</th><th style=\"text-align: right;\">         C4</th><th style=\"text-align: right;\">        C5</th><th style=\"text-align: right;\">        C6</th><th style=\"text-align: right;\">        C7</th><th style=\"text-align: right;\">        C8</th><th style=\"text-align: right;\">         C9</th><th style=\"text-align: right;\">        C10</th><th style=\"text-align: right;\">        C11</th><th style=\"text-align: right;\">        C12</th><th style=\"text-align: right;\">        C13</th><th style=\"text-align: right;\">     C14</th><th style=\"text-align: right;\">       C15</th><th style=\"text-align: right;\">       C16</th><th style=\"text-align: right;\">        C17</th><th style=\"text-align: right;\">       C18</th><th style=\"text-align: right;\">       C19</th><th style=\"text-align: right;\">        C20</th><th style=\"text-align: right;\">       C21</th><th style=\"text-align: right;\">        C22</th><th style=\"text-align: right;\">       C23</th><th style=\"text-align: right;\">        C24</th><th style=\"text-align: right;\">       C25</th><th style=\"text-align: right;\">       C26</th><th style=\"text-align: right;\">       C27</th><th style=\"text-align: right;\">        C28</th><th style=\"text-align: right;\">       C29</th><th style=\"text-align: right;\">       C30</th><th style=\"text-align: right;\">        C31</th><th style=\"text-align: right;\">       C32</th><th style=\"text-align: right;\">       C33</th><th style=\"text-align: right;\">         C34</th><th style=\"text-align: right;\">       C35</th><th style=\"text-align: right;\">         C36</th><th style=\"text-align: right;\">        C37</th><th style=\"text-align: right;\">       C38</th><th style=\"text-align: right;\">       C39</th><th style=\"text-align: right;\">       C40</th><th style=\"text-align: right;\">        C41</th><th style=\"text-align: right;\">        C42</th><th style=\"text-align: right;\">       C43</th><th style=\"text-align: right;\">        C44</th><th style=\"text-align: right;\">        C45</th><th style=\"text-align: right;\">       C46</th><th style=\"text-align: right;\">       C47</th><th style=\"text-align: right;\">       C48</th><th style=\"text-align: right;\">        C49</th><th style=\"text-align: right;\">        C50</th><th style=\"text-align: right;\">        C51</th><th style=\"text-align: right;\">       C52</th><th style=\"text-align: right;\">       C53</th><th style=\"text-align: right;\">        C54</th><th style=\"text-align: right;\">       C55</th><th style=\"text-align: right;\">         C56</th><th style=\"text-align: right;\">      C57</th><th style=\"text-align: right;\">       C58</th><th style=\"text-align: right;\">       C59</th><th style=\"text-align: right;\">       C60</th><th style=\"text-align: right;\">       C61</th><th style=\"text-align: right;\">       C62</th><th style=\"text-align: right;\">        C63</th><th style=\"text-align: right;\">       C64</th><th style=\"text-align: right;\">        C65</th><th style=\"text-align: right;\">        C66</th><th style=\"text-align: right;\">        C67</th><th style=\"text-align: right;\">         C68</th><th style=\"text-align: right;\">       C69</th><th style=\"text-align: right;\">       C70</th><th style=\"text-align: right;\">        C71</th><th style=\"text-align: right;\">       C72</th><th style=\"text-align: right;\">       C73</th><th style=\"text-align: right;\">        C74</th><th style=\"text-align: right;\">        C75</th><th style=\"text-align: right;\">       C76</th><th style=\"text-align: right;\">       C77</th><th style=\"text-align: right;\">       C78</th><th style=\"text-align: right;\">        C79</th><th style=\"text-align: right;\">       C80</th><th style=\"text-align: right;\">        C81</th><th style=\"text-align: right;\">        C82</th><th style=\"text-align: right;\">       C83</th><th style=\"text-align: right;\">       C84</th><th style=\"text-align: right;\">        C85</th><th style=\"text-align: right;\">        C86</th><th style=\"text-align: right;\">        C87</th><th style=\"text-align: right;\">       C88</th><th style=\"text-align: right;\">         C89</th><th style=\"text-align: right;\">      C90</th><th style=\"text-align: right;\">        C91</th><th style=\"text-align: right;\">       C92</th><th style=\"text-align: right;\">        C93</th><th style=\"text-align: right;\">        C94</th><th style=\"text-align: right;\">       C95</th><th style=\"text-align: right;\">         C96</th><th style=\"text-align: right;\">        C97</th><th style=\"text-align: right;\">        C98</th><th style=\"text-align: right;\">        C99</th><th style=\"text-align: right;\">      C100</th></tr>\n",
       "</thead>\n",
       "<tbody>\n",
       "<tr><td style=\"text-align: right;\"> 0.0291293</td><td style=\"text-align: right;\">-0.0563549</td><td style=\"text-align: right;\">-0.00309205</td><td style=\"text-align: right;\">-0.00874928</td><td style=\"text-align: right;\">-0.152444 </td><td style=\"text-align: right;\"> 0.076329 </td><td style=\"text-align: right;\"> 0.0197836</td><td style=\"text-align: right;\">-0.156682 </td><td style=\"text-align: right;\">-0.0311497 </td><td style=\"text-align: right;\"> 0.0331275 </td><td style=\"text-align: right;\">-0.0514102 </td><td style=\"text-align: right;\">-0.00759734</td><td style=\"text-align: right;\">-0.0921724 </td><td style=\"text-align: right;\">0.23417 </td><td style=\"text-align: right;\"> 0.0751271</td><td style=\"text-align: right;\">-0.0647309</td><td style=\"text-align: right;\"> 0.0425146 </td><td style=\"text-align: right;\">-0.0339248</td><td style=\"text-align: right;\">-0.109768 </td><td style=\"text-align: right;\"> 0.00189091</td><td style=\"text-align: right;\">-0.163299 </td><td style=\"text-align: right;\"> 0.00792546</td><td style=\"text-align: right;\">-0.133227 </td><td style=\"text-align: right;\">-0.0124696 </td><td style=\"text-align: right;\">-0.04783  </td><td style=\"text-align: right;\">-0.0585472</td><td style=\"text-align: right;\">-0.112219 </td><td style=\"text-align: right;\"> 0.0745889 </td><td style=\"text-align: right;\"> 0.137946 </td><td style=\"text-align: right;\"> 0.0150429</td><td style=\"text-align: right;\">-0.0224849 </td><td style=\"text-align: right;\">-0.0227682</td><td style=\"text-align: right;\"> 0.0939694</td><td style=\"text-align: right;\">-0.029053   </td><td style=\"text-align: right;\">-0.0433851</td><td style=\"text-align: right;\"> 0.132503   </td><td style=\"text-align: right;\"> 0.0283596 </td><td style=\"text-align: right;\">-0.0460802</td><td style=\"text-align: right;\">-0.107062 </td><td style=\"text-align: right;\"> 0.0312514</td><td style=\"text-align: right;\">-0.0225912 </td><td style=\"text-align: right;\">-0.0677194 </td><td style=\"text-align: right;\"> 0.131732 </td><td style=\"text-align: right;\">-0.095006  </td><td style=\"text-align: right;\"> 0.0392678 </td><td style=\"text-align: right;\"> 0.0414449</td><td style=\"text-align: right;\">-0.0547527</td><td style=\"text-align: right;\"> 0.181339 </td><td style=\"text-align: right;\">-0.0807071 </td><td style=\"text-align: right;\"> 0.0836181 </td><td style=\"text-align: right;\"> 0.0363452 </td><td style=\"text-align: right;\">-0.131691 </td><td style=\"text-align: right;\">-0.143266 </td><td style=\"text-align: right;\">-0.0952793 </td><td style=\"text-align: right;\">0.110587  </td><td style=\"text-align: right;\"> 0.00497621 </td><td style=\"text-align: right;\">0.12193  </td><td style=\"text-align: right;\">-0.0160294</td><td style=\"text-align: right;\">-0.108785 </td><td style=\"text-align: right;\">-0.0827263</td><td style=\"text-align: right;\">-0.257084 </td><td style=\"text-align: right;\"> 0.0225244</td><td style=\"text-align: right;\"> 0.0258357 </td><td style=\"text-align: right;\">-0.0744465</td><td style=\"text-align: right;\">-0.00954591</td><td style=\"text-align: right;\">-0.0961743 </td><td style=\"text-align: right;\"> 0.0617737 </td><td style=\"text-align: right;\"> 0.0528972  </td><td style=\"text-align: right;\">-0.0484603</td><td style=\"text-align: right;\">-0.147192 </td><td style=\"text-align: right;\"> 0.0716757 </td><td style=\"text-align: right;\">-0.0445438</td><td style=\"text-align: right;\">-0.0614128</td><td style=\"text-align: right;\">-0.00830384</td><td style=\"text-align: right;\"> 0.0334794 </td><td style=\"text-align: right;\"> 0.0170624</td><td style=\"text-align: right;\"> 0.0135088</td><td style=\"text-align: right;\">-0.0303346</td><td style=\"text-align: right;\">-0.0133053 </td><td style=\"text-align: right;\">-0.0388469</td><td style=\"text-align: right;\">-0.0988347 </td><td style=\"text-align: right;\"> 0.0793318 </td><td style=\"text-align: right;\">-0.0128315</td><td style=\"text-align: right;\"> 0.0770838</td><td style=\"text-align: right;\"> 0.101013  </td><td style=\"text-align: right;\"> 0.0268078 </td><td style=\"text-align: right;\"> 0.00296872</td><td style=\"text-align: right;\">-0.0679003</td><td style=\"text-align: right;\"> 0.000586955</td><td style=\"text-align: right;\">0.118864 </td><td style=\"text-align: right;\">-0.0693687 </td><td style=\"text-align: right;\"> 0.134611 </td><td style=\"text-align: right;\">-0.044851  </td><td style=\"text-align: right;\"> 0.0467843 </td><td style=\"text-align: right;\">-0.0702371</td><td style=\"text-align: right;\">-0.0054008  </td><td style=\"text-align: right;\"> 0.00354876</td><td style=\"text-align: right;\"> 0.069282  </td><td style=\"text-align: right;\">-0.122692  </td><td style=\"text-align: right;\">-0.0854221</td></tr>\n",
       "<tr><td style=\"text-align: right;\">-0.020289 </td><td style=\"text-align: right;\"> 0.115269 </td><td style=\"text-align: right;\">-0.0016796 </td><td style=\"text-align: right;\">-0.0155942 </td><td style=\"text-align: right;\"> 0.0243202</td><td style=\"text-align: right;\">-0.0660598</td><td style=\"text-align: right;\"> 0.0138952</td><td style=\"text-align: right;\">-0.04091  </td><td style=\"text-align: right;\">-0.0727459 </td><td style=\"text-align: right;\">-0.0206298 </td><td style=\"text-align: right;\"> 0.00772251</td><td style=\"text-align: right;\">-0.0484347 </td><td style=\"text-align: right;\">-0.00341719</td><td style=\"text-align: right;\">0.193299</td><td style=\"text-align: right;\"> 0.246281 </td><td style=\"text-align: right;\"> 0.0759564</td><td style=\"text-align: right;\"> 0.0430066 </td><td style=\"text-align: right;\">-0.105908 </td><td style=\"text-align: right;\">-0.160268 </td><td style=\"text-align: right;\">-0.038794  </td><td style=\"text-align: right;\">-0.229615 </td><td style=\"text-align: right;\">-0.0364317 </td><td style=\"text-align: right;\">-0.0827229</td><td style=\"text-align: right;\"> 0.112615  </td><td style=\"text-align: right;\"> 0.0202405</td><td style=\"text-align: right;\">-0.134642 </td><td style=\"text-align: right;\">-0.127648 </td><td style=\"text-align: right;\"> 0.0513902 </td><td style=\"text-align: right;\"> 0.0248847</td><td style=\"text-align: right;\">-0.0323642</td><td style=\"text-align: right;\"> 0.0434213 </td><td style=\"text-align: right;\">-0.122694 </td><td style=\"text-align: right;\"> 0.0503713</td><td style=\"text-align: right;\"> 0.110142   </td><td style=\"text-align: right;\"> 0.0843856</td><td style=\"text-align: right;\">-0.14796    </td><td style=\"text-align: right;\"> 0.144207  </td><td style=\"text-align: right;\"> 0.160098 </td><td style=\"text-align: right;\">-0.195316 </td><td style=\"text-align: right;\">-0.0866595</td><td style=\"text-align: right;\"> 0.074925  </td><td style=\"text-align: right;\">-0.00350691</td><td style=\"text-align: right;\"> 0.260468 </td><td style=\"text-align: right;\">-0.112127  </td><td style=\"text-align: right;\"> 0.118457  </td><td style=\"text-align: right;\">-0.0274727</td><td style=\"text-align: right;\"> 0.0241238</td><td style=\"text-align: right;\"> 0.074524 </td><td style=\"text-align: right;\">-0.0520599 </td><td style=\"text-align: right;\"> 0.0683611 </td><td style=\"text-align: right;\">-0.160389  </td><td style=\"text-align: right;\">-0.0189103</td><td style=\"text-align: right;\">-0.121003 </td><td style=\"text-align: right;\"> 0.165582  </td><td style=\"text-align: right;\">0.253134  </td><td style=\"text-align: right;\"> 0.0796824  </td><td style=\"text-align: right;\">0.186832 </td><td style=\"text-align: right;\">-0.0324347</td><td style=\"text-align: right;\">-0.0109388</td><td style=\"text-align: right;\">-0.0373621</td><td style=\"text-align: right;\">-0.249126 </td><td style=\"text-align: right;\">-0.031786 </td><td style=\"text-align: right;\"> 0.0882836 </td><td style=\"text-align: right;\"> 0.114533 </td><td style=\"text-align: right;\"> 0.0915308 </td><td style=\"text-align: right;\">-0.183541  </td><td style=\"text-align: right;\"> 0.171694  </td><td style=\"text-align: right;\"> 0.0722871  </td><td style=\"text-align: right;\">-0.115099 </td><td style=\"text-align: right;\">-0.193177 </td><td style=\"text-align: right;\"> 0.107867  </td><td style=\"text-align: right;\"> 0.114245 </td><td style=\"text-align: right;\">-0.197168 </td><td style=\"text-align: right;\">-0.121551  </td><td style=\"text-align: right;\">-0.0254883 </td><td style=\"text-align: right;\"> 0.0653016</td><td style=\"text-align: right;\">-0.183877 </td><td style=\"text-align: right;\">-0.0114236</td><td style=\"text-align: right;\">-0.149496  </td><td style=\"text-align: right;\">-0.095159 </td><td style=\"text-align: right;\">-0.179325  </td><td style=\"text-align: right;\"> 0.0164512 </td><td style=\"text-align: right;\">-0.117974 </td><td style=\"text-align: right;\">-0.11533  </td><td style=\"text-align: right;\"> 0.22554   </td><td style=\"text-align: right;\">-0.177961  </td><td style=\"text-align: right;\"> 0.00298017</td><td style=\"text-align: right;\">-0.179795 </td><td style=\"text-align: right;\"> 0.0260792  </td><td style=\"text-align: right;\">0.0559971</td><td style=\"text-align: right;\">-0.233959  </td><td style=\"text-align: right;\"> 0.174775 </td><td style=\"text-align: right;\">-0.223886  </td><td style=\"text-align: right;\"> 0.0194388 </td><td style=\"text-align: right;\">-0.0910845</td><td style=\"text-align: right;\"> 0.151882   </td><td style=\"text-align: right;\"> 0.022251  </td><td style=\"text-align: right;\">-0.0155746 </td><td style=\"text-align: right;\"> 0.0478414 </td><td style=\"text-align: right;\"> 0.0880277</td></tr>\n",
       "<tr><td style=\"text-align: right;\">-0.0253428</td><td style=\"text-align: right;\"> 0.056287 </td><td style=\"text-align: right;\"> 0.0363188 </td><td style=\"text-align: right;\"> 0.0172438 </td><td style=\"text-align: right;\">-0.164082 </td><td style=\"text-align: right;\"> 0.166106 </td><td style=\"text-align: right;\"> 0.0835552</td><td style=\"text-align: right;\">-0.0867098</td><td style=\"text-align: right;\"> 0.0391808 </td><td style=\"text-align: right;\"> 0.0792269 </td><td style=\"text-align: right;\">-0.0338235 </td><td style=\"text-align: right;\"> 0.073912  </td><td style=\"text-align: right;\">-0.0455957 </td><td style=\"text-align: right;\">0.172466</td><td style=\"text-align: right;\"> 0.198691 </td><td style=\"text-align: right;\"> 0.101024 </td><td style=\"text-align: right;\"> 0.0017131 </td><td style=\"text-align: right;\"> 0.0213559</td><td style=\"text-align: right;\">-0.213391 </td><td style=\"text-align: right;\">-0.0625758 </td><td style=\"text-align: right;\">-0.160427 </td><td style=\"text-align: right;\">-0.0760626 </td><td style=\"text-align: right;\">-0.12163  </td><td style=\"text-align: right;\">-0.0435556 </td><td style=\"text-align: right;\">-0.0440114</td><td style=\"text-align: right;\">-0.0471189</td><td style=\"text-align: right;\">-0.118607 </td><td style=\"text-align: right;\"> 0.0920026 </td><td style=\"text-align: right;\"> 0.0898629</td><td style=\"text-align: right;\"> 0.0988965</td><td style=\"text-align: right;\">-0.0275485 </td><td style=\"text-align: right;\">-0.0644385</td><td style=\"text-align: right;\"> 0.0520332</td><td style=\"text-align: right;\"> 0.0581712  </td><td style=\"text-align: right;\"> 0.0420209</td><td style=\"text-align: right;\"> 0.0264621  </td><td style=\"text-align: right;\"> 0.0388987 </td><td style=\"text-align: right;\"> 0.0670861</td><td style=\"text-align: right;\">-0.0751736</td><td style=\"text-align: right;\"> 0.0665786</td><td style=\"text-align: right;\">-0.07797   </td><td style=\"text-align: right;\">-0.0263054 </td><td style=\"text-align: right;\"> 0.210391 </td><td style=\"text-align: right;\">-0.0714467 </td><td style=\"text-align: right;\"> 0.00182106</td><td style=\"text-align: right;\"> 0.114163 </td><td style=\"text-align: right;\"> 0.0322469</td><td style=\"text-align: right;\"> 0.1208   </td><td style=\"text-align: right;\">-0.0654437 </td><td style=\"text-align: right;\"> 0.109724  </td><td style=\"text-align: right;\"> 0.0599284 </td><td style=\"text-align: right;\">-0.124671 </td><td style=\"text-align: right;\">-0.120932 </td><td style=\"text-align: right;\">-0.00315898</td><td style=\"text-align: right;\">0.0103579 </td><td style=\"text-align: right;\">-0.12295    </td><td style=\"text-align: right;\">0.0913121</td><td style=\"text-align: right;\">-0.0261126</td><td style=\"text-align: right;\">-0.0824543</td><td style=\"text-align: right;\">-0.0242883</td><td style=\"text-align: right;\">-0.145794 </td><td style=\"text-align: right;\"> 0.0611703</td><td style=\"text-align: right;\"> 0.00813424</td><td style=\"text-align: right;\">-0.0688637</td><td style=\"text-align: right;\"> 0.1508    </td><td style=\"text-align: right;\">-0.00360739</td><td style=\"text-align: right;\"> 0.0921811 </td><td style=\"text-align: right;\"> 0.138241   </td><td style=\"text-align: right;\">-0.117111 </td><td style=\"text-align: right;\">-0.235415 </td><td style=\"text-align: right;\"> 0.0841958 </td><td style=\"text-align: right;\"> 0.0880682</td><td style=\"text-align: right;\">-0.133225 </td><td style=\"text-align: right;\">-0.0321164 </td><td style=\"text-align: right;\"> 0.0641001 </td><td style=\"text-align: right;\">-0.053368 </td><td style=\"text-align: right;\">-0.0726977</td><td style=\"text-align: right;\">-0.145889 </td><td style=\"text-align: right;\"> 0.0520019 </td><td style=\"text-align: right;\">-0.0718572</td><td style=\"text-align: right;\">-0.176017  </td><td style=\"text-align: right;\"> 0.0371041 </td><td style=\"text-align: right;\"> 0.158674 </td><td style=\"text-align: right;\"> 0.0554042</td><td style=\"text-align: right;\"> 0.00848453</td><td style=\"text-align: right;\">-0.041267  </td><td style=\"text-align: right;\"> 0.0150014 </td><td style=\"text-align: right;\">-0.0163349</td><td style=\"text-align: right;\">-0.00370767 </td><td style=\"text-align: right;\">0.175144 </td><td style=\"text-align: right;\"> 0.0130477 </td><td style=\"text-align: right;\"> 0.112052 </td><td style=\"text-align: right;\">-0.0536757 </td><td style=\"text-align: right;\">-0.098824  </td><td style=\"text-align: right;\">-0.0131357</td><td style=\"text-align: right;\"> 0.0453706  </td><td style=\"text-align: right;\">-0.0152432 </td><td style=\"text-align: right;\">-0.0348165 </td><td style=\"text-align: right;\">-0.133764  </td><td style=\"text-align: right;\"> 0.0362345</td></tr>\n",
       "<tr><td style=\"text-align: right;\"> 0.0560245</td><td style=\"text-align: right;\">-0.058401 </td><td style=\"text-align: right;\"> 0.164942  </td><td style=\"text-align: right;\"> 0.0703506 </td><td style=\"text-align: right;\">-0.0476878</td><td style=\"text-align: right;\"> 0.164793 </td><td style=\"text-align: right;\">-0.0499999</td><td style=\"text-align: right;\">-0.123435 </td><td style=\"text-align: right;\"> 0.0924741 </td><td style=\"text-align: right;\"> 0.0141972 </td><td style=\"text-align: right;\">-0.130689  </td><td style=\"text-align: right;\"> 0.130842  </td><td style=\"text-align: right;\">-0.0498206 </td><td style=\"text-align: right;\">0.201381</td><td style=\"text-align: right;\"> 0.120125 </td><td style=\"text-align: right;\">-0.0492466</td><td style=\"text-align: right;\"> 0.0687634 </td><td style=\"text-align: right;\">-0.107686 </td><td style=\"text-align: right;\"> 0.0187308</td><td style=\"text-align: right;\"> 0.0305042 </td><td style=\"text-align: right;\">-0.0427067</td><td style=\"text-align: right;\"> 0.104504  </td><td style=\"text-align: right;\">-0.235232 </td><td style=\"text-align: right;\">-0.0924881 </td><td style=\"text-align: right;\"> 0.044094 </td><td style=\"text-align: right;\">-0.0854511</td><td style=\"text-align: right;\">-0.0261955</td><td style=\"text-align: right;\"> 0.0378974 </td><td style=\"text-align: right;\"> 0.0188159</td><td style=\"text-align: right;\"> 0.0677833</td><td style=\"text-align: right;\"> 0.00812819</td><td style=\"text-align: right;\"> 0.0502066</td><td style=\"text-align: right;\"> 0.130502 </td><td style=\"text-align: right;\"> 0.0790179  </td><td style=\"text-align: right;\"> 0.017534 </td><td style=\"text-align: right;\"> 0.0480997  </td><td style=\"text-align: right;\"> 0.0252324 </td><td style=\"text-align: right;\"> 0.0664753</td><td style=\"text-align: right;\">-0.167453 </td><td style=\"text-align: right;\"> 0.0103843</td><td style=\"text-align: right;\">-0.0194064 </td><td style=\"text-align: right;\"> 0.0506962 </td><td style=\"text-align: right;\"> 0.0842848</td><td style=\"text-align: right;\">-0.103715  </td><td style=\"text-align: right;\">-0.0548812 </td><td style=\"text-align: right;\"> 0.100362 </td><td style=\"text-align: right;\">-0.0418   </td><td style=\"text-align: right;\"> 0.168366 </td><td style=\"text-align: right;\">-0.0749091 </td><td style=\"text-align: right;\"> 0.0592347 </td><td style=\"text-align: right;\"> 0.0521234 </td><td style=\"text-align: right;\">-0.0215844</td><td style=\"text-align: right;\">-0.239579 </td><td style=\"text-align: right;\">-0.0246836 </td><td style=\"text-align: right;\">0.0610119 </td><td style=\"text-align: right;\"> 0.0842476  </td><td style=\"text-align: right;\">0.0179112</td><td style=\"text-align: right;\">-0.077004 </td><td style=\"text-align: right;\">-0.0803946</td><td style=\"text-align: right;\"> 0.0655031</td><td style=\"text-align: right;\">-0.0363835</td><td style=\"text-align: right;\"> 0.0431757</td><td style=\"text-align: right;\">-0.0361783 </td><td style=\"text-align: right;\">-0.0289436</td><td style=\"text-align: right;\">-0.0138448 </td><td style=\"text-align: right;\">-0.00692997</td><td style=\"text-align: right;\"> 0.115591  </td><td style=\"text-align: right;\"> 0.110991   </td><td style=\"text-align: right;\">-0.267832 </td><td style=\"text-align: right;\">-0.223705 </td><td style=\"text-align: right;\">-0.109144  </td><td style=\"text-align: right;\"> 0.0978345</td><td style=\"text-align: right;\">-0.103648 </td><td style=\"text-align: right;\"> 0.112352  </td><td style=\"text-align: right;\"> 0.0791176 </td><td style=\"text-align: right;\"> 0.0416704</td><td style=\"text-align: right;\"> 0.0454306</td><td style=\"text-align: right;\">-0.0848762</td><td style=\"text-align: right;\"> 0.0223682 </td><td style=\"text-align: right;\">-0.0579225</td><td style=\"text-align: right;\">-0.156942  </td><td style=\"text-align: right;\"> 0.0465229 </td><td style=\"text-align: right;\"> 0.142546 </td><td style=\"text-align: right;\"> 0.143273 </td><td style=\"text-align: right;\"> 0.0130833 </td><td style=\"text-align: right;\">-0.0891467 </td><td style=\"text-align: right;\">-0.0428683 </td><td style=\"text-align: right;\"> 0.0168825</td><td style=\"text-align: right;\"> 0.0777534  </td><td style=\"text-align: right;\">0.221181 </td><td style=\"text-align: right;\"> 0.026618  </td><td style=\"text-align: right;\">-0.0342779</td><td style=\"text-align: right;\">-0.032666  </td><td style=\"text-align: right;\">-0.0555018 </td><td style=\"text-align: right;\">-0.0287678</td><td style=\"text-align: right;\">-0.00442444 </td><td style=\"text-align: right;\"> 0.110649  </td><td style=\"text-align: right;\">-0.0292328 </td><td style=\"text-align: right;\"> 0.00287684</td><td style=\"text-align: right;\">-0.0820382</td></tr>\n",
       "<tr><td style=\"text-align: right;\"> 0.0816614</td><td style=\"text-align: right;\">-0.0780442</td><td style=\"text-align: right;\">-0.0598833 </td><td style=\"text-align: right;\"> 0.00596877</td><td style=\"text-align: right;\">-0.0356241</td><td style=\"text-align: right;\"> 0.0600756</td><td style=\"text-align: right;\">-0.0120097</td><td style=\"text-align: right;\">-0.128025 </td><td style=\"text-align: right;\"> 0.0461881 </td><td style=\"text-align: right;\"> 0.0219284 </td><td style=\"text-align: right;\"> 0.00969116</td><td style=\"text-align: right;\"> 0.0402924 </td><td style=\"text-align: right;\">-0.0797552 </td><td style=\"text-align: right;\">0.127467</td><td style=\"text-align: right;\"> 0.118226 </td><td style=\"text-align: right;\">-0.0114146</td><td style=\"text-align: right;\"> 0.132465  </td><td style=\"text-align: right;\">-0.0813027</td><td style=\"text-align: right;\">-0.128159 </td><td style=\"text-align: right;\"> 0.102426  </td><td style=\"text-align: right;\">-0.0481983</td><td style=\"text-align: right;\">-0.0111946 </td><td style=\"text-align: right;\">-0.137662 </td><td style=\"text-align: right;\">-0.101156  </td><td style=\"text-align: right;\"> 0.0637788</td><td style=\"text-align: right;\">-0.0903994</td><td style=\"text-align: right;\">-0.0557284</td><td style=\"text-align: right;\"> 0.0633556 </td><td style=\"text-align: right;\"> 0.0491887</td><td style=\"text-align: right;\"> 0.13394  </td><td style=\"text-align: right;\">-0.0165187 </td><td style=\"text-align: right;\">-0.0461188</td><td style=\"text-align: right;\"> 0.138623 </td><td style=\"text-align: right;\"> 6.53201e-05</td><td style=\"text-align: right;\">-0.0299311</td><td style=\"text-align: right;\"> 0.0869837  </td><td style=\"text-align: right;\"> 0.0360627 </td><td style=\"text-align: right;\">-0.100593 </td><td style=\"text-align: right;\">-0.115355 </td><td style=\"text-align: right;\">-0.0180725</td><td style=\"text-align: right;\">-0.0628791 </td><td style=\"text-align: right;\">-0.00579671</td><td style=\"text-align: right;\"> 0.157578 </td><td style=\"text-align: right;\">-0.00367089</td><td style=\"text-align: right;\"> 0.0160467 </td><td style=\"text-align: right;\"> 0.111118 </td><td style=\"text-align: right;\">-0.0840824</td><td style=\"text-align: right;\"> 0.143732 </td><td style=\"text-align: right;\">-0.077691  </td><td style=\"text-align: right;\"> 0.123589  </td><td style=\"text-align: right;\"> 0.0437436 </td><td style=\"text-align: right;\">-0.041495 </td><td style=\"text-align: right;\">-0.144288 </td><td style=\"text-align: right;\">-0.0260647 </td><td style=\"text-align: right;\">0.0998682 </td><td style=\"text-align: right;\">-0.016816   </td><td style=\"text-align: right;\">0.090609 </td><td style=\"text-align: right;\">-0.0878382</td><td style=\"text-align: right;\">-0.0130674</td><td style=\"text-align: right;\">-0.048404 </td><td style=\"text-align: right;\">-0.0714008</td><td style=\"text-align: right;\">-0.115815 </td><td style=\"text-align: right;\">-0.0623054 </td><td style=\"text-align: right;\">-0.0636015</td><td style=\"text-align: right;\"> 0.0256092 </td><td style=\"text-align: right;\">-0.0905298 </td><td style=\"text-align: right;\"> 0.0607689 </td><td style=\"text-align: right;\"> 0.114946   </td><td style=\"text-align: right;\">-0.106374 </td><td style=\"text-align: right;\">-0.149568 </td><td style=\"text-align: right;\"> 0.00323496</td><td style=\"text-align: right;\"> 0.042426 </td><td style=\"text-align: right;\">-0.0804212</td><td style=\"text-align: right;\">-0.0239731 </td><td style=\"text-align: right;\">-0.00435321</td><td style=\"text-align: right;\"> 0.0356099</td><td style=\"text-align: right;\"> 0.0116126</td><td style=\"text-align: right;\">-0.0377804</td><td style=\"text-align: right;\"> 0.0634597 </td><td style=\"text-align: right;\">-0.136348 </td><td style=\"text-align: right;\">-0.12801   </td><td style=\"text-align: right;\"> 0.0137335 </td><td style=\"text-align: right;\"> 0.087654 </td><td style=\"text-align: right;\">-0.0268322</td><td style=\"text-align: right;\"> 0.00383532</td><td style=\"text-align: right;\">-0.00683491</td><td style=\"text-align: right;\">-0.00296366</td><td style=\"text-align: right;\"> 0.0537765</td><td style=\"text-align: right;\">-0.0124257  </td><td style=\"text-align: right;\">0.139096 </td><td style=\"text-align: right;\">-0.0749791 </td><td style=\"text-align: right;\"> 0.106055 </td><td style=\"text-align: right;\"> 0.00197271</td><td style=\"text-align: right;\"> 0.00428118</td><td style=\"text-align: right;\">-0.0107872</td><td style=\"text-align: right;\"> 0.000889113</td><td style=\"text-align: right;\"> 0.0497044 </td><td style=\"text-align: right;\">-0.148322  </td><td style=\"text-align: right;\"> 0.0434185 </td><td style=\"text-align: right;\">-0.065695 </td></tr>\n",
       "<tr><td style=\"text-align: right;\"> 0.0588979</td><td style=\"text-align: right;\"> 0.0570993</td><td style=\"text-align: right;\">-0.140272  </td><td style=\"text-align: right;\">-0.102188  </td><td style=\"text-align: right;\">-0.108742 </td><td style=\"text-align: right;\"> 0.0883017</td><td style=\"text-align: right;\"> 0.0580401</td><td style=\"text-align: right;\">-0.118343 </td><td style=\"text-align: right;\">-0.0337609 </td><td style=\"text-align: right;\">-0.0736047 </td><td style=\"text-align: right;\">-0.0761339 </td><td style=\"text-align: right;\"> 0.0134348 </td><td style=\"text-align: right;\"> 0.00463673</td><td style=\"text-align: right;\">0.221151</td><td style=\"text-align: right;\"> 0.115617 </td><td style=\"text-align: right;\"> 0.101364 </td><td style=\"text-align: right;\">-0.0879726 </td><td style=\"text-align: right;\">-0.138183 </td><td style=\"text-align: right;\">-0.266936 </td><td style=\"text-align: right;\">-0.109993  </td><td style=\"text-align: right;\">-0.103532 </td><td style=\"text-align: right;\"> 0.0737391 </td><td style=\"text-align: right;\"> 0.0546819</td><td style=\"text-align: right;\">-0.0766494 </td><td style=\"text-align: right;\">-0.166165 </td><td style=\"text-align: right;\">-0.145624 </td><td style=\"text-align: right;\">-0.0967653</td><td style=\"text-align: right;\">-0.0210012 </td><td style=\"text-align: right;\"> 0.171621 </td><td style=\"text-align: right;\"> 0.122218 </td><td style=\"text-align: right;\"> 0.0486323 </td><td style=\"text-align: right;\"> 0.0027657</td><td style=\"text-align: right;\">-0.0124686</td><td style=\"text-align: right;\"> 0.0106827  </td><td style=\"text-align: right;\">-0.0433788</td><td style=\"text-align: right;\"> 0.0674223  </td><td style=\"text-align: right;\">-0.00999191</td><td style=\"text-align: right;\"> 0.0485932</td><td style=\"text-align: right;\"> 0.0810674</td><td style=\"text-align: right;\"> 0.0579936</td><td style=\"text-align: right;\"> 0.0322392 </td><td style=\"text-align: right;\"> 0.0823334 </td><td style=\"text-align: right;\"> 0.241588 </td><td style=\"text-align: right;\">-0.0414941 </td><td style=\"text-align: right;\"> 0.129983  </td><td style=\"text-align: right;\"> 0.0407565</td><td style=\"text-align: right;\">-0.0532714</td><td style=\"text-align: right;\">-0.0264346</td><td style=\"text-align: right;\"> 0.0450739 </td><td style=\"text-align: right;\">-0.0179341 </td><td style=\"text-align: right;\">-0.0197592 </td><td style=\"text-align: right;\"> 0.0629368</td><td style=\"text-align: right;\">-0.117673 </td><td style=\"text-align: right;\"> 0.159071  </td><td style=\"text-align: right;\">0.00508235</td><td style=\"text-align: right;\">-0.239444   </td><td style=\"text-align: right;\">0.0200305</td><td style=\"text-align: right;\"> 0.0165043</td><td style=\"text-align: right;\">-0.206214 </td><td style=\"text-align: right;\"> 0.0647554</td><td style=\"text-align: right;\">-0.317827 </td><td style=\"text-align: right;\">-0.106039 </td><td style=\"text-align: right;\"> 0.0829522 </td><td style=\"text-align: right;\">-0.0550845</td><td style=\"text-align: right;\">-0.0678472 </td><td style=\"text-align: right;\">-0.0019142 </td><td style=\"text-align: right;\"> 0.0392503 </td><td style=\"text-align: right;\">-6.21565e-05</td><td style=\"text-align: right;\"> 0.0289005</td><td style=\"text-align: right;\">-0.146311 </td><td style=\"text-align: right;\"> 0.194452  </td><td style=\"text-align: right;\">-0.159841 </td><td style=\"text-align: right;\"> 0.0113721</td><td style=\"text-align: right;\"> 0.130924  </td><td style=\"text-align: right;\">-0.025558  </td><td style=\"text-align: right;\">-0.0763924</td><td style=\"text-align: right;\">-0.0614581</td><td style=\"text-align: right;\"> 0.0546804</td><td style=\"text-align: right;\">-0.0107104 </td><td style=\"text-align: right;\"> 0.0176061</td><td style=\"text-align: right;\">-0.212826  </td><td style=\"text-align: right;\">-0.102521  </td><td style=\"text-align: right;\"> 0.0186372</td><td style=\"text-align: right;\"> 0.16578  </td><td style=\"text-align: right;\"> 0.0122007 </td><td style=\"text-align: right;\">-0.00715518</td><td style=\"text-align: right;\"> 0.0921436 </td><td style=\"text-align: right;\"> 0.0200987</td><td style=\"text-align: right;\"> 0.0816562  </td><td style=\"text-align: right;\">0.0503858</td><td style=\"text-align: right;\">-0.237084  </td><td style=\"text-align: right;\"> 0.0716334</td><td style=\"text-align: right;\">-0.0320839 </td><td style=\"text-align: right;\">-0.150674  </td><td style=\"text-align: right;\">-0.0599328</td><td style=\"text-align: right;\">-0.0558207  </td><td style=\"text-align: right;\">-0.0663496 </td><td style=\"text-align: right;\"> 0.0590676 </td><td style=\"text-align: right;\">-0.0375327 </td><td style=\"text-align: right;\"> 0.0295214</td></tr>\n",
       "<tr><td style=\"text-align: right;\"> 0.186663 </td><td style=\"text-align: right;\">-0.0507311</td><td style=\"text-align: right;\"> 0.0539503 </td><td style=\"text-align: right;\">-0.0839895 </td><td style=\"text-align: right;\">-0.0833662</td><td style=\"text-align: right;\"> 0.12173  </td><td style=\"text-align: right;\">-0.0230183</td><td style=\"text-align: right;\">-0.172209 </td><td style=\"text-align: right;\">-0.0418314 </td><td style=\"text-align: right;\"> 0.136664  </td><td style=\"text-align: right;\">-0.0648005 </td><td style=\"text-align: right;\"> 0.186676  </td><td style=\"text-align: right;\">-0.0213429 </td><td style=\"text-align: right;\">0.115238</td><td style=\"text-align: right;\">-0.073501 </td><td style=\"text-align: right;\">-0.227613 </td><td style=\"text-align: right;\"> 0.0757635 </td><td style=\"text-align: right;\">-0.070878 </td><td style=\"text-align: right;\">-0.173977 </td><td style=\"text-align: right;\">-0.0660629 </td><td style=\"text-align: right;\">-0.103309 </td><td style=\"text-align: right;\"> 0.162988  </td><td style=\"text-align: right;\">-0.0685334</td><td style=\"text-align: right;\">-0.0575773 </td><td style=\"text-align: right;\">-0.106442 </td><td style=\"text-align: right;\">-0.122241 </td><td style=\"text-align: right;\">-0.0469066</td><td style=\"text-align: right;\"> 0.00223323</td><td style=\"text-align: right;\"> 0.231168 </td><td style=\"text-align: right;\"> 0.108209 </td><td style=\"text-align: right;\">-0.0603355 </td><td style=\"text-align: right;\"> 0.0598888</td><td style=\"text-align: right;\">-0.0582106</td><td style=\"text-align: right;\">-0.131823   </td><td style=\"text-align: right;\"> 0.0898541</td><td style=\"text-align: right;\"> 0.000964465</td><td style=\"text-align: right;\"> 0.0255565 </td><td style=\"text-align: right;\"> 0.0881339</td><td style=\"text-align: right;\">-0.185098 </td><td style=\"text-align: right;\">-0.0146972</td><td style=\"text-align: right;\">-0.118864  </td><td style=\"text-align: right;\"> 0.00506866</td><td style=\"text-align: right;\"> 0.102861 </td><td style=\"text-align: right;\"> 0.0567685 </td><td style=\"text-align: right;\"> 0.0210363 </td><td style=\"text-align: right;\"> 0.179159 </td><td style=\"text-align: right;\"> 0.149468 </td><td style=\"text-align: right;\"> 0.151886 </td><td style=\"text-align: right;\">-0.0193224 </td><td style=\"text-align: right;\">-0.00350115</td><td style=\"text-align: right;\"> 0.108153  </td><td style=\"text-align: right;\"> 0.0213718</td><td style=\"text-align: right;\">-0.191998 </td><td style=\"text-align: right;\">-0.0569854 </td><td style=\"text-align: right;\">0.014663  </td><td style=\"text-align: right;\">-0.000596844</td><td style=\"text-align: right;\">0.102807 </td><td style=\"text-align: right;\"> 0.132164 </td><td style=\"text-align: right;\">-0.101176 </td><td style=\"text-align: right;\"> 0.134587 </td><td style=\"text-align: right;\">-0.127595 </td><td style=\"text-align: right;\"> 0.0288455</td><td style=\"text-align: right;\">-0.0332076 </td><td style=\"text-align: right;\">-0.104451 </td><td style=\"text-align: right;\"> 0.0814004 </td><td style=\"text-align: right;\"> 0.0659895 </td><td style=\"text-align: right;\">-0.00371389</td><td style=\"text-align: right;\"> 0.0364875  </td><td style=\"text-align: right;\">-0.0714052</td><td style=\"text-align: right;\">-0.214659 </td><td style=\"text-align: right;\">-0.0868865 </td><td style=\"text-align: right;\">-0.0150597</td><td style=\"text-align: right;\"> 0.0169528</td><td style=\"text-align: right;\"> 0.247168  </td><td style=\"text-align: right;\">-0.00704149</td><td style=\"text-align: right;\"> 0.045046 </td><td style=\"text-align: right;\"> 0.0129906</td><td style=\"text-align: right;\">-0.077777 </td><td style=\"text-align: right;\"> 0.117486  </td><td style=\"text-align: right;\">-0.0225229</td><td style=\"text-align: right;\">-0.130212  </td><td style=\"text-align: right;\"> 0.0644283 </td><td style=\"text-align: right;\"> 0.0869275</td><td style=\"text-align: right;\"> 0.219762 </td><td style=\"text-align: right;\">-0.0433337 </td><td style=\"text-align: right;\">-0.00982364</td><td style=\"text-align: right;\"> 0.0980631 </td><td style=\"text-align: right;\"> 0.0131377</td><td style=\"text-align: right;\"> 0.00151722 </td><td style=\"text-align: right;\">0.219041 </td><td style=\"text-align: right;\">-0.103348  </td><td style=\"text-align: right;\"> 0.0600147</td><td style=\"text-align: right;\"> 0.0983846 </td><td style=\"text-align: right;\"> 0.0194526 </td><td style=\"text-align: right;\">-0.0743883</td><td style=\"text-align: right;\"> 0.0034479  </td><td style=\"text-align: right;\"> 0.0269722 </td><td style=\"text-align: right;\"> 0.00519634</td><td style=\"text-align: right;\">-0.0716108 </td><td style=\"text-align: right;\">-0.0588448</td></tr>\n",
       "<tr><td style=\"text-align: right;\"> 0.111861 </td><td style=\"text-align: right;\">-0.0175778</td><td style=\"text-align: right;\">-0.0455895 </td><td style=\"text-align: right;\"> 0.0584721 </td><td style=\"text-align: right;\">-0.159905 </td><td style=\"text-align: right;\"> 0.268178 </td><td style=\"text-align: right;\">-0.114498 </td><td style=\"text-align: right;\">-0.0408069</td><td style=\"text-align: right;\">-0.00405423</td><td style=\"text-align: right;\"> 0.00289692</td><td style=\"text-align: right;\"> 0.0535278 </td><td style=\"text-align: right;\"> 0.0540287 </td><td style=\"text-align: right;\"> 0.113725  </td><td style=\"text-align: right;\">0.338998</td><td style=\"text-align: right;\"> 0.0912385</td><td style=\"text-align: right;\">-0.144772 </td><td style=\"text-align: right;\">-0.100135  </td><td style=\"text-align: right;\">-0.072596 </td><td style=\"text-align: right;\">-0.105775 </td><td style=\"text-align: right;\"> 0.00607172</td><td style=\"text-align: right;\">-0.0466071</td><td style=\"text-align: right;\">-0.0221772 </td><td style=\"text-align: right;\">-0.1533   </td><td style=\"text-align: right;\">-0.00870052</td><td style=\"text-align: right;\">-0.0584107</td><td style=\"text-align: right;\">-0.134375 </td><td style=\"text-align: right;\">-0.179873 </td><td style=\"text-align: right;\">-0.0187242 </td><td style=\"text-align: right;\"> 0.279432 </td><td style=\"text-align: right;\"> 0.0432753</td><td style=\"text-align: right;\">-0.0623145 </td><td style=\"text-align: right;\">-0.0138881</td><td style=\"text-align: right;\"> 0.15119  </td><td style=\"text-align: right;\"> 0.0248224  </td><td style=\"text-align: right;\">-0.0609419</td><td style=\"text-align: right;\"> 0.0644006  </td><td style=\"text-align: right;\"> 0.0605424 </td><td style=\"text-align: right;\">-0.0591285</td><td style=\"text-align: right;\">-0.186449 </td><td style=\"text-align: right;\"> 0.0828806</td><td style=\"text-align: right;\">-0.0793485 </td><td style=\"text-align: right;\"> 0.0602771 </td><td style=\"text-align: right;\">-0.0155721</td><td style=\"text-align: right;\">-0.00694167</td><td style=\"text-align: right;\">-0.229805  </td><td style=\"text-align: right;\"> 0.1632   </td><td style=\"text-align: right;\">-0.102686 </td><td style=\"text-align: right;\"> 0.185344 </td><td style=\"text-align: right;\">-0.0880311 </td><td style=\"text-align: right;\"> 0.0912871 </td><td style=\"text-align: right;\"> 0.00353745</td><td style=\"text-align: right;\">-0.141722 </td><td style=\"text-align: right;\">-0.144983 </td><td style=\"text-align: right;\"> 0.0496228 </td><td style=\"text-align: right;\">0.00212094</td><td style=\"text-align: right;\"> 0.171326   </td><td style=\"text-align: right;\">0.109481 </td><td style=\"text-align: right;\">-0.01777  </td><td style=\"text-align: right;\">-0.12266  </td><td style=\"text-align: right;\">-0.0454299</td><td style=\"text-align: right;\">-0.235575 </td><td style=\"text-align: right;\">-0.0962572</td><td style=\"text-align: right;\"> 0.084789  </td><td style=\"text-align: right;\">-0.134774 </td><td style=\"text-align: right;\"> 0.00163609</td><td style=\"text-align: right;\"> 0.00828725</td><td style=\"text-align: right;\"> 0.0141876 </td><td style=\"text-align: right;\"> 0.134536   </td><td style=\"text-align: right;\">-0.174497 </td><td style=\"text-align: right;\">-0.208365 </td><td style=\"text-align: right;\"> 0.0405273 </td><td style=\"text-align: right;\">-0.0526065</td><td style=\"text-align: right;\">-0.102353 </td><td style=\"text-align: right;\"> 0.0727464 </td><td style=\"text-align: right;\">-0.0225736 </td><td style=\"text-align: right;\"> 0.116719 </td><td style=\"text-align: right;\"> 0.210598 </td><td style=\"text-align: right;\">-0.0794329</td><td style=\"text-align: right;\"> 0.00954232</td><td style=\"text-align: right;\">-0.0685034</td><td style=\"text-align: right;\">-0.0918756 </td><td style=\"text-align: right;\"> 0.0653776 </td><td style=\"text-align: right;\"> 0.0242512</td><td style=\"text-align: right;\"> 0.108387 </td><td style=\"text-align: right;\">-0.119456  </td><td style=\"text-align: right;\"> 0.0387405 </td><td style=\"text-align: right;\"> 0.00493584</td><td style=\"text-align: right;\"> 0.0488159</td><td style=\"text-align: right;\">-0.00779908 </td><td style=\"text-align: right;\">0.145253 </td><td style=\"text-align: right;\">-0.0450449 </td><td style=\"text-align: right;\"> 0.020908 </td><td style=\"text-align: right;\"> 0.0451345 </td><td style=\"text-align: right;\">-0.150215  </td><td style=\"text-align: right;\">-0.0437348</td><td style=\"text-align: right;\">-0.111525   </td><td style=\"text-align: right;\"> 0.13206   </td><td style=\"text-align: right;\"> 0.0866566 </td><td style=\"text-align: right;\">-0.0295329 </td><td style=\"text-align: right;\">-0.109833 </td></tr>\n",
       "<tr><td style=\"text-align: right;\"> 0.0595674</td><td style=\"text-align: right;\">-0.0600796</td><td style=\"text-align: right;\"> 0.0402223 </td><td style=\"text-align: right;\"> 0.100839  </td><td style=\"text-align: right;\">-0.101873 </td><td style=\"text-align: right;\"> 0.0647246</td><td style=\"text-align: right;\">-0.0400216</td><td style=\"text-align: right;\">-0.0892553</td><td style=\"text-align: right;\">-0.0161753 </td><td style=\"text-align: right;\">-0.0128828 </td><td style=\"text-align: right;\">-0.0198632 </td><td style=\"text-align: right;\"> 0.116296  </td><td style=\"text-align: right;\"> 0.0301396 </td><td style=\"text-align: right;\">0.157443</td><td style=\"text-align: right;\"> 0.061145 </td><td style=\"text-align: right;\"> 0.028861 </td><td style=\"text-align: right;\">-0.00964695</td><td style=\"text-align: right;\">-0.0865227</td><td style=\"text-align: right;\">-0.0144108</td><td style=\"text-align: right;\"> 0.0938461 </td><td style=\"text-align: right;\">-0.0109913</td><td style=\"text-align: right;\"> 0.0808375 </td><td style=\"text-align: right;\">-0.0833464</td><td style=\"text-align: right;\">-0.0386479 </td><td style=\"text-align: right;\"> 0.0223035</td><td style=\"text-align: right;\">-0.0925334</td><td style=\"text-align: right;\">-0.0470514</td><td style=\"text-align: right;\"> 0.0623201 </td><td style=\"text-align: right;\"> 0.148092 </td><td style=\"text-align: right;\"> 0.0202818</td><td style=\"text-align: right;\"> 0.106132  </td><td style=\"text-align: right;\">-0.037291 </td><td style=\"text-align: right;\"> 0.130959 </td><td style=\"text-align: right;\"> 0.0913292  </td><td style=\"text-align: right;\">-0.0142165</td><td style=\"text-align: right;\"> 0.0148817  </td><td style=\"text-align: right;\"> 0.01491   </td><td style=\"text-align: right;\">-0.0447527</td><td style=\"text-align: right;\">-0.0789681</td><td style=\"text-align: right;\"> 0.0914419</td><td style=\"text-align: right;\">-0.0455416 </td><td style=\"text-align: right;\">-0.0343969 </td><td style=\"text-align: right;\">-0.0461367</td><td style=\"text-align: right;\">-0.0188458 </td><td style=\"text-align: right;\">-0.0127287 </td><td style=\"text-align: right;\"> 0.0644116</td><td style=\"text-align: right;\"> 0.0127725</td><td style=\"text-align: right;\"> 0.136421 </td><td style=\"text-align: right;\">-0.00084687</td><td style=\"text-align: right;\">-0.107099  </td><td style=\"text-align: right;\">-0.0231657 </td><td style=\"text-align: right;\">-0.0213305</td><td style=\"text-align: right;\">-0.0708998</td><td style=\"text-align: right;\">-0.107018  </td><td style=\"text-align: right;\">0.0457132 </td><td style=\"text-align: right;\"> 0.152501   </td><td style=\"text-align: right;\">0.117874 </td><td style=\"text-align: right;\"> 0.0621956</td><td style=\"text-align: right;\">-0.122337 </td><td style=\"text-align: right;\">-0.0103001</td><td style=\"text-align: right;\">-0.0645658</td><td style=\"text-align: right;\"> 0.0392037</td><td style=\"text-align: right;\"> 0.0507403 </td><td style=\"text-align: right;\">-0.120631 </td><td style=\"text-align: right;\"> 0.00179547</td><td style=\"text-align: right;\"> 0.0104878 </td><td style=\"text-align: right;\"> 0.0642404 </td><td style=\"text-align: right;\"> 0.0819323  </td><td style=\"text-align: right;\">-0.145596 </td><td style=\"text-align: right;\">-0.0552142</td><td style=\"text-align: right;\"> 0.0773244 </td><td style=\"text-align: right;\"> 0.0298298</td><td style=\"text-align: right;\">-0.112675 </td><td style=\"text-align: right;\"> 0.0294968 </td><td style=\"text-align: right;\"> 0.0805813 </td><td style=\"text-align: right;\">-0.0112096</td><td style=\"text-align: right;\"> 0.082004 </td><td style=\"text-align: right;\">-0.130557 </td><td style=\"text-align: right;\"> 0.00156025</td><td style=\"text-align: right;\">-0.0971742</td><td style=\"text-align: right;\"> 0.00964811</td><td style=\"text-align: right;\"> 0.0156337 </td><td style=\"text-align: right;\"> 0.0431134</td><td style=\"text-align: right;\"> 0.0400819</td><td style=\"text-align: right;\">-0.0771784 </td><td style=\"text-align: right;\">-0.0538939 </td><td style=\"text-align: right;\">-0.0536644 </td><td style=\"text-align: right;\">-0.0306815</td><td style=\"text-align: right;\"> 0.0609479  </td><td style=\"text-align: right;\">0.12467  </td><td style=\"text-align: right;\">-0.00162863</td><td style=\"text-align: right;\"> 0.0693577</td><td style=\"text-align: right;\">-0.040389  </td><td style=\"text-align: right;\">-0.0117826 </td><td style=\"text-align: right;\"> 0.0292428</td><td style=\"text-align: right;\">-0.0290265  </td><td style=\"text-align: right;\"> 0.0178953 </td><td style=\"text-align: right;\"> 0.00956747</td><td style=\"text-align: right;\"> 0.0838614 </td><td style=\"text-align: right;\">-0.0676301</td></tr>\n",
       "<tr><td style=\"text-align: right;\"> 0.147115 </td><td style=\"text-align: right;\">-0.0157101</td><td style=\"text-align: right;\"> 0.0844223 </td><td style=\"text-align: right;\"> 0.0204363 </td><td style=\"text-align: right;\"> 0.0203818</td><td style=\"text-align: right;\"> 0.071912 </td><td style=\"text-align: right;\"> 0.0839601</td><td style=\"text-align: right;\">-0.225012 </td><td style=\"text-align: right;\">-0.0403886 </td><td style=\"text-align: right;\"> 0.163411  </td><td style=\"text-align: right;\">-0.0691409 </td><td style=\"text-align: right;\"> 0.0815342 </td><td style=\"text-align: right;\">-0.12524   </td><td style=\"text-align: right;\">0.152463</td><td style=\"text-align: right;\"> 0.125445 </td><td style=\"text-align: right;\">-0.0749193</td><td style=\"text-align: right;\"> 0.107149  </td><td style=\"text-align: right;\">-0.0668527</td><td style=\"text-align: right;\"> 0.0464024</td><td style=\"text-align: right;\">-0.0470891 </td><td style=\"text-align: right;\"> 0.0260911</td><td style=\"text-align: right;\"> 0.0108472 </td><td style=\"text-align: right;\">-0.25383  </td><td style=\"text-align: right;\">-0.0719861 </td><td style=\"text-align: right;\"> 0.074585 </td><td style=\"text-align: right;\">-0.206148 </td><td style=\"text-align: right;\">-0.0773064</td><td style=\"text-align: right;\">-0.0266801 </td><td style=\"text-align: right;\">-0.0585777</td><td style=\"text-align: right;\"> 0.0935458</td><td style=\"text-align: right;\"> 0.0208948 </td><td style=\"text-align: right;\"> 0.0575537</td><td style=\"text-align: right;\"> 0.184953 </td><td style=\"text-align: right;\"> 0.10755    </td><td style=\"text-align: right;\">-0.0707052</td><td style=\"text-align: right;\"> 0.0220272  </td><td style=\"text-align: right;\"> 0.107746  </td><td style=\"text-align: right;\"> 0.0827908</td><td style=\"text-align: right;\">-0.117999 </td><td style=\"text-align: right;\"> 0.123667 </td><td style=\"text-align: right;\"> 0.00370945</td><td style=\"text-align: right;\">-0.156073  </td><td style=\"text-align: right;\"> 0.0702237</td><td style=\"text-align: right;\"> 0.0761836 </td><td style=\"text-align: right;\"> 0.0213602 </td><td style=\"text-align: right;\"> 0.0905076</td><td style=\"text-align: right;\"> 0.0545999</td><td style=\"text-align: right;\"> 0.240133 </td><td style=\"text-align: right;\">-0.0103694 </td><td style=\"text-align: right;\">-0.0532551 </td><td style=\"text-align: right;\"> 0.034129  </td><td style=\"text-align: right;\">-0.200017 </td><td style=\"text-align: right;\">-0.0905395</td><td style=\"text-align: right;\">-0.128142  </td><td style=\"text-align: right;\">0.0683256 </td><td style=\"text-align: right;\"> 0.18673    </td><td style=\"text-align: right;\">0.103996 </td><td style=\"text-align: right;\">-0.13036  </td><td style=\"text-align: right;\">-0.222365 </td><td style=\"text-align: right;\">-0.0416162</td><td style=\"text-align: right;\">-0.0620939</td><td style=\"text-align: right;\">-0.0717059</td><td style=\"text-align: right;\"> 0.110034  </td><td style=\"text-align: right;\">-0.0202052</td><td style=\"text-align: right;\">-0.0986861 </td><td style=\"text-align: right;\"> 0.0110627 </td><td style=\"text-align: right;\"> 0.115435  </td><td style=\"text-align: right;\"> 0.137496   </td><td style=\"text-align: right;\">-0.244425 </td><td style=\"text-align: right;\">-0.221579 </td><td style=\"text-align: right;\"> 0.0172515 </td><td style=\"text-align: right;\"> 0.120601 </td><td style=\"text-align: right;\">-0.0653628</td><td style=\"text-align: right;\"> 0.0760805 </td><td style=\"text-align: right;\"> 0.113961  </td><td style=\"text-align: right;\">-0.0245529</td><td style=\"text-align: right;\">-0.0351144</td><td style=\"text-align: right;\">-0.0542886</td><td style=\"text-align: right;\"> 0.028838  </td><td style=\"text-align: right;\">-0.0749724</td><td style=\"text-align: right;\">-0.164878  </td><td style=\"text-align: right;\"> 0.00194392</td><td style=\"text-align: right;\"> 0.135689 </td><td style=\"text-align: right;\">-0.141336 </td><td style=\"text-align: right;\">-0.0240333 </td><td style=\"text-align: right;\"> 0.0298595 </td><td style=\"text-align: right;\">-0.114962  </td><td style=\"text-align: right;\"> 0.0182088</td><td style=\"text-align: right;\">-0.0962604  </td><td style=\"text-align: right;\">0.0855755</td><td style=\"text-align: right;\">-0.110828  </td><td style=\"text-align: right;\"> 0.0219161</td><td style=\"text-align: right;\">-0.104505  </td><td style=\"text-align: right;\"> 0.015987  </td><td style=\"text-align: right;\"> 0.0499764</td><td style=\"text-align: right;\"> 0.0144893  </td><td style=\"text-align: right;\"> 0.174896  </td><td style=\"text-align: right;\">-0.0702601 </td><td style=\"text-align: right;\">-0.0616357 </td><td style=\"text-align: right;\">-0.104388 </td></tr>\n",
       "</tbody>\n",
       "</table>"
      ]
     },
     "metadata": {},
     "output_type": "display_data"
    },
    {
     "name": "stdout",
     "output_type": "stream",
     "text": [
      "\n"
     ]
    }
   ],
   "source": [
    "print(\"Calculate a vector for each train tweet\")\n",
    "tweet_vecs_train = w2v_model_one.transform(train_words, aggregate_method = \"AVERAGE\")\n",
    "print(tweet_vecs_train)"
   ]
  },
  {
   "cell_type": "code",
   "execution_count": 11,
   "metadata": {},
   "outputs": [
    {
     "name": "stdout",
     "output_type": "stream",
     "text": [
      "Calculate a vector for each test tweet\n"
     ]
    }
   ],
   "source": [
    "print(\"Calculate a vector for each test tweet\")\n",
    "tweet_vecs_test = w2v_model_two.transform(test_words, aggregate_method = \"AVERAGE\")"
   ]
  },
  {
   "cell_type": "code",
   "execution_count": 12,
   "metadata": {},
   "outputs": [],
   "source": [
    "# see lines 10 to 12 in the demo for word2Vec for using ml on the vecs and such\n",
    "#print(tweet_vecs)"
   ]
  },
  {
   "cell_type": "code",
   "execution_count": 16,
   "metadata": {},
   "outputs": [],
   "source": [
    "# preparing the train and test data sets\n",
    "# now convert tweet vecs and labels to a pandas dataframe and back to h2o dataframe\n",
    "# data = job_titles[valid_job_titles,:].cbind(job_title_vecs[valid_job_titles,:])\n",
    "train = tweet_vecs_train.cbind(train_data[\"labels\"])\n",
    "test = tweet_vecs_test.cbind(test_data[\"labels\"])\n"
   ]
  },
  {
   "cell_type": "code",
   "execution_count": 17,
   "metadata": {},
   "outputs": [],
   "source": [
    "# more on data prep\n",
    "x = train.columns         # x: A list/vector of predictor column names or indexes. \n",
    "                          # This argument only needs to be specified if the user wants to exclude columns from the \n",
    "                          # set of predictors. If all columns (other than the response) should be used in prediction, \n",
    "                          # then this does not need to be set.\n",
    "\n",
    "y = \"labels\"              # This argument is the name (or index) of the response column\n",
    "x.remove(y)\n",
    "\n",
    "# need to set train and test\n",
    "train[y] = train[y].asfactor()\n",
    "test[y] = test[y].asfactor()"
   ]
  },
  {
   "cell_type": "code",
   "execution_count": 18,
   "metadata": {},
   "outputs": [
    {
     "name": "stdout",
     "output_type": "stream",
     "text": [
      "AutoML progress: |████████████████████████████████████████████████████████| 100%\n"
     ]
    }
   ],
   "source": [
    "# now the AUTO-ML piece comes in\n",
    "aml = H2OAutoML(max_models=10) #max_models=10 or 20?, seed?\n",
    "aml.train(x=x, y=y, training_frame=train)"
   ]
  },
  {
   "cell_type": "code",
   "execution_count": 19,
   "metadata": {},
   "outputs": [
    {
     "data": {
      "text/html": [
       "<table>\n",
       "<thead>\n",
       "<tr><th>model_id                                           </th><th style=\"text-align: right;\">  mean_per_class_error</th><th style=\"text-align: right;\">  logloss</th><th style=\"text-align: right;\">    rmse</th><th style=\"text-align: right;\">     mse</th></tr>\n",
       "</thead>\n",
       "<tbody>\n",
       "<tr><td>StackedEnsemble_AllModels_AutoML_20190703_140214   </td><td style=\"text-align: right;\">              0.576218</td><td style=\"text-align: right;\"> 0.741973</td><td style=\"text-align: right;\">0.501935</td><td style=\"text-align: right;\">0.251938</td></tr>\n",
       "<tr><td>StackedEnsemble_BestOfFamily_AutoML_20190703_140214</td><td style=\"text-align: right;\">              0.577379</td><td style=\"text-align: right;\"> 0.742217</td><td style=\"text-align: right;\">0.502258</td><td style=\"text-align: right;\">0.252264</td></tr>\n",
       "<tr><td>GBM_2_AutoML_20190703_140214                       </td><td style=\"text-align: right;\">              0.593774</td><td style=\"text-align: right;\"> 0.750322</td><td style=\"text-align: right;\">0.501039</td><td style=\"text-align: right;\">0.25104 </td></tr>\n",
       "<tr><td>GBM_1_AutoML_20190703_140214                       </td><td style=\"text-align: right;\">              0.593868</td><td style=\"text-align: right;\"> 0.752957</td><td style=\"text-align: right;\">0.503496</td><td style=\"text-align: right;\">0.253508</td></tr>\n",
       "<tr><td>GBM_4_AutoML_20190703_140214                       </td><td style=\"text-align: right;\">              0.598151</td><td style=\"text-align: right;\"> 0.752089</td><td style=\"text-align: right;\">0.502336</td><td style=\"text-align: right;\">0.252342</td></tr>\n",
       "<tr><td>GLM_grid_1_AutoML_20190703_140214_model_1          </td><td style=\"text-align: right;\">              0.598855</td><td style=\"text-align: right;\"> 0.75415 </td><td style=\"text-align: right;\">0.506817</td><td style=\"text-align: right;\">0.256864</td></tr>\n",
       "<tr><td>GBM_3_AutoML_20190703_140214                       </td><td style=\"text-align: right;\">              0.59952 </td><td style=\"text-align: right;\"> 0.749502</td><td style=\"text-align: right;\">0.500959</td><td style=\"text-align: right;\">0.25096 </td></tr>\n",
       "<tr><td>XGBoost_1_AutoML_20190703_140214                   </td><td style=\"text-align: right;\">              0.600901</td><td style=\"text-align: right;\"> 0.737306</td><td style=\"text-align: right;\">0.499072</td><td style=\"text-align: right;\">0.249072</td></tr>\n",
       "<tr><td>DRF_1_AutoML_20190703_140214                       </td><td style=\"text-align: right;\">              0.610473</td><td style=\"text-align: right;\"> 2.11826 </td><td style=\"text-align: right;\">0.528776</td><td style=\"text-align: right;\">0.279604</td></tr>\n",
       "<tr><td>XGBoost_2_AutoML_20190703_140214                   </td><td style=\"text-align: right;\">              0.614561</td><td style=\"text-align: right;\"> 0.78781 </td><td style=\"text-align: right;\">0.533743</td><td style=\"text-align: right;\">0.284882</td></tr>\n",
       "<tr><td>XGBoost_3_AutoML_20190703_140214                   </td><td style=\"text-align: right;\">              0.630727</td><td style=\"text-align: right;\"> 0.797202</td><td style=\"text-align: right;\">0.538222</td><td style=\"text-align: right;\">0.289683</td></tr>\n",
       "<tr><td>GBM_5_AutoML_20190703_140214                       </td><td style=\"text-align: right;\">              0.631086</td><td style=\"text-align: right;\"> 0.788446</td><td style=\"text-align: right;\">0.532029</td><td style=\"text-align: right;\">0.283055</td></tr>\n",
       "</tbody>\n",
       "</table>"
      ]
     },
     "metadata": {},
     "output_type": "display_data"
    },
    {
     "data": {
      "text/plain": []
     },
     "execution_count": 19,
     "metadata": {},
     "output_type": "execute_result"
    }
   ],
   "source": [
    "# View the AutoML Leaderboard\n",
    "lb = aml.leaderboard\n",
    "lb.head(rows=lb.nrows)  # Print all rows instead of default (10 rows)"
   ]
  },
  {
   "cell_type": "code",
   "execution_count": 20,
   "metadata": {},
   "outputs": [
    {
     "name": "stdout",
     "output_type": "stream",
     "text": [
      "Model Details\n",
      "=============\n",
      "H2OStackedEnsembleEstimator :  Stacked Ensemble\n",
      "Model Key:  StackedEnsemble_AllModels_AutoML_20190703_140214\n",
      "No model summary for this model\n",
      "\n",
      "\n",
      "ModelMetricsMultinomialGLM: stackedensemble\n",
      "** Reported on train data. **\n",
      "\n",
      "MSE: 0.10087469097584982\n",
      "RMSE: 0.3176077627764312\n",
      "\n",
      "ModelMetricsMultinomialGLM: stackedensemble\n",
      "** Reported on cross-validation data. **\n",
      "\n",
      "MSE: 0.25193835746642307\n",
      "RMSE: 0.5019346147322608\n"
     ]
    },
    {
     "data": {
      "text/plain": []
     },
     "execution_count": 20,
     "metadata": {},
     "output_type": "execute_result"
    }
   ],
   "source": [
    "# The leader model is stored here\n",
    "aml.leader"
   ]
  },
  {
   "cell_type": "code",
   "execution_count": 21,
   "metadata": {},
   "outputs": [
    {
     "name": "stdout",
     "output_type": "stream",
     "text": [
      "stackedensemble prediction progress: |████████████████████████████████████| 100%\n"
     ]
    }
   ],
   "source": [
    "preds = aml.predict(test)\n",
    "print(preds)"
   ]
  },
  {
   "cell_type": "code",
   "execution_count": 24,
   "metadata": {},
   "outputs": [
    {
     "data": {
      "text/html": [
       "<table>\n",
       "<thead>\n",
       "<tr><th style=\"text-align: right;\">  predict</th><th style=\"text-align: right;\">  labels</th></tr>\n",
       "</thead>\n",
       "<tbody>\n",
       "<tr><td style=\"text-align: right;\">        0</td><td style=\"text-align: right;\">       1</td></tr>\n",
       "<tr><td style=\"text-align: right;\">        0</td><td style=\"text-align: right;\">       1</td></tr>\n",
       "<tr><td style=\"text-align: right;\">        0</td><td style=\"text-align: right;\">       0</td></tr>\n",
       "<tr><td style=\"text-align: right;\">        0</td><td style=\"text-align: right;\">       0</td></tr>\n",
       "<tr><td style=\"text-align: right;\">        0</td><td style=\"text-align: right;\">       2</td></tr>\n",
       "<tr><td style=\"text-align: right;\">        0</td><td style=\"text-align: right;\">       2</td></tr>\n",
       "<tr><td style=\"text-align: right;\">        0</td><td style=\"text-align: right;\">       2</td></tr>\n",
       "<tr><td style=\"text-align: right;\">        0</td><td style=\"text-align: right;\">       0</td></tr>\n",
       "<tr><td style=\"text-align: right;\">        0</td><td style=\"text-align: right;\">       2</td></tr>\n",
       "<tr><td style=\"text-align: right;\">        0</td><td style=\"text-align: right;\">       1</td></tr>\n",
       "</tbody>\n",
       "</table>"
      ]
     },
     "metadata": {},
     "output_type": "display_data"
    },
    {
     "name": "stdout",
     "output_type": "stream",
     "text": [
      "\n"
     ]
    }
   ],
   "source": [
    "var = preds[\"predict\"].cbind(test[y])\n",
    "print(var)"
   ]
  },
  {
   "cell_type": "code",
   "execution_count": 27,
   "metadata": {},
   "outputs": [
    {
     "name": "stdout",
     "output_type": "stream",
     "text": [
      "[[1108    0    0]\n",
      " [ 187    0    0]\n",
      " [ 349    0    0]]\n"
     ]
    }
   ],
   "source": [
    "# convert to pandas dataframe\n",
    "y_test = h2o.as_list(test[y], use_pandas=True)\n",
    "y_pred = h2o.as_list(preds[\"predict\"])\n",
    "print(metrics.confusion_matrix(y_test, y_pred))\n",
    "print(metrics.accuracy_score(y_test, y_pred))"
   ]
  },
  {
   "cell_type": "code",
   "execution_count": null,
   "metadata": {},
   "outputs": [],
   "source": []
  }
 ],
 "metadata": {
  "kernelspec": {
   "display_name": "Python 3",
   "language": "python",
   "name": "python3"
  },
  "language_info": {
   "codemirror_mode": {
    "name": "ipython",
    "version": 3
   },
   "file_extension": ".py",
   "mimetype": "text/x-python",
   "name": "python",
   "nbconvert_exporter": "python",
   "pygments_lexer": "ipython3",
   "version": "3.7.1"
  }
 },
 "nbformat": 4,
 "nbformat_minor": 2
}
