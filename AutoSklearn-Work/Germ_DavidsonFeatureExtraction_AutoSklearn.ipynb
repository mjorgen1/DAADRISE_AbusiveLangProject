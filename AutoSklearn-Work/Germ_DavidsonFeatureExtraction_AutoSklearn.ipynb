{
 "cells": [
  {
   "cell_type": "code",
   "execution_count": 1,
   "metadata": {
    "pycharm": {
     "is_executing": false
    }
   },
   "outputs": [
    {
     "name": "stderr",
     "output_type": "stream",
     "text": [
      "/home/mackenzie/anaconda3/lib/python3.7/site-packages/pyparsing.py:2725: FutureWarning: Possible set intersection at position 3\n",
      "  self.re = re.compile( self.reString )\n",
      "/home/mackenzie/anaconda3/lib/python3.7/site-packages/sklearn/externals/joblib/__init__.py:15: DeprecationWarning: sklearn.externals.joblib is deprecated in 0.21 and will be removed in 0.23. Please import this functionality directly from joblib, which can be installed with: pip install joblib. If this warning is raised when loading pickled models, you may need to re-serialize those models with scikit-learn 0.21+.\n",
      "  warnings.warn(msg, category=DeprecationWarning)\n"
     ]
    }
   ],
   "source": [
    "import pandas as pd\n",
    "import numpy as np\n",
    "import pickle\n",
    "import sys\n",
    "from sklearn.feature_extraction.text import TfidfVectorizer\n",
    "from sklearn.model_selection import train_test_split\n",
    "import nltk\n",
    "from nltk.stem.cistem import Cistem\n",
    "import string\n",
    "import re\n",
    "from textstat.textstat import *\n",
    "import seaborn\n",
    "from textblob_de import TextBlobDE as TextBlob\n",
    "import autosklearn.classification\n",
    "import sklearn.metrics\n",
    "import random\n",
    "import os\n",
    "import warnings\n",
    "import matplotlib.pyplot as plt\n",
    "from sklearn.utils import resample\n",
    "%matplotlib inline"
   ]
  },
  {
   "cell_type": "code",
   "execution_count": 2,
   "metadata": {
    "pycharm": {
     "is_executing": false
    }
   },
   "outputs": [],
   "source": [
    "# Raw data\n",
    "train_data = pd.read_csv(\"/home/mackenzie/Downloads/GermanTrainingData.txt\", sep='\\t', names=['tweet', 'coarse', 'labels'])\n",
    "test_data = pd.read_csv(\"/home/mackenzie/Downloads/GermanTestingData.txt\", sep='\\t', names=['tweet', 'coarse', 'labels'])\n",
    "df = pd.concat([train_data, test_data], ignore_index=True)\n",
    "del train_data\n",
    "del test_data"
   ]
  },
  {
   "cell_type": "code",
   "execution_count": 3,
   "metadata": {
    "pycharm": {
     "is_executing": false
    }
   },
   "outputs": [],
   "source": [
    "tweets=df.tweet"
   ]
  },
  {
   "cell_type": "code",
   "execution_count": 4,
   "metadata": {
    "pycharm": {
     "is_executing": false
    }
   },
   "outputs": [],
   "source": [
    "stopwords=stopwords = nltk.corpus.stopwords.words(\"german\")\n",
    "\n",
    "other_exclusions = [\"lbr\"]\n",
    "stopwords.extend(other_exclusions)\n",
    "\n",
    "stemmer = Cistem()\n",
    "\n",
    "def preprocess(text_string):\n",
    "    \"\"\"\n",
    "    Accepts a text string and replaces:\n",
    "    1) urls with URLHERE\n",
    "    2) lots of whitespace with one instance\n",
    "    3) mentions with MENTIONHERE\n",
    "\n",
    "    This allows us to get standardized counts of urls and mentions\n",
    "    Without caring about specific people mentioned\n",
    "    \"\"\"\n",
    "    space_pattern = '\\s+'\n",
    "    giant_url_regex = ('http[s]?://(?:[a-ßA-ß]|[0-9]|[$-_@.&+]|'\n",
    "        '[!*\\(\\),]|(?:%[0-9a-fA-F][0-9a-fA-F]))+')\n",
    "    mention_regex = '@[\\w\\-]+'\n",
    "    parsed_text = re.sub(space_pattern, ' ', text_string)\n",
    "    parsed_text = re.sub(giant_url_regex, '', parsed_text)\n",
    "    parsed_text = re.sub(mention_regex, '', parsed_text)\n",
    "    return parsed_text\n",
    "\n",
    "def tokenize(tweet):\n",
    "    \"\"\"Removes punctuation & excess whitespace, sets to lowercase,\n",
    "    and stems tweets. Returns a list of stemmed tokens.\"\"\"\n",
    "    tweet = \" \".join(re.split(\"[^a-ßA-ß]+\", tweet.lower())).strip()\n",
    "    tokens = [stemmer.stem(t) for t in tweet.split()]\n",
    "    return tokens\n",
    "\n",
    "def basic_tokenize(tweet):\n",
    "    \"\"\"Same as tokenize but without the stemming\"\"\"\n",
    "    tweet = \" \".join(re.split(\"[^a-ßA-ß.,!?]+\", tweet.lower())).strip()\n",
    "    return tweet.split()\n",
    "\n",
    "vectorizer = TfidfVectorizer(\n",
    "    tokenizer=tokenize,\n",
    "    preprocessor=preprocess,\n",
    "    ngram_range=(1, 3),\n",
    "    stop_words=stopwords,\n",
    "    use_idf=True,\n",
    "    smooth_idf=False,\n",
    "    norm=None,\n",
    "    decode_error='replace',\n",
    "    max_features=3000,\n",
    "    min_df=5,\n",
    "    max_df=0.75\n",
    "    )"
   ]
  },
  {
   "cell_type": "code",
   "execution_count": 5,
   "metadata": {
    "pycharm": {
     "is_executing": false
    }
   },
   "outputs": [],
   "source": [
    "warnings.simplefilter(action='ignore', category=FutureWarning)"
   ]
  },
  {
   "cell_type": "code",
   "execution_count": 6,
   "metadata": {
    "pycharm": {
     "is_executing": false
    }
   },
   "outputs": [
    {
     "name": "stderr",
     "output_type": "stream",
     "text": [
      "/home/mackenzie/anaconda3/lib/python3.7/site-packages/sklearn/feature_extraction/text.py:300: UserWarning: Your stop_words may be inconsistent with your preprocessing. Tokenizing the stop words generated tokens ['all', 'ber', 'dami', 'dasselb', 'demselb', 'denselb', 'derselb', 'dess', 'desselb', 'dieselb', 'dor', 'etwa', 'eur', 'f', 'geg', 'hatt', 'hrend', 'jed', 'jen', 'jetz', 'k', 'mach', 'manch', 'nich', 'nne', 'nnt', 'ohn', 'r', 'rde', 'selb', 'solch', 'son', 'sond', 'w', 'welch', 'werd', 'wes', 'woll', 'zwisch'] not in stop_words.\n",
      "  'stop_words.' % sorted(inconsistent))\n"
     ]
    }
   ],
   "source": [
    "#Construct tfidf matrix and get relevant scores\n",
    "tfidf = vectorizer.fit_transform(tweets).toarray()\n",
    "vocab = {v:i for i, v in enumerate(vectorizer.get_feature_names())}\n",
    "idf_vals = vectorizer.idf_\n",
    "idf_dict = {i:idf_vals[i] for i in vocab.values()} #keys are indices; values are IDF scores"
   ]
  },
  {
   "cell_type": "code",
   "execution_count": 7,
   "metadata": {
    "pycharm": {
     "is_executing": false
    }
   },
   "outputs": [],
   "source": [
    "#Get POS tags for tweets and save as a string\n",
    "tweet_tags = []\n",
    "for t in tweets:\n",
    "    tokens = basic_tokenize(preprocess(t))\n",
    "    tags = nltk.pos_tag(tokens)\n",
    "    tag_list = [x[1] for x in tags]\n",
    "    tag_str = \" \".join(tag_list)\n",
    "    tweet_tags.append(tag_str)"
   ]
  },
  {
   "cell_type": "code",
   "execution_count": 8,
   "metadata": {
    "pycharm": {
     "is_executing": false
    }
   },
   "outputs": [],
   "source": [
    "#We can use the TFIDF vectorizer to get a token matrix for the POS tags\n",
    "pos_vectorizer = TfidfVectorizer(\n",
    "    tokenizer=None,\n",
    "    lowercase=False,\n",
    "    preprocessor=None,\n",
    "    ngram_range=(1, 3),\n",
    "    stop_words=None,\n",
    "    use_idf=False,\n",
    "    smooth_idf=False,\n",
    "    norm=None,\n",
    "    decode_error='replace',\n",
    "    max_features=2000,\n",
    "    min_df=5,\n",
    "    max_df=0.75,\n",
    "    )"
   ]
  },
  {
   "cell_type": "code",
   "execution_count": 9,
   "metadata": {
    "pycharm": {
     "is_executing": false
    }
   },
   "outputs": [],
   "source": [
    "#Construct POS TF matrix and get vocab dict\n",
    "pos = pos_vectorizer.fit_transform(pd.Series(tweet_tags)).toarray()\n",
    "pos_vocab = {v:i for i, v in enumerate(pos_vectorizer.get_feature_names())}"
   ]
  },
  {
   "cell_type": "code",
   "execution_count": 10,
   "metadata": {
    "pycharm": {
     "is_executing": false
    }
   },
   "outputs": [],
   "source": [
    "#Now get other features\n",
    "\n",
    "def count_twitter_objs(text_string):\n",
    "    \"\"\"\n",
    "    Accepts a text string and replaces:\n",
    "    1) urls with URLHERE\n",
    "    2) lots of whitespace with one instance\n",
    "    3) mentions with MENTIONHERE\n",
    "    4) hashtags with HASHTAGHERE\n",
    "\n",
    "    This allows us to get standardized counts of urls and mentions\n",
    "    Without caring about specific people mentioned.\n",
    "    \n",
    "    Returns counts of urls, mentions, and hashtags.\n",
    "    \"\"\"\n",
    "    space_pattern = '\\s+'\n",
    "    giant_url_regex = ('http[s]?://(?:[a-ßA-ß]|[0-9]|[$-_@.&+]|'\n",
    "        '[!*\\(\\),]|(?:%[0-9a-fA-F][0-9a-fA-F]))+')\n",
    "    mention_regex = '@[\\w\\-]+'\n",
    "    hashtag_regex = '#[\\w\\-]+'\n",
    "    parsed_text = re.sub(space_pattern, ' ', text_string)\n",
    "    parsed_text = re.sub(giant_url_regex, 'URLHERE', parsed_text)\n",
    "    parsed_text = re.sub(mention_regex, 'MENTIONHERE', parsed_text)\n",
    "    parsed_text = re.sub(hashtag_regex, 'HASHTAGHERE', parsed_text)\n",
    "    return(parsed_text.count('URLHERE'),parsed_text.count('MENTIONHERE'),parsed_text.count('HASHTAGHERE'))\n",
    "\n",
    "def other_features(tweet):\n",
    "    \"\"\"This function takes a string and returns a list of features.\n",
    "    These include Sentiment scores, Text and Readability scores,\n",
    "    as well as Twitter specific features\"\"\"\n",
    "    sentiment = TextBlob(\"tweet\").sentiment\n",
    "    \n",
    "    words = preprocess(tweet) #Get text only\n",
    "    \n",
    "    syllables = textstat.syllable_count(words, lang='de_DE')\n",
    "    num_chars = sum(len(w) for w in words)\n",
    "    num_chars_total = len(tweet)\n",
    "    num_terms = len(tweet.split())\n",
    "    num_words = len(words.split())\n",
    "    avg_syl = round(float((syllables+0.001))/float(num_words+0.001),4)\n",
    "    num_unique_terms = len(set(words.split()))\n",
    "    \n",
    "    ###Modified FK grade, where avg words per sentence is just num words/1\n",
    "    FKRA = round(float(0.39 * float(num_words)/1.0) + float(11.8 * avg_syl) - 15.59,1)\n",
    "    ##Modified FRE score, where sentence fixed to 1\n",
    "    FRE = round(206.835 - 1.015*(float(num_words)/1.0) - (84.6*float(avg_syl)),2)\n",
    "    \n",
    "    twitter_objs = count_twitter_objs(tweet)\n",
    "    features = [FKRA, FRE,syllables, avg_syl, num_chars, num_chars_total, num_terms, num_words,\n",
    "                num_unique_terms, sentiment[0],twitter_objs[2], twitter_objs[1], twitter_objs[0]]\n",
    "    #features = pandas.DataFrame(features)\n",
    "    return features\n",
    "\n",
    "def get_feature_array(tweets):\n",
    "    feats=[]\n",
    "    for t in tweets:\n",
    "        feats.append(other_features(t))\n",
    "    return np.array(feats)"
   ]
  },
  {
   "cell_type": "code",
   "execution_count": 11,
   "metadata": {
    "pycharm": {
     "is_executing": false
    }
   },
   "outputs": [],
   "source": [
    "other_features_names = [\"FKRA\", \"FRE\",\"num_syllables\", \"avg_syl_per_word\", \"num_chars\", \"num_chars_total\", \\\n",
    "                        \"num_terms\", \"num_words\", \"num_unique_words\", \"sentiment\", \"num_hashtags\", \"num_mentions\", \"num_urls\"]"
   ]
  },
  {
   "cell_type": "code",
   "execution_count": 12,
   "metadata": {
    "pycharm": {
     "is_executing": false
    }
   },
   "outputs": [],
   "source": [
    "feats = get_feature_array(tweets)"
   ]
  },
  {
   "cell_type": "code",
   "execution_count": 13,
   "metadata": {
    "pycharm": {
     "is_executing": false
    }
   },
   "outputs": [],
   "source": [
    "#Now join them all up\n",
    "M = np.concatenate([tfidf,pos,feats],axis=1)"
   ]
  },
  {
   "cell_type": "code",
   "execution_count": 14,
   "metadata": {
    "pycharm": {
     "is_executing": false
    }
   },
   "outputs": [
    {
     "data": {
      "text/plain": [
       "(8407, 3918)"
      ]
     },
     "execution_count": 14,
     "metadata": {},
     "output_type": "execute_result"
    }
   ],
   "source": [
    "M.shape"
   ]
  },
  {
   "cell_type": "code",
   "execution_count": 15,
   "metadata": {
    "pycharm": {
     "is_executing": false
    }
   },
   "outputs": [],
   "source": [
    "#Finally get a list of variable names\n",
    "variables = ['']*len(vocab)\n",
    "for k,v in vocab.items():\n",
    "    variables[v] = k\n",
    "\n",
    "pos_variables = ['']*len(pos_vocab)\n",
    "for k,v in pos_vocab.items():\n",
    "    pos_variables[v] = k\n",
    "\n",
    "feature_names = variables+pos_variables+other_features_names"
   ]
  },
  {
   "cell_type": "code",
   "execution_count": 16,
   "metadata": {
    "pycharm": {
     "is_executing": false
    }
   },
   "outputs": [
    {
     "name": "stdout",
     "output_type": "stream",
     "text": [
      "make sure string to numeric is working...\n",
      "0    0\n",
      "1    0\n",
      "2    0\n",
      "3    0\n",
      "4    1\n",
      "Name: labels, dtype: int64\n"
     ]
    }
   ],
   "source": [
    "# Changing string labels to numeric labels\n",
    "def string_to_numeric(x):\n",
    "    if x == 'OTHER' or x == 'PROFANITY':\n",
    "        return 0\n",
    "    if x == 'INSULT':\n",
    "        return 1\n",
    "    if x == 'ABUSE':\n",
    "        return 2\n",
    "    \n",
    "X = pd.DataFrame(M, columns=feature_names)\n",
    "\n",
    "# double check that labels are ints\n",
    "y = df['labels'].apply(string_to_numeric)\n",
    "print('make sure string to numeric is working...')\n",
    "print(y.head())\n"
   ]
  },
  {
   "cell_type": "code",
   "execution_count": 17,
   "metadata": {},
   "outputs": [
    {
     "data": {
      "text/plain": [
       "' In process of testing this...\\n# Feature Selection RFE -- TODO: issue with nan\\nfrom sklearn.feature_selection import RFE\\nfrom sklearn.svm import SVR\\nestimator = SVR(kernel=\"linear\")\\nselector = RFE(estimator, step=1) # half of the features are selected\\nselector = selector.fit(X, y)\\nselector.support_ \\nselector.ranking_\\n'"
      ]
     },
     "execution_count": 17,
     "metadata": {},
     "output_type": "execute_result"
    }
   ],
   "source": [
    "''' In process of testing this...\n",
    "# Feature Selection RFE -- TODO: issue with nan\n",
    "from sklearn.feature_selection import RFE\n",
    "from sklearn.svm import SVR\n",
    "estimator = SVR(kernel=\"linear\")\n",
    "selector = RFE(estimator, step=1) # half of the features are selected\n",
    "selector = selector.fit(X, y)\n",
    "selector.support_ \n",
    "selector.ranking_\n",
    "'''"
   ]
  },
  {
   "cell_type": "code",
   "execution_count": 18,
   "metadata": {
    "pycharm": {
     "is_executing": false
    }
   },
   "outputs": [],
   "source": [
    "X_train, X_test, y_train, y_test = train_test_split(X, y, random_state=42, test_size=0.1)\n",
    "y_test = y_test.to_frame(name='labels')\n",
    "y_train = y_train.to_frame(name='labels')"
   ]
  },
  {
   "cell_type": "code",
   "execution_count": null,
   "metadata": {},
   "outputs": [],
   "source": [
    "# Resampling Technique setup\n",
    "\n",
    "df = pd.concat([X_train, y_train], axis=1)\n",
    "\n",
    "# split up the df data by labels\n",
    "print('other rows extracted...done ')\n",
    "other = df.loc[df['labels']==0]\n",
    "print(len(other))\n",
    "\n",
    "print('insult rows extracted...done: ')\n",
    "insult = df.loc[df['labels']==1]\n",
    "print(len(insult))\n",
    "\n",
    "print('abuse rows extracted...done ')\n",
    "abuse = df.loc[df['labels']==2]\n",
    "print(len(abuse))\n",
    "\n",
    "# Upsample minority class insult\n",
    "df_insult_upsampled = resample(insult, \n",
    "                                 replace=True,     # sample with replacement\n",
    "                                 n_samples=4722,    # to match majority class\n",
    "                                 random_state=123) # reproducible results\n",
    "print('insult upsampled...done')\n",
    "\n",
    "# Upsample minority class abuse\n",
    "df_abuse_upsampled = resample(abuse, \n",
    "                                 replace=True,     # sample with replacement\n",
    "                                 n_samples=3926,    # to match majority class\n",
    "                                 random_state=123) # reproducible results\n",
    "print('abuse upsampled...done')"
   ]
  },
  {
   "cell_type": "code",
   "execution_count": null,
   "metadata": {},
   "outputs": [
    {
     "name": "stdout",
     "output_type": "stream",
     "text": [
      "shape of X: \n",
      "(16214, 3918)\n",
      "shape of y: \n",
      "(16214,)\n"
     ]
    }
   ],
   "source": [
    "# For Upsampling, update X and y with new values\n",
    "# resampling doesn't impact the og dataframes, so we make new X and y with updated values\n",
    "X_train = pd.DataFrame()\n",
    "y_train = pd.DataFrame()\n",
    "X_train = pd.concat([other, insult, df_insult_upsampled, abuse, df_abuse_upsampled])\n",
    "X_train = X_train.drop(columns=\"labels\")\n",
    "y_train = pd.concat([other['labels'], insult['labels'], df_insult_upsampled['labels'], abuse['labels'], df_abuse_upsampled['labels']])\n",
    "print('shape of X: ')\n",
    "print(X_train.shape)\n",
    "print('shape of y: ')\n",
    "print(y_train.shape)"
   ]
  },
  {
   "cell_type": "code",
   "execution_count": null,
   "metadata": {},
   "outputs": [
    {
     "name": "stdout",
     "output_type": "stream",
     "text": [
      "180     0\n",
      "1420    0\n",
      "6202    0\n",
      "3159    0\n",
      "8084    0\n",
      "Name: labels, dtype: int64\n"
     ]
    }
   ],
   "source": [
    "print(y_train.head())"
   ]
  },
  {
   "cell_type": "code",
   "execution_count": null,
   "metadata": {
    "pycharm": {
     "is_executing": false
    }
   },
   "outputs": [
    {
     "name": "stdout",
     "output_type": "stream",
     "text": [
      "start automl!\n"
     ]
    },
    {
     "name": "stderr",
     "output_type": "stream",
     "text": [
      "/home/mackenzie/anaconda3/lib/python3.7/site-packages/autosklearn/evaluation/train_evaluator.py:197: RuntimeWarning: Mean of empty slice\n",
      "  Y_train_pred = np.nanmean(Y_train_pred_full, axis=0)\n"
     ]
    },
    {
     "name": "stdout",
     "output_type": "stream",
     "text": [
      "[WARNING] [2019-07-29 12:43:52,607:EnsembleBuilder(1):german_data] No models better than random - using Dummy Score!\n",
      "[WARNING] [2019-07-29 12:43:52,619:EnsembleBuilder(1):german_data] No models better than random - using Dummy Score!\n",
      "[WARNING] [2019-07-29 12:43:54,623:EnsembleBuilder(1):german_data] No models better than random - using Dummy Score!\n",
      "[WARNING] [2019-07-29 12:43:56,634:EnsembleBuilder(1):german_data] No models better than random - using Dummy Score!\n",
      "[WARNING] [2019-07-29 12:43:59,035:EnsembleBuilder(1):german_data] No models better than random - using Dummy Score!\n",
      "[WARNING] [2019-07-29 12:44:01,073:EnsembleBuilder(1):german_data] No models better than random - using Dummy Score!\n",
      "[WARNING] [2019-07-29 12:44:03,081:EnsembleBuilder(1):german_data] No models better than random - using Dummy Score!\n",
      "[WARNING] [2019-07-29 12:44:05,086:EnsembleBuilder(1):german_data] No models better than random - using Dummy Score!\n",
      "[WARNING] [2019-07-29 12:44:07,091:EnsembleBuilder(1):german_data] No models better than random - using Dummy Score!\n",
      "[WARNING] [2019-07-29 12:44:09,095:EnsembleBuilder(1):german_data] No models better than random - using Dummy Score!\n",
      "[WARNING] [2019-07-29 12:44:11,101:EnsembleBuilder(1):german_data] No models better than random - using Dummy Score!\n",
      "[WARNING] [2019-07-29 12:44:13,107:EnsembleBuilder(1):german_data] No models better than random - using Dummy Score!\n",
      "[WARNING] [2019-07-29 12:44:15,112:EnsembleBuilder(1):german_data] No models better than random - using Dummy Score!\n",
      "[WARNING] [2019-07-29 12:44:17,121:EnsembleBuilder(1):german_data] No models better than random - using Dummy Score!\n",
      "[WARNING] [2019-07-29 12:44:19,130:EnsembleBuilder(1):german_data] No models better than random - using Dummy Score!\n",
      "[WARNING] [2019-07-29 12:44:21,136:EnsembleBuilder(1):german_data] No models better than random - using Dummy Score!\n",
      "[WARNING] [2019-07-29 12:44:23,147:EnsembleBuilder(1):german_data] No models better than random - using Dummy Score!\n",
      "[WARNING] [2019-07-29 12:44:25,151:EnsembleBuilder(1):german_data] No models better than random - using Dummy Score!\n",
      "[WARNING] [2019-07-29 12:44:27,155:EnsembleBuilder(1):german_data] No models better than random - using Dummy Score!\n",
      "[WARNING] [2019-07-29 12:44:29,159:EnsembleBuilder(1):german_data] No models better than random - using Dummy Score!\n",
      "[WARNING] [2019-07-29 12:44:31,165:EnsembleBuilder(1):german_data] No models better than random - using Dummy Score!\n",
      "[WARNING] [2019-07-29 12:44:33,172:EnsembleBuilder(1):german_data] No models better than random - using Dummy Score!\n",
      "[WARNING] [2019-07-29 12:44:35,176:EnsembleBuilder(1):german_data] No models better than random - using Dummy Score!\n",
      "[WARNING] [2019-07-29 12:44:37,181:EnsembleBuilder(1):german_data] No models better than random - using Dummy Score!\n",
      "[WARNING] [2019-07-29 12:44:39,186:EnsembleBuilder(1):german_data] No models better than random - using Dummy Score!\n",
      "[WARNING] [2019-07-29 12:44:41,190:EnsembleBuilder(1):german_data] No models better than random - using Dummy Score!\n",
      "[WARNING] [2019-07-29 12:44:43,197:EnsembleBuilder(1):german_data] No models better than random - using Dummy Score!\n",
      "[WARNING] [2019-07-29 12:44:45,201:EnsembleBuilder(1):german_data] No models better than random - using Dummy Score!\n",
      "[WARNING] [2019-07-29 12:44:47,205:EnsembleBuilder(1):german_data] No models better than random - using Dummy Score!\n",
      "[WARNING] [2019-07-29 12:44:49,209:EnsembleBuilder(1):german_data] No models better than random - using Dummy Score!\n",
      "[WARNING] [2019-07-29 12:44:51,212:EnsembleBuilder(1):german_data] No models better than random - using Dummy Score!\n"
     ]
    },
    {
     "name": "stderr",
     "output_type": "stream",
     "text": [
      "/home/mackenzie/anaconda3/lib/python3.7/site-packages/autosklearn/evaluation/train_evaluator.py:197: RuntimeWarning: Mean of empty slice\n",
      "  Y_train_pred = np.nanmean(Y_train_pred_full, axis=0)\n",
      "Process pynisher function call:\n",
      "Process pynisher function call:\n",
      "Traceback (most recent call last):\n",
      "  File \"/home/mackenzie/anaconda3/lib/python3.7/multiprocessing/process.py\", line 297, in _bootstrap\n",
      "    self.run()\n",
      "  File \"/home/mackenzie/anaconda3/lib/python3.7/multiprocessing/process.py\", line 99, in run\n",
      "    self._target(*self._args, **self._kwargs)\n",
      "Traceback (most recent call last):\n",
      "  File \"/home/mackenzie/anaconda3/lib/python3.7/site-packages/pynisher/limit_function_call.py\", line 93, in subprocess_func\n",
      "    return_value = ((func(*args, **kwargs), 0))\n",
      "  File \"/home/mackenzie/anaconda3/lib/python3.7/multiprocessing/process.py\", line 297, in _bootstrap\n",
      "    self.run()\n",
      "  File \"/home/mackenzie/anaconda3/lib/python3.7/multiprocessing/process.py\", line 99, in run\n",
      "    self._target(*self._args, **self._kwargs)\n",
      "  File \"/home/mackenzie/anaconda3/lib/python3.7/site-packages/pynisher/limit_function_call.py\", line 93, in subprocess_func\n",
      "    return_value = ((func(*args, **kwargs), 0))\n",
      "  File \"/home/mackenzie/anaconda3/lib/python3.7/site-packages/autosklearn/ensemble_builder.py\", line 234, in main\n",
      "    time.sleep(self.sleep_duration)\n",
      "  File \"/home/mackenzie/anaconda3/lib/python3.7/site-packages/autosklearn/evaluation/__init__.py\", line 30, in fit_predict_try_except_decorator\n",
      "    return ta(queue=queue, **kwargs)\n",
      "KeyboardInterrupt\n",
      "  File \"/home/mackenzie/anaconda3/lib/python3.7/site-packages/autosklearn/evaluation/train_evaluator.py\", line 648, in eval_holdout\n",
      "    evaluator.fit_predict_and_loss(iterative=iterative)\n",
      "  File \"/home/mackenzie/anaconda3/lib/python3.7/site-packages/autosklearn/evaluation/train_evaluator.py\", line 160, in fit_predict_and_loss\n",
      "    i, train_indices=train_split, test_indices=test_split\n",
      "  File \"/home/mackenzie/anaconda3/lib/python3.7/site-packages/autosklearn/evaluation/train_evaluator.py\", line 406, in _partial_fit_and_predict\n",
      "    self.Y_train[train_indices])\n",
      "  File \"/home/mackenzie/anaconda3/lib/python3.7/site-packages/autosklearn/evaluation/abstract_evaluator.py\", line 481, in _fit_and_suppress_warnings\n",
      "    model.fit(X, y)\n",
      "  File \"/home/mackenzie/anaconda3/lib/python3.7/site-packages/autosklearn/pipeline/base.py\", line 92, in fit\n",
      "    X, fit_params = self.fit_transformer(X, y, **fit_params)\n",
      "  File \"/home/mackenzie/anaconda3/lib/python3.7/site-packages/autosklearn/pipeline/classification.py\", line 104, in fit_transformer\n",
      "    X, y, fit_params=fit_params)\n",
      "  File \"/home/mackenzie/anaconda3/lib/python3.7/site-packages/autosklearn/pipeline/base.py\", line 102, in fit_transformer\n",
      "    Xt, fit_params = self._fit(X, y, **fit_params)\n",
      "  File \"/home/mackenzie/anaconda3/lib/python3.7/site-packages/sklearn/pipeline.py\", line 317, in _fit\n",
      "    **fit_params_steps[name])\n",
      "  File \"/home/mackenzie/anaconda3/lib/python3.7/site-packages/joblib/memory.py\", line 355, in __call__\n",
      "    return self.func(*args, **kwargs)\n",
      "  File \"/home/mackenzie/anaconda3/lib/python3.7/site-packages/sklearn/pipeline.py\", line 718, in _fit_transform_one\n",
      "    res = transformer.fit(X, y, **fit_params).transform(X)\n",
      "  File \"/home/mackenzie/anaconda3/lib/python3.7/site-packages/autosklearn/pipeline/components/base.py\", line 402, in fit\n",
      "    return self.choice.fit(X, y, **kwargs)\n",
      "  File \"/home/mackenzie/anaconda3/lib/python3.7/site-packages/autosklearn/pipeline/components/feature_preprocessing/polynomial.py\", line 30, in fit\n",
      "    self.preprocessor.fit(X, Y)\n",
      "  File \"/home/mackenzie/anaconda3/lib/python3.7/site-packages/sklearn/preprocessing/data.py\", line 1470, in fit\n",
      "    self.n_output_features_ = sum(1 for _ in combinations)\n",
      "  File \"/home/mackenzie/anaconda3/lib/python3.7/site-packages/sklearn/preprocessing/data.py\", line 1470, in <genexpr>\n",
      "    self.n_output_features_ = sum(1 for _ in combinations)\n",
      "KeyboardInterrupt\n",
      "/home/mackenzie/anaconda3/lib/python3.7/site-packages/autosklearn/evaluation/train_evaluator.py:197: RuntimeWarning: Mean of empty slice\n",
      "  Y_train_pred = np.nanmean(Y_train_pred_full, axis=0)\n",
      "Process pynisher function call:\n",
      "Traceback (most recent call last):\n",
      "  File \"/home/mackenzie/anaconda3/lib/python3.7/multiprocessing/process.py\", line 297, in _bootstrap\n",
      "    self.run()\n",
      "  File \"/home/mackenzie/anaconda3/lib/python3.7/multiprocessing/process.py\", line 99, in run\n",
      "    self._target(*self._args, **self._kwargs)\n",
      "  File \"/home/mackenzie/anaconda3/lib/python3.7/site-packages/pynisher/limit_function_call.py\", line 93, in subprocess_func\n",
      "    return_value = ((func(*args, **kwargs), 0))\n",
      "  File \"/home/mackenzie/anaconda3/lib/python3.7/site-packages/autosklearn/evaluation/__init__.py\", line 30, in fit_predict_try_except_decorator\n",
      "    return ta(queue=queue, **kwargs)\n",
      "  File \"/home/mackenzie/anaconda3/lib/python3.7/site-packages/autosklearn/evaluation/train_evaluator.py\", line 648, in eval_holdout\n",
      "    evaluator.fit_predict_and_loss(iterative=iterative)\n",
      "  File \"/home/mackenzie/anaconda3/lib/python3.7/site-packages/autosklearn/evaluation/train_evaluator.py\", line 160, in fit_predict_and_loss\n",
      "    i, train_indices=train_split, test_indices=test_split\n",
      "  File \"/home/mackenzie/anaconda3/lib/python3.7/site-packages/autosklearn/evaluation/train_evaluator.py\", line 406, in _partial_fit_and_predict\n",
      "    self.Y_train[train_indices])\n",
      "  File \"/home/mackenzie/anaconda3/lib/python3.7/site-packages/autosklearn/evaluation/abstract_evaluator.py\", line 481, in _fit_and_suppress_warnings\n",
      "    model.fit(X, y)\n",
      "  File \"/home/mackenzie/anaconda3/lib/python3.7/site-packages/autosklearn/pipeline/base.py\", line 92, in fit\n",
      "    X, fit_params = self.fit_transformer(X, y, **fit_params)\n",
      "  File \"/home/mackenzie/anaconda3/lib/python3.7/site-packages/autosklearn/pipeline/classification.py\", line 104, in fit_transformer\n",
      "    X, y, fit_params=fit_params)\n",
      "  File \"/home/mackenzie/anaconda3/lib/python3.7/site-packages/autosklearn/pipeline/base.py\", line 102, in fit_transformer\n",
      "    Xt, fit_params = self._fit(X, y, **fit_params)\n",
      "  File \"/home/mackenzie/anaconda3/lib/python3.7/site-packages/sklearn/pipeline.py\", line 317, in _fit\n",
      "    **fit_params_steps[name])\n",
      "  File \"/home/mackenzie/anaconda3/lib/python3.7/site-packages/joblib/memory.py\", line 355, in __call__\n",
      "    return self.func(*args, **kwargs)\n",
      "  File \"/home/mackenzie/anaconda3/lib/python3.7/site-packages/sklearn/pipeline.py\", line 718, in _fit_transform_one\n",
      "    res = transformer.fit(X, y, **fit_params).transform(X)\n",
      "  File \"/home/mackenzie/anaconda3/lib/python3.7/site-packages/autosklearn/pipeline/components/base.py\", line 402, in fit\n",
      "    return self.choice.fit(X, y, **kwargs)\n",
      "  File \"/home/mackenzie/anaconda3/lib/python3.7/site-packages/autosklearn/pipeline/components/feature_preprocessing/fast_ica.py\", line 49, in fit\n",
      "    self._fit(X)\n",
      "  File \"/home/mackenzie/anaconda3/lib/python3.7/site-packages/autosklearn/pipeline/components/feature_preprocessing/fast_ica.py\", line 41, in _fit\n",
      "    return self.preprocessor.fit_transform(X)\n",
      "  File \"/home/mackenzie/anaconda3/lib/python3.7/site-packages/sklearn/decomposition/fastica_.py\", line 534, in fit_transform\n",
      "    return self._fit(X, compute_sources=True)\n",
      "  File \"/home/mackenzie/anaconda3/lib/python3.7/site-packages/sklearn/decomposition/fastica_.py\", line 503, in _fit\n",
      "    compute_sources=compute_sources, return_n_iter=True)\n",
      "  File \"/home/mackenzie/anaconda3/lib/python3.7/site-packages/sklearn/decomposition/fastica_.py\", line 342, in fastica\n",
      "    W, n_iter = _ica_par(X1, **kwargs)\n",
      "  File \"/home/mackenzie/anaconda3/lib/python3.7/site-packages/sklearn/decomposition/fastica_.py\", line 109, in _ica_par\n",
      "    - g_wtx[:, np.newaxis] * W)\n",
      "  File \"/home/mackenzie/anaconda3/lib/python3.7/site-packages/sklearn/decomposition/fastica_.py\", line 59, in _sym_decorrelation\n",
      "    return np.dot(np.dot(u * (1. / np.sqrt(s)), u.T), W)\n",
      "KeyboardInterrupt\n"
     ]
    }
   ],
   "source": [
    "print(\"start automl!\")\n",
    "automl = autosklearn.classification.AutoSklearnClassifier(ml_memory_limit=100000, time_left_for_this_task=7200, per_run_time_limit=360)\n",
    "automl.fit(X_train, y_train, dataset_name='german_data') # feat_type=classification is another param we might use?"
   ]
  },
  {
   "cell_type": "code",
   "execution_count": null,
   "metadata": {
    "pycharm": {
     "is_executing": false
    }
   },
   "outputs": [],
   "source": [
    "y_hat = automl.predict(X_test)"
   ]
  },
  {
   "cell_type": "code",
   "execution_count": null,
   "metadata": {},
   "outputs": [],
   "source": [
    "print(\"Accuracy Score:\", sklearn.metrics.accuracy_score(y_test, y_hat))\n",
    "print(\"F1 score (weighted average): \")\n",
    "print(sklearn.metrics.f1_score(y_test, y_hat, average=\"weighted\"))"
   ]
  },
  {
   "cell_type": "code",
   "execution_count": null,
   "metadata": {},
   "outputs": [],
   "source": [
    "automl.sprint_statistics() "
   ]
  },
  {
   "cell_type": "code",
   "execution_count": null,
   "metadata": {},
   "outputs": [],
   "source": [
    "print(\"Confusion Matrix: \")\n",
    "print(sklearn.metrics.confusion_matrix(y_test, y_hat))\n",
    "\n",
    "print(\"Recall: \")\n",
    "confusion_matrix = sklearn.metrics.confusion_matrix(y_test,y_hat)\n",
    "matrix_proportions = np.zeros((3,3))\n",
    "for i in range(0,3):\n",
    "    matrix_proportions[i,:] = confusion_matrix[i,:]/float(confusion_matrix[i,:].sum())\n",
    "names=['Other','Insult','Abuse']\n",
    "confusion_df = pd.DataFrame(matrix_proportions, index=names,columns=names)\n",
    "plt.figure(figsize=(5,5))\n",
    "seaborn.heatmap(confusion_df,annot=True,annot_kws={\"size\": 12},cmap='gist_gray_r',cbar=False, square=True,fmt='.2f')\n",
    "plt.ylabel(r'True categories',fontsize=14)\n",
    "plt.xlabel(r'Predicted categories',fontsize=14)\n",
    "plt.tick_params(labelsize=12)"
   ]
  },
  {
   "cell_type": "code",
   "execution_count": null,
   "metadata": {},
   "outputs": [],
   "source": [
    "# Create a new folder to hold statistics for a run\n",
    "def createFolder(directory):\n",
    "    try:\n",
    "        if not os.path.exists(directory):\n",
    "            os.makedirs(directory)\n",
    "    except OSError:\n",
    "        print ('Error: Creating directory. ' +  directory)\n",
    "\n",
    "# create a random folder number to reference the directory\n",
    "rand = random.randint(0, 1000)*random.randint(0,10)\n",
    "directory = '/home/mackenzie/workspace/PycharmProjects/DAADRISE_AbusiveLangProject/TestResults/Test_' + str(rand)\n",
    "print('The results for this run will be stored in ' + directory)\n",
    "createFolder(directory)"
   ]
  },
  {
   "cell_type": "code",
   "execution_count": null,
   "metadata": {},
   "outputs": [],
   "source": [
    "# Saves the cv results to a csv in the folder specified\n",
    "results = automl.cv_results_ #A dict with keys as column headers and values as columns, \n",
    "                             #that can be imported into a pandas DataFrame\n",
    "\n",
    "# dict --> pandas dataframe\n",
    "cv_results = pd.DataFrame.from_dict(results)\n",
    "print('CV Results saved to directory')\n",
    "#print(cv_results.head())\n",
    "cv_results.to_csv(directory+'/cv_results.csv')"
   ]
  },
  {
   "cell_type": "code",
   "execution_count": null,
   "metadata": {},
   "outputs": [],
   "source": [
    "# Saves the classification report info\n",
    "print(sklearn.metrics.classification_report(y_test, y_hat))\n",
    "f= open(directory+'/classification_report.txt',\"w+\")\n",
    "f.write(sklearn.metrics.classification_report(y_test, y_hat))\n",
    "f.close()"
   ]
  },
  {
   "cell_type": "code",
   "execution_count": null,
   "metadata": {},
   "outputs": [],
   "source": [
    "# Saves the model info to the directory specified\n",
    "print('Model Results partially shown below')\n",
    "models = automl.get_models_with_weights() # Return a list of the final ensemble found by auto-sklearn.\n",
    "print(models)\n",
    "\n",
    "# TODO: don't forget to unhighlight and save the models to csv once you know how many models were made!!\n",
    "# depending on how many models were made might need to change the below line\n",
    "#model_info = pd.DataFrame.from_dict([models[0]  ])\n",
    "                            #models[1],models[2],models[3], models[4], models[5], models[6], models[7], models[8], models[9], models[10], models[11]])\n",
    "\n",
    "#model_info.to_csv(directory+'/model_info.csv')\n"
   ]
  },
  {
   "cell_type": "code",
   "execution_count": null,
   "metadata": {},
   "outputs": [],
   "source": [
    "# TODO: figure out how to automatically save the png\n",
    "#plt.savefig(directory+'/recall.png', transparent=True, dpi=400)\n",
    "#fig = seaborn.heatmap(confusion_df,annot=True,annot_kws={\"size\": 12},cmap='gist_gray_r',cbar=False, square=True,fmt='.2f')\n",
    "#fig.savefig(directory+'/recall.png', tranparent=True, dpi=400)"
   ]
  }
 ],
 "metadata": {
  "kernelspec": {
   "display_name": "Python 3",
   "language": "python",
   "name": "python3"
  },
  "language_info": {
   "codemirror_mode": {
    "name": "ipython",
    "version": 3
   },
   "file_extension": ".py",
   "mimetype": "text/x-python",
   "name": "python",
   "nbconvert_exporter": "python",
   "pygments_lexer": "ipython3",
   "version": "3.7.1"
  },
  "pycharm": {
   "stem_cell": {
    "cell_type": "raw",
    "metadata": {
     "collapsed": false
    },
    "source": []
   }
  }
 },
 "nbformat": 4,
 "nbformat_minor": 2
}
